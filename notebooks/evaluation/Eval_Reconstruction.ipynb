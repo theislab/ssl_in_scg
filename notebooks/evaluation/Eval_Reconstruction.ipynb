{
 "cells": [
  {
   "cell_type": "code",
   "execution_count": null,
   "id": "4b79f51f-1c97-40b8-b45c-738fbdf614af",
   "metadata": {},
   "outputs": [],
   "source": [
    "%load_ext autoreload"
   ]
  },
  {
   "cell_type": "code",
   "execution_count": null,
   "id": "17afdc71-dd6c-4f28-a543-36c0203d4967",
   "metadata": {},
   "outputs": [],
   "source": [
    "import lightning.pytorch as pl\n",
    "import torch\n",
    "import os"
   ]
  },
  {
   "cell_type": "code",
   "execution_count": null,
   "id": "1ed93643-02c6-44d7-99f0-ae2d57bb7f33",
   "metadata": {},
   "outputs": [],
   "source": [
    "%autoreload 2\n",
    "from self_supervision.estimator.cellnet import EstimatorAutoEncoder\n",
    "from self_supervision.tester.reconstruction.test import eval_rec, test_models_on_ood, test_random_model\n",
    "from self_supervision.paths import DATA_DIR, TRAINING_FOLDER"
   ]
  },
  {
   "cell_type": "code",
   "execution_count": null,
   "id": "a4d8ffdd-1615-484f-8cad-4e3b0e2e50ad",
   "metadata": {},
   "outputs": [],
   "source": [
    "STORE_DIR = os.path.join(DATA_DIR, 'merlin_cxg_2023_05_15_sf-log1p')"
   ]
  },
  {
   "cell_type": "markdown",
   "id": "5b0fc6b2-7dfc-4d11-9b59-f259a0d91998",
   "metadata": {},
   "source": [
    "### Initialize the lightning model"
   ]
  },
  {
   "cell_type": "code",
   "execution_count": null,
   "id": "e8290b02-84aa-4974-9e6c-70efec4b9c08",
   "metadata": {},
   "outputs": [],
   "source": [
    "# init estim class\n",
    "estim = EstimatorAutoEncoder(STORE_DIR)"
   ]
  },
  {
   "cell_type": "code",
   "execution_count": null,
   "id": "b7ec1a07-0d01-4be5-802a-62d07a12511b",
   "metadata": {},
   "outputs": [],
   "source": [
    "# init datamodule\n",
    "estim.init_datamodule(batch_size=1024) "
   ]
  },
  {
   "cell_type": "code",
   "execution_count": null,
   "id": "e56c7de4-6786-4707-94e1-480dc7ad10c7",
   "metadata": {},
   "outputs": [],
   "source": [
    "# init model\n",
    "hidden_units = [512, 512, 256, 256, 64]\n",
    "estim.init_model(\n",
    "    model_type='mlp_ae',\n",
    "    model_kwargs={\n",
    "        'learning_rate': 1e-3,\n",
    "        'weight_decay': 0.1,\n",
    "        'lr_scheduler': torch.optim.lr_scheduler.StepLR,\n",
    "        'lr_scheduler_kwargs': {\n",
    "            'step_size': 2,\n",
    "            'gamma': 0.9,\n",
    "            'verbose': True\n",
    "        },\n",
    "        'units_encoder': hidden_units,\n",
    "        'units_decoder': hidden_units[::-1][1:],\n",
    "    },\n",
    ")"
   ]
  },
  {
   "cell_type": "code",
   "execution_count": null,
   "id": "58d6258a-6055-4554-a222-fcd532ec398f",
   "metadata": {},
   "outputs": [],
   "source": [
    "estim.trainer = pl.Trainer(logger=[], accelerator='cpu', devices=1)"
   ]
  },
  {
   "cell_type": "markdown",
   "id": "3b77dc50-f8a5-4c32-b95c-360f6029a6a1",
   "metadata": {},
   "source": [
    "### Load all models of interest"
   ]
  },
  {
   "cell_type": "code",
   "execution_count": null,
   "id": "df02268b-4b56-4f82-980e-285d628a4667",
   "metadata": {},
   "outputs": [],
   "source": [
    "\"\"\"\n",
    "model_dirs = [\n",
    "    ### Supervised Models ###\n",
    "    TRAINING_FOLDER + '/final_models/reconstruction/CN_No_SSL_CN_MLPrun0/default/version_3/checkpoints/best_checkpoint_val.ckpt',\n",
    "    TRAINING_FOLDER + '/final_models/reconstruction/CN_No_SSL_CN_MLPrun1/default/version_0/checkpoints/best_checkpoint_val.ckpt',\n",
    "    TRAINING_FOLDER + '/final_models/reconstruction/CN_No_SSL_CN_MLPrun2/default/version_0/checkpoints/best_checkpoint_val.ckpt',\n",
    "    TRAINING_FOLDER + '/final_models/reconstruction/CN_No_SSL_CN_MLPrun3/default/version_0/checkpoints/best_checkpoint_val.ckpt',\n",
    "    TRAINING_FOLDER + '/final_models/reconstruction/CN_No_SSL_CN_MLPrun4/default/version_0/checkpoints/best_checkpoint_val.ckpt',\n",
    "    \n",
    "    ### Only Pretrained Models ###\n",
    "    # Individual Gene Masking\n",
    "    TRAINING_FOLDER + '/pretext_models/masking/CN_MLP_50p/default/version_1/checkpoints/best_checkpoint_val.ckpt',\n",
    "    TRAINING_FOLDER + '/pretext_models/masking/CN_MLP_50prun1/default/version_0/checkpoints/best_checkpoint_val.ckpt',\n",
    "    TRAINING_FOLDER + '/pretext_models/masking/CN_MLP_50prun2/default/version_0/checkpoints/best_checkpoint_val.ckpt',\n",
    "    TRAINING_FOLDER + '/pretext_models/masking/CN_MLP_50prun3/default/version_0/checkpoints/best_checkpoint_val.ckpt',\n",
    "    TRAINING_FOLDER + '/pretext_models/masking/CN_MLP_50prun4/default/version_0/checkpoints/best_checkpoint_val.ckpt',\n",
    "    \n",
    "    # Gene Program Masking\n",
    "    TRAINING_FOLDER + '/pretext_models/masking/CN_MLP_gene_program_C8_25p/default/version_2/checkpoints/best_checkpoint_val.ckpt',\n",
    "\n",
    "    # Gene Program to Gene Program\n",
    "    TRAINING_FOLDER + '/pretext_models/masking/CN_MLP_single_gene_program/default/version_1/checkpoints/best_checkpoint_val.ckpt',\n",
    "    \n",
    "    # Gene Program to Transcription Factor    \n",
    "    TRAINING_FOLDER + '/pretext_models/masking/CN_MLP_gp_to_tf/default/version_2/checkpoints/best_checkpoint_val.ckpt',\n",
    "    TRAINING_FOLDER + '/pretext_models/masking/CN_MLP_gp_to_tfrun1/default/version_0/checkpoints/best_checkpoint_val.ckpt',\n",
    "    TRAINING_FOLDER + '/pretext_models/masking/CN_MLP_gp_to_tfrun2/default/version_0/checkpoints/best_checkpoint_val.ckpt',\n",
    "    TRAINING_FOLDER + '/pretext_models/masking/CN_MLP_gp_to_tfrun3/default/version_0/checkpoints/best_checkpoint_val.ckpt',\n",
    "    TRAINING_FOLDER + '/pretext_models/masking/CN_MLP_gp_to_tfrun4/default/version_0/checkpoints/best_checkpoint_val.ckpt',\n",
    "    \n",
    "    # Boostrap Your Own Latent (BYOL)\n",
    "    # TRAINING_FOLDER + '/pretext_models/contrastive/MLP_BYOL_Gaussian_0_001_v4/default/version_0/checkpoints/best_checkpoint_val.ckpt',\n",
    "    \n",
    "    # Barlow Twins\n",
    "    # TRAINING_FOLDER + '/pretext_models/contrastive/MLP_bt_Gaussian_0_001/best_checkpoint_val.ckpt',\n",
    "    \n",
    "    ### Self-Supervised Models ###\n",
    "    # Individual Gene Masking\n",
    "    TRAINING_FOLDER + '/final_models/reconstruction/CN_SSL_CN_CN_MLP_50prun0/default/version_1/checkpoints/best_checkpoint_val.ckpt',\n",
    "    TRAINING_FOLDER + '/final_models/reconstruction/CN_SSL_CN_CN_MLP_50prun1/default/version_1/checkpoints/best_checkpoint_val.ckpt',\n",
    "    TRAINING_FOLDER + '/final_models/reconstruction/CN_SSL_CN_CN_MLP_50prun2/default/version_1/checkpoints/best_checkpoint_val.ckpt',\n",
    "    TRAINING_FOLDER + '/final_models/reconstruction/CN_SSL_CN_CN_MLP_50prun3/default/version_1/checkpoints/best_checkpoint_val.ckpt',\n",
    "    TRAINING_FOLDER + '/final_models/reconstruction/CN_SSL_CN_CN_MLP_50prun4/default/version_0/checkpoints/best_checkpoint_val.ckpt',\n",
    "    \n",
    "    # Gene Program Masking\n",
    "    TRAINING_FOLDER + '/final_models/reconstruction/CN_SSL_CN_CN_MLP_gene_program_C8_25prun0/default/version_1/checkpoints/best_checkpoint_val.ckpt',\n",
    "    \n",
    "    # Gene Program to Gene Program    \n",
    "    TRAINING_FOLDER + '/final_models/reconstruction/CN_SSL_CN_CN_MLP_single_gene_programrun0/default/version_1/checkpoints/best_checkpoint_val.ckpt',\n",
    "    \n",
    "    # Gene Program to Transcription Factor\n",
    "    TRAINING_FOLDER + '/final_models/reconstruction/CN_SSL_CN_CN_MLP_gp_to_tfrun0/default/version_1/checkpoints/best_checkpoint_val.ckpt',\n",
    "    TRAINING_FOLDER + '/final_models/reconstruction/CN_SSL_CN_CN_MLP_gp_to_tfrun1/default/version_0/checkpoints/best_checkpoint_val.ckpt',\n",
    "    TRAINING_FOLDER + '/final_models/reconstruction/CN_SSL_CN_CN_MLP_gp_to_tfrun2/default/version_0/checkpoints/best_checkpoint_val.ckpt',\n",
    "    TRAINING_FOLDER + '/final_models/reconstruction/CN_SSL_CN_CN_MLP_gp_to_tfrun3/default/version_0/checkpoints/best_checkpoint_val.ckpt',\n",
    "    TRAINING_FOLDER + '/final_models/reconstruction/CN_SSL_CN_CN_MLP_gp_to_tfrun4/default/version_0/checkpoints/best_checkpoint_val.ckpt',\n",
    "    \n",
    "    # Boostrap Your Own Latent (BYOL)    \n",
    "    TRAINING_FOLDER + '/final_models/reconstruction/CN_SSL_CN_MLP_BYOL_Gaussian_0_001run0/default/version_0/checkpoints/best_checkpoint_val.ckpt',\n",
    "    \n",
    "    # Barlow Twins    \n",
    "    TRAINING_FOLDER + '/final_models/reconstruction/CN_SSL_CN_contrastive_MLP_bt_Gaussian_0_01run0/default/version_0/checkpoints/best_checkpoint_val.ckpt',\n",
    "]\n",
    "\"\"\""
   ]
  },
  {
   "cell_type": "code",
   "execution_count": null,
   "id": "17780cbc-785c-43da-aaaa-52521d586522",
   "metadata": {},
   "outputs": [],
   "source": [
    "\n",
    "# Negative Binomial Fitting\n",
    "model_dirs = [\n",
    "    ### Supervised Models ###\n",
    "    TRAINING_FOLDER + '/final_models/reconstruction/CN_No_SSL_CN_run0NegBin_/default/version_0/checkpoints/best_checkpoint_val.ckpt',\n",
    "    TRAINING_FOLDER + '/final_models/reconstruction/CN_No_SSL_CN_run1NegBin_/default/version_0/checkpoints/best_checkpoint_val.ckpt',\n",
    "    TRAINING_FOLDER + '/final_models/reconstruction/CN_No_SSL_CN_run2NegBin_/default/version_0/checkpoints/best_checkpoint_val.ckpt',\n",
    "    TRAINING_FOLDER + '/final_models/reconstruction/CN_No_SSL_CN_run3NegBin_/default/version_0/checkpoints/best_checkpoint_val.ckpt',\n",
    "    TRAINING_FOLDER + '/final_models/reconstruction/CN_No_SSL_CN_run4NegBin_/default/version_0/checkpoints/best_checkpoint_val.ckpt',\n",
    "    \n",
    "    ### Only Pretrained Models ###\n",
    "    # Random Mask\n",
    "    TRAINING_FOLDER + '/pretext_models/masking/CN_NegBin_50prun0/default/version_1/checkpoints/best_checkpoint_val.ckpt',\n",
    "    TRAINING_FOLDER + '/pretext_models/masking/CN_NegBin_50prun1/default/version_1/checkpoints/best_checkpoint_val.ckpt',\n",
    "    TRAINING_FOLDER + '/pretext_models/masking/CN_NegBin_50prun2/default/version_1/checkpoints/best_checkpoint_val.ckpt',\n",
    "    TRAINING_FOLDER + '/pretext_models/masking/CN_NegBin_50prun3/default/version_1/checkpoints/best_checkpoint_val.ckpt',\n",
    "    TRAINING_FOLDER + '/pretext_models/masking/CN_NegBin_50prun4/default/version_1/checkpoints/best_checkpoint_val.ckpt',\n",
    "    \n",
    "    # Gene Program Mask\n",
    "    # TO DO, GOT DELETED\n",
    "    \n",
    "    # GP to GP\n",
    "    TRAINING_FOLDER + '/pretext_models/masking/CN_NegBin_single_gene_programrun0/default/version_1/checkpoints/best_checkpoint_val.ckpt',\n",
    "    \n",
    "    # GP to TF\n",
    "    TRAINING_FOLDER + '/pretext_models/masking/CN_NegBin_gp_to_tfrun0/default/version_1/checkpoints/best_checkpoint_val.ckpt',\n",
    "    TRAINING_FOLDER + '/pretext_models/masking/CN_NegBin_gp_to_tfrun1/default/version_1/checkpoints/best_checkpoint_val.ckpt',\n",
    "    TRAINING_FOLDER + '/pretext_models/masking/CN_NegBin_gp_to_tfrun2/default/version_1/checkpoints/best_checkpoint_val.ckpt',\n",
    "    TRAINING_FOLDER + '/pretext_models/masking/CN_NegBin_gp_to_tfrun3/default/version_1/checkpoints/best_checkpoint_val.ckpt',\n",
    "    TRAINING_FOLDER + '/pretext_models/masking/CN_NegBin_gp_to_tfrun4/default/version_1/checkpoints/best_checkpoint_val.ckpt',\n",
    "    \n",
    "    ### Self-Supervised Models ###\n",
    "    # Random Mask\n",
    "    TRAINING_FOLDER + '/final_models/reconstruction/CN_SSL_CN_CN_MLP_50prun0NegBin_/default/version_1/checkpoints/best_checkpoint_val.ckpt',\n",
    "    \n",
    "    # Gene Program Mask\n",
    "    TRAINING_FOLDER + '/final_models/reconstruction/CN_SSL_CN_CN_MLP_gene_program_C8_25prun0NegBin_/default/version_1/checkpoints/best_checkpoint_val.ckpt',\n",
    "    \n",
    "    # GP to GP\n",
    "    TRAINING_FOLDER + '/final_models/reconstruction/CN_SSL_CN_CN_MLP_single_gene_programrun0NegBin_/default/version_1/checkpoints/best_checkpoint_val.ckpt',\n",
    "    \n",
    "    # GP to TF\n",
    "    TRAINING_FOLDER + '/final_models/reconstruction/CN_SSL_CN_CN_NegBin_gp_to_tfrun0run0NegBin_/default/version_0/checkpoints/best_checkpoint_val.ckpt',\n",
    "    TRAINING_FOLDER + '/final_models/reconstruction/CN_SSL_CN_CN_NegBin_gp_to_tfrun0run1NegBin_/default/version_0/checkpoints/best_checkpoint_val.ckpt',\n",
    "    TRAINING_FOLDER + '/final_models/reconstruction/CN_SSL_CN_CN_NegBin_gp_to_tfrun0run2NegBin_/default/version_0/checkpoints/best_checkpoint_val.ckpt',\n",
    "    TRAINING_FOLDER + '/final_models/reconstruction/CN_SSL_CN_CN_NegBin_gp_to_tfrun0run3NegBin_/default/version_0/checkpoints/best_checkpoint_val.ckpt',\n",
    "    TRAINING_FOLDER + '/final_models/reconstruction/CN_SSL_CN_CN_NegBin_gp_to_tfrun0run4NegBin_/default/version_0/checkpoints/best_checkpoint_val.ckpt',\n",
    "    \n",
    "    # BYOL\n",
    "    TRAINING_FOLDER + '/final_models/reconstruction/CN_SSL_CN_MLP_BYOL_Gaussian_0_001_v4run0NegBin_/default/version_0/checkpoints/best_checkpoint_val.ckpt',\n",
    "    \n",
    "    # Barlow Twins\n",
    "    TRAINING_FOLDER + '/final_models/reconstruction/CN_SSL_CN_contrastive_MLP_bt_Gaussian_0_01run0NegBin_/default/version_0/checkpoints/best_checkpoint_val.ckpt',\n",
    "]"
   ]
  },
  {
   "cell_type": "markdown",
   "id": "8c84d961-c9d0-4f15-9e9a-db2beba285f7",
   "metadata": {},
   "source": [
    "### Evaluate all models"
   ]
  },
  {
   "cell_type": "code",
   "execution_count": null,
   "id": "c3b94318-7998-46eb-a707-9a99f8d10151",
   "metadata": {
    "scrolled": true,
    "tags": []
   },
   "outputs": [],
   "source": [
    "metrics = eval_rec(estim, model_dirs)"
   ]
  },
  {
   "cell_type": "markdown",
   "id": "1dbc1b5c-3053-4714-8922-82049254d42a",
   "metadata": {},
   "source": [
    "# Fig 3: OOD Reconstruction"
   ]
  },
  {
   "cell_type": "markdown",
   "id": "d0202deb-828e-43b2-9f16-3ff3ddedc37e",
   "metadata": {},
   "source": [
    "**Dissection: Tail of Hippocampus (HiT) - Caudal Hippocampus - CA4-DGC**\n",
    "\n",
    "- 56,367 cells\n",
    "- 10x 3' v3\n",
    "- hippocampal formation\n",
    "- astrocyte (3761), central nervous system macrophage (1782), endothelial cell (174), ependymal cell (111), ~~fibroblast (86)~~, leukocyte (36), neuron (36588), oligodendrocyte (11875), oligodendrocyte precursor cell (1896), pericyte (39), vascular associated smooth muscle cell (19)"
   ]
  },
  {
   "cell_type": "code",
   "execution_count": null,
   "id": "6714169a-1994-430e-b779-b4cbe7649653",
   "metadata": {},
   "outputs": [],
   "source": [
    "ood_set = 'tail_of_hippocampus'"
   ]
  },
  {
   "cell_type": "code",
   "execution_count": null,
   "id": "1423feae-c3aa-481a-9ee2-f770164ef2b1",
   "metadata": {},
   "outputs": [],
   "source": [
    "\"\"\"\n",
    "model_dirs = [\n",
    "    ### Supervised Models ###\n",
    "    TRAINING_FOLDER + '/final_models/reconstruction/CN_No_SSL_CN_MLPrun0/default/version_3/checkpoints/best_checkpoint_val.ckpt',\n",
    "    TRAINING_FOLDER + '/final_models/reconstruction/CN_No_SSL_CN_MLPrun1/default/version_0/checkpoints/best_checkpoint_val.ckpt', \n",
    "    TRAINING_FOLDER + '/final_models/reconstruction/CN_No_SSL_CN_MLPrun2/default/version_0/checkpoints/best_checkpoint_val.ckpt', \n",
    "    TRAINING_FOLDER + '/final_models/reconstruction/CN_No_SSL_CN_MLPrun3/default/version_0/checkpoints/best_checkpoint_val.ckpt', \n",
    "    TRAINING_FOLDER + '/final_models/reconstruction/CN_No_SSL_CN_MLPrun4/default/version_0/checkpoints/best_checkpoint_val.ckpt', \n",
    "    \n",
    "    ### Only Pretrained Models ###\n",
    "    \n",
    "    # Gene Program to Transcription Factor    \n",
    "    TRAINING_FOLDER + '/pretext_models/masking/CN_MLP_gp_to_tf/default/version_2/checkpoints/best_checkpoint_val.ckpt',\n",
    "    TRAINING_FOLDER + '/pretext_models/masking/CN_MLP_gp_to_tfrun1/default/version_0/checkpoints/best_checkpoint_val.ckpt',\n",
    "    TRAINING_FOLDER + '/pretext_models/masking/CN_MLP_gp_to_tfrun2/default/version_0/checkpoints/best_checkpoint_val.ckpt',\n",
    "    TRAINING_FOLDER + '/pretext_models/masking/CN_MLP_gp_to_tfrun3/default/version_0/checkpoints/best_checkpoint_val.ckpt',\n",
    "    TRAINING_FOLDER + '/pretext_models/masking/CN_MLP_gp_to_tfrun4/default/version_0/checkpoints/best_checkpoint_val.ckpt',\n",
    "    \n",
    "    \n",
    "    ### Self-Supervised Models ###\n",
    "    # Gene Program to Transcription Factor\n",
    "    TRAINING_FOLDER + '/final_models/reconstruction/CN_SSL_CN_CN_MLP_gp_to_tfrun0/default/version_1/checkpoints/best_checkpoint_val.ckpt',\n",
    "    TRAINING_FOLDER + '/final_models/reconstruction/CN_SSL_CN_CN_MLP_gp_to_tfrun1/default/version_0/checkpoints/best_checkpoint_val.ckpt',\n",
    "    TRAINING_FOLDER + '/final_models/reconstruction/CN_SSL_CN_CN_MLP_gp_to_tfrun2/default/version_0/checkpoints/best_checkpoint_val.ckpt',\n",
    "    TRAINING_FOLDER + '/final_models/reconstruction/CN_SSL_CN_CN_MLP_gp_to_tfrun3/default/version_0/checkpoints/best_checkpoint_val.ckpt',\n",
    "    TRAINING_FOLDER + '/final_models/reconstruction/CN_SSL_CN_CN_MLP_gp_to_tfrun4/default/version_0/checkpoints/best_checkpoint_val.ckpt',\n",
    "    \n",
    "]\n",
    "\"\"\""
   ]
  },
  {
   "cell_type": "code",
   "execution_count": null,
   "id": "2d6059dc-cd48-49b6-8860-a71bde824fcb",
   "metadata": {
    "scrolled": true,
    "tags": []
   },
   "outputs": [],
   "source": [
    "test_models_on_ood(estim, ood_set=ood_set, model_dirs=model_dirs)"
   ]
  },
  {
   "cell_type": "markdown",
   "id": "92a8d12d-5c43-49fe-a57f-310f1fa0a711",
   "metadata": {},
   "source": [
    "**All non-neuronal cells**\n",
    "\n",
    "- 888,263 cells\n",
    "- 10x 3' v3\n",
    "- Bergmann glial cell (8041), astrocyte (155025), central nervous system macrophage (91383), ~~choroid plexus epithelial cell (7689)~~, endothelial cell (5165), ependymal cell (5882), ~~fibroblast (9156)~~, oligodendrocyte (494966), oligodendrocyte precursor cell (105734), pericyte (3693), vascular associated smooth muscle cell (1074)"
   ]
  },
  {
   "cell_type": "code",
   "execution_count": null,
   "id": "6157a4f3-dc17-419e-be28-1acaf2d0689b",
   "metadata": {},
   "outputs": [],
   "source": [
    "ood_set = 'non_neuronal'"
   ]
  },
  {
   "cell_type": "code",
   "execution_count": null,
   "id": "5e3aadc4-5ec3-4c60-b3a1-cabf6e303026",
   "metadata": {
    "scrolled": true,
    "tags": []
   },
   "outputs": [],
   "source": [
    "test_models_on_ood(estim, ood_set=ood_set, model_dirs=model_dirs)"
   ]
  },
  {
   "cell_type": "code",
   "execution_count": null,
   "id": "ac7e61f4-c055-4127-bdb3-87916e2e4b66",
   "metadata": {},
   "outputs": [],
   "source": [
    "ood_set = 'cort_dev'"
   ]
  },
  {
   "cell_type": "code",
   "execution_count": null,
   "id": "1f936d8e-7ae2-4305-8c36-9861c757a97f",
   "metadata": {
    "scrolled": true,
    "tags": []
   },
   "outputs": [],
   "source": [
    "test_models_on_ood(estim, ood_set=ood_set, model_dirs=model_dirs)"
   ]
  },
  {
   "cell_type": "code",
   "execution_count": null,
   "id": "4061d3c9-8ef5-42b2-9d0d-7379121f4913",
   "metadata": {},
   "outputs": [],
   "source": [
    "ood_set = 'circ_imm'"
   ]
  },
  {
   "cell_type": "code",
   "execution_count": null,
   "id": "89da2419-6e30-409e-9003-7b5b46cd2a0f",
   "metadata": {
    "scrolled": true,
    "tags": []
   },
   "outputs": [],
   "source": [
    "test_models_on_ood(estim, ood_set=ood_set, model_dirs=model_dirs)"
   ]
  },
  {
   "cell_type": "code",
   "execution_count": null,
   "id": "dc4f44aa-33b0-4cad-89f8-d0b883c2655c",
   "metadata": {},
   "outputs": [],
   "source": [
    "ood_set = 'great_apes'"
   ]
  },
  {
   "cell_type": "code",
   "execution_count": null,
   "id": "6d3cc5f8-3ad3-404a-952d-4968834b16ba",
   "metadata": {
    "scrolled": true,
    "tags": []
   },
   "outputs": [],
   "source": [
    "test_models_on_ood(estim, ood_set=ood_set, model_dirs=model_dirs)"
   ]
  },
  {
   "cell_type": "markdown",
   "id": "b198dfc5-6af2-4705-8df2-c4b75038b782",
   "metadata": {},
   "source": [
    "# Fig 4: Individual Atlas"
   ]
  },
  {
   "cell_type": "markdown",
   "id": "897bc7a1-50eb-4872-a52d-8495e2f81891",
   "metadata": {},
   "source": [
    "### HLCA"
   ]
  },
  {
   "cell_type": "code",
   "execution_count": null,
   "id": "3694744f-1d35-45a8-a77c-fd91179fbf19",
   "metadata": {},
   "outputs": [],
   "source": [
    "model_dirs = [\n",
    "    ### Only Pretrained Models ###\n",
    "    TRAINING_FOLDER + '/pretext_models/masking/CN_NegBin_gp_to_tfrun0/default/version_1/checkpoints/best_checkpoint_val.ckpt',\n",
    "    TRAINING_FOLDER + '/pretext_models/masking/CN_NegBin_gp_to_tfrun1/default/version_1/checkpoints/best_checkpoint_val.ckpt',\n",
    "    TRAINING_FOLDER + '/pretext_models/masking/CN_NegBin_gp_to_tfrun2/default/version_1/checkpoints/best_checkpoint_val.ckpt',\n",
    "    TRAINING_FOLDER + '/pretext_models/masking/CN_NegBin_gp_to_tfrun3/default/version_1/checkpoints/best_checkpoint_val.ckpt',\n",
    "    TRAINING_FOLDER + '/pretext_models/masking/CN_NegBin_gp_to_tfrun4/default/version_1/checkpoints/best_checkpoint_val.ckpt',\n",
    "    \n",
    "    \n",
    "    ### Supervised Models ###\n",
    "    TRAINING_FOLDER + '/final_models/reconstruction/CN_No_SSL_CN_new_run0NegBin__HLCA/default/version_0/checkpoints/best_checkpoint_val.ckpt',\n",
    "    TRAINING_FOLDER + '/final_models/reconstruction/CN_No_SSL_CN_new_run1NegBin__HLCA/default/version_0/checkpoints/best_checkpoint_val.ckpt',\n",
    "    TRAINING_FOLDER + '/final_models/reconstruction/CN_No_SSL_CN_new_run2NegBin__HLCA/default/version_0/checkpoints/best_checkpoint_val.ckpt',\n",
    "    TRAINING_FOLDER + '/final_models/reconstruction/CN_No_SSL_CN_new_run3NegBin__HLCA/default/version_0/checkpoints/best_checkpoint_val.ckpt',\n",
    "    TRAINING_FOLDER + '/final_models/reconstruction/CN_No_SSL_CN_new_run4NegBin__HLCA/default/version_0/checkpoints/best_checkpoint_val.ckpt',\n",
    "    \n",
    "    \n",
    "    ### Self-Supervised Models ###\n",
    "    # Gene Program to Transcription Factor\n",
    "    TRAINING_FOLDER + '/final_models/reconstruction/CN_SSL_CN_CN_NegBin_gp_to_tfrun0new_run0NegBin__HLCA/default/version_0/checkpoints/best_checkpoint_val.ckpt',\n",
    "    TRAINING_FOLDER + '/final_models/reconstruction/CN_SSL_CN_CN_NegBin_gp_to_tfrun0new_run1NegBin__HLCA/default/version_0/checkpoints/best_checkpoint_val.ckpt',\n",
    "    TRAINING_FOLDER + '/final_models/reconstruction/CN_SSL_CN_CN_NegBin_gp_to_tfrun0new_run2NegBin__HLCA/default/version_0/checkpoints/best_checkpoint_val.ckpt',\n",
    "    TRAINING_FOLDER + '/final_models/reconstruction/CN_SSL_CN_CN_NegBin_gp_to_tfrun0new_run3NegBin__HLCA/default/version_0/checkpoints/best_checkpoint_val.ckpt',\n",
    "    TRAINING_FOLDER + '/final_models/reconstruction/CN_SSL_CN_CN_NegBin_gp_to_tfrun0new_run4NegBin__HLCA/default/version_0/checkpoints/best_checkpoint_val.ckpt',\n",
    "    \n",
    "]"
   ]
  },
  {
   "cell_type": "code",
   "execution_count": null,
   "id": "1d44fa81-506e-46e6-9791-9abd35828d2c",
   "metadata": {},
   "outputs": [],
   "source": [
    "supervised_subset = 148  # HLCA"
   ]
  },
  {
   "cell_type": "code",
   "execution_count": null,
   "id": "f725922c-45f4-40e2-8d3b-51442d5e75a8",
   "metadata": {},
   "outputs": [],
   "source": [
    "metrics = test_random_model(estim, supervised_subset=supervised_subset)"
   ]
  },
  {
   "cell_type": "code",
   "execution_count": null,
   "id": "871dfe8c-a65b-4873-a64a-a35b2bc5add0",
   "metadata": {
    "scrolled": true,
    "tags": []
   },
   "outputs": [],
   "source": [
    "metrics = eval_rec(estim, model_dirs, supervised_subset=supervised_subset)"
   ]
  },
  {
   "cell_type": "markdown",
   "id": "1f1add8f-41fc-43c3-9af4-228ed31513f3",
   "metadata": {},
   "source": [
    "### PBMC"
   ]
  },
  {
   "cell_type": "code",
   "execution_count": null,
   "id": "e71b8f0b-8363-493b-a24a-d2dc07143acb",
   "metadata": {},
   "outputs": [],
   "source": [
    "\"\"\"\n",
    "model_dirs = [\n",
    "    ### Only Pretrained Models ###\n",
    "    \n",
    "    # Gene Program to Transcription Factor    \n",
    "    TRAINING_FOLDER + '/pretext_models/masking/CN_MLP_gp_to_tf/default/version_2/checkpoints/best_checkpoint_val.ckpt',\n",
    "    TRAINING_FOLDER + '/pretext_models/masking/CN_MLP_gp_to_tfrun1/default/version_0/checkpoints/best_checkpoint_val.ckpt',\n",
    "    TRAINING_FOLDER + '/pretext_models/masking/CN_MLP_gp_to_tfrun2/default/version_0/checkpoints/best_checkpoint_val.ckpt',\n",
    "    TRAINING_FOLDER + '/pretext_models/masking/CN_MLP_gp_to_tfrun3/default/version_0/checkpoints/best_checkpoint_val.ckpt',\n",
    "    TRAINING_FOLDER + '/pretext_models/masking/CN_MLP_gp_to_tfrun4/default/version_0/checkpoints/best_checkpoint_val.ckpt',\n",
    "    \n",
    "    \n",
    "    ### Supervised Models ###\n",
    "    TRAINING_FOLDER + '/final_models/reconstruction/CN_No_SSL_CN_MLPnew_run0_PBMC/default/version_0/checkpoints/best_checkpoint_val.ckpt',\n",
    "    TRAINING_FOLDER + '/final_models/reconstruction/CN_No_SSL_CN_MLPnew_run1_PBMC/default/version_0/checkpoints/best_checkpoint_val.ckpt',\n",
    "    TRAINING_FOLDER + '/final_models/reconstruction/CN_No_SSL_CN_MLPnew_run2_PBMC/default/version_0/checkpoints/best_checkpoint_val.ckpt',\n",
    "    TRAINING_FOLDER + '/final_models/reconstruction/CN_No_SSL_CN_MLPnew_run3_PBMC/default/version_0/checkpoints/best_checkpoint_val.ckpt',\n",
    "    TRAINING_FOLDER + '/final_models/reconstruction/CN_No_SSL_CN_MLPnew_run4_PBMC/default/version_0/checkpoints/best_checkpoint_val.ckpt',\n",
    "    \n",
    "    ### Self-Supervised Models ###\n",
    "    # Gene Program to Transcription Factor\n",
    "    TRAINING_FOLDER + '/final_models/reconstruction/CN_SSL_CN_CN_MLP_gp_to_tfnew_run0_PBMC/default/version_0/checkpoints/best_checkpoint_val.ckpt',\n",
    "    TRAINING_FOLDER + '/final_models/reconstruction/CN_SSL_CN_CN_MLP_gp_to_tfnew_run1_PBMC/default/version_0/checkpoints/best_checkpoint_val.ckpt',\n",
    "    TRAINING_FOLDER + '/final_models/reconstruction/CN_SSL_CN_CN_MLP_gp_to_tfnew_run2_PBMC/default/version_0/checkpoints/best_checkpoint_val.ckpt',\n",
    "    TRAINING_FOLDER + '/final_models/reconstruction/CN_SSL_CN_CN_MLP_gp_to_tfnew_run3_PBMC/default/version_0/checkpoints/best_checkpoint_val.ckpt',\n",
    "    TRAINING_FOLDER + '/final_models/reconstruction/CN_SSL_CN_CN_MLP_gp_to_tfnew_run4_PBMC/default/version_0/checkpoints/best_checkpoint_val.ckpt',\n",
    "    \n",
    "]\n",
    "\"\"\""
   ]
  },
  {
   "cell_type": "code",
   "execution_count": null,
   "id": "820f02b0-8425-4b1d-abc8-9ed18ac46fab",
   "metadata": {},
   "outputs": [],
   "source": [
    "model_dirs = [\n",
    "    ### Only Pretrained Models ###\n",
    "    TRAINING_FOLDER + '/pretext_models/masking/CN_NegBin_gp_to_tfrun0/default/version_1/checkpoints/best_checkpoint_val.ckpt',\n",
    "    TRAINING_FOLDER + '/pretext_models/masking/CN_NegBin_gp_to_tfrun1/default/version_1/checkpoints/best_checkpoint_val.ckpt',\n",
    "    TRAINING_FOLDER + '/pretext_models/masking/CN_NegBin_gp_to_tfrun2/default/version_1/checkpoints/best_checkpoint_val.ckpt',\n",
    "    TRAINING_FOLDER + '/pretext_models/masking/CN_NegBin_gp_to_tfrun3/default/version_1/checkpoints/best_checkpoint_val.ckpt',\n",
    "    TRAINING_FOLDER + '/pretext_models/masking/CN_NegBin_gp_to_tfrun4/default/version_1/checkpoints/best_checkpoint_val.ckpt', \n",
    "    \n",
    "    ### Supervised Models ###\n",
    "    TRAINING_FOLDER + '/final_models/reconstruction/CN_No_SSL_CN_new_run0NegBin__PBMC/default/version_1/checkpoints/best_checkpoint_val.ckpt',\n",
    "    TRAINING_FOLDER + '/final_models/reconstruction/CN_No_SSL_CN_new_run1NegBin__PBMC/default/version_0/checkpoints/best_checkpoint_val.ckpt',\n",
    "    TRAINING_FOLDER + '/final_models/reconstruction/CN_No_SSL_CN_new_run2NegBin__PBMC/default/version_0/checkpoints/best_checkpoint_val.ckpt',\n",
    "    TRAINING_FOLDER + '/final_models/reconstruction/CN_No_SSL_CN_new_run3NegBin__PBMC/default/version_0/checkpoints/best_checkpoint_val.ckpt',\n",
    "    TRAINING_FOLDER + '/final_models/reconstruction/CN_No_SSL_CN_new_run4NegBin__PBMC/default/version_0/checkpoints/best_checkpoint_val.ckpt',\n",
    "    \n",
    "    \n",
    "    ### Self-Supervised Models ###\n",
    "    # Gene Program to Transcription Factor\n",
    "    TRAINING_FOLDER + '/final_models/reconstruction/CN_SSL_CN_CN_NegBin_gp_to_tfrun0new_run0NegBin__PBMC/default/version_0/checkpoints/best_checkpoint_val.ckpt',\n",
    "    TRAINING_FOLDER + '/final_models/reconstruction/CN_SSL_CN_CN_NegBin_gp_to_tfrun0new_run1NegBin__PBMC/default/version_0/checkpoints/best_checkpoint_val.ckpt',\n",
    "    TRAINING_FOLDER + '/final_models/reconstruction/CN_SSL_CN_CN_NegBin_gp_to_tfrun0new_run2NegBin__PBMC/default/version_0/checkpoints/best_checkpoint_val.ckpt',\n",
    "    TRAINING_FOLDER + '/final_models/reconstruction/CN_SSL_CN_CN_NegBin_gp_to_tfrun0new_run3NegBin__PBMC/default/version_0/checkpoints/best_checkpoint_val.ckpt',\n",
    "    TRAINING_FOLDER + '/final_models/reconstruction/CN_SSL_CN_CN_NegBin_gp_to_tfrun0new_run4NegBin__PBMC/default/version_0/checkpoints/best_checkpoint_val.ckpt',\n",
    "]"
   ]
  },
  {
   "cell_type": "code",
   "execution_count": null,
   "id": "c531e0da-a602-4b94-ac64-711a8a25ad3f",
   "metadata": {},
   "outputs": [],
   "source": [
    "supervised_subset = 41  # PBMC"
   ]
  },
  {
   "cell_type": "code",
   "execution_count": null,
   "id": "3a93d494-6d92-4754-9a62-a8b4aa1ed9b9",
   "metadata": {},
   "outputs": [],
   "source": [
    "metrics = test_random_model(estim, supervised_subset=supervised_subset)"
   ]
  },
  {
   "cell_type": "code",
   "execution_count": null,
   "id": "c561b70a-fc14-4bc4-b163-14b30f6084c1",
   "metadata": {
    "scrolled": true,
    "tags": []
   },
   "outputs": [],
   "source": [
    "metrics = eval_rec(estim, model_dirs, supervised_subset=supervised_subset)"
   ]
  },
  {
   "cell_type": "markdown",
   "id": "086c79c1-4f5f-4a92-94e1-ba92848f80a1",
   "metadata": {},
   "source": [
    "### Tabula Sapiens"
   ]
  },
  {
   "cell_type": "code",
   "execution_count": null,
   "id": "fc2460cd-efb1-4bf9-987b-ce8edcf3f3dc",
   "metadata": {},
   "outputs": [],
   "source": [
    "\"\"\"\n",
    "model_dirs = [\n",
    "    ### Only Pretrained Models ###\n",
    "    \n",
    "    # Gene Program to Transcription Factor    \n",
    "    TRAINING_FOLDER + '/pretext_models/masking/CN_MLP_gp_to_tf/default/version_2/checkpoints/best_checkpoint_val.ckpt',\n",
    "    TRAINING_FOLDER + '/pretext_models/masking/CN_MLP_gp_to_tfrun1/default/version_0/checkpoints/best_checkpoint_val.ckpt',\n",
    "    TRAINING_FOLDER + '/pretext_models/masking/CN_MLP_gp_to_tfrun2/default/version_0/checkpoints/best_checkpoint_val.ckpt',\n",
    "    TRAINING_FOLDER + '/pretext_models/masking/CN_MLP_gp_to_tfrun3/default/version_0/checkpoints/best_checkpoint_val.ckpt',\n",
    "    TRAINING_FOLDER + '/pretext_models/masking/CN_MLP_gp_to_tfrun4/default/version_0/checkpoints/best_checkpoint_val.ckpt',\n",
    "    \n",
    "    \n",
    "    ### Supervised Models ###\n",
    "    TRAINING_FOLDER + '/final_models/reconstruction/CN_No_SSL_CN_MLPnew_run0_Tabula_Sapiens/default/version_0/checkpoints/best_checkpoint_val.ckpt',\n",
    "    TRAINING_FOLDER + '/final_models/reconstruction/CN_No_SSL_CN_MLPnew_run1_Tabula_Sapiens/default/version_0/checkpoints/best_checkpoint_val.ckpt',\n",
    "    TRAINING_FOLDER + '/final_models/reconstruction/CN_No_SSL_CN_MLPnew_run2_Tabula_Sapiens/default/version_0/checkpoints/best_checkpoint_val.ckpt',\n",
    "    TRAINING_FOLDER + '/final_models/reconstruction/CN_No_SSL_CN_MLPnew_run3_Tabula_Sapiens/default/version_0/checkpoints/best_checkpoint_val.ckpt',\n",
    "    TRAINING_FOLDER + '/final_models/reconstruction/CN_No_SSL_CN_MLPnew_run4_Tabula_Sapiens/default/version_0/checkpoints/best_checkpoint_val.ckpt',\n",
    "    \n",
    "    ### Self-Supervised Models ###\n",
    "    # Gene Program to Transcription Factor\n",
    "    TRAINING_FOLDER + '/final_models/reconstruction/CN_SSL_CN_CN_MLP_gp_to_tfnew_run0_Tabula_Sapiens/default/version_0/checkpoints/best_checkpoint_val.ckpt',\n",
    "    TRAINING_FOLDER + '/final_models/reconstruction/CN_SSL_CN_CN_MLP_gp_to_tfnew_run1_Tabula_Sapiens/default/version_0/checkpoints/best_checkpoint_val.ckpt',\n",
    "    TRAINING_FOLDER + '/final_models/reconstruction/CN_SSL_CN_CN_MLP_gp_to_tfnew_run2_Tabula_Sapiens/default/version_0/checkpoints/best_checkpoint_val.ckpt',\n",
    "    TRAINING_FOLDER + '/final_models/reconstruction/CN_SSL_CN_CN_MLP_gp_to_tfnew_run3_Tabula_Sapiens/default/version_0/checkpoints/best_checkpoint_val.ckpt',\n",
    "    TRAINING_FOLDER + '/final_models/reconstruction/CN_SSL_CN_CN_MLP_gp_to_tfnew_run4_Tabula_Sapiens/default/version_0/checkpoints/best_checkpoint_val.ckpt',\n",
    "    \n",
    "]\n",
    "\"\"\""
   ]
  },
  {
   "cell_type": "code",
   "execution_count": null,
   "id": "c87f0f6b-0480-4785-9c45-ccf78adf4548",
   "metadata": {},
   "outputs": [],
   "source": [
    "model_dirs = [\n",
    "    ### Only Pretrained Models ###\n",
    "    TRAINING_FOLDER + '/pretext_models/masking/CN_NegBin_gp_to_tfrun0/default/version_1/checkpoints/best_checkpoint_val.ckpt',\n",
    "    TRAINING_FOLDER + '/pretext_models/masking/CN_NegBin_gp_to_tfrun1/default/version_1/checkpoints/best_checkpoint_val.ckpt',\n",
    "    TRAINING_FOLDER + '/pretext_models/masking/CN_NegBin_gp_to_tfrun2/default/version_1/checkpoints/best_checkpoint_val.ckpt',\n",
    "    TRAINING_FOLDER + '/pretext_models/masking/CN_NegBin_gp_to_tfrun3/default/version_1/checkpoints/best_checkpoint_val.ckpt',\n",
    "    TRAINING_FOLDER + '/pretext_models/masking/CN_NegBin_gp_to_tfrun4/default/version_1/checkpoints/best_checkpoint_val.ckpt',\n",
    "    \n",
    "    \n",
    "    ### Supervised Models ###\n",
    "    TRAINING_FOLDER + '/final_models/reconstruction/CN_No_SSL_CN_new_run0NegBin__Tabula_Sapiens/default/version_0/checkpoints/best_checkpoint_val.ckpt',\n",
    "    TRAINING_FOLDER + '/final_models/reconstruction/CN_No_SSL_CN_new_run1NegBin__Tabula_Sapiens/default/version_0/checkpoints/best_checkpoint_val.ckpt',\n",
    "    TRAINING_FOLDER + '/final_models/reconstruction/CN_No_SSL_CN_new_run2NegBin__Tabula_Sapiens/default/version_0/checkpoints/best_checkpoint_val.ckpt',\n",
    "    TRAINING_FOLDER + '/final_models/reconstruction/CN_No_SSL_CN_new_run3NegBin__Tabula_Sapiens/default/version_0/checkpoints/best_checkpoint_val.ckpt',\n",
    "    TRAINING_FOLDER + '/final_models/reconstruction/CN_No_SSL_CN_new_run4NegBin__Tabula_Sapiens/default/version_0/checkpoints/best_checkpoint_val.ckpt',\n",
    "    TRAINING_FOLDER + '/final_models/reconstruction/CN_No_SSL_CN_new_run5NegBin__Tabula_Sapiens/default/version_0/checkpoints/best_checkpoint_val.ckpt',\n",
    "    TRAINING_FOLDER + '/final_models/reconstruction/CN_No_SSL_CN_new_run6NegBin__Tabula_Sapiens/default/version_0/checkpoints/best_checkpoint_val.ckpt',\n",
    "    TRAINING_FOLDER + '/final_models/reconstruction/CN_No_SSL_CN_new_run7NegBin__Tabula_Sapiens/default/version_0/checkpoints/best_checkpoint_val.ckpt',\n",
    "    TRAINING_FOLDER + '/final_models/reconstruction/CN_No_SSL_CN_new_run8NegBin__Tabula_Sapiens/default/version_0/checkpoints/best_checkpoint_val.ckpt',\n",
    "    TRAINING_FOLDER + '/final_models/reconstruction/CN_No_SSL_CN_new_run9NegBin__Tabula_Sapiens/default/version_0/checkpoints/best_checkpoint_val.ckpt',\n",
    "    \n",
    "    ### Self-Supervised Models ###\n",
    "    TRAINING_FOLDER + '/final_models/reconstruction/CN_SSL_CN_CN_NegBin_gp_to_tfrun0new_run0NegBin__Tabula_Sapiens/default/version_0/checkpoints/best_checkpoint_val.ckpt',\n",
    "    TRAINING_FOLDER + '/final_models/reconstruction/CN_SSL_CN_CN_NegBin_gp_to_tfrun0new_run1NegBin__Tabula_Sapiens/default/version_0/checkpoints/best_checkpoint_val.ckpt',\n",
    "    TRAINING_FOLDER + '/final_models/reconstruction/CN_SSL_CN_CN_NegBin_gp_to_tfrun0new_run2NegBin__Tabula_Sapiens/default/version_0/checkpoints/best_checkpoint_val.ckpt',\n",
    "    TRAINING_FOLDER + '/final_models/reconstruction/CN_SSL_CN_CN_NegBin_gp_to_tfrun0new_run3NegBin__Tabula_Sapiens/default/version_0/checkpoints/best_checkpoint_val.ckpt',\n",
    "    TRAINING_FOLDER + '/final_models/reconstruction/CN_SSL_CN_CN_NegBin_gp_to_tfrun0new_run4NegBin__Tabula_Sapiens/default/version_0/checkpoints/best_checkpoint_val.ckpt',\n",
    "]"
   ]
  },
  {
   "cell_type": "code",
   "execution_count": null,
   "id": "f86da2ee-69e0-4b66-a4f5-d57cf5f5eaf2",
   "metadata": {},
   "outputs": [],
   "source": [
    "supervised_subset = 87  # Tabula Sapiens"
   ]
  },
  {
   "cell_type": "code",
   "execution_count": null,
   "id": "cd73a058-b8df-41f5-a61f-7a9eec825384",
   "metadata": {},
   "outputs": [],
   "source": [
    "metrics = test_random_model(estim, supervised_subset=supervised_subset)"
   ]
  },
  {
   "cell_type": "code",
   "execution_count": null,
   "id": "72a7bf5d-c1d4-4c54-8c67-09b044cb6f5e",
   "metadata": {
    "scrolled": true,
    "tags": []
   },
   "outputs": [],
   "source": [
    "metrics = eval_rec(estim, model_dirs, supervised_subset=supervised_subset)"
   ]
  }
 ],
 "metadata": {
  "kernelspec": {
   "display_name": "Python [conda env:celldreamer]",
   "language": "python",
   "name": "celldreamer"
  },
  "language_info": {
   "codemirror_mode": {
    "name": "ipython",
    "version": 3
   },
   "file_extension": ".py",
   "mimetype": "text/x-python",
   "name": "python",
   "nbconvert_exporter": "python",
   "pygments_lexer": "ipython3",
   "version": "3.10.12"
  }
 },
 "nbformat": 4,
 "nbformat_minor": 5
}
