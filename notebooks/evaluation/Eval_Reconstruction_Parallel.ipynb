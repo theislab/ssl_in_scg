{
 "cells": [
  {
   "cell_type": "code",
   "execution_count": 1,
   "id": "4b79f51f-1c97-40b8-b45c-738fbdf614af",
   "metadata": {},
   "outputs": [],
   "source": [
    "%load_ext autoreload"
   ]
  },
  {
   "cell_type": "code",
   "execution_count": 2,
   "id": "17afdc71-dd6c-4f28-a543-36c0203d4967",
   "metadata": {},
   "outputs": [],
   "source": [
    "import lightning.pytorch as pl\n",
    "import torch\n",
    "import pandas as pd\n",
    "import os\n",
    "import scanpy as sc\n",
    "import seaborn as sns\n",
    "import dask.dataframe as dd\n",
    "import matplotlib.pyplot as plt"
   ]
  },
  {
   "cell_type": "code",
   "execution_count": 18,
   "id": "1ed93643-02c6-44d7-99f0-ae2d57bb7f33",
   "metadata": {},
   "outputs": [],
   "source": [
    "%autoreload 2\n",
    "from self_supervision.estimator.cellnet import EstimatorAutoEncoder\n",
    "from self_supervision.models.lightning_modules.cellnet_autoencoder import MLPAutoEncoder\n",
    "from self_supervision.tester.reconstruction.test import eval_rec, test_pretrained_model, test_models_on_ood, test_random_model"
   ]
  },
  {
   "cell_type": "code",
   "execution_count": 4,
   "id": "a4d8ffdd-1615-484f-8cad-4e3b0e2e50ad",
   "metadata": {},
   "outputs": [],
   "source": [
    "DATA_PATH = '/lustre/groups/ml01/workspace/till.richter/merlin_cxg_2023_05_15_sf-log1p'  # this is a shared directory in which the data is stored\n",
    "MODEL_PATH = '/lustre/groups/ml01/workspace/till.richter/trained_models/'\n",
    "RESULT_PATH = '/lustre/groups/ml01/workspace/till.richter/ssl_results'\n",
    "HVG = False"
   ]
  },
  {
   "cell_type": "markdown",
   "id": "5b0fc6b2-7dfc-4d11-9b59-f259a0d91998",
   "metadata": {},
   "source": [
    "### Initialize the lightning model"
   ]
  },
  {
   "cell_type": "code",
   "execution_count": 5,
   "id": "e8290b02-84aa-4974-9e6c-70efec4b9c08",
   "metadata": {},
   "outputs": [],
   "source": [
    "# init estim class\n",
    "estim = EstimatorAutoEncoder(DATA_PATH, hvg=HVG)"
   ]
  },
  {
   "cell_type": "code",
   "execution_count": 6,
   "id": "b7ec1a07-0d01-4be5-802a-62d07a12511b",
   "metadata": {},
   "outputs": [],
   "source": [
    "# init datamodule\n",
    "estim.init_datamodule(batch_size=1024) "
   ]
  },
  {
   "cell_type": "code",
   "execution_count": 7,
   "id": "e56c7de4-6786-4707-94e1-480dc7ad10c7",
   "metadata": {},
   "outputs": [],
   "source": [
    "# init model\n",
    "hidden_units = [512, 512, 256, 256, 64]\n",
    "estim.init_model(\n",
    "    model_type='mlp_ae',\n",
    "    model_kwargs={\n",
    "        'learning_rate': 1e-3,\n",
    "        'weight_decay': 0.1,\n",
    "        'lr_scheduler': torch.optim.lr_scheduler.StepLR,\n",
    "        'lr_scheduler_kwargs': {\n",
    "            'step_size': 2,\n",
    "            'gamma': 0.9,\n",
    "            'verbose': True\n",
    "        },\n",
    "        'units_encoder': hidden_units,\n",
    "        'units_decoder': hidden_units[::-1][1:],\n",
    "    },\n",
    ")"
   ]
  },
  {
   "cell_type": "code",
   "execution_count": 8,
   "id": "58d6258a-6055-4554-a222-fcd532ec398f",
   "metadata": {},
   "outputs": [
    {
     "name": "stderr",
     "output_type": "stream",
     "text": [
      "GPU available: True (cuda), used: False\n",
      "TPU available: False, using: 0 TPU cores\n",
      "IPU available: False, using: 0 IPUs\n",
      "HPU available: False, using: 0 HPUs\n"
     ]
    }
   ],
   "source": [
    "estim.trainer = pl.Trainer(logger=[], accelerator='cpu', devices=1)"
   ]
  },
  {
   "cell_type": "markdown",
   "id": "3b77dc50-f8a5-4c32-b95c-360f6029a6a1",
   "metadata": {},
   "source": [
    "### Load all models of interest"
   ]
  },
  {
   "cell_type": "code",
   "execution_count": 9,
   "id": "df02268b-4b56-4f82-980e-285d628a4667",
   "metadata": {},
   "outputs": [
    {
     "data": {
      "text/plain": [
       "\"\\nmodel_dirs = [\\n    ### Supervised Models ###\\n    MODEL_PATH + '/final_models/reconstruction/CN_No_SSL_CN_MLPrun0/default/version_3/checkpoints/best_checkpoint_val.ckpt',\\n    MODEL_PATH + '/final_models/reconstruction/CN_No_SSL_CN_MLPrun1/default/version_0/checkpoints/best_checkpoint_val.ckpt',\\n    MODEL_PATH + '/final_models/reconstruction/CN_No_SSL_CN_MLPrun2/default/version_0/checkpoints/best_checkpoint_val.ckpt',\\n    MODEL_PATH + '/final_models/reconstruction/CN_No_SSL_CN_MLPrun3/default/version_0/checkpoints/best_checkpoint_val.ckpt',\\n    MODEL_PATH + '/final_models/reconstruction/CN_No_SSL_CN_MLPrun4/default/version_0/checkpoints/best_checkpoint_val.ckpt',\\n    \\n    ### Only Pretrained Models ###\\n    # Individual Gene Masking\\n    MODEL_PATH + '/pretext_models/masking/CN_MLP_50p/default/version_1/checkpoints/best_checkpoint_val.ckpt',\\n    MODEL_PATH + '/pretext_models/masking/CN_MLP_50prun1/default/version_0/checkpoints/best_checkpoint_val.ckpt',\\n    MODEL_PATH + '/pretext_models/masking/CN_MLP_50prun2/default/version_0/checkpoints/best_checkpoint_val.ckpt',\\n    MODEL_PATH + '/pretext_models/masking/CN_MLP_50prun3/default/version_0/checkpoints/best_checkpoint_val.ckpt',\\n    MODEL_PATH + '/pretext_models/masking/CN_MLP_50prun4/default/version_0/checkpoints/best_checkpoint_val.ckpt',\\n    \\n    # Gene Program Masking\\n    MODEL_PATH + '/pretext_models/masking/CN_MLP_gene_program_C8_25p/default/version_2/checkpoints/best_checkpoint_val.ckpt',\\n\\n    # Gene Program to Gene Program\\n    MODEL_PATH + '/pretext_models/masking/CN_MLP_single_gene_program/default/version_1/checkpoints/best_checkpoint_val.ckpt',\\n    \\n    # Gene Program to Transcription Factor    \\n    MODEL_PATH + '/pretext_models/masking/CN_MLP_gp_to_tf/default/version_2/checkpoints/best_checkpoint_val.ckpt',\\n    MODEL_PATH + '/pretext_models/masking/CN_MLP_gp_to_tfrun1/default/version_0/checkpoints/best_checkpoint_val.ckpt',\\n    MODEL_PATH + '/pretext_models/masking/CN_MLP_gp_to_tfrun2/default/version_0/checkpoints/best_checkpoint_val.ckpt',\\n    MODEL_PATH + '/pretext_models/masking/CN_MLP_gp_to_tfrun3/default/version_0/checkpoints/best_checkpoint_val.ckpt',\\n    MODEL_PATH + '/pretext_models/masking/CN_MLP_gp_to_tfrun4/default/version_0/checkpoints/best_checkpoint_val.ckpt',\\n    \\n    # Boostrap Your Own Latent (BYOL)\\n    # MODEL_PATH + '/pretext_models/contrastive/MLP_BYOL_Gaussian_0_001_v4/default/version_0/checkpoints/best_checkpoint_val.ckpt',\\n    \\n    # Barlow Twins\\n    # MODEL_PATH + '/pretext_models/contrastive/MLP_bt_Gaussian_0_001/best_checkpoint_val.ckpt',\\n    \\n    ### Self-Supervised Models ###\\n    # Individual Gene Masking\\n    MODEL_PATH + '/final_models/reconstruction/CN_SSL_CN_CN_MLP_50prun0/default/version_1/checkpoints/best_checkpoint_val.ckpt',\\n    MODEL_PATH + '/final_models/reconstruction/CN_SSL_CN_CN_MLP_50prun1/default/version_1/checkpoints/best_checkpoint_val.ckpt',\\n    MODEL_PATH + '/final_models/reconstruction/CN_SSL_CN_CN_MLP_50prun2/default/version_1/checkpoints/best_checkpoint_val.ckpt',\\n    MODEL_PATH + '/final_models/reconstruction/CN_SSL_CN_CN_MLP_50prun3/default/version_1/checkpoints/best_checkpoint_val.ckpt',\\n    MODEL_PATH + '/final_models/reconstruction/CN_SSL_CN_CN_MLP_50prun4/default/version_0/checkpoints/best_checkpoint_val.ckpt',\\n    \\n    # Gene Program Masking\\n    MODEL_PATH + '/final_models/reconstruction/CN_SSL_CN_CN_MLP_gene_program_C8_25prun0/default/version_1/checkpoints/best_checkpoint_val.ckpt',\\n    \\n    # Gene Program to Gene Program    \\n    MODEL_PATH + '/final_models/reconstruction/CN_SSL_CN_CN_MLP_single_gene_programrun0/default/version_1/checkpoints/best_checkpoint_val.ckpt',\\n    \\n    # Gene Program to Transcription Factor\\n    MODEL_PATH + '/final_models/reconstruction/CN_SSL_CN_CN_MLP_gp_to_tfrun0/default/version_1/checkpoints/best_checkpoint_val.ckpt',\\n    MODEL_PATH + '/final_models/reconstruction/CN_SSL_CN_CN_MLP_gp_to_tfrun1/default/version_0/checkpoints/best_checkpoint_val.ckpt',\\n    MODEL_PATH + '/final_models/reconstruction/CN_SSL_CN_CN_MLP_gp_to_tfrun2/default/version_0/checkpoints/best_checkpoint_val.ckpt',\\n    MODEL_PATH + '/final_models/reconstruction/CN_SSL_CN_CN_MLP_gp_to_tfrun3/default/version_0/checkpoints/best_checkpoint_val.ckpt',\\n    MODEL_PATH + '/final_models/reconstruction/CN_SSL_CN_CN_MLP_gp_to_tfrun4/default/version_0/checkpoints/best_checkpoint_val.ckpt',\\n    \\n    # Boostrap Your Own Latent (BYOL)    \\n    MODEL_PATH + '/final_models/reconstruction/CN_SSL_CN_MLP_BYOL_Gaussian_0_001run0/default/version_0/checkpoints/best_checkpoint_val.ckpt',\\n    \\n    # Barlow Twins    \\n    MODEL_PATH + '/final_models/reconstruction/CN_SSL_CN_contrastive_MLP_bt_Gaussian_0_01run0/default/version_0/checkpoints/best_checkpoint_val.ckpt',\\n]\\n\""
      ]
     },
     "execution_count": 9,
     "metadata": {},
     "output_type": "execute_result"
    }
   ],
   "source": [
    "\"\"\"\n",
    "model_dirs = [\n",
    "    ### Supervised Models ###\n",
    "    MODEL_PATH + '/final_models/reconstruction/CN_No_SSL_CN_MLPrun0/default/version_3/checkpoints/best_checkpoint_val.ckpt',\n",
    "    MODEL_PATH + '/final_models/reconstruction/CN_No_SSL_CN_MLPrun1/default/version_0/checkpoints/best_checkpoint_val.ckpt',\n",
    "    MODEL_PATH + '/final_models/reconstruction/CN_No_SSL_CN_MLPrun2/default/version_0/checkpoints/best_checkpoint_val.ckpt',\n",
    "    MODEL_PATH + '/final_models/reconstruction/CN_No_SSL_CN_MLPrun3/default/version_0/checkpoints/best_checkpoint_val.ckpt',\n",
    "    MODEL_PATH + '/final_models/reconstruction/CN_No_SSL_CN_MLPrun4/default/version_0/checkpoints/best_checkpoint_val.ckpt',\n",
    "    \n",
    "    ### Only Pretrained Models ###\n",
    "    # Individual Gene Masking\n",
    "    MODEL_PATH + '/pretext_models/masking/CN_MLP_50p/default/version_1/checkpoints/best_checkpoint_val.ckpt',\n",
    "    MODEL_PATH + '/pretext_models/masking/CN_MLP_50prun1/default/version_0/checkpoints/best_checkpoint_val.ckpt',\n",
    "    MODEL_PATH + '/pretext_models/masking/CN_MLP_50prun2/default/version_0/checkpoints/best_checkpoint_val.ckpt',\n",
    "    MODEL_PATH + '/pretext_models/masking/CN_MLP_50prun3/default/version_0/checkpoints/best_checkpoint_val.ckpt',\n",
    "    MODEL_PATH + '/pretext_models/masking/CN_MLP_50prun4/default/version_0/checkpoints/best_checkpoint_val.ckpt',\n",
    "    \n",
    "    # Gene Program Masking\n",
    "    MODEL_PATH + '/pretext_models/masking/CN_MLP_gene_program_C8_25p/default/version_2/checkpoints/best_checkpoint_val.ckpt',\n",
    "\n",
    "    # Gene Program to Gene Program\n",
    "    MODEL_PATH + '/pretext_models/masking/CN_MLP_single_gene_program/default/version_1/checkpoints/best_checkpoint_val.ckpt',\n",
    "    \n",
    "    # Gene Program to Transcription Factor    \n",
    "    MODEL_PATH + '/pretext_models/masking/CN_MLP_gp_to_tf/default/version_2/checkpoints/best_checkpoint_val.ckpt',\n",
    "    MODEL_PATH + '/pretext_models/masking/CN_MLP_gp_to_tfrun1/default/version_0/checkpoints/best_checkpoint_val.ckpt',\n",
    "    MODEL_PATH + '/pretext_models/masking/CN_MLP_gp_to_tfrun2/default/version_0/checkpoints/best_checkpoint_val.ckpt',\n",
    "    MODEL_PATH + '/pretext_models/masking/CN_MLP_gp_to_tfrun3/default/version_0/checkpoints/best_checkpoint_val.ckpt',\n",
    "    MODEL_PATH + '/pretext_models/masking/CN_MLP_gp_to_tfrun4/default/version_0/checkpoints/best_checkpoint_val.ckpt',\n",
    "    \n",
    "    # Boostrap Your Own Latent (BYOL)\n",
    "    # MODEL_PATH + '/pretext_models/contrastive/MLP_BYOL_Gaussian_0_001_v4/default/version_0/checkpoints/best_checkpoint_val.ckpt',\n",
    "    \n",
    "    # Barlow Twins\n",
    "    # MODEL_PATH + '/pretext_models/contrastive/MLP_bt_Gaussian_0_001/best_checkpoint_val.ckpt',\n",
    "    \n",
    "    ### Self-Supervised Models ###\n",
    "    # Individual Gene Masking\n",
    "    MODEL_PATH + '/final_models/reconstruction/CN_SSL_CN_CN_MLP_50prun0/default/version_1/checkpoints/best_checkpoint_val.ckpt',\n",
    "    MODEL_PATH + '/final_models/reconstruction/CN_SSL_CN_CN_MLP_50prun1/default/version_1/checkpoints/best_checkpoint_val.ckpt',\n",
    "    MODEL_PATH + '/final_models/reconstruction/CN_SSL_CN_CN_MLP_50prun2/default/version_1/checkpoints/best_checkpoint_val.ckpt',\n",
    "    MODEL_PATH + '/final_models/reconstruction/CN_SSL_CN_CN_MLP_50prun3/default/version_1/checkpoints/best_checkpoint_val.ckpt',\n",
    "    MODEL_PATH + '/final_models/reconstruction/CN_SSL_CN_CN_MLP_50prun4/default/version_0/checkpoints/best_checkpoint_val.ckpt',\n",
    "    \n",
    "    # Gene Program Masking\n",
    "    MODEL_PATH + '/final_models/reconstruction/CN_SSL_CN_CN_MLP_gene_program_C8_25prun0/default/version_1/checkpoints/best_checkpoint_val.ckpt',\n",
    "    \n",
    "    # Gene Program to Gene Program    \n",
    "    MODEL_PATH + '/final_models/reconstruction/CN_SSL_CN_CN_MLP_single_gene_programrun0/default/version_1/checkpoints/best_checkpoint_val.ckpt',\n",
    "    \n",
    "    # Gene Program to Transcription Factor\n",
    "    MODEL_PATH + '/final_models/reconstruction/CN_SSL_CN_CN_MLP_gp_to_tfrun0/default/version_1/checkpoints/best_checkpoint_val.ckpt',\n",
    "    MODEL_PATH + '/final_models/reconstruction/CN_SSL_CN_CN_MLP_gp_to_tfrun1/default/version_0/checkpoints/best_checkpoint_val.ckpt',\n",
    "    MODEL_PATH + '/final_models/reconstruction/CN_SSL_CN_CN_MLP_gp_to_tfrun2/default/version_0/checkpoints/best_checkpoint_val.ckpt',\n",
    "    MODEL_PATH + '/final_models/reconstruction/CN_SSL_CN_CN_MLP_gp_to_tfrun3/default/version_0/checkpoints/best_checkpoint_val.ckpt',\n",
    "    MODEL_PATH + '/final_models/reconstruction/CN_SSL_CN_CN_MLP_gp_to_tfrun4/default/version_0/checkpoints/best_checkpoint_val.ckpt',\n",
    "    \n",
    "    # Boostrap Your Own Latent (BYOL)    \n",
    "    MODEL_PATH + '/final_models/reconstruction/CN_SSL_CN_MLP_BYOL_Gaussian_0_001run0/default/version_0/checkpoints/best_checkpoint_val.ckpt',\n",
    "    \n",
    "    # Barlow Twins    \n",
    "    MODEL_PATH + '/final_models/reconstruction/CN_SSL_CN_contrastive_MLP_bt_Gaussian_0_01run0/default/version_0/checkpoints/best_checkpoint_val.ckpt',\n",
    "]\n",
    "\"\"\""
   ]
  },
  {
   "cell_type": "code",
   "execution_count": 9,
   "id": "17780cbc-785c-43da-aaaa-52521d586522",
   "metadata": {},
   "outputs": [],
   "source": [
    "\n",
    "# Negative Binomial Fitting\n",
    "model_dirs = [\n",
    "    ### Supervised Models ###\n",
    "    MODEL_PATH + '/final_models/reconstruction/CN_No_SSL_CN_run0NegBin_/default/version_0/checkpoints/best_checkpoint_val.ckpt',\n",
    "    MODEL_PATH + '/final_models/reconstruction/CN_No_SSL_CN_run1NegBin_/default/version_0/checkpoints/best_checkpoint_val.ckpt',\n",
    "    MODEL_PATH + '/final_models/reconstruction/CN_No_SSL_CN_run2NegBin_/default/version_0/checkpoints/best_checkpoint_val.ckpt',\n",
    "    MODEL_PATH + '/final_models/reconstruction/CN_No_SSL_CN_run3NegBin_/default/version_0/checkpoints/best_checkpoint_val.ckpt',\n",
    "    MODEL_PATH + '/final_models/reconstruction/CN_No_SSL_CN_run4NegBin_/default/version_0/checkpoints/best_checkpoint_val.ckpt',\n",
    "    \n",
    "    ### Only Pretrained Models ###\n",
    "    MODEL_PATH + '/pretext_models/masking/CN_NegBin_gp_to_tfrun0/default/version_1/checkpoints/best_checkpoint_val.ckpt',\n",
    "    MODEL_PATH + '/pretext_models/masking/CN_NegBin_gp_to_tfrun1/default/version_1/checkpoints/best_checkpoint_val.ckpt',\n",
    "    MODEL_PATH + '/pretext_models/masking/CN_NegBin_gp_to_tfrun2/default/version_1/checkpoints/best_checkpoint_val.ckpt',\n",
    "    MODEL_PATH + '/pretext_models/masking/CN_NegBin_gp_to_tfrun3/default/version_1/checkpoints/best_checkpoint_val.ckpt',\n",
    "    MODEL_PATH + '/pretext_models/masking/CN_NegBin_gp_to_tfrun4/default/version_1/checkpoints/best_checkpoint_val.ckpt',\n",
    "    \n",
    "    ### Self-Supervised Models ###\n",
    "    MODEL_PATH + '/final_models/reconstruction/CN_SSL_CN_CN_NegBin_gp_to_tfrun0run0NegBin_/default/version_0/checkpoints/best_checkpoint_val.ckpt',\n",
    "    MODEL_PATH + '/final_models/reconstruction/CN_SSL_CN_CN_NegBin_gp_to_tfrun0run1NegBin_/default/version_0/checkpoints/best_checkpoint_val.ckpt',\n",
    "    MODEL_PATH + '/final_models/reconstruction/CN_SSL_CN_CN_NegBin_gp_to_tfrun0run2NegBin_/default/version_0/checkpoints/best_checkpoint_val.ckpt',\n",
    "    MODEL_PATH + '/final_models/reconstruction/CN_SSL_CN_CN_NegBin_gp_to_tfrun0run3NegBin_/default/version_0/checkpoints/best_checkpoint_val.ckpt',\n",
    "    MODEL_PATH + '/final_models/reconstruction/CN_SSL_CN_CN_NegBin_gp_to_tfrun0run4NegBin_/default/version_0/checkpoints/best_checkpoint_val.ckpt',\n",
    "]"
   ]
  },
  {
   "cell_type": "markdown",
   "id": "8c84d961-c9d0-4f15-9e9a-db2beba285f7",
   "metadata": {},
   "source": [
    "### Evaluate all models"
   ]
  },
  {
   "cell_type": "code",
   "execution_count": 10,
   "id": "c3b94318-7998-46eb-a707-9a99f8d10151",
   "metadata": {
    "scrolled": true,
    "tags": []
   },
   "outputs": [
    {
     "name": "stdout",
     "output_type": "stream",
     "text": [
      "Skipping model:  CN_No_SSL_CN_run0NegBin_\n",
      "Skipping model:  CN_No_SSL_CN_run1NegBin_\n",
      "Skipping model:  CN_No_SSL_CN_run2NegBin_\n",
      "Skipping model:  CN_No_SSL_CN_run3NegBin_\n",
      "Skipping model:  CN_No_SSL_CN_run4NegBin_\n",
      "Skipping model:  CN_NegBin_gp_to_tfrun0\n",
      "Skipping model:  CN_NegBin_gp_to_tfrun1\n",
      "Skipping model:  CN_NegBin_gp_to_tfrun2\n",
      "Skipping model:  CN_NegBin_gp_to_tfrun3\n",
      "Skipping model:  CN_NegBin_gp_to_tfrun4\n",
      "Skipping model:  CN_SSL_CN_CN_NegBin_gp_to_tfrun0run0NegBin_\n",
      "Skipping model:  CN_SSL_CN_CN_NegBin_gp_to_tfrun0run1NegBin_\n",
      "Skipping model:  CN_SSL_CN_CN_NegBin_gp_to_tfrun0run2NegBin_\n",
      "Skipping model:  CN_SSL_CN_CN_NegBin_gp_to_tfrun0run3NegBin_\n",
      "Evaluating model:  CN_SSL_CN_CN_NegBin_gp_to_tfrun0run4NegBin_\n"
     ]
    },
    {
     "name": "stderr",
     "output_type": "stream",
     "text": [
      "GPU available: True (cuda), used: True\n",
      "TPU available: False, using: 0 TPU cores\n",
      "IPU available: False, using: 0 IPUs\n",
      "HPU available: False, using: 0 HPUs\n",
      "LOCAL_RANK: 0 - CUDA_VISIBLE_DEVICES: [0]\n"
     ]
    },
    {
     "data": {
      "application/vnd.jupyter.widget-view+json": {
       "model_id": "db2f38359fb54ad1b6f0d95886e65802",
       "version_major": 2,
       "version_minor": 0
      },
      "text/plain": [
       "Testing: 0it [00:00, ?it/s]"
      ]
     },
     "metadata": {},
     "output_type": "display_data"
    },
    {
     "data": {
      "text/html": [
       "<pre style=\"white-space:pre;overflow-x:auto;line-height:normal;font-family:Menlo,'DejaVu Sans Mono',consolas,'Courier New',monospace\">┏━━━━━━━━━━━━━━━━━━━━━━━━━━━━━┳━━━━━━━━━━━━━━━━━━━━━━━━━━━━━┓\n",
       "┃<span style=\"font-weight: bold\">         Test metric         </span>┃<span style=\"font-weight: bold\">        DataLoader 0         </span>┃\n",
       "┡━━━━━━━━━━━━━━━━━━━━━━━━━━━━━╇━━━━━━━━━━━━━━━━━━━━━━━━━━━━━┩\n",
       "│<span style=\"color: #008080; text-decoration-color: #008080\"> test_explained_var_uniform  </span>│<span style=\"color: #800080; text-decoration-color: #800080\">     0.1804896593093872      </span>│\n",
       "│<span style=\"color: #008080; text-decoration-color: #008080\"> test_explained_var_weighted </span>│<span style=\"color: #800080; text-decoration-color: #800080\">     0.3797783851623535      </span>│\n",
       "│<span style=\"color: #008080; text-decoration-color: #008080\">          test_loss          </span>│<span style=\"color: #800080; text-decoration-color: #800080\">      4683.22509765625       </span>│\n",
       "│<span style=\"color: #008080; text-decoration-color: #008080\">          test_mse           </span>│<span style=\"color: #800080; text-decoration-color: #800080\">     0.10016700625419617     </span>│\n",
       "└─────────────────────────────┴─────────────────────────────┘\n",
       "</pre>\n"
      ],
      "text/plain": [
       "┏━━━━━━━━━━━━━━━━━━━━━━━━━━━━━┳━━━━━━━━━━━━━━━━━━━━━━━━━━━━━┓\n",
       "┃\u001b[1m \u001b[0m\u001b[1m        Test metric        \u001b[0m\u001b[1m \u001b[0m┃\u001b[1m \u001b[0m\u001b[1m       DataLoader 0        \u001b[0m\u001b[1m \u001b[0m┃\n",
       "┡━━━━━━━━━━━━━━━━━━━━━━━━━━━━━╇━━━━━━━━━━━━━━━━━━━━━━━━━━━━━┩\n",
       "│\u001b[36m \u001b[0m\u001b[36mtest_explained_var_uniform \u001b[0m\u001b[36m \u001b[0m│\u001b[35m \u001b[0m\u001b[35m    0.1804896593093872     \u001b[0m\u001b[35m \u001b[0m│\n",
       "│\u001b[36m \u001b[0m\u001b[36mtest_explained_var_weighted\u001b[0m\u001b[36m \u001b[0m│\u001b[35m \u001b[0m\u001b[35m    0.3797783851623535     \u001b[0m\u001b[35m \u001b[0m│\n",
       "│\u001b[36m \u001b[0m\u001b[36m         test_loss         \u001b[0m\u001b[36m \u001b[0m│\u001b[35m \u001b[0m\u001b[35m     4683.22509765625      \u001b[0m\u001b[35m \u001b[0m│\n",
       "│\u001b[36m \u001b[0m\u001b[36m         test_mse          \u001b[0m\u001b[36m \u001b[0m│\u001b[35m \u001b[0m\u001b[35m    0.10016700625419617    \u001b[0m\u001b[35m \u001b[0m│\n",
       "└─────────────────────────────┴─────────────────────────────┘\n"
      ]
     },
     "metadata": {},
     "output_type": "display_data"
    },
    {
     "name": "stdout",
     "output_type": "stream",
     "text": [
      "Metrics for model:  CN_SSL_CN_CN_NegBin_gp_to_tfrun0run4NegBin_  :\n",
      " [{'test_explained_var_uniform': 0.1804896593093872, 'test_explained_var_weighted': 0.3797783851623535, 'test_mse': 0.10016700625419617, 'test_loss': 4683.22509765625}]\n"
     ]
    },
    {
     "name": "stderr",
     "output_type": "stream",
     "text": [
      "GPU available: True (cuda), used: True\n",
      "TPU available: False, using: 0 TPU cores\n",
      "IPU available: False, using: 0 IPUs\n",
      "HPU available: False, using: 0 HPUs\n",
      "LOCAL_RANK: 0 - CUDA_VISIBLE_DEVICES: [0]\n"
     ]
    },
    {
     "data": {
      "application/vnd.jupyter.widget-view+json": {
       "model_id": "9b0a52c4bde2476c8658ca5fa511c85d",
       "version_major": 2,
       "version_minor": 0
      },
      "text/plain": [
       "Testing: 0it [00:00, ?it/s]"
      ]
     },
     "metadata": {},
     "output_type": "display_data"
    },
    {
     "data": {
      "text/html": [
       "<pre style=\"white-space:pre;overflow-x:auto;line-height:normal;font-family:Menlo,'DejaVu Sans Mono',consolas,'Courier New',monospace\">┏━━━━━━━━━━━━━━━━━━━━━━━━━━━━━┳━━━━━━━━━━━━━━━━━━━━━━━━━━━━━┓\n",
       "┃<span style=\"font-weight: bold\">         Test metric         </span>┃<span style=\"font-weight: bold\">        DataLoader 0         </span>┃\n",
       "┡━━━━━━━━━━━━━━━━━━━━━━━━━━━━━╇━━━━━━━━━━━━━━━━━━━━━━━━━━━━━┩\n",
       "│<span style=\"color: #008080; text-decoration-color: #008080\"> test_explained_var_uniform  </span>│<span style=\"color: #800080; text-decoration-color: #800080\">    -0.025042209774255753    </span>│\n",
       "│<span style=\"color: #008080; text-decoration-color: #008080\"> test_explained_var_weighted </span>│<span style=\"color: #800080; text-decoration-color: #800080\">   -0.0002877476217690855    </span>│\n",
       "│<span style=\"color: #008080; text-decoration-color: #008080\">          test_loss          </span>│<span style=\"color: #800080; text-decoration-color: #800080\">       12265.205078125       </span>│\n",
       "│<span style=\"color: #008080; text-decoration-color: #008080\">          test_mse           </span>│<span style=\"color: #800080; text-decoration-color: #800080\">     0.5372250080108643      </span>│\n",
       "└─────────────────────────────┴─────────────────────────────┘\n",
       "</pre>\n"
      ],
      "text/plain": [
       "┏━━━━━━━━━━━━━━━━━━━━━━━━━━━━━┳━━━━━━━━━━━━━━━━━━━━━━━━━━━━━┓\n",
       "┃\u001b[1m \u001b[0m\u001b[1m        Test metric        \u001b[0m\u001b[1m \u001b[0m┃\u001b[1m \u001b[0m\u001b[1m       DataLoader 0        \u001b[0m\u001b[1m \u001b[0m┃\n",
       "┡━━━━━━━━━━━━━━━━━━━━━━━━━━━━━╇━━━━━━━━━━━━━━━━━━━━━━━━━━━━━┩\n",
       "│\u001b[36m \u001b[0m\u001b[36mtest_explained_var_uniform \u001b[0m\u001b[36m \u001b[0m│\u001b[35m \u001b[0m\u001b[35m   -0.025042209774255753   \u001b[0m\u001b[35m \u001b[0m│\n",
       "│\u001b[36m \u001b[0m\u001b[36mtest_explained_var_weighted\u001b[0m\u001b[36m \u001b[0m│\u001b[35m \u001b[0m\u001b[35m  -0.0002877476217690855   \u001b[0m\u001b[35m \u001b[0m│\n",
       "│\u001b[36m \u001b[0m\u001b[36m         test_loss         \u001b[0m\u001b[36m \u001b[0m│\u001b[35m \u001b[0m\u001b[35m      12265.205078125      \u001b[0m\u001b[35m \u001b[0m│\n",
       "│\u001b[36m \u001b[0m\u001b[36m         test_mse          \u001b[0m\u001b[36m \u001b[0m│\u001b[35m \u001b[0m\u001b[35m    0.5372250080108643     \u001b[0m\u001b[35m \u001b[0m│\n",
       "└─────────────────────────────┴─────────────────────────────┘\n"
      ]
     },
     "metadata": {},
     "output_type": "display_data"
    },
    {
     "name": "stdout",
     "output_type": "stream",
     "text": [
      "Metrics for model:  Random  :\n",
      " [{'test_explained_var_uniform': -0.025042209774255753, 'test_explained_var_weighted': -0.0002877476217690855, 'test_mse': 0.5372250080108643, 'test_loss': 12265.205078125}]\n"
     ]
    }
   ],
   "source": [
    "metrics = eval_rec(estim, model_dirs)"
   ]
  },
  {
   "cell_type": "markdown",
   "id": "1dbc1b5c-3053-4714-8922-82049254d42a",
   "metadata": {},
   "source": [
    "# Fig 3: OOD Reconstruction"
   ]
  },
  {
   "cell_type": "markdown",
   "id": "d0202deb-828e-43b2-9f16-3ff3ddedc37e",
   "metadata": {},
   "source": [
    "**Dissection: Tail of Hippocampus (HiT) - Caudal Hippocampus - CA4-DGC**\n",
    "\n",
    "- 56,367 cells\n",
    "- 10x 3' v3\n",
    "- hippocampal formation\n",
    "- astrocyte (3761), central nervous system macrophage (1782), endothelial cell (174), ependymal cell (111), ~~fibroblast (86)~~, leukocyte (36), neuron (36588), oligodendrocyte (11875), oligodendrocyte precursor cell (1896), pericyte (39), vascular associated smooth muscle cell (19)"
   ]
  },
  {
   "cell_type": "code",
   "execution_count": 24,
   "id": "6714169a-1994-430e-b779-b4cbe7649653",
   "metadata": {},
   "outputs": [],
   "source": [
    "ood_set = 'tail_of_hippocampus'"
   ]
  },
  {
   "cell_type": "code",
   "execution_count": 13,
   "id": "1423feae-c3aa-481a-9ee2-f770164ef2b1",
   "metadata": {},
   "outputs": [
    {
     "data": {
      "text/plain": [
       "\"\\nmodel_dirs = [\\n    ### Supervised Models ###\\n    MODEL_PATH + '/final_models/reconstruction/CN_No_SSL_CN_MLPrun0/default/version_3/checkpoints/best_checkpoint_val.ckpt',\\n    MODEL_PATH + '/final_models/reconstruction/CN_No_SSL_CN_MLPrun1/default/version_0/checkpoints/best_checkpoint_val.ckpt', \\n    MODEL_PATH + '/final_models/reconstruction/CN_No_SSL_CN_MLPrun2/default/version_0/checkpoints/best_checkpoint_val.ckpt', \\n    MODEL_PATH + '/final_models/reconstruction/CN_No_SSL_CN_MLPrun3/default/version_0/checkpoints/best_checkpoint_val.ckpt', \\n    MODEL_PATH + '/final_models/reconstruction/CN_No_SSL_CN_MLPrun4/default/version_0/checkpoints/best_checkpoint_val.ckpt', \\n    \\n    ### Only Pretrained Models ###\\n    \\n    # Gene Program to Transcription Factor    \\n    MODEL_PATH + '/pretext_models/masking/CN_MLP_gp_to_tf/default/version_2/checkpoints/best_checkpoint_val.ckpt',\\n    MODEL_PATH + '/pretext_models/masking/CN_MLP_gp_to_tfrun1/default/version_0/checkpoints/best_checkpoint_val.ckpt',\\n    MODEL_PATH + '/pretext_models/masking/CN_MLP_gp_to_tfrun2/default/version_0/checkpoints/best_checkpoint_val.ckpt',\\n    MODEL_PATH + '/pretext_models/masking/CN_MLP_gp_to_tfrun3/default/version_0/checkpoints/best_checkpoint_val.ckpt',\\n    MODEL_PATH + '/pretext_models/masking/CN_MLP_gp_to_tfrun4/default/version_0/checkpoints/best_checkpoint_val.ckpt',\\n    \\n    \\n    ### Self-Supervised Models ###\\n    # Gene Program to Transcription Factor\\n    MODEL_PATH + '/final_models/reconstruction/CN_SSL_CN_CN_MLP_gp_to_tfrun0/default/version_1/checkpoints/best_checkpoint_val.ckpt',\\n    MODEL_PATH + '/final_models/reconstruction/CN_SSL_CN_CN_MLP_gp_to_tfrun1/default/version_0/checkpoints/best_checkpoint_val.ckpt',\\n    MODEL_PATH + '/final_models/reconstruction/CN_SSL_CN_CN_MLP_gp_to_tfrun2/default/version_0/checkpoints/best_checkpoint_val.ckpt',\\n    MODEL_PATH + '/final_models/reconstruction/CN_SSL_CN_CN_MLP_gp_to_tfrun3/default/version_0/checkpoints/best_checkpoint_val.ckpt',\\n    MODEL_PATH + '/final_models/reconstruction/CN_SSL_CN_CN_MLP_gp_to_tfrun4/default/version_0/checkpoints/best_checkpoint_val.ckpt',\\n    \\n]\\n\""
      ]
     },
     "execution_count": 13,
     "metadata": {},
     "output_type": "execute_result"
    }
   ],
   "source": [
    "\"\"\"\n",
    "model_dirs = [\n",
    "    ### Supervised Models ###\n",
    "    MODEL_PATH + '/final_models/reconstruction/CN_No_SSL_CN_MLPrun0/default/version_3/checkpoints/best_checkpoint_val.ckpt',\n",
    "    MODEL_PATH + '/final_models/reconstruction/CN_No_SSL_CN_MLPrun1/default/version_0/checkpoints/best_checkpoint_val.ckpt', \n",
    "    MODEL_PATH + '/final_models/reconstruction/CN_No_SSL_CN_MLPrun2/default/version_0/checkpoints/best_checkpoint_val.ckpt', \n",
    "    MODEL_PATH + '/final_models/reconstruction/CN_No_SSL_CN_MLPrun3/default/version_0/checkpoints/best_checkpoint_val.ckpt', \n",
    "    MODEL_PATH + '/final_models/reconstruction/CN_No_SSL_CN_MLPrun4/default/version_0/checkpoints/best_checkpoint_val.ckpt', \n",
    "    \n",
    "    ### Only Pretrained Models ###\n",
    "    \n",
    "    # Gene Program to Transcription Factor    \n",
    "    MODEL_PATH + '/pretext_models/masking/CN_MLP_gp_to_tf/default/version_2/checkpoints/best_checkpoint_val.ckpt',\n",
    "    MODEL_PATH + '/pretext_models/masking/CN_MLP_gp_to_tfrun1/default/version_0/checkpoints/best_checkpoint_val.ckpt',\n",
    "    MODEL_PATH + '/pretext_models/masking/CN_MLP_gp_to_tfrun2/default/version_0/checkpoints/best_checkpoint_val.ckpt',\n",
    "    MODEL_PATH + '/pretext_models/masking/CN_MLP_gp_to_tfrun3/default/version_0/checkpoints/best_checkpoint_val.ckpt',\n",
    "    MODEL_PATH + '/pretext_models/masking/CN_MLP_gp_to_tfrun4/default/version_0/checkpoints/best_checkpoint_val.ckpt',\n",
    "    \n",
    "    \n",
    "    ### Self-Supervised Models ###\n",
    "    # Gene Program to Transcription Factor\n",
    "    MODEL_PATH + '/final_models/reconstruction/CN_SSL_CN_CN_MLP_gp_to_tfrun0/default/version_1/checkpoints/best_checkpoint_val.ckpt',\n",
    "    MODEL_PATH + '/final_models/reconstruction/CN_SSL_CN_CN_MLP_gp_to_tfrun1/default/version_0/checkpoints/best_checkpoint_val.ckpt',\n",
    "    MODEL_PATH + '/final_models/reconstruction/CN_SSL_CN_CN_MLP_gp_to_tfrun2/default/version_0/checkpoints/best_checkpoint_val.ckpt',\n",
    "    MODEL_PATH + '/final_models/reconstruction/CN_SSL_CN_CN_MLP_gp_to_tfrun3/default/version_0/checkpoints/best_checkpoint_val.ckpt',\n",
    "    MODEL_PATH + '/final_models/reconstruction/CN_SSL_CN_CN_MLP_gp_to_tfrun4/default/version_0/checkpoints/best_checkpoint_val.ckpt',\n",
    "    \n",
    "]\n",
    "\"\"\""
   ]
  },
  {
   "cell_type": "code",
   "execution_count": 25,
   "id": "2d6059dc-cd48-49b6-8860-a71bde824fcb",
   "metadata": {
    "scrolled": true,
    "tags": []
   },
   "outputs": [
    {
     "name": "stdout",
     "output_type": "stream",
     "text": [
      "Evaluating model:  CN_No_SSL_CN_run0NegBin_\n"
     ]
    },
    {
     "name": "stderr",
     "output_type": "stream",
     "text": [
      "GPU available: True (cuda), used: True\n",
      "TPU available: False, using: 0 TPU cores\n",
      "IPU available: False, using: 0 IPUs\n",
      "HPU available: False, using: 0 HPUs\n",
      "LOCAL_RANK: 0 - CUDA_VISIBLE_DEVICES: [0]\n"
     ]
    },
    {
     "data": {
      "application/vnd.jupyter.widget-view+json": {
       "model_id": "8b7ee47c38784484859422c6c2781fab",
       "version_major": 2,
       "version_minor": 0
      },
      "text/plain": [
       "Testing: 0it [00:00, ?it/s]"
      ]
     },
     "metadata": {},
     "output_type": "display_data"
    },
    {
     "data": {
      "text/html": [
       "<pre style=\"white-space:pre;overflow-x:auto;line-height:normal;font-family:Menlo,'DejaVu Sans Mono',consolas,'Courier New',monospace\">┏━━━━━━━━━━━━━━━━━━━━━━━━━━━━━┳━━━━━━━━━━━━━━━━━━━━━━━━━━━━━┓\n",
       "┃<span style=\"font-weight: bold\">         Test metric         </span>┃<span style=\"font-weight: bold\">        DataLoader 0         </span>┃\n",
       "┡━━━━━━━━━━━━━━━━━━━━━━━━━━━━━╇━━━━━━━━━━━━━━━━━━━━━━━━━━━━━┩\n",
       "│<span style=\"color: #008080; text-decoration-color: #008080\"> test_explained_var_uniform  </span>│<span style=\"color: #800080; text-decoration-color: #800080\">    0.021411335095763206     </span>│\n",
       "│<span style=\"color: #008080; text-decoration-color: #008080\"> test_explained_var_weighted </span>│<span style=\"color: #800080; text-decoration-color: #800080\">     0.07335852086544037     </span>│\n",
       "│<span style=\"color: #008080; text-decoration-color: #008080\">          test_loss          </span>│<span style=\"color: #800080; text-decoration-color: #800080\">        6099.49609375        </span>│\n",
       "│<span style=\"color: #008080; text-decoration-color: #008080\">          test_mse           </span>│<span style=\"color: #800080; text-decoration-color: #800080\">     0.10462138056755066     </span>│\n",
       "└─────────────────────────────┴─────────────────────────────┘\n",
       "</pre>\n"
      ],
      "text/plain": [
       "┏━━━━━━━━━━━━━━━━━━━━━━━━━━━━━┳━━━━━━━━━━━━━━━━━━━━━━━━━━━━━┓\n",
       "┃\u001b[1m \u001b[0m\u001b[1m        Test metric        \u001b[0m\u001b[1m \u001b[0m┃\u001b[1m \u001b[0m\u001b[1m       DataLoader 0        \u001b[0m\u001b[1m \u001b[0m┃\n",
       "┡━━━━━━━━━━━━━━━━━━━━━━━━━━━━━╇━━━━━━━━━━━━━━━━━━━━━━━━━━━━━┩\n",
       "│\u001b[36m \u001b[0m\u001b[36mtest_explained_var_uniform \u001b[0m\u001b[36m \u001b[0m│\u001b[35m \u001b[0m\u001b[35m   0.021411335095763206    \u001b[0m\u001b[35m \u001b[0m│\n",
       "│\u001b[36m \u001b[0m\u001b[36mtest_explained_var_weighted\u001b[0m\u001b[36m \u001b[0m│\u001b[35m \u001b[0m\u001b[35m    0.07335852086544037    \u001b[0m\u001b[35m \u001b[0m│\n",
       "│\u001b[36m \u001b[0m\u001b[36m         test_loss         \u001b[0m\u001b[36m \u001b[0m│\u001b[35m \u001b[0m\u001b[35m       6099.49609375       \u001b[0m\u001b[35m \u001b[0m│\n",
       "│\u001b[36m \u001b[0m\u001b[36m         test_mse          \u001b[0m\u001b[36m \u001b[0m│\u001b[35m \u001b[0m\u001b[35m    0.10462138056755066    \u001b[0m\u001b[35m \u001b[0m│\n",
       "└─────────────────────────────┴─────────────────────────────┘\n"
      ]
     },
     "metadata": {},
     "output_type": "display_data"
    },
    {
     "name": "stdout",
     "output_type": "stream",
     "text": [
      "Evaluating model:  CN_No_SSL_CN_run1NegBin_\n"
     ]
    },
    {
     "name": "stderr",
     "output_type": "stream",
     "text": [
      "GPU available: True (cuda), used: True\n",
      "TPU available: False, using: 0 TPU cores\n",
      "IPU available: False, using: 0 IPUs\n",
      "HPU available: False, using: 0 HPUs\n",
      "LOCAL_RANK: 0 - CUDA_VISIBLE_DEVICES: [0]\n"
     ]
    },
    {
     "data": {
      "application/vnd.jupyter.widget-view+json": {
       "model_id": "fc7270228c3c47a7a287fd2578fe36b2",
       "version_major": 2,
       "version_minor": 0
      },
      "text/plain": [
       "Testing: 0it [00:00, ?it/s]"
      ]
     },
     "metadata": {},
     "output_type": "display_data"
    },
    {
     "data": {
      "text/html": [
       "<pre style=\"white-space:pre;overflow-x:auto;line-height:normal;font-family:Menlo,'DejaVu Sans Mono',consolas,'Courier New',monospace\">┏━━━━━━━━━━━━━━━━━━━━━━━━━━━━━┳━━━━━━━━━━━━━━━━━━━━━━━━━━━━━┓\n",
       "┃<span style=\"font-weight: bold\">         Test metric         </span>┃<span style=\"font-weight: bold\">        DataLoader 0         </span>┃\n",
       "┡━━━━━━━━━━━━━━━━━━━━━━━━━━━━━╇━━━━━━━━━━━━━━━━━━━━━━━━━━━━━┩\n",
       "│<span style=\"color: #008080; text-decoration-color: #008080\"> test_explained_var_uniform  </span>│<span style=\"color: #800080; text-decoration-color: #800080\">    0.021023396402597427     </span>│\n",
       "│<span style=\"color: #008080; text-decoration-color: #008080\"> test_explained_var_weighted </span>│<span style=\"color: #800080; text-decoration-color: #800080\">      0.072452113032341      </span>│\n",
       "│<span style=\"color: #008080; text-decoration-color: #008080\">          test_loss          </span>│<span style=\"color: #800080; text-decoration-color: #800080\">       6102.4833984375       </span>│\n",
       "│<span style=\"color: #008080; text-decoration-color: #008080\">          test_mse           </span>│<span style=\"color: #800080; text-decoration-color: #800080\">     0.10472824424505234     </span>│\n",
       "└─────────────────────────────┴─────────────────────────────┘\n",
       "</pre>\n"
      ],
      "text/plain": [
       "┏━━━━━━━━━━━━━━━━━━━━━━━━━━━━━┳━━━━━━━━━━━━━━━━━━━━━━━━━━━━━┓\n",
       "┃\u001b[1m \u001b[0m\u001b[1m        Test metric        \u001b[0m\u001b[1m \u001b[0m┃\u001b[1m \u001b[0m\u001b[1m       DataLoader 0        \u001b[0m\u001b[1m \u001b[0m┃\n",
       "┡━━━━━━━━━━━━━━━━━━━━━━━━━━━━━╇━━━━━━━━━━━━━━━━━━━━━━━━━━━━━┩\n",
       "│\u001b[36m \u001b[0m\u001b[36mtest_explained_var_uniform \u001b[0m\u001b[36m \u001b[0m│\u001b[35m \u001b[0m\u001b[35m   0.021023396402597427    \u001b[0m\u001b[35m \u001b[0m│\n",
       "│\u001b[36m \u001b[0m\u001b[36mtest_explained_var_weighted\u001b[0m\u001b[36m \u001b[0m│\u001b[35m \u001b[0m\u001b[35m     0.072452113032341     \u001b[0m\u001b[35m \u001b[0m│\n",
       "│\u001b[36m \u001b[0m\u001b[36m         test_loss         \u001b[0m\u001b[36m \u001b[0m│\u001b[35m \u001b[0m\u001b[35m      6102.4833984375      \u001b[0m\u001b[35m \u001b[0m│\n",
       "│\u001b[36m \u001b[0m\u001b[36m         test_mse          \u001b[0m\u001b[36m \u001b[0m│\u001b[35m \u001b[0m\u001b[35m    0.10472824424505234    \u001b[0m\u001b[35m \u001b[0m│\n",
       "└─────────────────────────────┴─────────────────────────────┘\n"
      ]
     },
     "metadata": {},
     "output_type": "display_data"
    },
    {
     "name": "stdout",
     "output_type": "stream",
     "text": [
      "Evaluating model:  CN_No_SSL_CN_run2NegBin_\n"
     ]
    },
    {
     "name": "stderr",
     "output_type": "stream",
     "text": [
      "GPU available: True (cuda), used: True\n",
      "TPU available: False, using: 0 TPU cores\n",
      "IPU available: False, using: 0 IPUs\n",
      "HPU available: False, using: 0 HPUs\n",
      "LOCAL_RANK: 0 - CUDA_VISIBLE_DEVICES: [0]\n"
     ]
    },
    {
     "data": {
      "application/vnd.jupyter.widget-view+json": {
       "model_id": "38050332629a416bb1a7e4062e04f863",
       "version_major": 2,
       "version_minor": 0
      },
      "text/plain": [
       "Testing: 0it [00:00, ?it/s]"
      ]
     },
     "metadata": {},
     "output_type": "display_data"
    },
    {
     "data": {
      "text/html": [
       "<pre style=\"white-space:pre;overflow-x:auto;line-height:normal;font-family:Menlo,'DejaVu Sans Mono',consolas,'Courier New',monospace\">┏━━━━━━━━━━━━━━━━━━━━━━━━━━━━━┳━━━━━━━━━━━━━━━━━━━━━━━━━━━━━┓\n",
       "┃<span style=\"font-weight: bold\">         Test metric         </span>┃<span style=\"font-weight: bold\">        DataLoader 0         </span>┃\n",
       "┡━━━━━━━━━━━━━━━━━━━━━━━━━━━━━╇━━━━━━━━━━━━━━━━━━━━━━━━━━━━━┩\n",
       "│<span style=\"color: #008080; text-decoration-color: #008080\"> test_explained_var_uniform  </span>│<span style=\"color: #800080; text-decoration-color: #800080\">    0.021274453029036522     </span>│\n",
       "│<span style=\"color: #008080; text-decoration-color: #008080\"> test_explained_var_weighted </span>│<span style=\"color: #800080; text-decoration-color: #800080\">     0.07286479324102402     </span>│\n",
       "│<span style=\"color: #008080; text-decoration-color: #008080\">          test_loss          </span>│<span style=\"color: #800080; text-decoration-color: #800080\">      6102.98486328125       </span>│\n",
       "│<span style=\"color: #008080; text-decoration-color: #008080\">          test_mse           </span>│<span style=\"color: #800080; text-decoration-color: #800080\">     0.1047784760594368      </span>│\n",
       "└─────────────────────────────┴─────────────────────────────┘\n",
       "</pre>\n"
      ],
      "text/plain": [
       "┏━━━━━━━━━━━━━━━━━━━━━━━━━━━━━┳━━━━━━━━━━━━━━━━━━━━━━━━━━━━━┓\n",
       "┃\u001b[1m \u001b[0m\u001b[1m        Test metric        \u001b[0m\u001b[1m \u001b[0m┃\u001b[1m \u001b[0m\u001b[1m       DataLoader 0        \u001b[0m\u001b[1m \u001b[0m┃\n",
       "┡━━━━━━━━━━━━━━━━━━━━━━━━━━━━━╇━━━━━━━━━━━━━━━━━━━━━━━━━━━━━┩\n",
       "│\u001b[36m \u001b[0m\u001b[36mtest_explained_var_uniform \u001b[0m\u001b[36m \u001b[0m│\u001b[35m \u001b[0m\u001b[35m   0.021274453029036522    \u001b[0m\u001b[35m \u001b[0m│\n",
       "│\u001b[36m \u001b[0m\u001b[36mtest_explained_var_weighted\u001b[0m\u001b[36m \u001b[0m│\u001b[35m \u001b[0m\u001b[35m    0.07286479324102402    \u001b[0m\u001b[35m \u001b[0m│\n",
       "│\u001b[36m \u001b[0m\u001b[36m         test_loss         \u001b[0m\u001b[36m \u001b[0m│\u001b[35m \u001b[0m\u001b[35m     6102.98486328125      \u001b[0m\u001b[35m \u001b[0m│\n",
       "│\u001b[36m \u001b[0m\u001b[36m         test_mse          \u001b[0m\u001b[36m \u001b[0m│\u001b[35m \u001b[0m\u001b[35m    0.1047784760594368     \u001b[0m\u001b[35m \u001b[0m│\n",
       "└─────────────────────────────┴─────────────────────────────┘\n"
      ]
     },
     "metadata": {},
     "output_type": "display_data"
    },
    {
     "name": "stdout",
     "output_type": "stream",
     "text": [
      "Evaluating model:  CN_No_SSL_CN_run3NegBin_\n"
     ]
    },
    {
     "name": "stderr",
     "output_type": "stream",
     "text": [
      "GPU available: True (cuda), used: True\n",
      "TPU available: False, using: 0 TPU cores\n",
      "IPU available: False, using: 0 IPUs\n",
      "HPU available: False, using: 0 HPUs\n",
      "LOCAL_RANK: 0 - CUDA_VISIBLE_DEVICES: [0]\n"
     ]
    },
    {
     "data": {
      "application/vnd.jupyter.widget-view+json": {
       "model_id": "96f00c7c7c2845bf93032f888daa342d",
       "version_major": 2,
       "version_minor": 0
      },
      "text/plain": [
       "Testing: 0it [00:00, ?it/s]"
      ]
     },
     "metadata": {},
     "output_type": "display_data"
    },
    {
     "data": {
      "text/html": [
       "<pre style=\"white-space:pre;overflow-x:auto;line-height:normal;font-family:Menlo,'DejaVu Sans Mono',consolas,'Courier New',monospace\">┏━━━━━━━━━━━━━━━━━━━━━━━━━━━━━┳━━━━━━━━━━━━━━━━━━━━━━━━━━━━━┓\n",
       "┃<span style=\"font-weight: bold\">         Test metric         </span>┃<span style=\"font-weight: bold\">        DataLoader 0         </span>┃\n",
       "┡━━━━━━━━━━━━━━━━━━━━━━━━━━━━━╇━━━━━━━━━━━━━━━━━━━━━━━━━━━━━┩\n",
       "│<span style=\"color: #008080; text-decoration-color: #008080\"> test_explained_var_uniform  </span>│<span style=\"color: #800080; text-decoration-color: #800080\">    0.021309198811650276     </span>│\n",
       "│<span style=\"color: #008080; text-decoration-color: #008080\"> test_explained_var_weighted </span>│<span style=\"color: #800080; text-decoration-color: #800080\">     0.07259511202573776     </span>│\n",
       "│<span style=\"color: #008080; text-decoration-color: #008080\">          test_loss          </span>│<span style=\"color: #800080; text-decoration-color: #800080\">      6106.52783203125       </span>│\n",
       "│<span style=\"color: #008080; text-decoration-color: #008080\">          test_mse           </span>│<span style=\"color: #800080; text-decoration-color: #800080\">     0.10494233667850494     </span>│\n",
       "└─────────────────────────────┴─────────────────────────────┘\n",
       "</pre>\n"
      ],
      "text/plain": [
       "┏━━━━━━━━━━━━━━━━━━━━━━━━━━━━━┳━━━━━━━━━━━━━━━━━━━━━━━━━━━━━┓\n",
       "┃\u001b[1m \u001b[0m\u001b[1m        Test metric        \u001b[0m\u001b[1m \u001b[0m┃\u001b[1m \u001b[0m\u001b[1m       DataLoader 0        \u001b[0m\u001b[1m \u001b[0m┃\n",
       "┡━━━━━━━━━━━━━━━━━━━━━━━━━━━━━╇━━━━━━━━━━━━━━━━━━━━━━━━━━━━━┩\n",
       "│\u001b[36m \u001b[0m\u001b[36mtest_explained_var_uniform \u001b[0m\u001b[36m \u001b[0m│\u001b[35m \u001b[0m\u001b[35m   0.021309198811650276    \u001b[0m\u001b[35m \u001b[0m│\n",
       "│\u001b[36m \u001b[0m\u001b[36mtest_explained_var_weighted\u001b[0m\u001b[36m \u001b[0m│\u001b[35m \u001b[0m\u001b[35m    0.07259511202573776    \u001b[0m\u001b[35m \u001b[0m│\n",
       "│\u001b[36m \u001b[0m\u001b[36m         test_loss         \u001b[0m\u001b[36m \u001b[0m│\u001b[35m \u001b[0m\u001b[35m     6106.52783203125      \u001b[0m\u001b[35m \u001b[0m│\n",
       "│\u001b[36m \u001b[0m\u001b[36m         test_mse          \u001b[0m\u001b[36m \u001b[0m│\u001b[35m \u001b[0m\u001b[35m    0.10494233667850494    \u001b[0m\u001b[35m \u001b[0m│\n",
       "└─────────────────────────────┴─────────────────────────────┘\n"
      ]
     },
     "metadata": {},
     "output_type": "display_data"
    },
    {
     "name": "stdout",
     "output_type": "stream",
     "text": [
      "Evaluating model:  CN_No_SSL_CN_run4NegBin_\n"
     ]
    },
    {
     "name": "stderr",
     "output_type": "stream",
     "text": [
      "GPU available: True (cuda), used: True\n",
      "TPU available: False, using: 0 TPU cores\n",
      "IPU available: False, using: 0 IPUs\n",
      "HPU available: False, using: 0 HPUs\n",
      "LOCAL_RANK: 0 - CUDA_VISIBLE_DEVICES: [0]\n"
     ]
    },
    {
     "data": {
      "application/vnd.jupyter.widget-view+json": {
       "model_id": "c2f4b06b9f9749bf8bcc37e297e80e01",
       "version_major": 2,
       "version_minor": 0
      },
      "text/plain": [
       "Testing: 0it [00:00, ?it/s]"
      ]
     },
     "metadata": {},
     "output_type": "display_data"
    },
    {
     "data": {
      "text/html": [
       "<pre style=\"white-space:pre;overflow-x:auto;line-height:normal;font-family:Menlo,'DejaVu Sans Mono',consolas,'Courier New',monospace\">┏━━━━━━━━━━━━━━━━━━━━━━━━━━━━━┳━━━━━━━━━━━━━━━━━━━━━━━━━━━━━┓\n",
       "┃<span style=\"font-weight: bold\">         Test metric         </span>┃<span style=\"font-weight: bold\">        DataLoader 0         </span>┃\n",
       "┡━━━━━━━━━━━━━━━━━━━━━━━━━━━━━╇━━━━━━━━━━━━━━━━━━━━━━━━━━━━━┩\n",
       "│<span style=\"color: #008080; text-decoration-color: #008080\"> test_explained_var_uniform  </span>│<span style=\"color: #800080; text-decoration-color: #800080\">     0.02105320431292057     </span>│\n",
       "│<span style=\"color: #008080; text-decoration-color: #008080\"> test_explained_var_weighted </span>│<span style=\"color: #800080; text-decoration-color: #800080\">     0.07244663685560226     </span>│\n",
       "│<span style=\"color: #008080; text-decoration-color: #008080\">          test_loss          </span>│<span style=\"color: #800080; text-decoration-color: #800080\">       6104.0068359375       </span>│\n",
       "│<span style=\"color: #008080; text-decoration-color: #008080\">          test_mse           </span>│<span style=\"color: #800080; text-decoration-color: #800080\">     0.1048249825835228      </span>│\n",
       "└─────────────────────────────┴─────────────────────────────┘\n",
       "</pre>\n"
      ],
      "text/plain": [
       "┏━━━━━━━━━━━━━━━━━━━━━━━━━━━━━┳━━━━━━━━━━━━━━━━━━━━━━━━━━━━━┓\n",
       "┃\u001b[1m \u001b[0m\u001b[1m        Test metric        \u001b[0m\u001b[1m \u001b[0m┃\u001b[1m \u001b[0m\u001b[1m       DataLoader 0        \u001b[0m\u001b[1m \u001b[0m┃\n",
       "┡━━━━━━━━━━━━━━━━━━━━━━━━━━━━━╇━━━━━━━━━━━━━━━━━━━━━━━━━━━━━┩\n",
       "│\u001b[36m \u001b[0m\u001b[36mtest_explained_var_uniform \u001b[0m\u001b[36m \u001b[0m│\u001b[35m \u001b[0m\u001b[35m    0.02105320431292057    \u001b[0m\u001b[35m \u001b[0m│\n",
       "│\u001b[36m \u001b[0m\u001b[36mtest_explained_var_weighted\u001b[0m\u001b[36m \u001b[0m│\u001b[35m \u001b[0m\u001b[35m    0.07244663685560226    \u001b[0m\u001b[35m \u001b[0m│\n",
       "│\u001b[36m \u001b[0m\u001b[36m         test_loss         \u001b[0m\u001b[36m \u001b[0m│\u001b[35m \u001b[0m\u001b[35m      6104.0068359375      \u001b[0m\u001b[35m \u001b[0m│\n",
       "│\u001b[36m \u001b[0m\u001b[36m         test_mse          \u001b[0m\u001b[36m \u001b[0m│\u001b[35m \u001b[0m\u001b[35m    0.1048249825835228     \u001b[0m\u001b[35m \u001b[0m│\n",
       "└─────────────────────────────┴─────────────────────────────┘\n"
      ]
     },
     "metadata": {},
     "output_type": "display_data"
    },
    {
     "name": "stdout",
     "output_type": "stream",
     "text": [
      "Evaluating model:  CN_NegBin_gp_to_tfrun0\n"
     ]
    },
    {
     "name": "stderr",
     "output_type": "stream",
     "text": [
      "GPU available: True (cuda), used: True\n",
      "TPU available: False, using: 0 TPU cores\n",
      "IPU available: False, using: 0 IPUs\n",
      "HPU available: False, using: 0 HPUs\n",
      "LOCAL_RANK: 0 - CUDA_VISIBLE_DEVICES: [0]\n"
     ]
    },
    {
     "data": {
      "application/vnd.jupyter.widget-view+json": {
       "model_id": "7814a6c045da47a5bbec09678774c1e4",
       "version_major": 2,
       "version_minor": 0
      },
      "text/plain": [
       "Testing: 0it [00:00, ?it/s]"
      ]
     },
     "metadata": {},
     "output_type": "display_data"
    },
    {
     "data": {
      "text/html": [
       "<pre style=\"white-space:pre;overflow-x:auto;line-height:normal;font-family:Menlo,'DejaVu Sans Mono',consolas,'Courier New',monospace\">┏━━━━━━━━━━━━━━━━━━━━━━━━━━━━━┳━━━━━━━━━━━━━━━━━━━━━━━━━━━━━┓\n",
       "┃<span style=\"font-weight: bold\">         Test metric         </span>┃<span style=\"font-weight: bold\">        DataLoader 0         </span>┃\n",
       "┡━━━━━━━━━━━━━━━━━━━━━━━━━━━━━╇━━━━━━━━━━━━━━━━━━━━━━━━━━━━━┩\n",
       "│<span style=\"color: #008080; text-decoration-color: #008080\"> test_explained_var_uniform  </span>│<span style=\"color: #800080; text-decoration-color: #800080\">     0.02335159294307232     </span>│\n",
       "│<span style=\"color: #008080; text-decoration-color: #008080\"> test_explained_var_weighted </span>│<span style=\"color: #800080; text-decoration-color: #800080\">     0.07796067744493484     </span>│\n",
       "│<span style=\"color: #008080; text-decoration-color: #008080\">          test_loss          </span>│<span style=\"color: #800080; text-decoration-color: #800080\">      6076.20947265625       </span>│\n",
       "│<span style=\"color: #008080; text-decoration-color: #008080\">          test_mse           </span>│<span style=\"color: #800080; text-decoration-color: #800080\">     0.10357679426670074     </span>│\n",
       "└─────────────────────────────┴─────────────────────────────┘\n",
       "</pre>\n"
      ],
      "text/plain": [
       "┏━━━━━━━━━━━━━━━━━━━━━━━━━━━━━┳━━━━━━━━━━━━━━━━━━━━━━━━━━━━━┓\n",
       "┃\u001b[1m \u001b[0m\u001b[1m        Test metric        \u001b[0m\u001b[1m \u001b[0m┃\u001b[1m \u001b[0m\u001b[1m       DataLoader 0        \u001b[0m\u001b[1m \u001b[0m┃\n",
       "┡━━━━━━━━━━━━━━━━━━━━━━━━━━━━━╇━━━━━━━━━━━━━━━━━━━━━━━━━━━━━┩\n",
       "│\u001b[36m \u001b[0m\u001b[36mtest_explained_var_uniform \u001b[0m\u001b[36m \u001b[0m│\u001b[35m \u001b[0m\u001b[35m    0.02335159294307232    \u001b[0m\u001b[35m \u001b[0m│\n",
       "│\u001b[36m \u001b[0m\u001b[36mtest_explained_var_weighted\u001b[0m\u001b[36m \u001b[0m│\u001b[35m \u001b[0m\u001b[35m    0.07796067744493484    \u001b[0m\u001b[35m \u001b[0m│\n",
       "│\u001b[36m \u001b[0m\u001b[36m         test_loss         \u001b[0m\u001b[36m \u001b[0m│\u001b[35m \u001b[0m\u001b[35m     6076.20947265625      \u001b[0m\u001b[35m \u001b[0m│\n",
       "│\u001b[36m \u001b[0m\u001b[36m         test_mse          \u001b[0m\u001b[36m \u001b[0m│\u001b[35m \u001b[0m\u001b[35m    0.10357679426670074    \u001b[0m\u001b[35m \u001b[0m│\n",
       "└─────────────────────────────┴─────────────────────────────┘\n"
      ]
     },
     "metadata": {},
     "output_type": "display_data"
    },
    {
     "name": "stdout",
     "output_type": "stream",
     "text": [
      "Evaluating model:  CN_NegBin_gp_to_tfrun1\n"
     ]
    },
    {
     "name": "stderr",
     "output_type": "stream",
     "text": [
      "GPU available: True (cuda), used: True\n",
      "TPU available: False, using: 0 TPU cores\n",
      "IPU available: False, using: 0 IPUs\n",
      "HPU available: False, using: 0 HPUs\n",
      "LOCAL_RANK: 0 - CUDA_VISIBLE_DEVICES: [0]\n"
     ]
    },
    {
     "data": {
      "application/vnd.jupyter.widget-view+json": {
       "model_id": "d1147393f3db4fe19f6af8a2e7d76504",
       "version_major": 2,
       "version_minor": 0
      },
      "text/plain": [
       "Testing: 0it [00:00, ?it/s]"
      ]
     },
     "metadata": {},
     "output_type": "display_data"
    },
    {
     "data": {
      "text/html": [
       "<pre style=\"white-space:pre;overflow-x:auto;line-height:normal;font-family:Menlo,'DejaVu Sans Mono',consolas,'Courier New',monospace\">┏━━━━━━━━━━━━━━━━━━━━━━━━━━━━━┳━━━━━━━━━━━━━━━━━━━━━━━━━━━━━┓\n",
       "┃<span style=\"font-weight: bold\">         Test metric         </span>┃<span style=\"font-weight: bold\">        DataLoader 0         </span>┃\n",
       "┡━━━━━━━━━━━━━━━━━━━━━━━━━━━━━╇━━━━━━━━━━━━━━━━━━━━━━━━━━━━━┩\n",
       "│<span style=\"color: #008080; text-decoration-color: #008080\"> test_explained_var_uniform  </span>│<span style=\"color: #800080; text-decoration-color: #800080\">    0.023127729073166847     </span>│\n",
       "│<span style=\"color: #008080; text-decoration-color: #008080\"> test_explained_var_weighted </span>│<span style=\"color: #800080; text-decoration-color: #800080\">     0.07754599303007126     </span>│\n",
       "│<span style=\"color: #008080; text-decoration-color: #008080\">          test_loss          </span>│<span style=\"color: #800080; text-decoration-color: #800080\">         6077.421875         </span>│\n",
       "│<span style=\"color: #008080; text-decoration-color: #008080\">          test_mse           </span>│<span style=\"color: #800080; text-decoration-color: #800080\">     0.10365092009305954     </span>│\n",
       "└─────────────────────────────┴─────────────────────────────┘\n",
       "</pre>\n"
      ],
      "text/plain": [
       "┏━━━━━━━━━━━━━━━━━━━━━━━━━━━━━┳━━━━━━━━━━━━━━━━━━━━━━━━━━━━━┓\n",
       "┃\u001b[1m \u001b[0m\u001b[1m        Test metric        \u001b[0m\u001b[1m \u001b[0m┃\u001b[1m \u001b[0m\u001b[1m       DataLoader 0        \u001b[0m\u001b[1m \u001b[0m┃\n",
       "┡━━━━━━━━━━━━━━━━━━━━━━━━━━━━━╇━━━━━━━━━━━━━━━━━━━━━━━━━━━━━┩\n",
       "│\u001b[36m \u001b[0m\u001b[36mtest_explained_var_uniform \u001b[0m\u001b[36m \u001b[0m│\u001b[35m \u001b[0m\u001b[35m   0.023127729073166847    \u001b[0m\u001b[35m \u001b[0m│\n",
       "│\u001b[36m \u001b[0m\u001b[36mtest_explained_var_weighted\u001b[0m\u001b[36m \u001b[0m│\u001b[35m \u001b[0m\u001b[35m    0.07754599303007126    \u001b[0m\u001b[35m \u001b[0m│\n",
       "│\u001b[36m \u001b[0m\u001b[36m         test_loss         \u001b[0m\u001b[36m \u001b[0m│\u001b[35m \u001b[0m\u001b[35m        6077.421875        \u001b[0m\u001b[35m \u001b[0m│\n",
       "│\u001b[36m \u001b[0m\u001b[36m         test_mse          \u001b[0m\u001b[36m \u001b[0m│\u001b[35m \u001b[0m\u001b[35m    0.10365092009305954    \u001b[0m\u001b[35m \u001b[0m│\n",
       "└─────────────────────────────┴─────────────────────────────┘\n"
      ]
     },
     "metadata": {},
     "output_type": "display_data"
    },
    {
     "name": "stdout",
     "output_type": "stream",
     "text": [
      "Evaluating model:  CN_NegBin_gp_to_tfrun2\n"
     ]
    },
    {
     "name": "stderr",
     "output_type": "stream",
     "text": [
      "GPU available: True (cuda), used: True\n",
      "TPU available: False, using: 0 TPU cores\n",
      "IPU available: False, using: 0 IPUs\n",
      "HPU available: False, using: 0 HPUs\n",
      "LOCAL_RANK: 0 - CUDA_VISIBLE_DEVICES: [0]\n"
     ]
    },
    {
     "data": {
      "application/vnd.jupyter.widget-view+json": {
       "model_id": "7fa0cad087914d5f9013310c2f8b1b0c",
       "version_major": 2,
       "version_minor": 0
      },
      "text/plain": [
       "Testing: 0it [00:00, ?it/s]"
      ]
     },
     "metadata": {},
     "output_type": "display_data"
    },
    {
     "data": {
      "text/html": [
       "<pre style=\"white-space:pre;overflow-x:auto;line-height:normal;font-family:Menlo,'DejaVu Sans Mono',consolas,'Courier New',monospace\">┏━━━━━━━━━━━━━━━━━━━━━━━━━━━━━┳━━━━━━━━━━━━━━━━━━━━━━━━━━━━━┓\n",
       "┃<span style=\"font-weight: bold\">         Test metric         </span>┃<span style=\"font-weight: bold\">        DataLoader 0         </span>┃\n",
       "┡━━━━━━━━━━━━━━━━━━━━━━━━━━━━━╇━━━━━━━━━━━━━━━━━━━━━━━━━━━━━┩\n",
       "│<span style=\"color: #008080; text-decoration-color: #008080\"> test_explained_var_uniform  </span>│<span style=\"color: #800080; text-decoration-color: #800080\">    0.023135855793952942     </span>│\n",
       "│<span style=\"color: #008080; text-decoration-color: #008080\"> test_explained_var_weighted </span>│<span style=\"color: #800080; text-decoration-color: #800080\">     0.07790203392505646     </span>│\n",
       "│<span style=\"color: #008080; text-decoration-color: #008080\">          test_loss          </span>│<span style=\"color: #800080; text-decoration-color: #800080\">      6076.51416015625       </span>│\n",
       "│<span style=\"color: #008080; text-decoration-color: #008080\">          test_mse           </span>│<span style=\"color: #800080; text-decoration-color: #800080\">     0.10359752178192139     </span>│\n",
       "└─────────────────────────────┴─────────────────────────────┘\n",
       "</pre>\n"
      ],
      "text/plain": [
       "┏━━━━━━━━━━━━━━━━━━━━━━━━━━━━━┳━━━━━━━━━━━━━━━━━━━━━━━━━━━━━┓\n",
       "┃\u001b[1m \u001b[0m\u001b[1m        Test metric        \u001b[0m\u001b[1m \u001b[0m┃\u001b[1m \u001b[0m\u001b[1m       DataLoader 0        \u001b[0m\u001b[1m \u001b[0m┃\n",
       "┡━━━━━━━━━━━━━━━━━━━━━━━━━━━━━╇━━━━━━━━━━━━━━━━━━━━━━━━━━━━━┩\n",
       "│\u001b[36m \u001b[0m\u001b[36mtest_explained_var_uniform \u001b[0m\u001b[36m \u001b[0m│\u001b[35m \u001b[0m\u001b[35m   0.023135855793952942    \u001b[0m\u001b[35m \u001b[0m│\n",
       "│\u001b[36m \u001b[0m\u001b[36mtest_explained_var_weighted\u001b[0m\u001b[36m \u001b[0m│\u001b[35m \u001b[0m\u001b[35m    0.07790203392505646    \u001b[0m\u001b[35m \u001b[0m│\n",
       "│\u001b[36m \u001b[0m\u001b[36m         test_loss         \u001b[0m\u001b[36m \u001b[0m│\u001b[35m \u001b[0m\u001b[35m     6076.51416015625      \u001b[0m\u001b[35m \u001b[0m│\n",
       "│\u001b[36m \u001b[0m\u001b[36m         test_mse          \u001b[0m\u001b[36m \u001b[0m│\u001b[35m \u001b[0m\u001b[35m    0.10359752178192139    \u001b[0m\u001b[35m \u001b[0m│\n",
       "└─────────────────────────────┴─────────────────────────────┘\n"
      ]
     },
     "metadata": {},
     "output_type": "display_data"
    },
    {
     "name": "stdout",
     "output_type": "stream",
     "text": [
      "Evaluating model:  CN_NegBin_gp_to_tfrun3\n"
     ]
    },
    {
     "name": "stderr",
     "output_type": "stream",
     "text": [
      "GPU available: True (cuda), used: True\n",
      "TPU available: False, using: 0 TPU cores\n",
      "IPU available: False, using: 0 IPUs\n",
      "HPU available: False, using: 0 HPUs\n",
      "LOCAL_RANK: 0 - CUDA_VISIBLE_DEVICES: [0]\n"
     ]
    },
    {
     "data": {
      "application/vnd.jupyter.widget-view+json": {
       "model_id": "1c24cf0e3f8b42f190202c8d85cd5edc",
       "version_major": 2,
       "version_minor": 0
      },
      "text/plain": [
       "Testing: 0it [00:00, ?it/s]"
      ]
     },
     "metadata": {},
     "output_type": "display_data"
    },
    {
     "data": {
      "text/html": [
       "<pre style=\"white-space:pre;overflow-x:auto;line-height:normal;font-family:Menlo,'DejaVu Sans Mono',consolas,'Courier New',monospace\">┏━━━━━━━━━━━━━━━━━━━━━━━━━━━━━┳━━━━━━━━━━━━━━━━━━━━━━━━━━━━━┓\n",
       "┃<span style=\"font-weight: bold\">         Test metric         </span>┃<span style=\"font-weight: bold\">        DataLoader 0         </span>┃\n",
       "┡━━━━━━━━━━━━━━━━━━━━━━━━━━━━━╇━━━━━━━━━━━━━━━━━━━━━━━━━━━━━┩\n",
       "│<span style=\"color: #008080; text-decoration-color: #008080\"> test_explained_var_uniform  </span>│<span style=\"color: #800080; text-decoration-color: #800080\">    0.023032691329717636     </span>│\n",
       "│<span style=\"color: #008080; text-decoration-color: #008080\"> test_explained_var_weighted </span>│<span style=\"color: #800080; text-decoration-color: #800080\">     0.07768109440803528     </span>│\n",
       "│<span style=\"color: #008080; text-decoration-color: #008080\">          test_loss          </span>│<span style=\"color: #800080; text-decoration-color: #800080\">       6078.5693359375       </span>│\n",
       "│<span style=\"color: #008080; text-decoration-color: #008080\">          test_mse           </span>│<span style=\"color: #800080; text-decoration-color: #800080\">     0.10364912450313568     </span>│\n",
       "└─────────────────────────────┴─────────────────────────────┘\n",
       "</pre>\n"
      ],
      "text/plain": [
       "┏━━━━━━━━━━━━━━━━━━━━━━━━━━━━━┳━━━━━━━━━━━━━━━━━━━━━━━━━━━━━┓\n",
       "┃\u001b[1m \u001b[0m\u001b[1m        Test metric        \u001b[0m\u001b[1m \u001b[0m┃\u001b[1m \u001b[0m\u001b[1m       DataLoader 0        \u001b[0m\u001b[1m \u001b[0m┃\n",
       "┡━━━━━━━━━━━━━━━━━━━━━━━━━━━━━╇━━━━━━━━━━━━━━━━━━━━━━━━━━━━━┩\n",
       "│\u001b[36m \u001b[0m\u001b[36mtest_explained_var_uniform \u001b[0m\u001b[36m \u001b[0m│\u001b[35m \u001b[0m\u001b[35m   0.023032691329717636    \u001b[0m\u001b[35m \u001b[0m│\n",
       "│\u001b[36m \u001b[0m\u001b[36mtest_explained_var_weighted\u001b[0m\u001b[36m \u001b[0m│\u001b[35m \u001b[0m\u001b[35m    0.07768109440803528    \u001b[0m\u001b[35m \u001b[0m│\n",
       "│\u001b[36m \u001b[0m\u001b[36m         test_loss         \u001b[0m\u001b[36m \u001b[0m│\u001b[35m \u001b[0m\u001b[35m      6078.5693359375      \u001b[0m\u001b[35m \u001b[0m│\n",
       "│\u001b[36m \u001b[0m\u001b[36m         test_mse          \u001b[0m\u001b[36m \u001b[0m│\u001b[35m \u001b[0m\u001b[35m    0.10364912450313568    \u001b[0m\u001b[35m \u001b[0m│\n",
       "└─────────────────────────────┴─────────────────────────────┘\n"
      ]
     },
     "metadata": {},
     "output_type": "display_data"
    },
    {
     "name": "stdout",
     "output_type": "stream",
     "text": [
      "Evaluating model:  CN_NegBin_gp_to_tfrun4\n"
     ]
    },
    {
     "name": "stderr",
     "output_type": "stream",
     "text": [
      "GPU available: True (cuda), used: True\n",
      "TPU available: False, using: 0 TPU cores\n",
      "IPU available: False, using: 0 IPUs\n",
      "HPU available: False, using: 0 HPUs\n",
      "LOCAL_RANK: 0 - CUDA_VISIBLE_DEVICES: [0]\n"
     ]
    },
    {
     "data": {
      "application/vnd.jupyter.widget-view+json": {
       "model_id": "becd8d64471f4c388e05b57f9ca103b1",
       "version_major": 2,
       "version_minor": 0
      },
      "text/plain": [
       "Testing: 0it [00:00, ?it/s]"
      ]
     },
     "metadata": {},
     "output_type": "display_data"
    },
    {
     "data": {
      "text/html": [
       "<pre style=\"white-space:pre;overflow-x:auto;line-height:normal;font-family:Menlo,'DejaVu Sans Mono',consolas,'Courier New',monospace\">┏━━━━━━━━━━━━━━━━━━━━━━━━━━━━━┳━━━━━━━━━━━━━━━━━━━━━━━━━━━━━┓\n",
       "┃<span style=\"font-weight: bold\">         Test metric         </span>┃<span style=\"font-weight: bold\">        DataLoader 0         </span>┃\n",
       "┡━━━━━━━━━━━━━━━━━━━━━━━━━━━━━╇━━━━━━━━━━━━━━━━━━━━━━━━━━━━━┩\n",
       "│<span style=\"color: #008080; text-decoration-color: #008080\"> test_explained_var_uniform  </span>│<span style=\"color: #800080; text-decoration-color: #800080\">    0.023282047361135483     </span>│\n",
       "│<span style=\"color: #008080; text-decoration-color: #008080\"> test_explained_var_weighted </span>│<span style=\"color: #800080; text-decoration-color: #800080\">     0.0778617188334465      </span>│\n",
       "│<span style=\"color: #008080; text-decoration-color: #008080\">          test_loss          </span>│<span style=\"color: #800080; text-decoration-color: #800080\">      6074.61181640625       </span>│\n",
       "│<span style=\"color: #008080; text-decoration-color: #008080\">          test_mse           </span>│<span style=\"color: #800080; text-decoration-color: #800080\">     0.10349410772323608     </span>│\n",
       "└─────────────────────────────┴─────────────────────────────┘\n",
       "</pre>\n"
      ],
      "text/plain": [
       "┏━━━━━━━━━━━━━━━━━━━━━━━━━━━━━┳━━━━━━━━━━━━━━━━━━━━━━━━━━━━━┓\n",
       "┃\u001b[1m \u001b[0m\u001b[1m        Test metric        \u001b[0m\u001b[1m \u001b[0m┃\u001b[1m \u001b[0m\u001b[1m       DataLoader 0        \u001b[0m\u001b[1m \u001b[0m┃\n",
       "┡━━━━━━━━━━━━━━━━━━━━━━━━━━━━━╇━━━━━━━━━━━━━━━━━━━━━━━━━━━━━┩\n",
       "│\u001b[36m \u001b[0m\u001b[36mtest_explained_var_uniform \u001b[0m\u001b[36m \u001b[0m│\u001b[35m \u001b[0m\u001b[35m   0.023282047361135483    \u001b[0m\u001b[35m \u001b[0m│\n",
       "│\u001b[36m \u001b[0m\u001b[36mtest_explained_var_weighted\u001b[0m\u001b[36m \u001b[0m│\u001b[35m \u001b[0m\u001b[35m    0.0778617188334465     \u001b[0m\u001b[35m \u001b[0m│\n",
       "│\u001b[36m \u001b[0m\u001b[36m         test_loss         \u001b[0m\u001b[36m \u001b[0m│\u001b[35m \u001b[0m\u001b[35m     6074.61181640625      \u001b[0m\u001b[35m \u001b[0m│\n",
       "│\u001b[36m \u001b[0m\u001b[36m         test_mse          \u001b[0m\u001b[36m \u001b[0m│\u001b[35m \u001b[0m\u001b[35m    0.10349410772323608    \u001b[0m\u001b[35m \u001b[0m│\n",
       "└─────────────────────────────┴─────────────────────────────┘\n"
      ]
     },
     "metadata": {},
     "output_type": "display_data"
    },
    {
     "name": "stdout",
     "output_type": "stream",
     "text": [
      "Evaluating model:  CN_SSL_CN_CN_NegBin_gp_to_tfrun0run0NegBin_\n"
     ]
    },
    {
     "name": "stderr",
     "output_type": "stream",
     "text": [
      "GPU available: True (cuda), used: True\n",
      "TPU available: False, using: 0 TPU cores\n",
      "IPU available: False, using: 0 IPUs\n",
      "HPU available: False, using: 0 HPUs\n",
      "LOCAL_RANK: 0 - CUDA_VISIBLE_DEVICES: [0]\n"
     ]
    },
    {
     "data": {
      "application/vnd.jupyter.widget-view+json": {
       "model_id": "0a40169160624674bcf0c22fd1598aec",
       "version_major": 2,
       "version_minor": 0
      },
      "text/plain": [
       "Testing: 0it [00:00, ?it/s]"
      ]
     },
     "metadata": {},
     "output_type": "display_data"
    },
    {
     "data": {
      "text/html": [
       "<pre style=\"white-space:pre;overflow-x:auto;line-height:normal;font-family:Menlo,'DejaVu Sans Mono',consolas,'Courier New',monospace\">┏━━━━━━━━━━━━━━━━━━━━━━━━━━━━━┳━━━━━━━━━━━━━━━━━━━━━━━━━━━━━┓\n",
       "┃<span style=\"font-weight: bold\">         Test metric         </span>┃<span style=\"font-weight: bold\">        DataLoader 0         </span>┃\n",
       "┡━━━━━━━━━━━━━━━━━━━━━━━━━━━━━╇━━━━━━━━━━━━━━━━━━━━━━━━━━━━━┩\n",
       "│<span style=\"color: #008080; text-decoration-color: #008080\"> test_explained_var_uniform  </span>│<span style=\"color: #800080; text-decoration-color: #800080\">     0.02192009799182415     </span>│\n",
       "│<span style=\"color: #008080; text-decoration-color: #008080\"> test_explained_var_weighted </span>│<span style=\"color: #800080; text-decoration-color: #800080\">     0.07412207871675491     </span>│\n",
       "│<span style=\"color: #008080; text-decoration-color: #008080\">          test_loss          </span>│<span style=\"color: #800080; text-decoration-color: #800080\">      6096.87451171875       </span>│\n",
       "│<span style=\"color: #008080; text-decoration-color: #008080\">          test_mse           </span>│<span style=\"color: #800080; text-decoration-color: #800080\">     0.10459313541650772     </span>│\n",
       "└─────────────────────────────┴─────────────────────────────┘\n",
       "</pre>\n"
      ],
      "text/plain": [
       "┏━━━━━━━━━━━━━━━━━━━━━━━━━━━━━┳━━━━━━━━━━━━━━━━━━━━━━━━━━━━━┓\n",
       "┃\u001b[1m \u001b[0m\u001b[1m        Test metric        \u001b[0m\u001b[1m \u001b[0m┃\u001b[1m \u001b[0m\u001b[1m       DataLoader 0        \u001b[0m\u001b[1m \u001b[0m┃\n",
       "┡━━━━━━━━━━━━━━━━━━━━━━━━━━━━━╇━━━━━━━━━━━━━━━━━━━━━━━━━━━━━┩\n",
       "│\u001b[36m \u001b[0m\u001b[36mtest_explained_var_uniform \u001b[0m\u001b[36m \u001b[0m│\u001b[35m \u001b[0m\u001b[35m    0.02192009799182415    \u001b[0m\u001b[35m \u001b[0m│\n",
       "│\u001b[36m \u001b[0m\u001b[36mtest_explained_var_weighted\u001b[0m\u001b[36m \u001b[0m│\u001b[35m \u001b[0m\u001b[35m    0.07412207871675491    \u001b[0m\u001b[35m \u001b[0m│\n",
       "│\u001b[36m \u001b[0m\u001b[36m         test_loss         \u001b[0m\u001b[36m \u001b[0m│\u001b[35m \u001b[0m\u001b[35m     6096.87451171875      \u001b[0m\u001b[35m \u001b[0m│\n",
       "│\u001b[36m \u001b[0m\u001b[36m         test_mse          \u001b[0m\u001b[36m \u001b[0m│\u001b[35m \u001b[0m\u001b[35m    0.10459313541650772    \u001b[0m\u001b[35m \u001b[0m│\n",
       "└─────────────────────────────┴─────────────────────────────┘\n"
      ]
     },
     "metadata": {},
     "output_type": "display_data"
    },
    {
     "name": "stdout",
     "output_type": "stream",
     "text": [
      "Evaluating model:  CN_SSL_CN_CN_NegBin_gp_to_tfrun0run1NegBin_\n"
     ]
    },
    {
     "name": "stderr",
     "output_type": "stream",
     "text": [
      "GPU available: True (cuda), used: True\n",
      "TPU available: False, using: 0 TPU cores\n",
      "IPU available: False, using: 0 IPUs\n",
      "HPU available: False, using: 0 HPUs\n",
      "LOCAL_RANK: 0 - CUDA_VISIBLE_DEVICES: [0]\n"
     ]
    },
    {
     "data": {
      "application/vnd.jupyter.widget-view+json": {
       "model_id": "3c5b5b4ef91e478ba5b70ae7690fd37b",
       "version_major": 2,
       "version_minor": 0
      },
      "text/plain": [
       "Testing: 0it [00:00, ?it/s]"
      ]
     },
     "metadata": {},
     "output_type": "display_data"
    },
    {
     "data": {
      "text/html": [
       "<pre style=\"white-space:pre;overflow-x:auto;line-height:normal;font-family:Menlo,'DejaVu Sans Mono',consolas,'Courier New',monospace\">┏━━━━━━━━━━━━━━━━━━━━━━━━━━━━━┳━━━━━━━━━━━━━━━━━━━━━━━━━━━━━┓\n",
       "┃<span style=\"font-weight: bold\">         Test metric         </span>┃<span style=\"font-weight: bold\">        DataLoader 0         </span>┃\n",
       "┡━━━━━━━━━━━━━━━━━━━━━━━━━━━━━╇━━━━━━━━━━━━━━━━━━━━━━━━━━━━━┩\n",
       "│<span style=\"color: #008080; text-decoration-color: #008080\"> test_explained_var_uniform  </span>│<span style=\"color: #800080; text-decoration-color: #800080\">     0.02194509096443653     </span>│\n",
       "│<span style=\"color: #008080; text-decoration-color: #008080\"> test_explained_var_weighted </span>│<span style=\"color: #800080; text-decoration-color: #800080\">     0.07410743087530136     </span>│\n",
       "│<span style=\"color: #008080; text-decoration-color: #008080\">          test_loss          </span>│<span style=\"color: #800080; text-decoration-color: #800080\">       6097.501953125        </span>│\n",
       "│<span style=\"color: #008080; text-decoration-color: #008080\">          test_mse           </span>│<span style=\"color: #800080; text-decoration-color: #800080\">     0.10462376475334167     </span>│\n",
       "└─────────────────────────────┴─────────────────────────────┘\n",
       "</pre>\n"
      ],
      "text/plain": [
       "┏━━━━━━━━━━━━━━━━━━━━━━━━━━━━━┳━━━━━━━━━━━━━━━━━━━━━━━━━━━━━┓\n",
       "┃\u001b[1m \u001b[0m\u001b[1m        Test metric        \u001b[0m\u001b[1m \u001b[0m┃\u001b[1m \u001b[0m\u001b[1m       DataLoader 0        \u001b[0m\u001b[1m \u001b[0m┃\n",
       "┡━━━━━━━━━━━━━━━━━━━━━━━━━━━━━╇━━━━━━━━━━━━━━━━━━━━━━━━━━━━━┩\n",
       "│\u001b[36m \u001b[0m\u001b[36mtest_explained_var_uniform \u001b[0m\u001b[36m \u001b[0m│\u001b[35m \u001b[0m\u001b[35m    0.02194509096443653    \u001b[0m\u001b[35m \u001b[0m│\n",
       "│\u001b[36m \u001b[0m\u001b[36mtest_explained_var_weighted\u001b[0m\u001b[36m \u001b[0m│\u001b[35m \u001b[0m\u001b[35m    0.07410743087530136    \u001b[0m\u001b[35m \u001b[0m│\n",
       "│\u001b[36m \u001b[0m\u001b[36m         test_loss         \u001b[0m\u001b[36m \u001b[0m│\u001b[35m \u001b[0m\u001b[35m      6097.501953125       \u001b[0m\u001b[35m \u001b[0m│\n",
       "│\u001b[36m \u001b[0m\u001b[36m         test_mse          \u001b[0m\u001b[36m \u001b[0m│\u001b[35m \u001b[0m\u001b[35m    0.10462376475334167    \u001b[0m\u001b[35m \u001b[0m│\n",
       "└─────────────────────────────┴─────────────────────────────┘\n"
      ]
     },
     "metadata": {},
     "output_type": "display_data"
    },
    {
     "name": "stdout",
     "output_type": "stream",
     "text": [
      "Evaluating model:  CN_SSL_CN_CN_NegBin_gp_to_tfrun0run2NegBin_\n"
     ]
    },
    {
     "name": "stderr",
     "output_type": "stream",
     "text": [
      "GPU available: True (cuda), used: True\n",
      "TPU available: False, using: 0 TPU cores\n",
      "IPU available: False, using: 0 IPUs\n",
      "HPU available: False, using: 0 HPUs\n",
      "LOCAL_RANK: 0 - CUDA_VISIBLE_DEVICES: [0]\n"
     ]
    },
    {
     "data": {
      "application/vnd.jupyter.widget-view+json": {
       "model_id": "52f1a25c56ac4144b9bbe7a93b0d1d3b",
       "version_major": 2,
       "version_minor": 0
      },
      "text/plain": [
       "Testing: 0it [00:00, ?it/s]"
      ]
     },
     "metadata": {},
     "output_type": "display_data"
    },
    {
     "data": {
      "text/html": [
       "<pre style=\"white-space:pre;overflow-x:auto;line-height:normal;font-family:Menlo,'DejaVu Sans Mono',consolas,'Courier New',monospace\">┏━━━━━━━━━━━━━━━━━━━━━━━━━━━━━┳━━━━━━━━━━━━━━━━━━━━━━━━━━━━━┓\n",
       "┃<span style=\"font-weight: bold\">         Test metric         </span>┃<span style=\"font-weight: bold\">        DataLoader 0         </span>┃\n",
       "┡━━━━━━━━━━━━━━━━━━━━━━━━━━━━━╇━━━━━━━━━━━━━━━━━━━━━━━━━━━━━┩\n",
       "│<span style=\"color: #008080; text-decoration-color: #008080\"> test_explained_var_uniform  </span>│<span style=\"color: #800080; text-decoration-color: #800080\">    0.022005552425980568     </span>│\n",
       "│<span style=\"color: #008080; text-decoration-color: #008080\"> test_explained_var_weighted </span>│<span style=\"color: #800080; text-decoration-color: #800080\">     0.0741671472787857      </span>│\n",
       "│<span style=\"color: #008080; text-decoration-color: #008080\">          test_loss          </span>│<span style=\"color: #800080; text-decoration-color: #800080\">       6098.185546875        </span>│\n",
       "│<span style=\"color: #008080; text-decoration-color: #008080\">          test_mse           </span>│<span style=\"color: #800080; text-decoration-color: #800080\">     0.10464631766080856     </span>│\n",
       "└─────────────────────────────┴─────────────────────────────┘\n",
       "</pre>\n"
      ],
      "text/plain": [
       "┏━━━━━━━━━━━━━━━━━━━━━━━━━━━━━┳━━━━━━━━━━━━━━━━━━━━━━━━━━━━━┓\n",
       "┃\u001b[1m \u001b[0m\u001b[1m        Test metric        \u001b[0m\u001b[1m \u001b[0m┃\u001b[1m \u001b[0m\u001b[1m       DataLoader 0        \u001b[0m\u001b[1m \u001b[0m┃\n",
       "┡━━━━━━━━━━━━━━━━━━━━━━━━━━━━━╇━━━━━━━━━━━━━━━━━━━━━━━━━━━━━┩\n",
       "│\u001b[36m \u001b[0m\u001b[36mtest_explained_var_uniform \u001b[0m\u001b[36m \u001b[0m│\u001b[35m \u001b[0m\u001b[35m   0.022005552425980568    \u001b[0m\u001b[35m \u001b[0m│\n",
       "│\u001b[36m \u001b[0m\u001b[36mtest_explained_var_weighted\u001b[0m\u001b[36m \u001b[0m│\u001b[35m \u001b[0m\u001b[35m    0.0741671472787857     \u001b[0m\u001b[35m \u001b[0m│\n",
       "│\u001b[36m \u001b[0m\u001b[36m         test_loss         \u001b[0m\u001b[36m \u001b[0m│\u001b[35m \u001b[0m\u001b[35m      6098.185546875       \u001b[0m\u001b[35m \u001b[0m│\n",
       "│\u001b[36m \u001b[0m\u001b[36m         test_mse          \u001b[0m\u001b[36m \u001b[0m│\u001b[35m \u001b[0m\u001b[35m    0.10464631766080856    \u001b[0m\u001b[35m \u001b[0m│\n",
       "└─────────────────────────────┴─────────────────────────────┘\n"
      ]
     },
     "metadata": {},
     "output_type": "display_data"
    },
    {
     "name": "stdout",
     "output_type": "stream",
     "text": [
      "Evaluating model:  CN_SSL_CN_CN_NegBin_gp_to_tfrun0run3NegBin_\n"
     ]
    },
    {
     "name": "stderr",
     "output_type": "stream",
     "text": [
      "GPU available: True (cuda), used: True\n",
      "TPU available: False, using: 0 TPU cores\n",
      "IPU available: False, using: 0 IPUs\n",
      "HPU available: False, using: 0 HPUs\n",
      "LOCAL_RANK: 0 - CUDA_VISIBLE_DEVICES: [0]\n"
     ]
    },
    {
     "data": {
      "application/vnd.jupyter.widget-view+json": {
       "model_id": "42572d8f57054106b4e9f68893a5d51a",
       "version_major": 2,
       "version_minor": 0
      },
      "text/plain": [
       "Testing: 0it [00:00, ?it/s]"
      ]
     },
     "metadata": {},
     "output_type": "display_data"
    },
    {
     "data": {
      "text/html": [
       "<pre style=\"white-space:pre;overflow-x:auto;line-height:normal;font-family:Menlo,'DejaVu Sans Mono',consolas,'Courier New',monospace\">┏━━━━━━━━━━━━━━━━━━━━━━━━━━━━━┳━━━━━━━━━━━━━━━━━━━━━━━━━━━━━┓\n",
       "┃<span style=\"font-weight: bold\">         Test metric         </span>┃<span style=\"font-weight: bold\">        DataLoader 0         </span>┃\n",
       "┡━━━━━━━━━━━━━━━━━━━━━━━━━━━━━╇━━━━━━━━━━━━━━━━━━━━━━━━━━━━━┩\n",
       "│<span style=\"color: #008080; text-decoration-color: #008080\"> test_explained_var_uniform  </span>│<span style=\"color: #800080; text-decoration-color: #800080\">    0.022021697834134102     </span>│\n",
       "│<span style=\"color: #008080; text-decoration-color: #008080\"> test_explained_var_weighted </span>│<span style=\"color: #800080; text-decoration-color: #800080\">     0.07405642420053482     </span>│\n",
       "│<span style=\"color: #008080; text-decoration-color: #008080\">          test_loss          </span>│<span style=\"color: #800080; text-decoration-color: #800080\">      6097.37353515625       </span>│\n",
       "│<span style=\"color: #008080; text-decoration-color: #008080\">          test_mse           </span>│<span style=\"color: #800080; text-decoration-color: #800080\">     0.10460340976715088     </span>│\n",
       "└─────────────────────────────┴─────────────────────────────┘\n",
       "</pre>\n"
      ],
      "text/plain": [
       "┏━━━━━━━━━━━━━━━━━━━━━━━━━━━━━┳━━━━━━━━━━━━━━━━━━━━━━━━━━━━━┓\n",
       "┃\u001b[1m \u001b[0m\u001b[1m        Test metric        \u001b[0m\u001b[1m \u001b[0m┃\u001b[1m \u001b[0m\u001b[1m       DataLoader 0        \u001b[0m\u001b[1m \u001b[0m┃\n",
       "┡━━━━━━━━━━━━━━━━━━━━━━━━━━━━━╇━━━━━━━━━━━━━━━━━━━━━━━━━━━━━┩\n",
       "│\u001b[36m \u001b[0m\u001b[36mtest_explained_var_uniform \u001b[0m\u001b[36m \u001b[0m│\u001b[35m \u001b[0m\u001b[35m   0.022021697834134102    \u001b[0m\u001b[35m \u001b[0m│\n",
       "│\u001b[36m \u001b[0m\u001b[36mtest_explained_var_weighted\u001b[0m\u001b[36m \u001b[0m│\u001b[35m \u001b[0m\u001b[35m    0.07405642420053482    \u001b[0m\u001b[35m \u001b[0m│\n",
       "│\u001b[36m \u001b[0m\u001b[36m         test_loss         \u001b[0m\u001b[36m \u001b[0m│\u001b[35m \u001b[0m\u001b[35m     6097.37353515625      \u001b[0m\u001b[35m \u001b[0m│\n",
       "│\u001b[36m \u001b[0m\u001b[36m         test_mse          \u001b[0m\u001b[36m \u001b[0m│\u001b[35m \u001b[0m\u001b[35m    0.10460340976715088    \u001b[0m\u001b[35m \u001b[0m│\n",
       "└─────────────────────────────┴─────────────────────────────┘\n"
      ]
     },
     "metadata": {},
     "output_type": "display_data"
    },
    {
     "name": "stderr",
     "output_type": "stream",
     "text": [
      "GPU available: True (cuda), used: True\n",
      "TPU available: False, using: 0 TPU cores\n",
      "IPU available: False, using: 0 IPUs\n",
      "HPU available: False, using: 0 HPUs\n",
      "LOCAL_RANK: 0 - CUDA_VISIBLE_DEVICES: [0]\n"
     ]
    },
    {
     "data": {
      "application/vnd.jupyter.widget-view+json": {
       "model_id": "6c4a01b9e3814160ad5812580c6faf32",
       "version_major": 2,
       "version_minor": 0
      },
      "text/plain": [
       "Testing: 0it [00:00, ?it/s]"
      ]
     },
     "metadata": {},
     "output_type": "display_data"
    },
    {
     "data": {
      "text/html": [
       "<pre style=\"white-space:pre;overflow-x:auto;line-height:normal;font-family:Menlo,'DejaVu Sans Mono',consolas,'Courier New',monospace\">┏━━━━━━━━━━━━━━━━━━━━━━━━━━━━━┳━━━━━━━━━━━━━━━━━━━━━━━━━━━━━┓\n",
       "┃<span style=\"font-weight: bold\">         Test metric         </span>┃<span style=\"font-weight: bold\">        DataLoader 0         </span>┃\n",
       "┡━━━━━━━━━━━━━━━━━━━━━━━━━━━━━╇━━━━━━━━━━━━━━━━━━━━━━━━━━━━━┩\n",
       "│<span style=\"color: #008080; text-decoration-color: #008080\"> test_explained_var_uniform  </span>│<span style=\"color: #800080; text-decoration-color: #800080\">    -0.003548241686075926    </span>│\n",
       "│<span style=\"color: #008080; text-decoration-color: #008080\"> test_explained_var_weighted </span>│<span style=\"color: #800080; text-decoration-color: #800080\">   -8.459998934995383e-05    </span>│\n",
       "│<span style=\"color: #008080; text-decoration-color: #008080\">          test_loss          </span>│<span style=\"color: #800080; text-decoration-color: #800080\">      0.340019166469574      </span>│\n",
       "│<span style=\"color: #008080; text-decoration-color: #008080\">          test_mse           </span>│<span style=\"color: #800080; text-decoration-color: #800080\">      0.340019166469574      </span>│\n",
       "└─────────────────────────────┴─────────────────────────────┘\n",
       "</pre>\n"
      ],
      "text/plain": [
       "┏━━━━━━━━━━━━━━━━━━━━━━━━━━━━━┳━━━━━━━━━━━━━━━━━━━━━━━━━━━━━┓\n",
       "┃\u001b[1m \u001b[0m\u001b[1m        Test metric        \u001b[0m\u001b[1m \u001b[0m┃\u001b[1m \u001b[0m\u001b[1m       DataLoader 0        \u001b[0m\u001b[1m \u001b[0m┃\n",
       "┡━━━━━━━━━━━━━━━━━━━━━━━━━━━━━╇━━━━━━━━━━━━━━━━━━━━━━━━━━━━━┩\n",
       "│\u001b[36m \u001b[0m\u001b[36mtest_explained_var_uniform \u001b[0m\u001b[36m \u001b[0m│\u001b[35m \u001b[0m\u001b[35m   -0.003548241686075926   \u001b[0m\u001b[35m \u001b[0m│\n",
       "│\u001b[36m \u001b[0m\u001b[36mtest_explained_var_weighted\u001b[0m\u001b[36m \u001b[0m│\u001b[35m \u001b[0m\u001b[35m  -8.459998934995383e-05   \u001b[0m\u001b[35m \u001b[0m│\n",
       "│\u001b[36m \u001b[0m\u001b[36m         test_loss         \u001b[0m\u001b[36m \u001b[0m│\u001b[35m \u001b[0m\u001b[35m     0.340019166469574     \u001b[0m\u001b[35m \u001b[0m│\n",
       "│\u001b[36m \u001b[0m\u001b[36m         test_mse          \u001b[0m\u001b[36m \u001b[0m│\u001b[35m \u001b[0m\u001b[35m     0.340019166469574     \u001b[0m\u001b[35m \u001b[0m│\n",
       "└─────────────────────────────┴─────────────────────────────┘\n"
      ]
     },
     "metadata": {},
     "output_type": "display_data"
    }
   ],
   "source": [
    "test_models_on_ood(estim, ood_set=ood_set, model_dirs=model_dirs)"
   ]
  },
  {
   "cell_type": "markdown",
   "id": "92a8d12d-5c43-49fe-a57f-310f1fa0a711",
   "metadata": {},
   "source": [
    "**All non-neuronal cells**\n",
    "\n",
    "- 888,263 cells\n",
    "- 10x 3' v3\n",
    "- Bergmann glial cell (8041), astrocyte (155025), central nervous system macrophage (91383), ~~choroid plexus epithelial cell (7689)~~, endothelial cell (5165), ependymal cell (5882), ~~fibroblast (9156)~~, oligodendrocyte (494966), oligodendrocyte precursor cell (105734), pericyte (3693), vascular associated smooth muscle cell (1074)"
   ]
  },
  {
   "cell_type": "code",
   "execution_count": 10,
   "id": "6157a4f3-dc17-419e-be28-1acaf2d0689b",
   "metadata": {},
   "outputs": [],
   "source": [
    "ood_set = 'non_neuronal'"
   ]
  },
  {
   "cell_type": "code",
   "execution_count": null,
   "id": "5e3aadc4-5ec3-4c60-b3a1-cabf6e303026",
   "metadata": {
    "scrolled": true,
    "tags": []
   },
   "outputs": [
    {
     "name": "stdout",
     "output_type": "stream",
     "text": [
      "Evaluating model:  CN_No_SSL_CN_run0NegBin_\n"
     ]
    },
    {
     "name": "stderr",
     "output_type": "stream",
     "text": [
      "GPU available: True (cuda), used: True\n",
      "TPU available: False, using: 0 TPU cores\n",
      "IPU available: False, using: 0 IPUs\n",
      "HPU available: False, using: 0 HPUs\n",
      "LOCAL_RANK: 0 - CUDA_VISIBLE_DEVICES: [0]\n"
     ]
    },
    {
     "data": {
      "application/vnd.jupyter.widget-view+json": {
       "model_id": "2273248fdfab4797ad687bbbe02a1577",
       "version_major": 2,
       "version_minor": 0
      },
      "text/plain": [
       "Testing: 0it [00:00, ?it/s]"
      ]
     },
     "metadata": {},
     "output_type": "display_data"
    },
    {
     "data": {
      "text/html": [
       "<pre style=\"white-space:pre;overflow-x:auto;line-height:normal;font-family:Menlo,'DejaVu Sans Mono',consolas,'Courier New',monospace\">┏━━━━━━━━━━━━━━━━━━━━━━━━━━━━━┳━━━━━━━━━━━━━━━━━━━━━━━━━━━━━┓\n",
       "┃<span style=\"font-weight: bold\">         Test metric         </span>┃<span style=\"font-weight: bold\">        DataLoader 0         </span>┃\n",
       "┡━━━━━━━━━━━━━━━━━━━━━━━━━━━━━╇━━━━━━━━━━━━━━━━━━━━━━━━━━━━━┩\n",
       "│<span style=\"color: #008080; text-decoration-color: #008080\"> test_explained_var_uniform  </span>│<span style=\"color: #800080; text-decoration-color: #800080\">    0.012459386140108109     </span>│\n",
       "│<span style=\"color: #008080; text-decoration-color: #008080\"> test_explained_var_weighted </span>│<span style=\"color: #800080; text-decoration-color: #800080\">    0.039653677493333817     </span>│\n",
       "│<span style=\"color: #008080; text-decoration-color: #008080\">          test_loss          </span>│<span style=\"color: #800080; text-decoration-color: #800080\">       5715.9228515625       </span>│\n",
       "│<span style=\"color: #008080; text-decoration-color: #008080\">          test_mse           </span>│<span style=\"color: #800080; text-decoration-color: #800080\">     0.14177198708057404     </span>│\n",
       "└─────────────────────────────┴─────────────────────────────┘\n",
       "</pre>\n"
      ],
      "text/plain": [
       "┏━━━━━━━━━━━━━━━━━━━━━━━━━━━━━┳━━━━━━━━━━━━━━━━━━━━━━━━━━━━━┓\n",
       "┃\u001b[1m \u001b[0m\u001b[1m        Test metric        \u001b[0m\u001b[1m \u001b[0m┃\u001b[1m \u001b[0m\u001b[1m       DataLoader 0        \u001b[0m\u001b[1m \u001b[0m┃\n",
       "┡━━━━━━━━━━━━━━━━━━━━━━━━━━━━━╇━━━━━━━━━━━━━━━━━━━━━━━━━━━━━┩\n",
       "│\u001b[36m \u001b[0m\u001b[36mtest_explained_var_uniform \u001b[0m\u001b[36m \u001b[0m│\u001b[35m \u001b[0m\u001b[35m   0.012459386140108109    \u001b[0m\u001b[35m \u001b[0m│\n",
       "│\u001b[36m \u001b[0m\u001b[36mtest_explained_var_weighted\u001b[0m\u001b[36m \u001b[0m│\u001b[35m \u001b[0m\u001b[35m   0.039653677493333817    \u001b[0m\u001b[35m \u001b[0m│\n",
       "│\u001b[36m \u001b[0m\u001b[36m         test_loss         \u001b[0m\u001b[36m \u001b[0m│\u001b[35m \u001b[0m\u001b[35m      5715.9228515625      \u001b[0m\u001b[35m \u001b[0m│\n",
       "│\u001b[36m \u001b[0m\u001b[36m         test_mse          \u001b[0m\u001b[36m \u001b[0m│\u001b[35m \u001b[0m\u001b[35m    0.14177198708057404    \u001b[0m\u001b[35m \u001b[0m│\n",
       "└─────────────────────────────┴─────────────────────────────┘\n"
      ]
     },
     "metadata": {},
     "output_type": "display_data"
    },
    {
     "name": "stdout",
     "output_type": "stream",
     "text": [
      "Evaluating model:  CN_No_SSL_CN_run1NegBin_\n"
     ]
    },
    {
     "name": "stderr",
     "output_type": "stream",
     "text": [
      "GPU available: True (cuda), used: True\n",
      "TPU available: False, using: 0 TPU cores\n",
      "IPU available: False, using: 0 IPUs\n",
      "HPU available: False, using: 0 HPUs\n",
      "LOCAL_RANK: 0 - CUDA_VISIBLE_DEVICES: [0]\n"
     ]
    },
    {
     "data": {
      "application/vnd.jupyter.widget-view+json": {
       "model_id": "36aa45e5a8134cdf8fc08a189ae1b0d5",
       "version_major": 2,
       "version_minor": 0
      },
      "text/plain": [
       "Testing: 0it [00:00, ?it/s]"
      ]
     },
     "metadata": {},
     "output_type": "display_data"
    },
    {
     "data": {
      "text/html": [
       "<pre style=\"white-space:pre;overflow-x:auto;line-height:normal;font-family:Menlo,'DejaVu Sans Mono',consolas,'Courier New',monospace\">┏━━━━━━━━━━━━━━━━━━━━━━━━━━━━━┳━━━━━━━━━━━━━━━━━━━━━━━━━━━━━┓\n",
       "┃<span style=\"font-weight: bold\">         Test metric         </span>┃<span style=\"font-weight: bold\">        DataLoader 0         </span>┃\n",
       "┡━━━━━━━━━━━━━━━━━━━━━━━━━━━━━╇━━━━━━━━━━━━━━━━━━━━━━━━━━━━━┩\n",
       "│<span style=\"color: #008080; text-decoration-color: #008080\"> test_explained_var_uniform  </span>│<span style=\"color: #800080; text-decoration-color: #800080\">    0.012308231554925442     </span>│\n",
       "│<span style=\"color: #008080; text-decoration-color: #008080\"> test_explained_var_weighted </span>│<span style=\"color: #800080; text-decoration-color: #800080\">     0.03924509137868881     </span>│\n",
       "│<span style=\"color: #008080; text-decoration-color: #008080\">          test_loss          </span>│<span style=\"color: #800080; text-decoration-color: #800080\">      5718.60595703125       </span>│\n",
       "│<span style=\"color: #008080; text-decoration-color: #008080\">          test_mse           </span>│<span style=\"color: #800080; text-decoration-color: #800080\">     0.14185084402561188     </span>│\n",
       "└─────────────────────────────┴─────────────────────────────┘\n",
       "</pre>\n"
      ],
      "text/plain": [
       "┏━━━━━━━━━━━━━━━━━━━━━━━━━━━━━┳━━━━━━━━━━━━━━━━━━━━━━━━━━━━━┓\n",
       "┃\u001b[1m \u001b[0m\u001b[1m        Test metric        \u001b[0m\u001b[1m \u001b[0m┃\u001b[1m \u001b[0m\u001b[1m       DataLoader 0        \u001b[0m\u001b[1m \u001b[0m┃\n",
       "┡━━━━━━━━━━━━━━━━━━━━━━━━━━━━━╇━━━━━━━━━━━━━━━━━━━━━━━━━━━━━┩\n",
       "│\u001b[36m \u001b[0m\u001b[36mtest_explained_var_uniform \u001b[0m\u001b[36m \u001b[0m│\u001b[35m \u001b[0m\u001b[35m   0.012308231554925442    \u001b[0m\u001b[35m \u001b[0m│\n",
       "│\u001b[36m \u001b[0m\u001b[36mtest_explained_var_weighted\u001b[0m\u001b[36m \u001b[0m│\u001b[35m \u001b[0m\u001b[35m    0.03924509137868881    \u001b[0m\u001b[35m \u001b[0m│\n",
       "│\u001b[36m \u001b[0m\u001b[36m         test_loss         \u001b[0m\u001b[36m \u001b[0m│\u001b[35m \u001b[0m\u001b[35m     5718.60595703125      \u001b[0m\u001b[35m \u001b[0m│\n",
       "│\u001b[36m \u001b[0m\u001b[36m         test_mse          \u001b[0m\u001b[36m \u001b[0m│\u001b[35m \u001b[0m\u001b[35m    0.14185084402561188    \u001b[0m\u001b[35m \u001b[0m│\n",
       "└─────────────────────────────┴─────────────────────────────┘\n"
      ]
     },
     "metadata": {},
     "output_type": "display_data"
    },
    {
     "name": "stdout",
     "output_type": "stream",
     "text": [
      "Evaluating model:  CN_No_SSL_CN_run2NegBin_\n"
     ]
    },
    {
     "name": "stderr",
     "output_type": "stream",
     "text": [
      "GPU available: True (cuda), used: True\n",
      "TPU available: False, using: 0 TPU cores\n",
      "IPU available: False, using: 0 IPUs\n",
      "HPU available: False, using: 0 HPUs\n",
      "LOCAL_RANK: 0 - CUDA_VISIBLE_DEVICES: [0]\n"
     ]
    },
    {
     "data": {
      "application/vnd.jupyter.widget-view+json": {
       "model_id": "3e8b361f8f634cc68d75e6791add7755",
       "version_major": 2,
       "version_minor": 0
      },
      "text/plain": [
       "Testing: 0it [00:00, ?it/s]"
      ]
     },
     "metadata": {},
     "output_type": "display_data"
    },
    {
     "name": "stderr",
     "output_type": "stream",
     "text": [
      "IOPub message rate exceeded.\n",
      "The Jupyter server will temporarily stop sending output\n",
      "to the client in order to avoid crashing it.\n",
      "To change this limit, set the config variable\n",
      "`--ServerApp.iopub_msg_rate_limit`.\n",
      "\n",
      "Current values:\n",
      "ServerApp.iopub_msg_rate_limit=1000.0 (msgs/sec)\n",
      "ServerApp.rate_limit_window=3.0 (secs)\n",
      "\n"
     ]
    },
    {
     "data": {
      "text/html": [
       "<pre style=\"white-space:pre;overflow-x:auto;line-height:normal;font-family:Menlo,'DejaVu Sans Mono',consolas,'Courier New',monospace\">┏━━━━━━━━━━━━━━━━━━━━━━━━━━━━━┳━━━━━━━━━━━━━━━━━━━━━━━━━━━━━┓\n",
       "┃<span style=\"font-weight: bold\">         Test metric         </span>┃<span style=\"font-weight: bold\">        DataLoader 0         </span>┃\n",
       "┡━━━━━━━━━━━━━━━━━━━━━━━━━━━━━╇━━━━━━━━━━━━━━━━━━━━━━━━━━━━━┩\n",
       "│<span style=\"color: #008080; text-decoration-color: #008080\"> test_explained_var_uniform  </span>│<span style=\"color: #800080; text-decoration-color: #800080\">     0.01220107451081276     </span>│\n",
       "│<span style=\"color: #008080; text-decoration-color: #008080\"> test_explained_var_weighted </span>│<span style=\"color: #800080; text-decoration-color: #800080\">     0.03900837525725365     </span>│\n",
       "│<span style=\"color: #008080; text-decoration-color: #008080\">          test_loss          </span>│<span style=\"color: #800080; text-decoration-color: #800080\">      5721.28076171875       </span>│\n",
       "│<span style=\"color: #008080; text-decoration-color: #008080\">          test_mse           </span>│<span style=\"color: #800080; text-decoration-color: #800080\">     0.14199067652225494     </span>│\n",
       "└─────────────────────────────┴─────────────────────────────┘\n",
       "</pre>\n"
      ],
      "text/plain": [
       "┏━━━━━━━━━━━━━━━━━━━━━━━━━━━━━┳━━━━━━━━━━━━━━━━━━━━━━━━━━━━━┓\n",
       "┃\u001b[1m \u001b[0m\u001b[1m        Test metric        \u001b[0m\u001b[1m \u001b[0m┃\u001b[1m \u001b[0m\u001b[1m       DataLoader 0        \u001b[0m\u001b[1m \u001b[0m┃\n",
       "┡━━━━━━━━━━━━━━━━━━━━━━━━━━━━━╇━━━━━━━━━━━━━━━━━━━━━━━━━━━━━┩\n",
       "│\u001b[36m \u001b[0m\u001b[36mtest_explained_var_uniform \u001b[0m\u001b[36m \u001b[0m│\u001b[35m \u001b[0m\u001b[35m    0.01220107451081276    \u001b[0m\u001b[35m \u001b[0m│\n",
       "│\u001b[36m \u001b[0m\u001b[36mtest_explained_var_weighted\u001b[0m\u001b[36m \u001b[0m│\u001b[35m \u001b[0m\u001b[35m    0.03900837525725365    \u001b[0m\u001b[35m \u001b[0m│\n",
       "│\u001b[36m \u001b[0m\u001b[36m         test_loss         \u001b[0m\u001b[36m \u001b[0m│\u001b[35m \u001b[0m\u001b[35m     5721.28076171875      \u001b[0m\u001b[35m \u001b[0m│\n",
       "│\u001b[36m \u001b[0m\u001b[36m         test_mse          \u001b[0m\u001b[36m \u001b[0m│\u001b[35m \u001b[0m\u001b[35m    0.14199067652225494    \u001b[0m\u001b[35m \u001b[0m│\n",
       "└─────────────────────────────┴─────────────────────────────┘\n"
      ]
     },
     "metadata": {},
     "output_type": "display_data"
    },
    {
     "name": "stdout",
     "output_type": "stream",
     "text": [
      "Evaluating model:  CN_NegBin_gp_to_tfrun0\n"
     ]
    },
    {
     "name": "stderr",
     "output_type": "stream",
     "text": [
      "GPU available: True (cuda), used: True\n",
      "TPU available: False, using: 0 TPU cores\n",
      "IPU available: False, using: 0 IPUs\n",
      "HPU available: False, using: 0 HPUs\n",
      "LOCAL_RANK: 0 - CUDA_VISIBLE_DEVICES: [0]\n"
     ]
    },
    {
     "data": {
      "application/vnd.jupyter.widget-view+json": {
       "model_id": "e075727620924dd082e4c39589215a57",
       "version_major": 2,
       "version_minor": 0
      },
      "text/plain": [
       "Testing: 0it [00:00, ?it/s]"
      ]
     },
     "metadata": {},
     "output_type": "display_data"
    },
    {
     "data": {
      "text/html": [
       "<pre style=\"white-space:pre;overflow-x:auto;line-height:normal;font-family:Menlo,'DejaVu Sans Mono',consolas,'Courier New',monospace\">┏━━━━━━━━━━━━━━━━━━━━━━━━━━━━━┳━━━━━━━━━━━━━━━━━━━━━━━━━━━━━┓\n",
       "┃<span style=\"font-weight: bold\">         Test metric         </span>┃<span style=\"font-weight: bold\">        DataLoader 0         </span>┃\n",
       "┡━━━━━━━━━━━━━━━━━━━━━━━━━━━━━╇━━━━━━━━━━━━━━━━━━━━━━━━━━━━━┩\n",
       "│<span style=\"color: #008080; text-decoration-color: #008080\"> test_explained_var_uniform  </span>│<span style=\"color: #800080; text-decoration-color: #800080\">     0.01372627541422844     </span>│\n",
       "│<span style=\"color: #008080; text-decoration-color: #008080\"> test_explained_var_weighted </span>│<span style=\"color: #800080; text-decoration-color: #800080\">     0.04299752414226532     </span>│\n",
       "│<span style=\"color: #008080; text-decoration-color: #008080\">          test_loss          </span>│<span style=\"color: #800080; text-decoration-color: #800080\">      5697.85400390625       </span>│\n",
       "│<span style=\"color: #008080; text-decoration-color: #008080\">          test_mse           </span>│<span style=\"color: #800080; text-decoration-color: #800080\">     0.1410118192434311      </span>│\n",
       "└─────────────────────────────┴─────────────────────────────┘\n",
       "</pre>\n"
      ],
      "text/plain": [
       "┏━━━━━━━━━━━━━━━━━━━━━━━━━━━━━┳━━━━━━━━━━━━━━━━━━━━━━━━━━━━━┓\n",
       "┃\u001b[1m \u001b[0m\u001b[1m        Test metric        \u001b[0m\u001b[1m \u001b[0m┃\u001b[1m \u001b[0m\u001b[1m       DataLoader 0        \u001b[0m\u001b[1m \u001b[0m┃\n",
       "┡━━━━━━━━━━━━━━━━━━━━━━━━━━━━━╇━━━━━━━━━━━━━━━━━━━━━━━━━━━━━┩\n",
       "│\u001b[36m \u001b[0m\u001b[36mtest_explained_var_uniform \u001b[0m\u001b[36m \u001b[0m│\u001b[35m \u001b[0m\u001b[35m    0.01372627541422844    \u001b[0m\u001b[35m \u001b[0m│\n",
       "│\u001b[36m \u001b[0m\u001b[36mtest_explained_var_weighted\u001b[0m\u001b[36m \u001b[0m│\u001b[35m \u001b[0m\u001b[35m    0.04299752414226532    \u001b[0m\u001b[35m \u001b[0m│\n",
       "│\u001b[36m \u001b[0m\u001b[36m         test_loss         \u001b[0m\u001b[36m \u001b[0m│\u001b[35m \u001b[0m\u001b[35m     5697.85400390625      \u001b[0m\u001b[35m \u001b[0m│\n",
       "│\u001b[36m \u001b[0m\u001b[36m         test_mse          \u001b[0m\u001b[36m \u001b[0m│\u001b[35m \u001b[0m\u001b[35m    0.1410118192434311     \u001b[0m\u001b[35m \u001b[0m│\n",
       "└─────────────────────────────┴─────────────────────────────┘\n"
      ]
     },
     "metadata": {},
     "output_type": "display_data"
    },
    {
     "name": "stdout",
     "output_type": "stream",
     "text": [
      "Evaluating model:  CN_NegBin_gp_to_tfrun1\n"
     ]
    },
    {
     "name": "stderr",
     "output_type": "stream",
     "text": [
      "GPU available: True (cuda), used: True\n",
      "TPU available: False, using: 0 TPU cores\n",
      "IPU available: False, using: 0 IPUs\n",
      "HPU available: False, using: 0 HPUs\n",
      "LOCAL_RANK: 0 - CUDA_VISIBLE_DEVICES: [0]\n"
     ]
    },
    {
     "data": {
      "application/vnd.jupyter.widget-view+json": {
       "model_id": "a3b526545d0e4d5abc5ccad2c123abe2",
       "version_major": 2,
       "version_minor": 0
      },
      "text/plain": [
       "Testing: 0it [00:00, ?it/s]"
      ]
     },
     "metadata": {},
     "output_type": "display_data"
    },
    {
     "name": "stderr",
     "output_type": "stream",
     "text": [
      "IOPub message rate exceeded.\n",
      "The Jupyter server will temporarily stop sending output\n",
      "to the client in order to avoid crashing it.\n",
      "To change this limit, set the config variable\n",
      "`--ServerApp.iopub_msg_rate_limit`.\n",
      "\n",
      "Current values:\n",
      "ServerApp.iopub_msg_rate_limit=1000.0 (msgs/sec)\n",
      "ServerApp.rate_limit_window=3.0 (secs)\n",
      "\n"
     ]
    },
    {
     "data": {
      "text/html": [
       "<pre style=\"white-space:pre;overflow-x:auto;line-height:normal;font-family:Menlo,'DejaVu Sans Mono',consolas,'Courier New',monospace\">┏━━━━━━━━━━━━━━━━━━━━━━━━━━━━━┳━━━━━━━━━━━━━━━━━━━━━━━━━━━━━┓\n",
       "┃<span style=\"font-weight: bold\">         Test metric         </span>┃<span style=\"font-weight: bold\">        DataLoader 0         </span>┃\n",
       "┡━━━━━━━━━━━━━━━━━━━━━━━━━━━━━╇━━━━━━━━━━━━━━━━━━━━━━━━━━━━━┩\n",
       "│<span style=\"color: #008080; text-decoration-color: #008080\"> test_explained_var_uniform  </span>│<span style=\"color: #800080; text-decoration-color: #800080\">     0.01374316681176424     </span>│\n",
       "│<span style=\"color: #008080; text-decoration-color: #008080\"> test_explained_var_weighted </span>│<span style=\"color: #800080; text-decoration-color: #800080\">     0.04305959865450859     </span>│\n",
       "│<span style=\"color: #008080; text-decoration-color: #008080\">          test_loss          </span>│<span style=\"color: #800080; text-decoration-color: #800080\">      5698.15576171875       </span>│\n",
       "│<span style=\"color: #008080; text-decoration-color: #008080\">          test_mse           </span>│<span style=\"color: #800080; text-decoration-color: #800080\">     0.14102661609649658     </span>│\n",
       "└─────────────────────────────┴─────────────────────────────┘\n",
       "</pre>\n"
      ],
      "text/plain": [
       "┏━━━━━━━━━━━━━━━━━━━━━━━━━━━━━┳━━━━━━━━━━━━━━━━━━━━━━━━━━━━━┓\n",
       "┃\u001b[1m \u001b[0m\u001b[1m        Test metric        \u001b[0m\u001b[1m \u001b[0m┃\u001b[1m \u001b[0m\u001b[1m       DataLoader 0        \u001b[0m\u001b[1m \u001b[0m┃\n",
       "┡━━━━━━━━━━━━━━━━━━━━━━━━━━━━━╇━━━━━━━━━━━━━━━━━━━━━━━━━━━━━┩\n",
       "│\u001b[36m \u001b[0m\u001b[36mtest_explained_var_uniform \u001b[0m\u001b[36m \u001b[0m│\u001b[35m \u001b[0m\u001b[35m    0.01374316681176424    \u001b[0m\u001b[35m \u001b[0m│\n",
       "│\u001b[36m \u001b[0m\u001b[36mtest_explained_var_weighted\u001b[0m\u001b[36m \u001b[0m│\u001b[35m \u001b[0m\u001b[35m    0.04305959865450859    \u001b[0m\u001b[35m \u001b[0m│\n",
       "│\u001b[36m \u001b[0m\u001b[36m         test_loss         \u001b[0m\u001b[36m \u001b[0m│\u001b[35m \u001b[0m\u001b[35m     5698.15576171875      \u001b[0m\u001b[35m \u001b[0m│\n",
       "│\u001b[36m \u001b[0m\u001b[36m         test_mse          \u001b[0m\u001b[36m \u001b[0m│\u001b[35m \u001b[0m\u001b[35m    0.14102661609649658    \u001b[0m\u001b[35m \u001b[0m│\n",
       "└─────────────────────────────┴─────────────────────────────┘\n"
      ]
     },
     "metadata": {},
     "output_type": "display_data"
    },
    {
     "name": "stdout",
     "output_type": "stream",
     "text": [
      "Evaluating model:  CN_NegBin_gp_to_tfrun4\n"
     ]
    },
    {
     "name": "stderr",
     "output_type": "stream",
     "text": [
      "GPU available: True (cuda), used: True\n",
      "TPU available: False, using: 0 TPU cores\n",
      "IPU available: False, using: 0 IPUs\n",
      "HPU available: False, using: 0 HPUs\n",
      "LOCAL_RANK: 0 - CUDA_VISIBLE_DEVICES: [0]\n"
     ]
    },
    {
     "data": {
      "application/vnd.jupyter.widget-view+json": {
       "model_id": "d1e3926fd9c9409e878f244f1507ffb9",
       "version_major": 2,
       "version_minor": 0
      },
      "text/plain": [
       "Testing: 0it [00:00, ?it/s]"
      ]
     },
     "metadata": {},
     "output_type": "display_data"
    },
    {
     "data": {
      "text/html": [
       "<pre style=\"white-space:pre;overflow-x:auto;line-height:normal;font-family:Menlo,'DejaVu Sans Mono',consolas,'Courier New',monospace\">┏━━━━━━━━━━━━━━━━━━━━━━━━━━━━━┳━━━━━━━━━━━━━━━━━━━━━━━━━━━━━┓\n",
       "┃<span style=\"font-weight: bold\">         Test metric         </span>┃<span style=\"font-weight: bold\">        DataLoader 0         </span>┃\n",
       "┡━━━━━━━━━━━━━━━━━━━━━━━━━━━━━╇━━━━━━━━━━━━━━━━━━━━━━━━━━━━━┩\n",
       "│<span style=\"color: #008080; text-decoration-color: #008080\"> test_explained_var_uniform  </span>│<span style=\"color: #800080; text-decoration-color: #800080\">     0.01381248701363802     </span>│\n",
       "│<span style=\"color: #008080; text-decoration-color: #008080\"> test_explained_var_weighted </span>│<span style=\"color: #800080; text-decoration-color: #800080\">     0.04324627295136452     </span>│\n",
       "│<span style=\"color: #008080; text-decoration-color: #008080\">          test_loss          </span>│<span style=\"color: #800080; text-decoration-color: #800080\">       5696.8310546875       </span>│\n",
       "│<span style=\"color: #008080; text-decoration-color: #008080\">          test_mse           </span>│<span style=\"color: #800080; text-decoration-color: #800080\">     0.14096882939338684     </span>│\n",
       "└─────────────────────────────┴─────────────────────────────┘\n",
       "</pre>\n"
      ],
      "text/plain": [
       "┏━━━━━━━━━━━━━━━━━━━━━━━━━━━━━┳━━━━━━━━━━━━━━━━━━━━━━━━━━━━━┓\n",
       "┃\u001b[1m \u001b[0m\u001b[1m        Test metric        \u001b[0m\u001b[1m \u001b[0m┃\u001b[1m \u001b[0m\u001b[1m       DataLoader 0        \u001b[0m\u001b[1m \u001b[0m┃\n",
       "┡━━━━━━━━━━━━━━━━━━━━━━━━━━━━━╇━━━━━━━━━━━━━━━━━━━━━━━━━━━━━┩\n",
       "│\u001b[36m \u001b[0m\u001b[36mtest_explained_var_uniform \u001b[0m\u001b[36m \u001b[0m│\u001b[35m \u001b[0m\u001b[35m    0.01381248701363802    \u001b[0m\u001b[35m \u001b[0m│\n",
       "│\u001b[36m \u001b[0m\u001b[36mtest_explained_var_weighted\u001b[0m\u001b[36m \u001b[0m│\u001b[35m \u001b[0m\u001b[35m    0.04324627295136452    \u001b[0m\u001b[35m \u001b[0m│\n",
       "│\u001b[36m \u001b[0m\u001b[36m         test_loss         \u001b[0m\u001b[36m \u001b[0m│\u001b[35m \u001b[0m\u001b[35m      5696.8310546875      \u001b[0m\u001b[35m \u001b[0m│\n",
       "│\u001b[36m \u001b[0m\u001b[36m         test_mse          \u001b[0m\u001b[36m \u001b[0m│\u001b[35m \u001b[0m\u001b[35m    0.14096882939338684    \u001b[0m\u001b[35m \u001b[0m│\n",
       "└─────────────────────────────┴─────────────────────────────┘\n"
      ]
     },
     "metadata": {},
     "output_type": "display_data"
    },
    {
     "name": "stdout",
     "output_type": "stream",
     "text": [
      "Evaluating model:  CN_SSL_CN_CN_NegBin_gp_to_tfrun0run0NegBin_\n"
     ]
    },
    {
     "name": "stderr",
     "output_type": "stream",
     "text": [
      "GPU available: True (cuda), used: True\n",
      "TPU available: False, using: 0 TPU cores\n",
      "IPU available: False, using: 0 IPUs\n",
      "HPU available: False, using: 0 HPUs\n",
      "LOCAL_RANK: 0 - CUDA_VISIBLE_DEVICES: [0]\n"
     ]
    },
    {
     "data": {
      "application/vnd.jupyter.widget-view+json": {
       "model_id": "9fd8374a99ad4579963c0f8526d7ca5f",
       "version_major": 2,
       "version_minor": 0
      },
      "text/plain": [
       "Testing: 0it [00:00, ?it/s]"
      ]
     },
     "metadata": {},
     "output_type": "display_data"
    },
    {
     "name": "stderr",
     "output_type": "stream",
     "text": [
      "IOPub message rate exceeded.\n",
      "The Jupyter server will temporarily stop sending output\n",
      "to the client in order to avoid crashing it.\n",
      "To change this limit, set the config variable\n",
      "`--ServerApp.iopub_msg_rate_limit`.\n",
      "\n",
      "Current values:\n",
      "ServerApp.iopub_msg_rate_limit=1000.0 (msgs/sec)\n",
      "ServerApp.rate_limit_window=3.0 (secs)\n",
      "\n"
     ]
    },
    {
     "data": {
      "text/html": [
       "<pre style=\"white-space:pre;overflow-x:auto;line-height:normal;font-family:Menlo,'DejaVu Sans Mono',consolas,'Courier New',monospace\">┏━━━━━━━━━━━━━━━━━━━━━━━━━━━━━┳━━━━━━━━━━━━━━━━━━━━━━━━━━━━━┓\n",
       "┃<span style=\"font-weight: bold\">         Test metric         </span>┃<span style=\"font-weight: bold\">        DataLoader 0         </span>┃\n",
       "┡━━━━━━━━━━━━━━━━━━━━━━━━━━━━━╇━━━━━━━━━━━━━━━━━━━━━━━━━━━━━┩\n",
       "│<span style=\"color: #008080; text-decoration-color: #008080\"> test_explained_var_uniform  </span>│<span style=\"color: #800080; text-decoration-color: #800080\">      0.01268011610955       </span>│\n",
       "│<span style=\"color: #008080; text-decoration-color: #008080\"> test_explained_var_weighted </span>│<span style=\"color: #800080; text-decoration-color: #800080\">    0.040260687470436096     </span>│\n",
       "│<span style=\"color: #008080; text-decoration-color: #008080\">          test_loss          </span>│<span style=\"color: #800080; text-decoration-color: #800080\">        5714.0859375         </span>│\n",
       "│<span style=\"color: #008080; text-decoration-color: #008080\">          test_mse           </span>│<span style=\"color: #800080; text-decoration-color: #800080\">     0.1417142152786255      </span>│\n",
       "└─────────────────────────────┴─────────────────────────────┘\n",
       "</pre>\n"
      ],
      "text/plain": [
       "┏━━━━━━━━━━━━━━━━━━━━━━━━━━━━━┳━━━━━━━━━━━━━━━━━━━━━━━━━━━━━┓\n",
       "┃\u001b[1m \u001b[0m\u001b[1m        Test metric        \u001b[0m\u001b[1m \u001b[0m┃\u001b[1m \u001b[0m\u001b[1m       DataLoader 0        \u001b[0m\u001b[1m \u001b[0m┃\n",
       "┡━━━━━━━━━━━━━━━━━━━━━━━━━━━━━╇━━━━━━━━━━━━━━━━━━━━━━━━━━━━━┩\n",
       "│\u001b[36m \u001b[0m\u001b[36mtest_explained_var_uniform \u001b[0m\u001b[36m \u001b[0m│\u001b[35m \u001b[0m\u001b[35m     0.01268011610955      \u001b[0m\u001b[35m \u001b[0m│\n",
       "│\u001b[36m \u001b[0m\u001b[36mtest_explained_var_weighted\u001b[0m\u001b[36m \u001b[0m│\u001b[35m \u001b[0m\u001b[35m   0.040260687470436096    \u001b[0m\u001b[35m \u001b[0m│\n",
       "│\u001b[36m \u001b[0m\u001b[36m         test_loss         \u001b[0m\u001b[36m \u001b[0m│\u001b[35m \u001b[0m\u001b[35m       5714.0859375        \u001b[0m\u001b[35m \u001b[0m│\n",
       "│\u001b[36m \u001b[0m\u001b[36m         test_mse          \u001b[0m\u001b[36m \u001b[0m│\u001b[35m \u001b[0m\u001b[35m    0.1417142152786255     \u001b[0m\u001b[35m \u001b[0m│\n",
       "└─────────────────────────────┴─────────────────────────────┘\n"
      ]
     },
     "metadata": {},
     "output_type": "display_data"
    },
    {
     "name": "stdout",
     "output_type": "stream",
     "text": [
      "Evaluating model:  CN_SSL_CN_CN_NegBin_gp_to_tfrun0run3NegBin_\n"
     ]
    },
    {
     "name": "stderr",
     "output_type": "stream",
     "text": [
      "GPU available: True (cuda), used: True\n",
      "TPU available: False, using: 0 TPU cores\n",
      "IPU available: False, using: 0 IPUs\n",
      "HPU available: False, using: 0 HPUs\n",
      "LOCAL_RANK: 0 - CUDA_VISIBLE_DEVICES: [0]\n"
     ]
    },
    {
     "data": {
      "application/vnd.jupyter.widget-view+json": {
       "model_id": "ec2f18d0d7ec43b1beccfdb382dc8939",
       "version_major": 2,
       "version_minor": 0
      },
      "text/plain": [
       "Testing: 0it [00:00, ?it/s]"
      ]
     },
     "metadata": {},
     "output_type": "display_data"
    },
    {
     "data": {
      "text/html": [
       "<pre style=\"white-space:pre;overflow-x:auto;line-height:normal;font-family:Menlo,'DejaVu Sans Mono',consolas,'Courier New',monospace\">┏━━━━━━━━━━━━━━━━━━━━━━━━━━━━━┳━━━━━━━━━━━━━━━━━━━━━━━━━━━━━┓\n",
       "┃<span style=\"font-weight: bold\">         Test metric         </span>┃<span style=\"font-weight: bold\">        DataLoader 0         </span>┃\n",
       "┡━━━━━━━━━━━━━━━━━━━━━━━━━━━━━╇━━━━━━━━━━━━━━━━━━━━━━━━━━━━━┩\n",
       "│<span style=\"color: #008080; text-decoration-color: #008080\"> test_explained_var_uniform  </span>│<span style=\"color: #800080; text-decoration-color: #800080\">    0.012672662734985352     </span>│\n",
       "│<span style=\"color: #008080; text-decoration-color: #008080\"> test_explained_var_weighted </span>│<span style=\"color: #800080; text-decoration-color: #800080\">     0.04026352986693382     </span>│\n",
       "│<span style=\"color: #008080; text-decoration-color: #008080\">          test_loss          </span>│<span style=\"color: #800080; text-decoration-color: #800080\">       5713.365234375        </span>│\n",
       "│<span style=\"color: #008080; text-decoration-color: #008080\">          test_mse           </span>│<span style=\"color: #800080; text-decoration-color: #800080\">     0.14166690409183502     </span>│\n",
       "└─────────────────────────────┴─────────────────────────────┘\n",
       "</pre>\n"
      ],
      "text/plain": [
       "┏━━━━━━━━━━━━━━━━━━━━━━━━━━━━━┳━━━━━━━━━━━━━━━━━━━━━━━━━━━━━┓\n",
       "┃\u001b[1m \u001b[0m\u001b[1m        Test metric        \u001b[0m\u001b[1m \u001b[0m┃\u001b[1m \u001b[0m\u001b[1m       DataLoader 0        \u001b[0m\u001b[1m \u001b[0m┃\n",
       "┡━━━━━━━━━━━━━━━━━━━━━━━━━━━━━╇━━━━━━━━━━━━━━━━━━━━━━━━━━━━━┩\n",
       "│\u001b[36m \u001b[0m\u001b[36mtest_explained_var_uniform \u001b[0m\u001b[36m \u001b[0m│\u001b[35m \u001b[0m\u001b[35m   0.012672662734985352    \u001b[0m\u001b[35m \u001b[0m│\n",
       "│\u001b[36m \u001b[0m\u001b[36mtest_explained_var_weighted\u001b[0m\u001b[36m \u001b[0m│\u001b[35m \u001b[0m\u001b[35m    0.04026352986693382    \u001b[0m\u001b[35m \u001b[0m│\n",
       "│\u001b[36m \u001b[0m\u001b[36m         test_loss         \u001b[0m\u001b[36m \u001b[0m│\u001b[35m \u001b[0m\u001b[35m      5713.365234375       \u001b[0m\u001b[35m \u001b[0m│\n",
       "│\u001b[36m \u001b[0m\u001b[36m         test_mse          \u001b[0m\u001b[36m \u001b[0m│\u001b[35m \u001b[0m\u001b[35m    0.14166690409183502    \u001b[0m\u001b[35m \u001b[0m│\n",
       "└─────────────────────────────┴─────────────────────────────┘\n"
      ]
     },
     "metadata": {},
     "output_type": "display_data"
    },
    {
     "name": "stderr",
     "output_type": "stream",
     "text": [
      "GPU available: True (cuda), used: True\n",
      "TPU available: False, using: 0 TPU cores\n",
      "IPU available: False, using: 0 IPUs\n",
      "HPU available: False, using: 0 HPUs\n",
      "LOCAL_RANK: 0 - CUDA_VISIBLE_DEVICES: [0]\n"
     ]
    },
    {
     "data": {
      "application/vnd.jupyter.widget-view+json": {
       "model_id": "625211f17f394161b007e7978337f688",
       "version_major": 2,
       "version_minor": 0
      },
      "text/plain": [
       "Testing: 0it [00:00, ?it/s]"
      ]
     },
     "metadata": {},
     "output_type": "display_data"
    }
   ],
   "source": [
    "test_models_on_ood(estim, ood_set=ood_set, model_dirs=model_dirs)"
   ]
  },
  {
   "cell_type": "code",
   "execution_count": null,
   "id": "ac7e61f4-c055-4127-bdb3-87916e2e4b66",
   "metadata": {},
   "outputs": [],
   "source": [
    "ood_set = 'cort_dev'"
   ]
  },
  {
   "cell_type": "code",
   "execution_count": null,
   "id": "1f936d8e-7ae2-4305-8c36-9861c757a97f",
   "metadata": {
    "scrolled": true,
    "tags": []
   },
   "outputs": [],
   "source": [
    "test_models_on_ood(estim, ood_set=ood_set, model_dirs=model_dirs)"
   ]
  },
  {
   "cell_type": "code",
   "execution_count": null,
   "id": "4061d3c9-8ef5-42b2-9d0d-7379121f4913",
   "metadata": {},
   "outputs": [],
   "source": [
    "ood_set = 'circ_imm'"
   ]
  },
  {
   "cell_type": "code",
   "execution_count": null,
   "id": "89da2419-6e30-409e-9003-7b5b46cd2a0f",
   "metadata": {
    "scrolled": true,
    "tags": []
   },
   "outputs": [],
   "source": [
    "test_models_on_ood(estim, ood_set=ood_set, model_dirs=model_dirs)"
   ]
  },
  {
   "cell_type": "code",
   "execution_count": null,
   "id": "dc4f44aa-33b0-4cad-89f8-d0b883c2655c",
   "metadata": {},
   "outputs": [],
   "source": [
    "ood_set = 'great_apes'"
   ]
  },
  {
   "cell_type": "code",
   "execution_count": null,
   "id": "6d3cc5f8-3ad3-404a-952d-4968834b16ba",
   "metadata": {
    "scrolled": true,
    "tags": []
   },
   "outputs": [],
   "source": [
    "test_models_on_ood(estim, ood_set=ood_set, model_dirs=model_dirs)"
   ]
  },
  {
   "cell_type": "markdown",
   "id": "b198dfc5-6af2-4705-8df2-c4b75038b782",
   "metadata": {},
   "source": [
    "# Fig 4: Individual Atlas"
   ]
  },
  {
   "cell_type": "markdown",
   "id": "897bc7a1-50eb-4872-a52d-8495e2f81891",
   "metadata": {},
   "source": [
    "### HLCA"
   ]
  },
  {
   "cell_type": "code",
   "execution_count": 9,
   "id": "3694744f-1d35-45a8-a77c-fd91179fbf19",
   "metadata": {},
   "outputs": [],
   "source": [
    "model_dirs = [\n",
    "    ### Only Pretrained Models ###\n",
    "    MODEL_PATH + '/pretext_models/masking/CN_NegBin_gp_to_tfrun0/default/version_1/checkpoints/best_checkpoint_val.ckpt',\n",
    "    MODEL_PATH + '/pretext_models/masking/CN_NegBin_gp_to_tfrun1/default/version_1/checkpoints/best_checkpoint_val.ckpt',\n",
    "    MODEL_PATH + '/pretext_models/masking/CN_NegBin_gp_to_tfrun2/default/version_1/checkpoints/best_checkpoint_val.ckpt',\n",
    "    MODEL_PATH + '/pretext_models/masking/CN_NegBin_gp_to_tfrun3/default/version_1/checkpoints/best_checkpoint_val.ckpt',\n",
    "    MODEL_PATH + '/pretext_models/masking/CN_NegBin_gp_to_tfrun4/default/version_1/checkpoints/best_checkpoint_val.ckpt',\n",
    "    \n",
    "    \n",
    "    ### Supervised Models ###\n",
    "    MODEL_PATH + '/final_models/reconstruction/CN_No_SSL_CN_new_run0NegBin__HLCA/default/version_0/checkpoints/best_checkpoint_val.ckpt',\n",
    "    MODEL_PATH + '/final_models/reconstruction/CN_No_SSL_CN_new_run1NegBin__HLCA/default/version_0/checkpoints/best_checkpoint_val.ckpt',\n",
    "    MODEL_PATH + '/final_models/reconstruction/CN_No_SSL_CN_new_run2NegBin__HLCA/default/version_0/checkpoints/best_checkpoint_val.ckpt',\n",
    "    MODEL_PATH + '/final_models/reconstruction/CN_No_SSL_CN_new_run3NegBin__HLCA/default/version_0/checkpoints/best_checkpoint_val.ckpt',\n",
    "    MODEL_PATH + '/final_models/reconstruction/CN_No_SSL_CN_new_run4NegBin__HLCA/default/version_0/checkpoints/best_checkpoint_val.ckpt',\n",
    "    \n",
    "    \n",
    "    ### Self-Supervised Models ###\n",
    "    # Gene Program to Transcription Factor\n",
    "    MODEL_PATH + '/final_models/reconstruction/CN_SSL_CN_CN_NegBin_gp_to_tfrun0new_run0NegBin__HLCA/default/version_0/checkpoints/best_checkpoint_val.ckpt',\n",
    "    MODEL_PATH + '/final_models/reconstruction/CN_SSL_CN_CN_NegBin_gp_to_tfrun0new_run1NegBin__HLCA/default/version_0/checkpoints/best_checkpoint_val.ckpt',\n",
    "    MODEL_PATH + '/final_models/reconstruction/CN_SSL_CN_CN_NegBin_gp_to_tfrun0new_run2NegBin__HLCA/default/version_0/checkpoints/best_checkpoint_val.ckpt',\n",
    "    MODEL_PATH + '/final_models/reconstruction/CN_SSL_CN_CN_NegBin_gp_to_tfrun0new_run3NegBin__HLCA/default/version_0/checkpoints/best_checkpoint_val.ckpt',\n",
    "    MODEL_PATH + '/final_models/reconstruction/CN_SSL_CN_CN_NegBin_gp_to_tfrun0new_run4NegBin__HLCA/default/version_0/checkpoints/best_checkpoint_val.ckpt',\n",
    "    \n",
    "]"
   ]
  },
  {
   "cell_type": "code",
   "execution_count": 10,
   "id": "1d44fa81-506e-46e6-9791-9abd35828d2c",
   "metadata": {},
   "outputs": [],
   "source": [
    "supervised_subset = 148  # HLCA"
   ]
  },
  {
   "cell_type": "code",
   "execution_count": 11,
   "id": "f725922c-45f4-40e2-8d3b-51442d5e75a8",
   "metadata": {},
   "outputs": [
    {
     "name": "stderr",
     "output_type": "stream",
     "text": [
      "GPU available: True (cuda), used: True\n",
      "TPU available: False, using: 0 TPU cores\n",
      "IPU available: False, using: 0 IPUs\n",
      "HPU available: False, using: 0 HPUs\n",
      "LOCAL_RANK: 0 - CUDA_VISIBLE_DEVICES: [0]\n"
     ]
    },
    {
     "data": {
      "application/vnd.jupyter.widget-view+json": {
       "model_id": "8cee9537c5084ca797d234d566047d11",
       "version_major": 2,
       "version_minor": 0
      },
      "text/plain": [
       "Testing: 0it [00:00, ?it/s]"
      ]
     },
     "metadata": {},
     "output_type": "display_data"
    },
    {
     "data": {
      "text/html": [
       "<pre style=\"white-space:pre;overflow-x:auto;line-height:normal;font-family:Menlo,'DejaVu Sans Mono',consolas,'Courier New',monospace\">┏━━━━━━━━━━━━━━━━━━━━━━━━━━━━━┳━━━━━━━━━━━━━━━━━━━━━━━━━━━━━┓\n",
       "┃<span style=\"font-weight: bold\">         Test metric         </span>┃<span style=\"font-weight: bold\">        DataLoader 0         </span>┃\n",
       "┡━━━━━━━━━━━━━━━━━━━━━━━━━━━━━╇━━━━━━━━━━━━━━━━━━━━━━━━━━━━━┩\n",
       "│<span style=\"color: #008080; text-decoration-color: #008080\"> test_explained_var_uniform  </span>│<span style=\"color: #800080; text-decoration-color: #800080\">   -0.0005182110471650958    </span>│\n",
       "│<span style=\"color: #008080; text-decoration-color: #008080\"> test_explained_var_weighted </span>│<span style=\"color: #800080; text-decoration-color: #800080\">   -6.305475108092651e-05    </span>│\n",
       "│<span style=\"color: #008080; text-decoration-color: #008080\">          test_loss          </span>│<span style=\"color: #800080; text-decoration-color: #800080\">     0.35207226872444153     </span>│\n",
       "│<span style=\"color: #008080; text-decoration-color: #008080\">          test_mse           </span>│<span style=\"color: #800080; text-decoration-color: #800080\">     0.35207226872444153     </span>│\n",
       "└─────────────────────────────┴─────────────────────────────┘\n",
       "</pre>\n"
      ],
      "text/plain": [
       "┏━━━━━━━━━━━━━━━━━━━━━━━━━━━━━┳━━━━━━━━━━━━━━━━━━━━━━━━━━━━━┓\n",
       "┃\u001b[1m \u001b[0m\u001b[1m        Test metric        \u001b[0m\u001b[1m \u001b[0m┃\u001b[1m \u001b[0m\u001b[1m       DataLoader 0        \u001b[0m\u001b[1m \u001b[0m┃\n",
       "┡━━━━━━━━━━━━━━━━━━━━━━━━━━━━━╇━━━━━━━━━━━━━━━━━━━━━━━━━━━━━┩\n",
       "│\u001b[36m \u001b[0m\u001b[36mtest_explained_var_uniform \u001b[0m\u001b[36m \u001b[0m│\u001b[35m \u001b[0m\u001b[35m  -0.0005182110471650958   \u001b[0m\u001b[35m \u001b[0m│\n",
       "│\u001b[36m \u001b[0m\u001b[36mtest_explained_var_weighted\u001b[0m\u001b[36m \u001b[0m│\u001b[35m \u001b[0m\u001b[35m  -6.305475108092651e-05   \u001b[0m\u001b[35m \u001b[0m│\n",
       "│\u001b[36m \u001b[0m\u001b[36m         test_loss         \u001b[0m\u001b[36m \u001b[0m│\u001b[35m \u001b[0m\u001b[35m    0.35207226872444153    \u001b[0m\u001b[35m \u001b[0m│\n",
       "│\u001b[36m \u001b[0m\u001b[36m         test_mse          \u001b[0m\u001b[36m \u001b[0m│\u001b[35m \u001b[0m\u001b[35m    0.35207226872444153    \u001b[0m\u001b[35m \u001b[0m│\n",
       "└─────────────────────────────┴─────────────────────────────┘\n"
      ]
     },
     "metadata": {},
     "output_type": "display_data"
    }
   ],
   "source": [
    "metrics = test_random_model(estim, supervised_subset=supervised_subset)"
   ]
  },
  {
   "cell_type": "code",
   "execution_count": 12,
   "id": "871dfe8c-a65b-4873-a64a-a35b2bc5add0",
   "metadata": {
    "scrolled": true,
    "tags": []
   },
   "outputs": [
    {
     "name": "stdout",
     "output_type": "stream",
     "text": [
      "Skipping model:  CN_NegBin_gp_to_tfrun0\n",
      "Skipping model:  CN_NegBin_gp_to_tfrun1\n",
      "Skipping model:  CN_NegBin_gp_to_tfrun2\n",
      "Skipping model:  CN_NegBin_gp_to_tfrun3\n",
      "Skipping model:  CN_NegBin_gp_to_tfrun4\n",
      "Skipping model:  CN_No_SSL_CN_new_run0NegBin__HLCA\n",
      "Skipping model:  CN_No_SSL_CN_new_run1NegBin__HLCA\n",
      "Skipping model:  CN_No_SSL_CN_new_run2NegBin__HLCA\n",
      "Skipping model:  CN_No_SSL_CN_new_run3NegBin__HLCA\n",
      "Skipping model:  CN_No_SSL_CN_new_run4NegBin__HLCA\n",
      "Skipping model:  CN_SSL_CN_CN_NegBin_gp_to_tfrun0new_run0NegBin__HLCA\n",
      "Skipping model:  CN_SSL_CN_CN_NegBin_gp_to_tfrun0new_run1NegBin__HLCA\n",
      "Evaluating model:  CN_SSL_CN_CN_NegBin_gp_to_tfrun0new_run2NegBin__HLCA\n"
     ]
    },
    {
     "name": "stderr",
     "output_type": "stream",
     "text": [
      "GPU available: True (cuda), used: True\n",
      "TPU available: False, using: 0 TPU cores\n",
      "IPU available: False, using: 0 IPUs\n",
      "HPU available: False, using: 0 HPUs\n",
      "LOCAL_RANK: 0 - CUDA_VISIBLE_DEVICES: [0]\n"
     ]
    },
    {
     "data": {
      "application/vnd.jupyter.widget-view+json": {
       "model_id": "8c7f89013dd44223b2d0fe1eab6c2b96",
       "version_major": 2,
       "version_minor": 0
      },
      "text/plain": [
       "Testing: 0it [00:00, ?it/s]"
      ]
     },
     "metadata": {},
     "output_type": "display_data"
    },
    {
     "data": {
      "text/html": [
       "<pre style=\"white-space:pre;overflow-x:auto;line-height:normal;font-family:Menlo,'DejaVu Sans Mono',consolas,'Courier New',monospace\">┏━━━━━━━━━━━━━━━━━━━━━━━━━━━━━┳━━━━━━━━━━━━━━━━━━━━━━━━━━━━━┓\n",
       "┃<span style=\"font-weight: bold\">         Test metric         </span>┃<span style=\"font-weight: bold\">        DataLoader 0         </span>┃\n",
       "┡━━━━━━━━━━━━━━━━━━━━━━━━━━━━━╇━━━━━━━━━━━━━━━━━━━━━━━━━━━━━┩\n",
       "│<span style=\"color: #008080; text-decoration-color: #008080\"> test_explained_var_uniform  </span>│<span style=\"color: #800080; text-decoration-color: #800080\">    0.049650926142930984     </span>│\n",
       "│<span style=\"color: #008080; text-decoration-color: #008080\"> test_explained_var_weighted </span>│<span style=\"color: #800080; text-decoration-color: #800080\">     0.2730991840362549      </span>│\n",
       "│<span style=\"color: #008080; text-decoration-color: #008080\">          test_loss          </span>│<span style=\"color: #800080; text-decoration-color: #800080\">       4347.6298828125       </span>│\n",
       "│<span style=\"color: #008080; text-decoration-color: #008080\">          test_mse           </span>│<span style=\"color: #800080; text-decoration-color: #800080\">     0.09400048106908798     </span>│\n",
       "└─────────────────────────────┴─────────────────────────────┘\n",
       "</pre>\n"
      ],
      "text/plain": [
       "┏━━━━━━━━━━━━━━━━━━━━━━━━━━━━━┳━━━━━━━━━━━━━━━━━━━━━━━━━━━━━┓\n",
       "┃\u001b[1m \u001b[0m\u001b[1m        Test metric        \u001b[0m\u001b[1m \u001b[0m┃\u001b[1m \u001b[0m\u001b[1m       DataLoader 0        \u001b[0m\u001b[1m \u001b[0m┃\n",
       "┡━━━━━━━━━━━━━━━━━━━━━━━━━━━━━╇━━━━━━━━━━━━━━━━━━━━━━━━━━━━━┩\n",
       "│\u001b[36m \u001b[0m\u001b[36mtest_explained_var_uniform \u001b[0m\u001b[36m \u001b[0m│\u001b[35m \u001b[0m\u001b[35m   0.049650926142930984    \u001b[0m\u001b[35m \u001b[0m│\n",
       "│\u001b[36m \u001b[0m\u001b[36mtest_explained_var_weighted\u001b[0m\u001b[36m \u001b[0m│\u001b[35m \u001b[0m\u001b[35m    0.2730991840362549     \u001b[0m\u001b[35m \u001b[0m│\n",
       "│\u001b[36m \u001b[0m\u001b[36m         test_loss         \u001b[0m\u001b[36m \u001b[0m│\u001b[35m \u001b[0m\u001b[35m      4347.6298828125      \u001b[0m\u001b[35m \u001b[0m│\n",
       "│\u001b[36m \u001b[0m\u001b[36m         test_mse          \u001b[0m\u001b[36m \u001b[0m│\u001b[35m \u001b[0m\u001b[35m    0.09400048106908798    \u001b[0m\u001b[35m \u001b[0m│\n",
       "└─────────────────────────────┴─────────────────────────────┘\n"
      ]
     },
     "metadata": {},
     "output_type": "display_data"
    },
    {
     "name": "stdout",
     "output_type": "stream",
     "text": [
      "Metrics for model:  CN_SSL_CN_CN_NegBin_gp_to_tfrun0new_run2NegBin__HLCA  :\n",
      " [{'test_explained_var_uniform': 0.049650926142930984, 'test_explained_var_weighted': 0.2730991840362549, 'test_mse': 0.09400048106908798, 'test_loss': 4347.6298828125}]\n",
      "Evaluating model:  CN_SSL_CN_CN_NegBin_gp_to_tfrun0new_run3NegBin__HLCA\n"
     ]
    },
    {
     "name": "stderr",
     "output_type": "stream",
     "text": [
      "GPU available: True (cuda), used: True\n",
      "TPU available: False, using: 0 TPU cores\n",
      "IPU available: False, using: 0 IPUs\n",
      "HPU available: False, using: 0 HPUs\n",
      "LOCAL_RANK: 0 - CUDA_VISIBLE_DEVICES: [0]\n"
     ]
    },
    {
     "data": {
      "application/vnd.jupyter.widget-view+json": {
       "model_id": "50720e65659446f0b8b30f7a55412d5b",
       "version_major": 2,
       "version_minor": 0
      },
      "text/plain": [
       "Testing: 0it [00:00, ?it/s]"
      ]
     },
     "metadata": {},
     "output_type": "display_data"
    },
    {
     "data": {
      "text/html": [
       "<pre style=\"white-space:pre;overflow-x:auto;line-height:normal;font-family:Menlo,'DejaVu Sans Mono',consolas,'Courier New',monospace\">┏━━━━━━━━━━━━━━━━━━━━━━━━━━━━━┳━━━━━━━━━━━━━━━━━━━━━━━━━━━━━┓\n",
       "┃<span style=\"font-weight: bold\">         Test metric         </span>┃<span style=\"font-weight: bold\">        DataLoader 0         </span>┃\n",
       "┡━━━━━━━━━━━━━━━━━━━━━━━━━━━━━╇━━━━━━━━━━━━━━━━━━━━━━━━━━━━━┩\n",
       "│<span style=\"color: #008080; text-decoration-color: #008080\"> test_explained_var_uniform  </span>│<span style=\"color: #800080; text-decoration-color: #800080\">     0.05069464445114136     </span>│\n",
       "│<span style=\"color: #008080; text-decoration-color: #008080\"> test_explained_var_weighted </span>│<span style=\"color: #800080; text-decoration-color: #800080\">     0.27320238947868347     </span>│\n",
       "│<span style=\"color: #008080; text-decoration-color: #008080\">          test_loss          </span>│<span style=\"color: #800080; text-decoration-color: #800080\">      4347.62255859375       </span>│\n",
       "│<span style=\"color: #008080; text-decoration-color: #008080\">          test_mse           </span>│<span style=\"color: #800080; text-decoration-color: #800080\">     0.09401515126228333     </span>│\n",
       "└─────────────────────────────┴─────────────────────────────┘\n",
       "</pre>\n"
      ],
      "text/plain": [
       "┏━━━━━━━━━━━━━━━━━━━━━━━━━━━━━┳━━━━━━━━━━━━━━━━━━━━━━━━━━━━━┓\n",
       "┃\u001b[1m \u001b[0m\u001b[1m        Test metric        \u001b[0m\u001b[1m \u001b[0m┃\u001b[1m \u001b[0m\u001b[1m       DataLoader 0        \u001b[0m\u001b[1m \u001b[0m┃\n",
       "┡━━━━━━━━━━━━━━━━━━━━━━━━━━━━━╇━━━━━━━━━━━━━━━━━━━━━━━━━━━━━┩\n",
       "│\u001b[36m \u001b[0m\u001b[36mtest_explained_var_uniform \u001b[0m\u001b[36m \u001b[0m│\u001b[35m \u001b[0m\u001b[35m    0.05069464445114136    \u001b[0m\u001b[35m \u001b[0m│\n",
       "│\u001b[36m \u001b[0m\u001b[36mtest_explained_var_weighted\u001b[0m\u001b[36m \u001b[0m│\u001b[35m \u001b[0m\u001b[35m    0.27320238947868347    \u001b[0m\u001b[35m \u001b[0m│\n",
       "│\u001b[36m \u001b[0m\u001b[36m         test_loss         \u001b[0m\u001b[36m \u001b[0m│\u001b[35m \u001b[0m\u001b[35m     4347.62255859375      \u001b[0m\u001b[35m \u001b[0m│\n",
       "│\u001b[36m \u001b[0m\u001b[36m         test_mse          \u001b[0m\u001b[36m \u001b[0m│\u001b[35m \u001b[0m\u001b[35m    0.09401515126228333    \u001b[0m\u001b[35m \u001b[0m│\n",
       "└─────────────────────────────┴─────────────────────────────┘\n"
      ]
     },
     "metadata": {},
     "output_type": "display_data"
    },
    {
     "name": "stdout",
     "output_type": "stream",
     "text": [
      "Metrics for model:  CN_SSL_CN_CN_NegBin_gp_to_tfrun0new_run3NegBin__HLCA  :\n",
      " [{'test_explained_var_uniform': 0.05069464445114136, 'test_explained_var_weighted': 0.27320238947868347, 'test_mse': 0.09401515126228333, 'test_loss': 4347.62255859375}]\n",
      "Evaluating model:  CN_SSL_CN_CN_NegBin_gp_to_tfrun0new_run4NegBin__HLCA\n"
     ]
    },
    {
     "name": "stderr",
     "output_type": "stream",
     "text": [
      "GPU available: True (cuda), used: True\n",
      "TPU available: False, using: 0 TPU cores\n",
      "IPU available: False, using: 0 IPUs\n",
      "HPU available: False, using: 0 HPUs\n",
      "LOCAL_RANK: 0 - CUDA_VISIBLE_DEVICES: [0]\n"
     ]
    },
    {
     "data": {
      "application/vnd.jupyter.widget-view+json": {
       "model_id": "6c8fb2b28c8940f9aedb80a7f1e1535a",
       "version_major": 2,
       "version_minor": 0
      },
      "text/plain": [
       "Testing: 0it [00:00, ?it/s]"
      ]
     },
     "metadata": {},
     "output_type": "display_data"
    },
    {
     "data": {
      "text/html": [
       "<pre style=\"white-space:pre;overflow-x:auto;line-height:normal;font-family:Menlo,'DejaVu Sans Mono',consolas,'Courier New',monospace\">┏━━━━━━━━━━━━━━━━━━━━━━━━━━━━━┳━━━━━━━━━━━━━━━━━━━━━━━━━━━━━┓\n",
       "┃<span style=\"font-weight: bold\">         Test metric         </span>┃<span style=\"font-weight: bold\">        DataLoader 0         </span>┃\n",
       "┡━━━━━━━━━━━━━━━━━━━━━━━━━━━━━╇━━━━━━━━━━━━━━━━━━━━━━━━━━━━━┩\n",
       "│<span style=\"color: #008080; text-decoration-color: #008080\"> test_explained_var_uniform  </span>│<span style=\"color: #800080; text-decoration-color: #800080\">     0.0478813536465168      </span>│\n",
       "│<span style=\"color: #008080; text-decoration-color: #008080\"> test_explained_var_weighted </span>│<span style=\"color: #800080; text-decoration-color: #800080\">     0.2738361358642578      </span>│\n",
       "│<span style=\"color: #008080; text-decoration-color: #008080\">          test_loss          </span>│<span style=\"color: #800080; text-decoration-color: #800080\">      4345.16650390625       </span>│\n",
       "│<span style=\"color: #008080; text-decoration-color: #008080\">          test_mse           </span>│<span style=\"color: #800080; text-decoration-color: #800080\">     0.09390199184417725     </span>│\n",
       "└─────────────────────────────┴─────────────────────────────┘\n",
       "</pre>\n"
      ],
      "text/plain": [
       "┏━━━━━━━━━━━━━━━━━━━━━━━━━━━━━┳━━━━━━━━━━━━━━━━━━━━━━━━━━━━━┓\n",
       "┃\u001b[1m \u001b[0m\u001b[1m        Test metric        \u001b[0m\u001b[1m \u001b[0m┃\u001b[1m \u001b[0m\u001b[1m       DataLoader 0        \u001b[0m\u001b[1m \u001b[0m┃\n",
       "┡━━━━━━━━━━━━━━━━━━━━━━━━━━━━━╇━━━━━━━━━━━━━━━━━━━━━━━━━━━━━┩\n",
       "│\u001b[36m \u001b[0m\u001b[36mtest_explained_var_uniform \u001b[0m\u001b[36m \u001b[0m│\u001b[35m \u001b[0m\u001b[35m    0.0478813536465168     \u001b[0m\u001b[35m \u001b[0m│\n",
       "│\u001b[36m \u001b[0m\u001b[36mtest_explained_var_weighted\u001b[0m\u001b[36m \u001b[0m│\u001b[35m \u001b[0m\u001b[35m    0.2738361358642578     \u001b[0m\u001b[35m \u001b[0m│\n",
       "│\u001b[36m \u001b[0m\u001b[36m         test_loss         \u001b[0m\u001b[36m \u001b[0m│\u001b[35m \u001b[0m\u001b[35m     4345.16650390625      \u001b[0m\u001b[35m \u001b[0m│\n",
       "│\u001b[36m \u001b[0m\u001b[36m         test_mse          \u001b[0m\u001b[36m \u001b[0m│\u001b[35m \u001b[0m\u001b[35m    0.09390199184417725    \u001b[0m\u001b[35m \u001b[0m│\n",
       "└─────────────────────────────┴─────────────────────────────┘\n"
      ]
     },
     "metadata": {},
     "output_type": "display_data"
    },
    {
     "name": "stdout",
     "output_type": "stream",
     "text": [
      "Metrics for model:  CN_SSL_CN_CN_NegBin_gp_to_tfrun0new_run4NegBin__HLCA  :\n",
      " [{'test_explained_var_uniform': 0.0478813536465168, 'test_explained_var_weighted': 0.2738361358642578, 'test_mse': 0.09390199184417725, 'test_loss': 4345.16650390625}]\n"
     ]
    },
    {
     "name": "stderr",
     "output_type": "stream",
     "text": [
      "GPU available: True (cuda), used: True\n",
      "TPU available: False, using: 0 TPU cores\n",
      "IPU available: False, using: 0 IPUs\n",
      "HPU available: False, using: 0 HPUs\n",
      "LOCAL_RANK: 0 - CUDA_VISIBLE_DEVICES: [0]\n"
     ]
    },
    {
     "data": {
      "application/vnd.jupyter.widget-view+json": {
       "model_id": "00c82aaa6672402da4eecd56da731dd9",
       "version_major": 2,
       "version_minor": 0
      },
      "text/plain": [
       "Testing: 0it [00:00, ?it/s]"
      ]
     },
     "metadata": {},
     "output_type": "display_data"
    },
    {
     "data": {
      "text/html": [
       "<pre style=\"white-space:pre;overflow-x:auto;line-height:normal;font-family:Menlo,'DejaVu Sans Mono',consolas,'Courier New',monospace\">┏━━━━━━━━━━━━━━━━━━━━━━━━━━━━━┳━━━━━━━━━━━━━━━━━━━━━━━━━━━━━┓\n",
       "┃<span style=\"font-weight: bold\">         Test metric         </span>┃<span style=\"font-weight: bold\">        DataLoader 0         </span>┃\n",
       "┡━━━━━━━━━━━━━━━━━━━━━━━━━━━━━╇━━━━━━━━━━━━━━━━━━━━━━━━━━━━━┩\n",
       "│<span style=\"color: #008080; text-decoration-color: #008080\"> test_explained_var_uniform  </span>│<span style=\"color: #800080; text-decoration-color: #800080\">     -0.0253374632447958     </span>│\n",
       "│<span style=\"color: #008080; text-decoration-color: #008080\"> test_explained_var_weighted </span>│<span style=\"color: #800080; text-decoration-color: #800080\">   -0.00030291362782008946   </span>│\n",
       "│<span style=\"color: #008080; text-decoration-color: #008080\">          test_loss          </span>│<span style=\"color: #800080; text-decoration-color: #800080\">      12285.4345703125       </span>│\n",
       "│<span style=\"color: #008080; text-decoration-color: #008080\">          test_mse           </span>│<span style=\"color: #800080; text-decoration-color: #800080\">     0.5380129814147949      </span>│\n",
       "└─────────────────────────────┴─────────────────────────────┘\n",
       "</pre>\n"
      ],
      "text/plain": [
       "┏━━━━━━━━━━━━━━━━━━━━━━━━━━━━━┳━━━━━━━━━━━━━━━━━━━━━━━━━━━━━┓\n",
       "┃\u001b[1m \u001b[0m\u001b[1m        Test metric        \u001b[0m\u001b[1m \u001b[0m┃\u001b[1m \u001b[0m\u001b[1m       DataLoader 0        \u001b[0m\u001b[1m \u001b[0m┃\n",
       "┡━━━━━━━━━━━━━━━━━━━━━━━━━━━━━╇━━━━━━━━━━━━━━━━━━━━━━━━━━━━━┩\n",
       "│\u001b[36m \u001b[0m\u001b[36mtest_explained_var_uniform \u001b[0m\u001b[36m \u001b[0m│\u001b[35m \u001b[0m\u001b[35m    -0.0253374632447958    \u001b[0m\u001b[35m \u001b[0m│\n",
       "│\u001b[36m \u001b[0m\u001b[36mtest_explained_var_weighted\u001b[0m\u001b[36m \u001b[0m│\u001b[35m \u001b[0m\u001b[35m  -0.00030291362782008946  \u001b[0m\u001b[35m \u001b[0m│\n",
       "│\u001b[36m \u001b[0m\u001b[36m         test_loss         \u001b[0m\u001b[36m \u001b[0m│\u001b[35m \u001b[0m\u001b[35m     12285.4345703125      \u001b[0m\u001b[35m \u001b[0m│\n",
       "│\u001b[36m \u001b[0m\u001b[36m         test_mse          \u001b[0m\u001b[36m \u001b[0m│\u001b[35m \u001b[0m\u001b[35m    0.5380129814147949     \u001b[0m\u001b[35m \u001b[0m│\n",
       "└─────────────────────────────┴─────────────────────────────┘\n"
      ]
     },
     "metadata": {},
     "output_type": "display_data"
    },
    {
     "name": "stdout",
     "output_type": "stream",
     "text": [
      "Metrics for model:  Random  :\n",
      " [{'test_explained_var_uniform': -0.0253374632447958, 'test_explained_var_weighted': -0.00030291362782008946, 'test_mse': 0.5380129814147949, 'test_loss': 12285.4345703125}]\n"
     ]
    }
   ],
   "source": [
    "metrics = eval_rec(estim, model_dirs, supervised_subset=supervised_subset)"
   ]
  },
  {
   "cell_type": "markdown",
   "id": "1f1add8f-41fc-43c3-9af4-228ed31513f3",
   "metadata": {},
   "source": [
    "### PBMC"
   ]
  },
  {
   "cell_type": "code",
   "execution_count": 13,
   "id": "e71b8f0b-8363-493b-a24a-d2dc07143acb",
   "metadata": {},
   "outputs": [
    {
     "data": {
      "text/plain": [
       "\"\\nmodel_dirs = [\\n    ### Only Pretrained Models ###\\n    \\n    # Gene Program to Transcription Factor    \\n    MODEL_PATH + '/pretext_models/masking/CN_MLP_gp_to_tf/default/version_2/checkpoints/best_checkpoint_val.ckpt',\\n    MODEL_PATH + '/pretext_models/masking/CN_MLP_gp_to_tfrun1/default/version_0/checkpoints/best_checkpoint_val.ckpt',\\n    MODEL_PATH + '/pretext_models/masking/CN_MLP_gp_to_tfrun2/default/version_0/checkpoints/best_checkpoint_val.ckpt',\\n    MODEL_PATH + '/pretext_models/masking/CN_MLP_gp_to_tfrun3/default/version_0/checkpoints/best_checkpoint_val.ckpt',\\n    MODEL_PATH + '/pretext_models/masking/CN_MLP_gp_to_tfrun4/default/version_0/checkpoints/best_checkpoint_val.ckpt',\\n    \\n    \\n    ### Supervised Models ###\\n    MODEL_PATH + '/final_models/reconstruction/CN_No_SSL_CN_MLPnew_run0_PBMC/default/version_0/checkpoints/best_checkpoint_val.ckpt',\\n    MODEL_PATH + '/final_models/reconstruction/CN_No_SSL_CN_MLPnew_run1_PBMC/default/version_0/checkpoints/best_checkpoint_val.ckpt',\\n    MODEL_PATH + '/final_models/reconstruction/CN_No_SSL_CN_MLPnew_run2_PBMC/default/version_0/checkpoints/best_checkpoint_val.ckpt',\\n    MODEL_PATH + '/final_models/reconstruction/CN_No_SSL_CN_MLPnew_run3_PBMC/default/version_0/checkpoints/best_checkpoint_val.ckpt',\\n    MODEL_PATH + '/final_models/reconstruction/CN_No_SSL_CN_MLPnew_run4_PBMC/default/version_0/checkpoints/best_checkpoint_val.ckpt',\\n    \\n    ### Self-Supervised Models ###\\n    # Gene Program to Transcription Factor\\n    MODEL_PATH + '/final_models/reconstruction/CN_SSL_CN_CN_MLP_gp_to_tfnew_run0_PBMC/default/version_0/checkpoints/best_checkpoint_val.ckpt',\\n    MODEL_PATH + '/final_models/reconstruction/CN_SSL_CN_CN_MLP_gp_to_tfnew_run1_PBMC/default/version_0/checkpoints/best_checkpoint_val.ckpt',\\n    MODEL_PATH + '/final_models/reconstruction/CN_SSL_CN_CN_MLP_gp_to_tfnew_run2_PBMC/default/version_0/checkpoints/best_checkpoint_val.ckpt',\\n    MODEL_PATH + '/final_models/reconstruction/CN_SSL_CN_CN_MLP_gp_to_tfnew_run3_PBMC/default/version_0/checkpoints/best_checkpoint_val.ckpt',\\n    MODEL_PATH + '/final_models/reconstruction/CN_SSL_CN_CN_MLP_gp_to_tfnew_run4_PBMC/default/version_0/checkpoints/best_checkpoint_val.ckpt',\\n    \\n]\\n\""
      ]
     },
     "execution_count": 13,
     "metadata": {},
     "output_type": "execute_result"
    }
   ],
   "source": [
    "\"\"\"\n",
    "model_dirs = [\n",
    "    ### Only Pretrained Models ###\n",
    "    \n",
    "    # Gene Program to Transcription Factor    \n",
    "    MODEL_PATH + '/pretext_models/masking/CN_MLP_gp_to_tf/default/version_2/checkpoints/best_checkpoint_val.ckpt',\n",
    "    MODEL_PATH + '/pretext_models/masking/CN_MLP_gp_to_tfrun1/default/version_0/checkpoints/best_checkpoint_val.ckpt',\n",
    "    MODEL_PATH + '/pretext_models/masking/CN_MLP_gp_to_tfrun2/default/version_0/checkpoints/best_checkpoint_val.ckpt',\n",
    "    MODEL_PATH + '/pretext_models/masking/CN_MLP_gp_to_tfrun3/default/version_0/checkpoints/best_checkpoint_val.ckpt',\n",
    "    MODEL_PATH + '/pretext_models/masking/CN_MLP_gp_to_tfrun4/default/version_0/checkpoints/best_checkpoint_val.ckpt',\n",
    "    \n",
    "    \n",
    "    ### Supervised Models ###\n",
    "    MODEL_PATH + '/final_models/reconstruction/CN_No_SSL_CN_MLPnew_run0_PBMC/default/version_0/checkpoints/best_checkpoint_val.ckpt',\n",
    "    MODEL_PATH + '/final_models/reconstruction/CN_No_SSL_CN_MLPnew_run1_PBMC/default/version_0/checkpoints/best_checkpoint_val.ckpt',\n",
    "    MODEL_PATH + '/final_models/reconstruction/CN_No_SSL_CN_MLPnew_run2_PBMC/default/version_0/checkpoints/best_checkpoint_val.ckpt',\n",
    "    MODEL_PATH + '/final_models/reconstruction/CN_No_SSL_CN_MLPnew_run3_PBMC/default/version_0/checkpoints/best_checkpoint_val.ckpt',\n",
    "    MODEL_PATH + '/final_models/reconstruction/CN_No_SSL_CN_MLPnew_run4_PBMC/default/version_0/checkpoints/best_checkpoint_val.ckpt',\n",
    "    \n",
    "    ### Self-Supervised Models ###\n",
    "    # Gene Program to Transcription Factor\n",
    "    MODEL_PATH + '/final_models/reconstruction/CN_SSL_CN_CN_MLP_gp_to_tfnew_run0_PBMC/default/version_0/checkpoints/best_checkpoint_val.ckpt',\n",
    "    MODEL_PATH + '/final_models/reconstruction/CN_SSL_CN_CN_MLP_gp_to_tfnew_run1_PBMC/default/version_0/checkpoints/best_checkpoint_val.ckpt',\n",
    "    MODEL_PATH + '/final_models/reconstruction/CN_SSL_CN_CN_MLP_gp_to_tfnew_run2_PBMC/default/version_0/checkpoints/best_checkpoint_val.ckpt',\n",
    "    MODEL_PATH + '/final_models/reconstruction/CN_SSL_CN_CN_MLP_gp_to_tfnew_run3_PBMC/default/version_0/checkpoints/best_checkpoint_val.ckpt',\n",
    "    MODEL_PATH + '/final_models/reconstruction/CN_SSL_CN_CN_MLP_gp_to_tfnew_run4_PBMC/default/version_0/checkpoints/best_checkpoint_val.ckpt',\n",
    "    \n",
    "]\n",
    "\"\"\""
   ]
  },
  {
   "cell_type": "code",
   "execution_count": 19,
   "id": "820f02b0-8425-4b1d-abc8-9ed18ac46fab",
   "metadata": {},
   "outputs": [],
   "source": [
    "model_dirs = [\n",
    "    ### Only Pretrained Models ###\n",
    "    MODEL_PATH + '/pretext_models/masking/CN_NegBin_gp_to_tfrun0/default/version_1/checkpoints/best_checkpoint_val.ckpt',\n",
    "    MODEL_PATH + '/pretext_models/masking/CN_NegBin_gp_to_tfrun1/default/version_1/checkpoints/best_checkpoint_val.ckpt',\n",
    "    MODEL_PATH + '/pretext_models/masking/CN_NegBin_gp_to_tfrun2/default/version_1/checkpoints/best_checkpoint_val.ckpt',\n",
    "    MODEL_PATH + '/pretext_models/masking/CN_NegBin_gp_to_tfrun3/default/version_1/checkpoints/best_checkpoint_val.ckpt',\n",
    "    MODEL_PATH + '/pretext_models/masking/CN_NegBin_gp_to_tfrun4/default/version_1/checkpoints/best_checkpoint_val.ckpt', \n",
    "    \n",
    "    ### Supervised Models ###\n",
    "    MODEL_PATH + '/final_models/reconstruction/CN_No_SSL_CN_new_run0NegBin__PBMC/default/version_1/checkpoints/best_checkpoint_val.ckpt',\n",
    "    MODEL_PATH + '/final_models/reconstruction/CN_No_SSL_CN_new_run1NegBin__PBMC/default/version_0/checkpoints/best_checkpoint_val.ckpt',\n",
    "    MODEL_PATH + '/final_models/reconstruction/CN_No_SSL_CN_new_run2NegBin__PBMC/default/version_0/checkpoints/best_checkpoint_val.ckpt',\n",
    "    MODEL_PATH + '/final_models/reconstruction/CN_No_SSL_CN_new_run3NegBin__PBMC/default/version_0/checkpoints/best_checkpoint_val.ckpt',\n",
    "    MODEL_PATH + '/final_models/reconstruction/CN_No_SSL_CN_new_run4NegBin__PBMC/default/version_0/checkpoints/best_checkpoint_val.ckpt',\n",
    "    MODEL_PATH + '/final_models/reconstruction/CN_No_SSL_CN_new_run5NegBin__PBMC/default/version_0/checkpoints/best_checkpoint_val.ckpt',\n",
    "    MODEL_PATH + '/final_models/reconstruction/CN_No_SSL_CN_new_run6NegBin__PBMC/default/version_0/checkpoints/best_checkpoint_val.ckpt',\n",
    "    MODEL_PATH + '/final_models/reconstruction/CN_No_SSL_CN_new_run7NegBin__PBMC/default/version_0/checkpoints/best_checkpoint_val.ckpt',\n",
    "    \n",
    "    \n",
    "    ### Self-Supervised Models ###\n",
    "    # Gene Program to Transcription Factor\n",
    "    MODEL_PATH + '/final_models/reconstruction/CN_SSL_CN_CN_NegBin_gp_to_tfrun0new_run0NegBin__PBMC/default/version_0/checkpoints/best_checkpoint_val.ckpt',\n",
    "    MODEL_PATH + '/final_models/reconstruction/CN_SSL_CN_CN_NegBin_gp_to_tfrun0new_run1NegBin__PBMC/default/version_0/checkpoints/best_checkpoint_val.ckpt',\n",
    "    MODEL_PATH + '/final_models/reconstruction/CN_SSL_CN_CN_NegBin_gp_to_tfrun0new_run2NegBin__PBMC/default/version_0/checkpoints/best_checkpoint_val.ckpt',\n",
    "    MODEL_PATH + '/final_models/reconstruction/CN_SSL_CN_CN_NegBin_gp_to_tfrun0new_run3NegBin__PBMC/default/version_0/checkpoints/best_checkpoint_val.ckpt',\n",
    "    MODEL_PATH + '/final_models/reconstruction/CN_SSL_CN_CN_NegBin_gp_to_tfrun0new_run4NegBin__PBMC/default/version_0/checkpoints/best_checkpoint_val.ckpt',\n",
    "    MODEL_PATH + '/final_models/reconstruction/CN_SSL_CN_CN_NegBin_gp_to_tfrun0new_run5NegBin__PBMC/default/version_0/checkpoints/best_checkpoint_val.ckpt',\n",
    "    MODEL_PATH + '/final_models/reconstruction/CN_SSL_CN_CN_NegBin_gp_to_tfrun0new_run6NegBin__PBMC/default/version_0/checkpoints/best_checkpoint_val.ckpt',\n",
    "]"
   ]
  },
  {
   "cell_type": "code",
   "execution_count": 20,
   "id": "c531e0da-a602-4b94-ac64-711a8a25ad3f",
   "metadata": {},
   "outputs": [],
   "source": [
    "supervised_subset = 41  # PBMC"
   ]
  },
  {
   "cell_type": "code",
   "execution_count": 13,
   "id": "3a93d494-6d92-4754-9a62-a8b4aa1ed9b9",
   "metadata": {},
   "outputs": [
    {
     "name": "stderr",
     "output_type": "stream",
     "text": [
      "GPU available: True (cuda), used: True\n",
      "TPU available: False, using: 0 TPU cores\n",
      "IPU available: False, using: 0 IPUs\n",
      "HPU available: False, using: 0 HPUs\n",
      "LOCAL_RANK: 0 - CUDA_VISIBLE_DEVICES: [0]\n"
     ]
    },
    {
     "data": {
      "application/vnd.jupyter.widget-view+json": {
       "model_id": "0518324e0f6149609707543561ad014f",
       "version_major": 2,
       "version_minor": 0
      },
      "text/plain": [
       "Testing: 0it [00:00, ?it/s]"
      ]
     },
     "metadata": {},
     "output_type": "display_data"
    },
    {
     "data": {
      "text/html": [
       "<pre style=\"white-space:pre;overflow-x:auto;line-height:normal;font-family:Menlo,'DejaVu Sans Mono',consolas,'Courier New',monospace\">┏━━━━━━━━━━━━━━━━━━━━━━━━━━━━━┳━━━━━━━━━━━━━━━━━━━━━━━━━━━━━┓\n",
       "┃<span style=\"font-weight: bold\">         Test metric         </span>┃<span style=\"font-weight: bold\">        DataLoader 0         </span>┃\n",
       "┡━━━━━━━━━━━━━━━━━━━━━━━━━━━━━╇━━━━━━━━━━━━━━━━━━━━━━━━━━━━━┩\n",
       "│<span style=\"color: #008080; text-decoration-color: #008080\"> test_explained_var_uniform  </span>│<span style=\"color: #800080; text-decoration-color: #800080\">   -2.058938298432622e-05    </span>│\n",
       "│<span style=\"color: #008080; text-decoration-color: #008080\"> test_explained_var_weighted </span>│<span style=\"color: #800080; text-decoration-color: #800080\">   -2.823654722305946e-05    </span>│\n",
       "│<span style=\"color: #008080; text-decoration-color: #008080\">          test_loss          </span>│<span style=\"color: #800080; text-decoration-color: #800080\">     0.37847262620925903     </span>│\n",
       "│<span style=\"color: #008080; text-decoration-color: #008080\">          test_mse           </span>│<span style=\"color: #800080; text-decoration-color: #800080\">     0.37847262620925903     </span>│\n",
       "└─────────────────────────────┴─────────────────────────────┘\n",
       "</pre>\n"
      ],
      "text/plain": [
       "┏━━━━━━━━━━━━━━━━━━━━━━━━━━━━━┳━━━━━━━━━━━━━━━━━━━━━━━━━━━━━┓\n",
       "┃\u001b[1m \u001b[0m\u001b[1m        Test metric        \u001b[0m\u001b[1m \u001b[0m┃\u001b[1m \u001b[0m\u001b[1m       DataLoader 0        \u001b[0m\u001b[1m \u001b[0m┃\n",
       "┡━━━━━━━━━━━━━━━━━━━━━━━━━━━━━╇━━━━━━━━━━━━━━━━━━━━━━━━━━━━━┩\n",
       "│\u001b[36m \u001b[0m\u001b[36mtest_explained_var_uniform \u001b[0m\u001b[36m \u001b[0m│\u001b[35m \u001b[0m\u001b[35m  -2.058938298432622e-05   \u001b[0m\u001b[35m \u001b[0m│\n",
       "│\u001b[36m \u001b[0m\u001b[36mtest_explained_var_weighted\u001b[0m\u001b[36m \u001b[0m│\u001b[35m \u001b[0m\u001b[35m  -2.823654722305946e-05   \u001b[0m\u001b[35m \u001b[0m│\n",
       "│\u001b[36m \u001b[0m\u001b[36m         test_loss         \u001b[0m\u001b[36m \u001b[0m│\u001b[35m \u001b[0m\u001b[35m    0.37847262620925903    \u001b[0m\u001b[35m \u001b[0m│\n",
       "│\u001b[36m \u001b[0m\u001b[36m         test_mse          \u001b[0m\u001b[36m \u001b[0m│\u001b[35m \u001b[0m\u001b[35m    0.37847262620925903    \u001b[0m\u001b[35m \u001b[0m│\n",
       "└─────────────────────────────┴─────────────────────────────┘\n"
      ]
     },
     "metadata": {},
     "output_type": "display_data"
    }
   ],
   "source": [
    "metrics = test_random_model(estim, supervised_subset=supervised_subset)"
   ]
  },
  {
   "cell_type": "code",
   "execution_count": 21,
   "id": "c561b70a-fc14-4bc4-b163-14b30f6084c1",
   "metadata": {
    "scrolled": true,
    "tags": []
   },
   "outputs": [
    {
     "name": "stdout",
     "output_type": "stream",
     "text": [
      "Skipping model:  CN_NegBin_gp_to_tfrun0\n",
      "Skipping model:  CN_NegBin_gp_to_tfrun1\n",
      "Skipping model:  CN_NegBin_gp_to_tfrun2\n",
      "Skipping model:  CN_NegBin_gp_to_tfrun3\n",
      "Skipping model:  CN_NegBin_gp_to_tfrun4\n",
      "Skipping model:  CN_No_SSL_CN_new_run0NegBin__PBMC\n",
      "Skipping model:  CN_No_SSL_CN_new_run1NegBin__PBMC\n",
      "Skipping model:  CN_No_SSL_CN_new_run2NegBin__PBMC\n",
      "Skipping model:  CN_No_SSL_CN_new_run3NegBin__PBMC\n",
      "Skipping model:  CN_No_SSL_CN_new_run4NegBin__PBMC\n",
      "Skipping model:  CN_No_SSL_CN_new_run5NegBin__PBMC\n",
      "Skipping model:  CN_No_SSL_CN_new_run6NegBin__PBMC\n",
      "Skipping model:  CN_No_SSL_CN_new_run7NegBin__PBMC\n",
      "Evaluating model:  CN_No_SSL_CN_new_run8NegBin__PBMC\n",
      "Could not load model:  CN_No_SSL_CN_new_run8NegBin__PBMC\n",
      "[Errno 2] No such file or directory: '/lustre/groups/ml01/workspace/till.richter/trained_models//final_models/reconstruction/CN_No_SSL_CN_new_run8NegBin__PBMC/default/version_0/checkpoints/best_checkpoint_val.ckpt'\n",
      "Could not load model:  CN_No_SSL_CN_new_run8NegBin__PBMC\n",
      "update_weights() got an unexpected keyword argument 'model_type'\n",
      "Skipping model:  CN_SSL_CN_CN_NegBin_gp_to_tfrun0new_run0NegBin__PBMC\n",
      "Skipping model:  CN_SSL_CN_CN_NegBin_gp_to_tfrun0new_run1NegBin__PBMC\n",
      "Skipping model:  CN_SSL_CN_CN_NegBin_gp_to_tfrun0new_run2NegBin__PBMC\n",
      "Skipping model:  CN_SSL_CN_CN_NegBin_gp_to_tfrun0new_run3NegBin__PBMC\n",
      "Skipping model:  CN_SSL_CN_CN_NegBin_gp_to_tfrun0new_run4NegBin__PBMC\n",
      "Evaluating model:  CN_SSL_CN_CN_NegBin_gp_to_tfrun0new_run5NegBin__PBMC\n"
     ]
    },
    {
     "name": "stderr",
     "output_type": "stream",
     "text": [
      "GPU available: True (cuda), used: True\n",
      "TPU available: False, using: 0 TPU cores\n",
      "IPU available: False, using: 0 IPUs\n",
      "HPU available: False, using: 0 HPUs\n",
      "LOCAL_RANK: 0 - CUDA_VISIBLE_DEVICES: [0]\n"
     ]
    },
    {
     "data": {
      "application/vnd.jupyter.widget-view+json": {
       "model_id": "b2e30fbae807487690a19bde8445bf8f",
       "version_major": 2,
       "version_minor": 0
      },
      "text/plain": [
       "Testing: 0it [00:00, ?it/s]"
      ]
     },
     "metadata": {},
     "output_type": "display_data"
    },
    {
     "data": {
      "text/html": [
       "<pre style=\"white-space:pre;overflow-x:auto;line-height:normal;font-family:Menlo,'DejaVu Sans Mono',consolas,'Courier New',monospace\">┏━━━━━━━━━━━━━━━━━━━━━━━━━━━━━┳━━━━━━━━━━━━━━━━━━━━━━━━━━━━━┓\n",
       "┃<span style=\"font-weight: bold\">         Test metric         </span>┃<span style=\"font-weight: bold\">        DataLoader 0         </span>┃\n",
       "┡━━━━━━━━━━━━━━━━━━━━━━━━━━━━━╇━━━━━━━━━━━━━━━━━━━━━━━━━━━━━┩\n",
       "│<span style=\"color: #008080; text-decoration-color: #008080\"> test_explained_var_uniform  </span>│<span style=\"color: #800080; text-decoration-color: #800080\">    0.024820495396852493     </span>│\n",
       "│<span style=\"color: #008080; text-decoration-color: #008080\"> test_explained_var_weighted </span>│<span style=\"color: #800080; text-decoration-color: #800080\">     0.13843071460723877     </span>│\n",
       "│<span style=\"color: #008080; text-decoration-color: #008080\">          test_loss          </span>│<span style=\"color: #800080; text-decoration-color: #800080\">      3710.58740234375       </span>│\n",
       "│<span style=\"color: #008080; text-decoration-color: #008080\">          test_mse           </span>│<span style=\"color: #800080; text-decoration-color: #800080\">     0.11273898929357529     </span>│\n",
       "└─────────────────────────────┴─────────────────────────────┘\n",
       "</pre>\n"
      ],
      "text/plain": [
       "┏━━━━━━━━━━━━━━━━━━━━━━━━━━━━━┳━━━━━━━━━━━━━━━━━━━━━━━━━━━━━┓\n",
       "┃\u001b[1m \u001b[0m\u001b[1m        Test metric        \u001b[0m\u001b[1m \u001b[0m┃\u001b[1m \u001b[0m\u001b[1m       DataLoader 0        \u001b[0m\u001b[1m \u001b[0m┃\n",
       "┡━━━━━━━━━━━━━━━━━━━━━━━━━━━━━╇━━━━━━━━━━━━━━━━━━━━━━━━━━━━━┩\n",
       "│\u001b[36m \u001b[0m\u001b[36mtest_explained_var_uniform \u001b[0m\u001b[36m \u001b[0m│\u001b[35m \u001b[0m\u001b[35m   0.024820495396852493    \u001b[0m\u001b[35m \u001b[0m│\n",
       "│\u001b[36m \u001b[0m\u001b[36mtest_explained_var_weighted\u001b[0m\u001b[36m \u001b[0m│\u001b[35m \u001b[0m\u001b[35m    0.13843071460723877    \u001b[0m\u001b[35m \u001b[0m│\n",
       "│\u001b[36m \u001b[0m\u001b[36m         test_loss         \u001b[0m\u001b[36m \u001b[0m│\u001b[35m \u001b[0m\u001b[35m     3710.58740234375      \u001b[0m\u001b[35m \u001b[0m│\n",
       "│\u001b[36m \u001b[0m\u001b[36m         test_mse          \u001b[0m\u001b[36m \u001b[0m│\u001b[35m \u001b[0m\u001b[35m    0.11273898929357529    \u001b[0m\u001b[35m \u001b[0m│\n",
       "└─────────────────────────────┴─────────────────────────────┘\n"
      ]
     },
     "metadata": {},
     "output_type": "display_data"
    },
    {
     "name": "stdout",
     "output_type": "stream",
     "text": [
      "Metrics for model:  CN_SSL_CN_CN_NegBin_gp_to_tfrun0new_run5NegBin__PBMC  :\n",
      " [{'test_explained_var_uniform': 0.024820495396852493, 'test_explained_var_weighted': 0.13843071460723877, 'test_mse': 0.11273898929357529, 'test_loss': 3710.58740234375}]\n",
      "Evaluating model:  CN_SSL_CN_CN_NegBin_gp_to_tfrun0new_run6NegBin__PBMC\n"
     ]
    },
    {
     "name": "stderr",
     "output_type": "stream",
     "text": [
      "GPU available: True (cuda), used: True\n",
      "TPU available: False, using: 0 TPU cores\n",
      "IPU available: False, using: 0 IPUs\n",
      "HPU available: False, using: 0 HPUs\n",
      "LOCAL_RANK: 0 - CUDA_VISIBLE_DEVICES: [0]\n"
     ]
    },
    {
     "data": {
      "application/vnd.jupyter.widget-view+json": {
       "model_id": "fe0156e327c646ae90f0f49fee367484",
       "version_major": 2,
       "version_minor": 0
      },
      "text/plain": [
       "Testing: 0it [00:00, ?it/s]"
      ]
     },
     "metadata": {},
     "output_type": "display_data"
    },
    {
     "data": {
      "text/html": [
       "<pre style=\"white-space:pre;overflow-x:auto;line-height:normal;font-family:Menlo,'DejaVu Sans Mono',consolas,'Courier New',monospace\">┏━━━━━━━━━━━━━━━━━━━━━━━━━━━━━┳━━━━━━━━━━━━━━━━━━━━━━━━━━━━━┓\n",
       "┃<span style=\"font-weight: bold\">         Test metric         </span>┃<span style=\"font-weight: bold\">        DataLoader 0         </span>┃\n",
       "┡━━━━━━━━━━━━━━━━━━━━━━━━━━━━━╇━━━━━━━━━━━━━━━━━━━━━━━━━━━━━┩\n",
       "│<span style=\"color: #008080; text-decoration-color: #008080\"> test_explained_var_uniform  </span>│<span style=\"color: #800080; text-decoration-color: #800080\">    0.024853991344571114     </span>│\n",
       "│<span style=\"color: #008080; text-decoration-color: #008080\"> test_explained_var_weighted </span>│<span style=\"color: #800080; text-decoration-color: #800080\">     0.13898102939128876     </span>│\n",
       "│<span style=\"color: #008080; text-decoration-color: #008080\">          test_loss          </span>│<span style=\"color: #800080; text-decoration-color: #800080\">       3709.5068359375       </span>│\n",
       "│<span style=\"color: #008080; text-decoration-color: #008080\">          test_mse           </span>│<span style=\"color: #800080; text-decoration-color: #800080\">     0.1126665323972702      </span>│\n",
       "└─────────────────────────────┴─────────────────────────────┘\n",
       "</pre>\n"
      ],
      "text/plain": [
       "┏━━━━━━━━━━━━━━━━━━━━━━━━━━━━━┳━━━━━━━━━━━━━━━━━━━━━━━━━━━━━┓\n",
       "┃\u001b[1m \u001b[0m\u001b[1m        Test metric        \u001b[0m\u001b[1m \u001b[0m┃\u001b[1m \u001b[0m\u001b[1m       DataLoader 0        \u001b[0m\u001b[1m \u001b[0m┃\n",
       "┡━━━━━━━━━━━━━━━━━━━━━━━━━━━━━╇━━━━━━━━━━━━━━━━━━━━━━━━━━━━━┩\n",
       "│\u001b[36m \u001b[0m\u001b[36mtest_explained_var_uniform \u001b[0m\u001b[36m \u001b[0m│\u001b[35m \u001b[0m\u001b[35m   0.024853991344571114    \u001b[0m\u001b[35m \u001b[0m│\n",
       "│\u001b[36m \u001b[0m\u001b[36mtest_explained_var_weighted\u001b[0m\u001b[36m \u001b[0m│\u001b[35m \u001b[0m\u001b[35m    0.13898102939128876    \u001b[0m\u001b[35m \u001b[0m│\n",
       "│\u001b[36m \u001b[0m\u001b[36m         test_loss         \u001b[0m\u001b[36m \u001b[0m│\u001b[35m \u001b[0m\u001b[35m      3709.5068359375      \u001b[0m\u001b[35m \u001b[0m│\n",
       "│\u001b[36m \u001b[0m\u001b[36m         test_mse          \u001b[0m\u001b[36m \u001b[0m│\u001b[35m \u001b[0m\u001b[35m    0.1126665323972702     \u001b[0m\u001b[35m \u001b[0m│\n",
       "└─────────────────────────────┴─────────────────────────────┘\n"
      ]
     },
     "metadata": {},
     "output_type": "display_data"
    },
    {
     "name": "stdout",
     "output_type": "stream",
     "text": [
      "Metrics for model:  CN_SSL_CN_CN_NegBin_gp_to_tfrun0new_run6NegBin__PBMC  :\n",
      " [{'test_explained_var_uniform': 0.024853991344571114, 'test_explained_var_weighted': 0.13898102939128876, 'test_mse': 0.1126665323972702, 'test_loss': 3709.5068359375}]\n"
     ]
    }
   ],
   "source": [
    "metrics = eval_rec(estim, model_dirs, supervised_subset=supervised_subset)"
   ]
  },
  {
   "cell_type": "markdown",
   "id": "086c79c1-4f5f-4a92-94e1-ba92848f80a1",
   "metadata": {},
   "source": [
    "### Tabula Sapiens"
   ]
  },
  {
   "cell_type": "code",
   "execution_count": 18,
   "id": "fc2460cd-efb1-4bf9-987b-ce8edcf3f3dc",
   "metadata": {},
   "outputs": [
    {
     "data": {
      "text/plain": [
       "\"\\nmodel_dirs = [\\n    ### Only Pretrained Models ###\\n    \\n    # Gene Program to Transcription Factor    \\n    MODEL_PATH + '/pretext_models/masking/CN_MLP_gp_to_tf/default/version_2/checkpoints/best_checkpoint_val.ckpt',\\n    MODEL_PATH + '/pretext_models/masking/CN_MLP_gp_to_tfrun1/default/version_0/checkpoints/best_checkpoint_val.ckpt',\\n    MODEL_PATH + '/pretext_models/masking/CN_MLP_gp_to_tfrun2/default/version_0/checkpoints/best_checkpoint_val.ckpt',\\n    MODEL_PATH + '/pretext_models/masking/CN_MLP_gp_to_tfrun3/default/version_0/checkpoints/best_checkpoint_val.ckpt',\\n    MODEL_PATH + '/pretext_models/masking/CN_MLP_gp_to_tfrun4/default/version_0/checkpoints/best_checkpoint_val.ckpt',\\n    \\n    \\n    ### Supervised Models ###\\n    MODEL_PATH + '/final_models/reconstruction/CN_No_SSL_CN_MLPnew_run0_Tabula_Sapiens/default/version_0/checkpoints/best_checkpoint_val.ckpt',\\n    MODEL_PATH + '/final_models/reconstruction/CN_No_SSL_CN_MLPnew_run1_Tabula_Sapiens/default/version_0/checkpoints/best_checkpoint_val.ckpt',\\n    MODEL_PATH + '/final_models/reconstruction/CN_No_SSL_CN_MLPnew_run2_Tabula_Sapiens/default/version_0/checkpoints/best_checkpoint_val.ckpt',\\n    MODEL_PATH + '/final_models/reconstruction/CN_No_SSL_CN_MLPnew_run3_Tabula_Sapiens/default/version_0/checkpoints/best_checkpoint_val.ckpt',\\n    MODEL_PATH + '/final_models/reconstruction/CN_No_SSL_CN_MLPnew_run4_Tabula_Sapiens/default/version_0/checkpoints/best_checkpoint_val.ckpt',\\n    \\n    ### Self-Supervised Models ###\\n    # Gene Program to Transcription Factor\\n    MODEL_PATH + '/final_models/reconstruction/CN_SSL_CN_CN_MLP_gp_to_tfnew_run0_Tabula_Sapiens/default/version_0/checkpoints/best_checkpoint_val.ckpt',\\n    MODEL_PATH + '/final_models/reconstruction/CN_SSL_CN_CN_MLP_gp_to_tfnew_run1_Tabula_Sapiens/default/version_0/checkpoints/best_checkpoint_val.ckpt',\\n    MODEL_PATH + '/final_models/reconstruction/CN_SSL_CN_CN_MLP_gp_to_tfnew_run2_Tabula_Sapiens/default/version_0/checkpoints/best_checkpoint_val.ckpt',\\n    MODEL_PATH + '/final_models/reconstruction/CN_SSL_CN_CN_MLP_gp_to_tfnew_run3_Tabula_Sapiens/default/version_0/checkpoints/best_checkpoint_val.ckpt',\\n    MODEL_PATH + '/final_models/reconstruction/CN_SSL_CN_CN_MLP_gp_to_tfnew_run4_Tabula_Sapiens/default/version_0/checkpoints/best_checkpoint_val.ckpt',\\n    \\n]\\n\""
      ]
     },
     "execution_count": 18,
     "metadata": {},
     "output_type": "execute_result"
    }
   ],
   "source": [
    "\"\"\"\n",
    "model_dirs = [\n",
    "    ### Only Pretrained Models ###\n",
    "    \n",
    "    # Gene Program to Transcription Factor    \n",
    "    MODEL_PATH + '/pretext_models/masking/CN_MLP_gp_to_tf/default/version_2/checkpoints/best_checkpoint_val.ckpt',\n",
    "    MODEL_PATH + '/pretext_models/masking/CN_MLP_gp_to_tfrun1/default/version_0/checkpoints/best_checkpoint_val.ckpt',\n",
    "    MODEL_PATH + '/pretext_models/masking/CN_MLP_gp_to_tfrun2/default/version_0/checkpoints/best_checkpoint_val.ckpt',\n",
    "    MODEL_PATH + '/pretext_models/masking/CN_MLP_gp_to_tfrun3/default/version_0/checkpoints/best_checkpoint_val.ckpt',\n",
    "    MODEL_PATH + '/pretext_models/masking/CN_MLP_gp_to_tfrun4/default/version_0/checkpoints/best_checkpoint_val.ckpt',\n",
    "    \n",
    "    \n",
    "    ### Supervised Models ###\n",
    "    MODEL_PATH + '/final_models/reconstruction/CN_No_SSL_CN_MLPnew_run0_Tabula_Sapiens/default/version_0/checkpoints/best_checkpoint_val.ckpt',\n",
    "    MODEL_PATH + '/final_models/reconstruction/CN_No_SSL_CN_MLPnew_run1_Tabula_Sapiens/default/version_0/checkpoints/best_checkpoint_val.ckpt',\n",
    "    MODEL_PATH + '/final_models/reconstruction/CN_No_SSL_CN_MLPnew_run2_Tabula_Sapiens/default/version_0/checkpoints/best_checkpoint_val.ckpt',\n",
    "    MODEL_PATH + '/final_models/reconstruction/CN_No_SSL_CN_MLPnew_run3_Tabula_Sapiens/default/version_0/checkpoints/best_checkpoint_val.ckpt',\n",
    "    MODEL_PATH + '/final_models/reconstruction/CN_No_SSL_CN_MLPnew_run4_Tabula_Sapiens/default/version_0/checkpoints/best_checkpoint_val.ckpt',\n",
    "    \n",
    "    ### Self-Supervised Models ###\n",
    "    # Gene Program to Transcription Factor\n",
    "    MODEL_PATH + '/final_models/reconstruction/CN_SSL_CN_CN_MLP_gp_to_tfnew_run0_Tabula_Sapiens/default/version_0/checkpoints/best_checkpoint_val.ckpt',\n",
    "    MODEL_PATH + '/final_models/reconstruction/CN_SSL_CN_CN_MLP_gp_to_tfnew_run1_Tabula_Sapiens/default/version_0/checkpoints/best_checkpoint_val.ckpt',\n",
    "    MODEL_PATH + '/final_models/reconstruction/CN_SSL_CN_CN_MLP_gp_to_tfnew_run2_Tabula_Sapiens/default/version_0/checkpoints/best_checkpoint_val.ckpt',\n",
    "    MODEL_PATH + '/final_models/reconstruction/CN_SSL_CN_CN_MLP_gp_to_tfnew_run3_Tabula_Sapiens/default/version_0/checkpoints/best_checkpoint_val.ckpt',\n",
    "    MODEL_PATH + '/final_models/reconstruction/CN_SSL_CN_CN_MLP_gp_to_tfnew_run4_Tabula_Sapiens/default/version_0/checkpoints/best_checkpoint_val.ckpt',\n",
    "    \n",
    "]\n",
    "\"\"\""
   ]
  },
  {
   "cell_type": "code",
   "execution_count": 22,
   "id": "c87f0f6b-0480-4785-9c45-ccf78adf4548",
   "metadata": {},
   "outputs": [],
   "source": [
    "model_dirs = [\n",
    "    ### Only Pretrained Models ###\n",
    "    MODEL_PATH + '/pretext_models/masking/CN_NegBin_gp_to_tfrun0/default/version_1/checkpoints/best_checkpoint_val.ckpt',\n",
    "    MODEL_PATH + '/pretext_models/masking/CN_NegBin_gp_to_tfrun1/default/version_1/checkpoints/best_checkpoint_val.ckpt',\n",
    "    MODEL_PATH + '/pretext_models/masking/CN_NegBin_gp_to_tfrun2/default/version_1/checkpoints/best_checkpoint_val.ckpt',\n",
    "    MODEL_PATH + '/pretext_models/masking/CN_NegBin_gp_to_tfrun3/default/version_1/checkpoints/best_checkpoint_val.ckpt',\n",
    "    MODEL_PATH + '/pretext_models/masking/CN_NegBin_gp_to_tfrun4/default/version_1/checkpoints/best_checkpoint_val.ckpt',\n",
    "    \n",
    "    \n",
    "    ### Supervised Models ###\n",
    "    MODEL_PATH + '/final_models/reconstruction/CN_No_SSL_CN_new_run0NegBin__Tabula_Sapiens/default/version_0/checkpoints/best_checkpoint_val.ckpt',\n",
    "    MODEL_PATH + '/final_models/reconstruction/CN_No_SSL_CN_new_run1NegBin__Tabula_Sapiens/default/version_0/checkpoints/best_checkpoint_val.ckpt',\n",
    "    MODEL_PATH + '/final_models/reconstruction/CN_No_SSL_CN_new_run2NegBin__Tabula_Sapiens/default/version_0/checkpoints/best_checkpoint_val.ckpt',\n",
    "    MODEL_PATH + '/final_models/reconstruction/CN_No_SSL_CN_new_run3NegBin__Tabula_Sapiens/default/version_0/checkpoints/best_checkpoint_val.ckpt',\n",
    "    MODEL_PATH + '/final_models/reconstruction/CN_No_SSL_CN_new_run4NegBin__Tabula_Sapiens/default/version_0/checkpoints/best_checkpoint_val.ckpt',\n",
    "    \n",
    "    ### Self-Supervised Models ###\n",
    "    MODEL_PATH + '/final_models/reconstruction/CN_SSL_CN_CN_NegBin_gp_to_tfrun0new_run0NegBin__Tabula_Sapiens/default/version_0/checkpoints/best_checkpoint_val.ckpt',\n",
    "    MODEL_PATH + '/final_models/reconstruction/CN_SSL_CN_CN_NegBin_gp_to_tfrun0new_run1NegBin__Tabula_Sapiens/default/version_0/checkpoints/best_checkpoint_val.ckpt',\n",
    "    MODEL_PATH + '/final_models/reconstruction/CN_SSL_CN_CN_NegBin_gp_to_tfrun0new_run2NegBin__Tabula_Sapiens/default/version_0/checkpoints/best_checkpoint_val.ckpt',\n",
    "    MODEL_PATH + '/final_models/reconstruction/CN_SSL_CN_CN_NegBin_gp_to_tfrun0new_run3NegBin__Tabula_Sapiens/default/version_0/checkpoints/best_checkpoint_val.ckpt',\n",
    "    MODEL_PATH + '/final_models/reconstruction/CN_SSL_CN_CN_NegBin_gp_to_tfrun0new_run4NegBin__Tabula_Sapiens/default/version_0/checkpoints/best_checkpoint_val.ckpt',\n",
    "]"
   ]
  },
  {
   "cell_type": "code",
   "execution_count": 23,
   "id": "f86da2ee-69e0-4b66-a4f5-d57cf5f5eaf2",
   "metadata": {},
   "outputs": [],
   "source": [
    "supervised_subset = 87  # Tabula Sapiens"
   ]
  },
  {
   "cell_type": "code",
   "execution_count": 21,
   "id": "cd73a058-b8df-41f5-a61f-7a9eec825384",
   "metadata": {},
   "outputs": [
    {
     "name": "stderr",
     "output_type": "stream",
     "text": [
      "GPU available: True (cuda), used: True\n",
      "TPU available: False, using: 0 TPU cores\n",
      "IPU available: False, using: 0 IPUs\n",
      "HPU available: False, using: 0 HPUs\n",
      "LOCAL_RANK: 0 - CUDA_VISIBLE_DEVICES: [0]\n"
     ]
    },
    {
     "data": {
      "application/vnd.jupyter.widget-view+json": {
       "model_id": "4346edd725734aad86d447ccad154e89",
       "version_major": 2,
       "version_minor": 0
      },
      "text/plain": [
       "Testing: 0it [00:00, ?it/s]"
      ]
     },
     "metadata": {},
     "output_type": "display_data"
    },
    {
     "data": {
      "text/html": [
       "<pre style=\"white-space:pre;overflow-x:auto;line-height:normal;font-family:Menlo,'DejaVu Sans Mono',consolas,'Courier New',monospace\">┏━━━━━━━━━━━━━━━━━━━━━━━━━━━━━┳━━━━━━━━━━━━━━━━━━━━━━━━━━━━━┓\n",
       "┃<span style=\"font-weight: bold\">         Test metric         </span>┃<span style=\"font-weight: bold\">        DataLoader 0         </span>┃\n",
       "┡━━━━━━━━━━━━━━━━━━━━━━━━━━━━━╇━━━━━━━━━━━━━━━━━━━━━━━━━━━━━┩\n",
       "│<span style=\"color: #008080; text-decoration-color: #008080\"> test_explained_var_uniform  </span>│<span style=\"color: #800080; text-decoration-color: #800080\">   -0.0005711353733204305    </span>│\n",
       "│<span style=\"color: #008080; text-decoration-color: #008080\"> test_explained_var_weighted </span>│<span style=\"color: #800080; text-decoration-color: #800080\">   -6.664633110631257e-05    </span>│\n",
       "│<span style=\"color: #008080; text-decoration-color: #008080\">          test_loss          </span>│<span style=\"color: #800080; text-decoration-color: #800080\">     0.3395370543003082      </span>│\n",
       "│<span style=\"color: #008080; text-decoration-color: #008080\">          test_mse           </span>│<span style=\"color: #800080; text-decoration-color: #800080\">     0.3395370543003082      </span>│\n",
       "└─────────────────────────────┴─────────────────────────────┘\n",
       "</pre>\n"
      ],
      "text/plain": [
       "┏━━━━━━━━━━━━━━━━━━━━━━━━━━━━━┳━━━━━━━━━━━━━━━━━━━━━━━━━━━━━┓\n",
       "┃\u001b[1m \u001b[0m\u001b[1m        Test metric        \u001b[0m\u001b[1m \u001b[0m┃\u001b[1m \u001b[0m\u001b[1m       DataLoader 0        \u001b[0m\u001b[1m \u001b[0m┃\n",
       "┡━━━━━━━━━━━━━━━━━━━━━━━━━━━━━╇━━━━━━━━━━━━━━━━━━━━━━━━━━━━━┩\n",
       "│\u001b[36m \u001b[0m\u001b[36mtest_explained_var_uniform \u001b[0m\u001b[36m \u001b[0m│\u001b[35m \u001b[0m\u001b[35m  -0.0005711353733204305   \u001b[0m\u001b[35m \u001b[0m│\n",
       "│\u001b[36m \u001b[0m\u001b[36mtest_explained_var_weighted\u001b[0m\u001b[36m \u001b[0m│\u001b[35m \u001b[0m\u001b[35m  -6.664633110631257e-05   \u001b[0m\u001b[35m \u001b[0m│\n",
       "│\u001b[36m \u001b[0m\u001b[36m         test_loss         \u001b[0m\u001b[36m \u001b[0m│\u001b[35m \u001b[0m\u001b[35m    0.3395370543003082     \u001b[0m\u001b[35m \u001b[0m│\n",
       "│\u001b[36m \u001b[0m\u001b[36m         test_mse          \u001b[0m\u001b[36m \u001b[0m│\u001b[35m \u001b[0m\u001b[35m    0.3395370543003082     \u001b[0m\u001b[35m \u001b[0m│\n",
       "└─────────────────────────────┴─────────────────────────────┘\n"
      ]
     },
     "metadata": {},
     "output_type": "display_data"
    }
   ],
   "source": [
    "metrics = test_random_model(estim, supervised_subset=supervised_subset)"
   ]
  },
  {
   "cell_type": "code",
   "execution_count": 24,
   "id": "72a7bf5d-c1d4-4c54-8c67-09b044cb6f5e",
   "metadata": {
    "scrolled": true,
    "tags": []
   },
   "outputs": [
    {
     "name": "stdout",
     "output_type": "stream",
     "text": [
      "Skipping model:  CN_NegBin_gp_to_tfrun0\n",
      "Skipping model:  CN_NegBin_gp_to_tfrun1\n",
      "Skipping model:  CN_NegBin_gp_to_tfrun2\n",
      "Skipping model:  CN_NegBin_gp_to_tfrun3\n",
      "Skipping model:  CN_NegBin_gp_to_tfrun4\n",
      "Skipping model:  CN_No_SSL_CN_new_run0NegBin__Tabula_Sapiens\n",
      "Skipping model:  CN_No_SSL_CN_new_run1NegBin__Tabula_Sapiens\n",
      "Skipping model:  CN_No_SSL_CN_new_run2NegBin__Tabula_Sapiens\n",
      "Evaluating model:  CN_No_SSL_CN_new_run3NegBin__Tabula_Sapiens\n"
     ]
    },
    {
     "name": "stderr",
     "output_type": "stream",
     "text": [
      "GPU available: True (cuda), used: True\n",
      "TPU available: False, using: 0 TPU cores\n",
      "IPU available: False, using: 0 IPUs\n",
      "HPU available: False, using: 0 HPUs\n",
      "LOCAL_RANK: 0 - CUDA_VISIBLE_DEVICES: [0]\n"
     ]
    },
    {
     "data": {
      "application/vnd.jupyter.widget-view+json": {
       "model_id": "3edbe3c994cc4b0bab9e8e84ac1732b8",
       "version_major": 2,
       "version_minor": 0
      },
      "text/plain": [
       "Testing: 0it [00:00, ?it/s]"
      ]
     },
     "metadata": {},
     "output_type": "display_data"
    },
    {
     "name": "stderr",
     "output_type": "stream",
     "text": [
      "IOPub message rate exceeded.\n",
      "The Jupyter server will temporarily stop sending output\n",
      "to the client in order to avoid crashing it.\n",
      "To change this limit, set the config variable\n",
      "`--ServerApp.iopub_msg_rate_limit`.\n",
      "\n",
      "Current values:\n",
      "ServerApp.iopub_msg_rate_limit=1000.0 (msgs/sec)\n",
      "ServerApp.rate_limit_window=3.0 (secs)\n",
      "\n"
     ]
    },
    {
     "data": {
      "text/html": [
       "<pre style=\"white-space:pre;overflow-x:auto;line-height:normal;font-family:Menlo,'DejaVu Sans Mono',consolas,'Courier New',monospace\">┏━━━━━━━━━━━━━━━━━━━━━━━━━━━━━┳━━━━━━━━━━━━━━━━━━━━━━━━━━━━━┓\n",
       "┃<span style=\"font-weight: bold\">         Test metric         </span>┃<span style=\"font-weight: bold\">        DataLoader 0         </span>┃\n",
       "┡━━━━━━━━━━━━━━━━━━━━━━━━━━━━━╇━━━━━━━━━━━━━━━━━━━━━━━━━━━━━┩\n",
       "│<span style=\"color: #008080; text-decoration-color: #008080\"> test_explained_var_uniform  </span>│<span style=\"color: #800080; text-decoration-color: #800080\">     0.03977331519126892     </span>│\n",
       "│<span style=\"color: #008080; text-decoration-color: #008080\"> test_explained_var_weighted </span>│<span style=\"color: #800080; text-decoration-color: #800080\">     0.25627702474594116     </span>│\n",
       "│<span style=\"color: #008080; text-decoration-color: #008080\">          test_loss          </span>│<span style=\"color: #800080; text-decoration-color: #800080\">       4909.5283203125       </span>│\n",
       "│<span style=\"color: #008080; text-decoration-color: #008080\">          test_mse           </span>│<span style=\"color: #800080; text-decoration-color: #800080\">      0.086342453956604      </span>│\n",
       "└─────────────────────────────┴─────────────────────────────┘\n",
       "</pre>\n"
      ],
      "text/plain": [
       "┏━━━━━━━━━━━━━━━━━━━━━━━━━━━━━┳━━━━━━━━━━━━━━━━━━━━━━━━━━━━━┓\n",
       "┃\u001b[1m \u001b[0m\u001b[1m        Test metric        \u001b[0m\u001b[1m \u001b[0m┃\u001b[1m \u001b[0m\u001b[1m       DataLoader 0        \u001b[0m\u001b[1m \u001b[0m┃\n",
       "┡━━━━━━━━━━━━━━━━━━━━━━━━━━━━━╇━━━━━━━━━━━━━━━━━━━━━━━━━━━━━┩\n",
       "│\u001b[36m \u001b[0m\u001b[36mtest_explained_var_uniform \u001b[0m\u001b[36m \u001b[0m│\u001b[35m \u001b[0m\u001b[35m    0.03977331519126892    \u001b[0m\u001b[35m \u001b[0m│\n",
       "│\u001b[36m \u001b[0m\u001b[36mtest_explained_var_weighted\u001b[0m\u001b[36m \u001b[0m│\u001b[35m \u001b[0m\u001b[35m    0.25627702474594116    \u001b[0m\u001b[35m \u001b[0m│\n",
       "│\u001b[36m \u001b[0m\u001b[36m         test_loss         \u001b[0m\u001b[36m \u001b[0m│\u001b[35m \u001b[0m\u001b[35m      4909.5283203125      \u001b[0m\u001b[35m \u001b[0m│\n",
       "│\u001b[36m \u001b[0m\u001b[36m         test_mse          \u001b[0m\u001b[36m \u001b[0m│\u001b[35m \u001b[0m\u001b[35m     0.086342453956604     \u001b[0m\u001b[35m \u001b[0m│\n",
       "└─────────────────────────────┴─────────────────────────────┘\n"
      ]
     },
     "metadata": {},
     "output_type": "display_data"
    },
    {
     "name": "stdout",
     "output_type": "stream",
     "text": [
      "Metrics for model:  CN_No_SSL_CN_new_run4NegBin__Tabula_Sapiens  :\n",
      " [{'test_explained_var_uniform': 0.03977331519126892, 'test_explained_var_weighted': 0.25627702474594116, 'test_mse': 0.086342453956604, 'test_loss': 4909.5283203125}]\n",
      "Skipping model:  CN_SSL_CN_CN_NegBin_gp_to_tfrun0new_run0NegBin__Tabula_Sapiens\n",
      "Skipping model:  CN_SSL_CN_CN_NegBin_gp_to_tfrun0new_run1NegBin__Tabula_Sapiens\n",
      "Skipping model:  CN_SSL_CN_CN_NegBin_gp_to_tfrun0new_run2NegBin__Tabula_Sapiens\n",
      "Skipping model:  CN_SSL_CN_CN_NegBin_gp_to_tfrun0new_run3NegBin__Tabula_Sapiens\n",
      "Skipping model:  CN_SSL_CN_CN_NegBin_gp_to_tfrun0new_run4NegBin__Tabula_Sapiens\n"
     ]
    }
   ],
   "source": [
    "metrics = eval_rec(estim, model_dirs, supervised_subset=supervised_subset)"
   ]
  },
  {
   "cell_type": "code",
   "execution_count": null,
   "id": "1a216fa0-428e-4264-a5d1-a42ad39e1c60",
   "metadata": {},
   "outputs": [],
   "source": []
  },
  {
   "cell_type": "code",
   "execution_count": null,
   "id": "2d03406d-05a6-4178-8f4a-36297f2f5aea",
   "metadata": {},
   "outputs": [],
   "source": []
  }
 ],
 "metadata": {
  "kernelspec": {
   "display_name": "Python [conda env:celldreamer]",
   "language": "python",
   "name": "celldreamer"
  },
  "language_info": {
   "codemirror_mode": {
    "name": "ipython",
    "version": 3
   },
   "file_extension": ".py",
   "mimetype": "text/x-python",
   "name": "python",
   "nbconvert_exporter": "python",
   "pygments_lexer": "ipython3",
   "version": "3.10.12"
  }
 },
 "nbformat": 4,
 "nbformat_minor": 5
}
