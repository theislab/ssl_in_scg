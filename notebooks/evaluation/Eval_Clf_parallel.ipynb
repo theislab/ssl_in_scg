{
 "cells": [
  {
   "cell_type": "code",
   "execution_count": 1,
   "id": "ea6566e4-80ef-44c5-abbe-c93a13a6cc26",
   "metadata": {},
   "outputs": [],
   "source": [
    "%load_ext autoreload"
   ]
  },
  {
   "cell_type": "code",
   "execution_count": 2,
   "id": "bae353b4-227a-4515-8aee-4543a5c09c0e",
   "metadata": {},
   "outputs": [],
   "source": [
    "import lightning.pytorch as pl\n",
    "import torch\n",
    "import os\n",
    "import dask.dataframe as dd\n",
    "import pandas as pd\n",
    "import seaborn as sns\n",
    "import numpy as np\n",
    "import matplotlib.pyplot as plt\n",
    "import scanpy as sc\n",
    "import anndata\n",
    "from matplotlib import rcParams"
   ]
  },
  {
   "cell_type": "code",
   "execution_count": 3,
   "id": "ce184040-bed6-4865-b944-914ee40e1be0",
   "metadata": {},
   "outputs": [],
   "source": [
    "%autoreload 2\n",
    "from self_supervision.estimator.cellnet import EstimatorAutoEncoder\n",
    "from self_supervision.models.lightning_modules.cellnet_autoencoder import MLPClassifier\n",
    "from self_supervision.tester.classifier.test import eval_clf, test_pretrained_model, correct_labels\n",
    "# from self_supervision.tester.classifier.kNN import eval_emb_knn\n",
    "from self_supervision.tester.classifier.kNN_new import eval_emb_knn, eval_emb_knn_hvgs\n",
    "from self_supervision.data.datamodules import get_large_ood_dataloader\n",
    "from self_supervision.data.ood_adata import create_ood_dataloader"
   ]
  },
  {
   "cell_type": "code",
   "execution_count": 4,
   "id": "e21c92a8-d084-475a-b407-74db0c423267",
   "metadata": {},
   "outputs": [],
   "source": [
    "DATA_PATH = '/lustre/groups/ml01/workspace/till.richter/merlin_cxg_2023_05_15_sf-log1p'  # this is a shared directory in which the data is stored\n",
    "MODEL_PATH = '/lustre/groups/ml01/workspace/till.richter/trained_models/'\n",
    "RESULT_PATH = '/lustre/groups/ml01/workspace/till.richter/ssl_results'\n",
    "ADATA_PATH = '/lustre/groups/ml01/workspace/till.richter/'\n",
    "HVG = True"
   ]
  },
  {
   "cell_type": "code",
   "execution_count": 5,
   "id": "c4d3984d-e261-4330-8ffc-95e12c9057bd",
   "metadata": {},
   "outputs": [],
   "source": [
    "# Set the global font to be Calibri, size 6\n",
    "rcParams['font.family'] = 'Calibri'\n",
    "rcParams['font.size'] = 6"
   ]
  },
  {
   "cell_type": "markdown",
   "id": "5082c685-c446-4e48-a806-f089bd295224",
   "metadata": {},
   "source": [
    "# Figure 1\n",
    "Compare performance on hold out test set on CellNet\n",
    "\n",
    "kNN classification to include PCA, scVI, Only Pretrained, Supervised, and Self-Supervised"
   ]
  },
  {
   "cell_type": "markdown",
   "id": "e2d17620-99c7-4a89-aa21-9dde9ecd5e1a",
   "metadata": {},
   "source": [
    "1) Full Transcriptome"
   ]
  },
  {
   "cell_type": "code",
   "execution_count": 6,
   "id": "83849546-9d59-4e26-b4c8-96700b083047",
   "metadata": {},
   "outputs": [],
   "source": [
    "# init estim class\n",
    "estim = EstimatorAutoEncoder(DATA_PATH, hvg=False)"
   ]
  },
  {
   "cell_type": "code",
   "execution_count": 7,
   "id": "ed64049d-3655-4c1f-b5de-1351bb273dab",
   "metadata": {},
   "outputs": [],
   "source": [
    "# init datamodule\n",
    "estim.init_datamodule(batch_size=512) "
   ]
  },
  {
   "cell_type": "code",
   "execution_count": 8,
   "id": "c4ddde56-11b1-42b2-aaa1-f75b96c5a0b5",
   "metadata": {},
   "outputs": [
    {
     "name": "stderr",
     "output_type": "stream",
     "text": [
      "GPU available: True (cuda), used: True\n",
      "TPU available: False, using: 0 TPU cores\n",
      "IPU available: False, using: 0 IPUs\n",
      "HPU available: False, using: 0 HPUs\n"
     ]
    }
   ],
   "source": [
    "estim.trainer = pl.Trainer(logger=[], accelerator='gpu', devices=1)"
   ]
  },
  {
   "cell_type": "code",
   "execution_count": 8,
   "id": "c972c017-10d0-4873-9b19-93f688a202b2",
   "metadata": {},
   "outputs": [],
   "source": [
    "# PCA and Random Done as well\n",
    "model_dirs = [\n",
    "    ### Supervised Models ###\n",
    "    \n",
    "    # MODEL_PATH + '/final_models/classification/No_SSL_run0/default/version_0/checkpoints/best_checkpoint_val.ckpt',  # Done\n",
    "    # MODEL_PATH + '/final_models/classification/No_SSL_run1/default/version_0/checkpoints/best_checkpoint_val.ckpt',  # Done\n",
    "    # MODEL_PATH + '/final_models/classification/No_SSL_run2/default/version_0/checkpoints/best_checkpoint_val.ckpt',  # Done\n",
    "    # MODEL_PATH + '/final_models/classification/No_SSL_run3/default/version_0/checkpoints/best_checkpoint_val.ckpt',  # Done\n",
    "    # MODEL_PATH + '/final_models/classification/No_SSL_run4/default/version_0/checkpoints/best_checkpoint_val.ckpt',  # Done\n",
    "    \n",
    "    ### Only Pretrained Models ###\n",
    "    \n",
    "    # Individual Gene Masking\n",
    "    # MODEL_PATH + '/pretext_models/masking/CN_MLP_50p/default/version_1/checkpoints/best_checkpoint_val.ckpt',  # Done\n",
    "    \n",
    "    # Gene Program Masking\n",
    "    # MODEL_PATH + '/pretext_models/masking/CN_MLP_gene_program_C8_25p/default/version_2/checkpoints/best_checkpoint_val.ckpt',  # Done\n",
    "\n",
    "    # Gene Program to Gene Program\n",
    "    # MODEL_PATH + '/pretext_models/masking/CN_MLP_single_gene_program/default/version_1/checkpoints/best_checkpoint_val.ckpt',  # Done\n",
    "    \n",
    "    # Gene Program to Transcription Factor    \n",
    "    # MODEL_PATH + '/pretext_models/masking/CN_MLP_gp_to_tf/default/version_2/checkpoints/best_checkpoint_val.ckpt',  # Done\n",
    "    \n",
    "    # Boostrap Your Own Latent (BYOL)\n",
    "    # MODEL_PATH + '/pretext_models/contrastive/MLP_BYOL_Gaussian_0_001_v4/default/version_0/checkpoints/best_checkpoint_val.ckpt',  # Done\n",
    "    \n",
    "    # Barlow Twins\n",
    "    # MODEL_PATH + '/pretext_models/contrastive/MLP_bt_Gaussian_0_001/best_checkpoint_val.ckpt',  # Done\n",
    "    \n",
    "    ### Self-Supervised Models ###\n",
    "    \n",
    "    # Individual Gene Masking\n",
    "    # MODEL_PATH + '/final_models/classification/SSL_CN_MLP_50prun0/default/version_0/checkpoints/best_checkpoint_val.ckpt',  # Done\n",
    "    # MODEL_PATH + '/final_models/classification/SSL_CN_MLP_50prun1/default/version_1/checkpoints/best_checkpoint_val.ckpt',  # Done\n",
    "    # MODEL_PATH + '/final_models/classification/SSL_CN_MLP_50prun2/default/version_1/checkpoints/best_checkpoint_val.ckpt',  # Done\n",
    "    # MODEL_PATH + '/final_models/classification/SSL_CN_MLP_50prun3/default/version_1/checkpoints/best_checkpoint_val.ckpt', Done\n",
    "    # MODEL_PATH + '/final_models/classification/SSL_CN_MLP_50prun4/default/version_1/checkpoints/best_checkpoint_val.ckpt', Done\n",
    "    \n",
    "    # Gene Program Masking\n",
    "    # MODEL_PATH + '/final_models/classification/SSL_CN_MLP_gene_program_C8_25prun0/default/version_0/checkpoints/best_checkpoint_val.ckpt',  # Done\n",
    "    \n",
    "    # Gene Program to Gene Program\n",
    "    # MODEL_PATH + '/final_models/classification/SSL_CN_MLP_single_gene_programrun0/default/version_0/checkpoints/best_checkpoint_val.ckpt',  # Done\n",
    "    \n",
    "    # Gene Program to Transcription Factor\n",
    "    # MODEL_PATH + '/final_models/classification/SSL_CN_MLP_gp_to_tfrun0/default/version_0/checkpoints/best_checkpoint_val.ckpt',  # Done\n",
    "    \n",
    "    # Boostrap Your Own Latent (BYOL)\n",
    "    # MODEL_PATH + '/final_models/classification/SSL_MLP_BYOL_Gaussian_0_001run0/default/version_1/checkpoints/best_checkpoint_val.ckpt',  # Done\n",
    "    \n",
    "    # Barlow Twins\n",
    "    # MODEL_PATH + '/final_models/classification/SSL_contrastive_MLP_bt_Gaussian_0_01run0/default/version_0/checkpoints/best_checkpoint_val.ckpt',  # Done\n",
    "]"
   ]
  },
  {
   "cell_type": "code",
   "execution_count": 9,
   "id": "e9df51c8-173f-4205-8949-8bd073609bf0",
   "metadata": {
    "tags": []
   },
   "outputs": [],
   "source": [
    "# eval_emb_knn(estim, model_dirs, eval_random=True, eval_pca=True, reference='val')"
   ]
  },
  {
   "cell_type": "code",
   "execution_count": null,
   "id": "7ece51bb-96fe-4733-bc13-610cb6e91186",
   "metadata": {
    "scrolled": true,
    "tags": []
   },
   "outputs": [],
   "source": [
    "model_dir_trick = []\n",
    "for i in range(len(model_dirs)):\n",
    "    print('Evaluate model: ', model_dir_trick)\n",
    "    model_dir_trick = []\n",
    "    model_dir_trick.append(model_dirs[i])\n",
    "    eval_emb_knn(estim, model_dir_trick, eval_random=False, eval_pca=False, reference='val')\n",
    "    torch.cuda.empty_cache()"
   ]
  },
  {
   "cell_type": "code",
   "execution_count": 55,
   "id": "3692dd1e-ee5b-444e-8fd6-85fba4469175",
   "metadata": {},
   "outputs": [
    {
     "data": {
      "text/html": [
       "<div>\n",
       "<style scoped>\n",
       "    .dataframe tbody tr th:only-of-type {\n",
       "        vertical-align: middle;\n",
       "    }\n",
       "\n",
       "    .dataframe tbody tr th {\n",
       "        vertical-align: top;\n",
       "    }\n",
       "\n",
       "    .dataframe thead th {\n",
       "        text-align: right;\n",
       "    }\n",
       "</style>\n",
       "<table border=\"1\" class=\"dataframe\">\n",
       "  <thead>\n",
       "    <tr style=\"text-align: right;\">\n",
       "      <th></th>\n",
       "      <th>Unnamed: 0</th>\n",
       "      <th>precision: accuracy</th>\n",
       "      <th>precision: macro avg</th>\n",
       "      <th>precision: weighted avg</th>\n",
       "      <th>recall: accuracy</th>\n",
       "      <th>recall: macro avg</th>\n",
       "      <th>recall: weighted avg</th>\n",
       "      <th>f1-score: accuracy</th>\n",
       "      <th>f1-score: macro avg</th>\n",
       "      <th>f1-score: weighted avg</th>\n",
       "      <th>support: accuracy</th>\n",
       "      <th>support: macro avg</th>\n",
       "      <th>support: weighted avg</th>\n",
       "    </tr>\n",
       "  </thead>\n",
       "  <tbody>\n",
       "    <tr>\n",
       "      <th>0</th>\n",
       "      <td>CN_MLP_50p_Only Pretrained</td>\n",
       "      <td>0.796648</td>\n",
       "      <td>0.687486</td>\n",
       "      <td>0.797259</td>\n",
       "      <td>0.796648</td>\n",
       "      <td>0.616566</td>\n",
       "      <td>0.796648</td>\n",
       "      <td>0.796648</td>\n",
       "      <td>0.629193</td>\n",
       "      <td>0.789696</td>\n",
       "      <td>0.796648</td>\n",
       "      <td>3448832.0</td>\n",
       "      <td>3448832.0</td>\n",
       "    </tr>\n",
       "    <tr>\n",
       "      <th>1</th>\n",
       "      <td>CN_MLP_50prun1_Only Pretrained</td>\n",
       "      <td>0.811840</td>\n",
       "      <td>0.704358</td>\n",
       "      <td>0.814228</td>\n",
       "      <td>0.811840</td>\n",
       "      <td>0.646979</td>\n",
       "      <td>0.811840</td>\n",
       "      <td>0.811840</td>\n",
       "      <td>0.654910</td>\n",
       "      <td>0.806839</td>\n",
       "      <td>0.811840</td>\n",
       "      <td>3448832.0</td>\n",
       "      <td>3448832.0</td>\n",
       "    </tr>\n",
       "    <tr>\n",
       "      <th>2</th>\n",
       "      <td>CN_MLP_50prun2_Only Pretrained</td>\n",
       "      <td>0.822599</td>\n",
       "      <td>0.703593</td>\n",
       "      <td>0.825211</td>\n",
       "      <td>0.822599</td>\n",
       "      <td>0.662319</td>\n",
       "      <td>0.822599</td>\n",
       "      <td>0.822599</td>\n",
       "      <td>0.660416</td>\n",
       "      <td>0.817695</td>\n",
       "      <td>0.822599</td>\n",
       "      <td>3448832.0</td>\n",
       "      <td>3448832.0</td>\n",
       "    </tr>\n",
       "    <tr>\n",
       "      <th>3</th>\n",
       "      <td>CN_MLP_50prun3_Only Pretrained</td>\n",
       "      <td>0.817777</td>\n",
       "      <td>0.710244</td>\n",
       "      <td>0.818301</td>\n",
       "      <td>0.817777</td>\n",
       "      <td>0.651561</td>\n",
       "      <td>0.817777</td>\n",
       "      <td>0.817777</td>\n",
       "      <td>0.657790</td>\n",
       "      <td>0.811207</td>\n",
       "      <td>0.817777</td>\n",
       "      <td>3448832.0</td>\n",
       "      <td>3448832.0</td>\n",
       "    </tr>\n",
       "    <tr>\n",
       "      <th>4</th>\n",
       "      <td>CN_MLP_50prun4_Only Pretrained</td>\n",
       "      <td>0.803451</td>\n",
       "      <td>0.694791</td>\n",
       "      <td>0.804528</td>\n",
       "      <td>0.803451</td>\n",
       "      <td>0.635294</td>\n",
       "      <td>0.803451</td>\n",
       "      <td>0.803451</td>\n",
       "      <td>0.644204</td>\n",
       "      <td>0.796915</td>\n",
       "      <td>0.803451</td>\n",
       "      <td>3448832.0</td>\n",
       "      <td>3448832.0</td>\n",
       "    </tr>\n",
       "    <tr>\n",
       "      <th>5</th>\n",
       "      <td>CN_MLP_gene_program_C8_25p_Only Pretrained</td>\n",
       "      <td>0.821322</td>\n",
       "      <td>0.712525</td>\n",
       "      <td>0.822761</td>\n",
       "      <td>0.821322</td>\n",
       "      <td>0.671336</td>\n",
       "      <td>0.821322</td>\n",
       "      <td>0.821322</td>\n",
       "      <td>0.672496</td>\n",
       "      <td>0.816017</td>\n",
       "      <td>0.821322</td>\n",
       "      <td>3448832.0</td>\n",
       "      <td>3448832.0</td>\n",
       "    </tr>\n",
       "    <tr>\n",
       "      <th>6</th>\n",
       "      <td>CN_MLP_gp_to_tf_Only Pretrained</td>\n",
       "      <td>0.707912</td>\n",
       "      <td>0.589827</td>\n",
       "      <td>0.707862</td>\n",
       "      <td>0.707912</td>\n",
       "      <td>0.487070</td>\n",
       "      <td>0.707912</td>\n",
       "      <td>0.707912</td>\n",
       "      <td>0.509707</td>\n",
       "      <td>0.695416</td>\n",
       "      <td>0.707912</td>\n",
       "      <td>3448832.0</td>\n",
       "      <td>3448832.0</td>\n",
       "    </tr>\n",
       "    <tr>\n",
       "      <th>7</th>\n",
       "      <td>CN_MLP_single_gene_program_Only Pretrained</td>\n",
       "      <td>0.703981</td>\n",
       "      <td>0.577372</td>\n",
       "      <td>0.704306</td>\n",
       "      <td>0.703981</td>\n",
       "      <td>0.490553</td>\n",
       "      <td>0.703981</td>\n",
       "      <td>0.703981</td>\n",
       "      <td>0.505185</td>\n",
       "      <td>0.691896</td>\n",
       "      <td>0.703981</td>\n",
       "      <td>3448832.0</td>\n",
       "      <td>3448832.0</td>\n",
       "    </tr>\n",
       "    <tr>\n",
       "      <th>8</th>\n",
       "      <td>MLP_BYOL_Gaussian_0_001_v4_Only Pretrained</td>\n",
       "      <td>0.294380</td>\n",
       "      <td>0.201680</td>\n",
       "      <td>0.309656</td>\n",
       "      <td>0.294380</td>\n",
       "      <td>0.112817</td>\n",
       "      <td>0.294380</td>\n",
       "      <td>0.294380</td>\n",
       "      <td>0.122541</td>\n",
       "      <td>0.271400</td>\n",
       "      <td>0.294380</td>\n",
       "      <td>3448832.0</td>\n",
       "      <td>3448832.0</td>\n",
       "    </tr>\n",
       "    <tr>\n",
       "      <th>9</th>\n",
       "      <td>No_SSL_HVG_2000_run0_No SSL</td>\n",
       "      <td>0.857961</td>\n",
       "      <td>0.794260</td>\n",
       "      <td>0.858660</td>\n",
       "      <td>0.857961</td>\n",
       "      <td>0.770764</td>\n",
       "      <td>0.857961</td>\n",
       "      <td>0.857961</td>\n",
       "      <td>0.769494</td>\n",
       "      <td>0.854974</td>\n",
       "      <td>0.857961</td>\n",
       "      <td>3448832.0</td>\n",
       "      <td>3448832.0</td>\n",
       "    </tr>\n",
       "    <tr>\n",
       "      <th>10</th>\n",
       "      <td>No_SSL_run4_No SSL</td>\n",
       "      <td>0.901287</td>\n",
       "      <td>0.838596</td>\n",
       "      <td>0.902322</td>\n",
       "      <td>0.901287</td>\n",
       "      <td>0.819411</td>\n",
       "      <td>0.901287</td>\n",
       "      <td>0.901287</td>\n",
       "      <td>0.818589</td>\n",
       "      <td>0.899525</td>\n",
       "      <td>0.901287</td>\n",
       "      <td>3448832.0</td>\n",
       "      <td>3448832.0</td>\n",
       "    </tr>\n",
       "    <tr>\n",
       "      <th>11</th>\n",
       "      <td>No_SSL_run1_No SSL</td>\n",
       "      <td>0.903513</td>\n",
       "      <td>0.842965</td>\n",
       "      <td>0.904033</td>\n",
       "      <td>0.903513</td>\n",
       "      <td>0.824820</td>\n",
       "      <td>0.903513</td>\n",
       "      <td>0.903513</td>\n",
       "      <td>0.824566</td>\n",
       "      <td>0.901714</td>\n",
       "      <td>0.903513</td>\n",
       "      <td>3448832.0</td>\n",
       "      <td>3448832.0</td>\n",
       "    </tr>\n",
       "    <tr>\n",
       "      <th>12</th>\n",
       "      <td>No_SSL_run2_No SSL</td>\n",
       "      <td>0.901581</td>\n",
       "      <td>0.840057</td>\n",
       "      <td>0.902384</td>\n",
       "      <td>0.901581</td>\n",
       "      <td>0.820372</td>\n",
       "      <td>0.901581</td>\n",
       "      <td>0.901581</td>\n",
       "      <td>0.820451</td>\n",
       "      <td>0.899796</td>\n",
       "      <td>0.901581</td>\n",
       "      <td>3448832.0</td>\n",
       "      <td>3448832.0</td>\n",
       "    </tr>\n",
       "    <tr>\n",
       "      <th>13</th>\n",
       "      <td>No_SSL_run3_No SSL</td>\n",
       "      <td>0.898550</td>\n",
       "      <td>0.841577</td>\n",
       "      <td>0.898791</td>\n",
       "      <td>0.898550</td>\n",
       "      <td>0.819712</td>\n",
       "      <td>0.898550</td>\n",
       "      <td>0.898550</td>\n",
       "      <td>0.820579</td>\n",
       "      <td>0.896647</td>\n",
       "      <td>0.898550</td>\n",
       "      <td>3448832.0</td>\n",
       "      <td>3448832.0</td>\n",
       "    </tr>\n",
       "    <tr>\n",
       "      <th>14</th>\n",
       "      <td>No_SSL_run0_No SSL</td>\n",
       "      <td>0.898384</td>\n",
       "      <td>0.838716</td>\n",
       "      <td>0.899413</td>\n",
       "      <td>0.898384</td>\n",
       "      <td>0.819925</td>\n",
       "      <td>0.898384</td>\n",
       "      <td>0.898384</td>\n",
       "      <td>0.819361</td>\n",
       "      <td>0.896806</td>\n",
       "      <td>0.898384</td>\n",
       "      <td>3448832.0</td>\n",
       "      <td>3448832.0</td>\n",
       "    </tr>\n",
       "    <tr>\n",
       "      <th>15</th>\n",
       "      <td>PCA</td>\n",
       "      <td>0.282261</td>\n",
       "      <td>0.090695</td>\n",
       "      <td>0.290242</td>\n",
       "      <td>0.282261</td>\n",
       "      <td>0.079138</td>\n",
       "      <td>0.282261</td>\n",
       "      <td>0.282261</td>\n",
       "      <td>0.064686</td>\n",
       "      <td>0.255513</td>\n",
       "      <td>0.282261</td>\n",
       "      <td>3448832.0</td>\n",
       "      <td>3448832.0</td>\n",
       "    </tr>\n",
       "    <tr>\n",
       "      <th>16</th>\n",
       "      <td>Random</td>\n",
       "      <td>0.120784</td>\n",
       "      <td>0.060220</td>\n",
       "      <td>0.191375</td>\n",
       "      <td>0.120784</td>\n",
       "      <td>0.023649</td>\n",
       "      <td>0.120784</td>\n",
       "      <td>0.120784</td>\n",
       "      <td>0.020617</td>\n",
       "      <td>0.090398</td>\n",
       "      <td>0.120784</td>\n",
       "      <td>3448832.0</td>\n",
       "      <td>3448832.0</td>\n",
       "    </tr>\n",
       "    <tr>\n",
       "      <th>17</th>\n",
       "      <td>SSL_CN_MLP_50prun3_SSL</td>\n",
       "      <td>0.897023</td>\n",
       "      <td>0.840632</td>\n",
       "      <td>0.898222</td>\n",
       "      <td>0.897023</td>\n",
       "      <td>0.818031</td>\n",
       "      <td>0.897023</td>\n",
       "      <td>0.897023</td>\n",
       "      <td>0.818363</td>\n",
       "      <td>0.895157</td>\n",
       "      <td>0.897023</td>\n",
       "      <td>3448832.0</td>\n",
       "      <td>3448832.0</td>\n",
       "    </tr>\n",
       "    <tr>\n",
       "      <th>18</th>\n",
       "      <td>SSL_CN_MLP_50prun1_SSL</td>\n",
       "      <td>0.898648</td>\n",
       "      <td>0.834323</td>\n",
       "      <td>0.899762</td>\n",
       "      <td>0.898648</td>\n",
       "      <td>0.814575</td>\n",
       "      <td>0.898648</td>\n",
       "      <td>0.898648</td>\n",
       "      <td>0.814707</td>\n",
       "      <td>0.897106</td>\n",
       "      <td>0.898648</td>\n",
       "      <td>3448832.0</td>\n",
       "      <td>3448832.0</td>\n",
       "    </tr>\n",
       "    <tr>\n",
       "      <th>19</th>\n",
       "      <td>SSL_CN_MLP_50prun2_SSL</td>\n",
       "      <td>0.894434</td>\n",
       "      <td>0.835404</td>\n",
       "      <td>0.896073</td>\n",
       "      <td>0.894434</td>\n",
       "      <td>0.816005</td>\n",
       "      <td>0.894434</td>\n",
       "      <td>0.894434</td>\n",
       "      <td>0.814476</td>\n",
       "      <td>0.892842</td>\n",
       "      <td>0.894434</td>\n",
       "      <td>3448832.0</td>\n",
       "      <td>3448832.0</td>\n",
       "    </tr>\n",
       "    <tr>\n",
       "      <th>20</th>\n",
       "      <td>SSL_CN_MLP_50prun0_SSL</td>\n",
       "      <td>0.898925</td>\n",
       "      <td>0.836386</td>\n",
       "      <td>0.899471</td>\n",
       "      <td>0.898925</td>\n",
       "      <td>0.813836</td>\n",
       "      <td>0.898925</td>\n",
       "      <td>0.898925</td>\n",
       "      <td>0.814428</td>\n",
       "      <td>0.896999</td>\n",
       "      <td>0.898925</td>\n",
       "      <td>3448832.0</td>\n",
       "      <td>3448832.0</td>\n",
       "    </tr>\n",
       "    <tr>\n",
       "      <th>21</th>\n",
       "      <td>SSL_CN_MLP_50prun4_SSL</td>\n",
       "      <td>0.893743</td>\n",
       "      <td>0.835915</td>\n",
       "      <td>0.896205</td>\n",
       "      <td>0.893743</td>\n",
       "      <td>0.819542</td>\n",
       "      <td>0.893743</td>\n",
       "      <td>0.893743</td>\n",
       "      <td>0.816272</td>\n",
       "      <td>0.892366</td>\n",
       "      <td>0.893743</td>\n",
       "      <td>3448832.0</td>\n",
       "      <td>3448832.0</td>\n",
       "    </tr>\n",
       "    <tr>\n",
       "      <th>22</th>\n",
       "      <td>SSL_CN_MLP_gene_program_C8_25prun0_SSL</td>\n",
       "      <td>0.896532</td>\n",
       "      <td>0.837042</td>\n",
       "      <td>0.898065</td>\n",
       "      <td>0.896532</td>\n",
       "      <td>0.822589</td>\n",
       "      <td>0.896532</td>\n",
       "      <td>0.896532</td>\n",
       "      <td>0.819716</td>\n",
       "      <td>0.895108</td>\n",
       "      <td>0.896532</td>\n",
       "      <td>3448832.0</td>\n",
       "      <td>3448832.0</td>\n",
       "    </tr>\n",
       "    <tr>\n",
       "      <th>23</th>\n",
       "      <td>SSL_CN_MLP_gp_to_tfrun0_SSL</td>\n",
       "      <td>0.894692</td>\n",
       "      <td>0.836495</td>\n",
       "      <td>0.895841</td>\n",
       "      <td>0.894692</td>\n",
       "      <td>0.814670</td>\n",
       "      <td>0.894692</td>\n",
       "      <td>0.894692</td>\n",
       "      <td>0.815430</td>\n",
       "      <td>0.892929</td>\n",
       "      <td>0.894692</td>\n",
       "      <td>3448832.0</td>\n",
       "      <td>3448832.0</td>\n",
       "    </tr>\n",
       "    <tr>\n",
       "      <th>24</th>\n",
       "      <td>SSL_CN_MLP_single_gene_programrun0_SSL</td>\n",
       "      <td>0.893407</td>\n",
       "      <td>0.831414</td>\n",
       "      <td>0.894549</td>\n",
       "      <td>0.893407</td>\n",
       "      <td>0.813335</td>\n",
       "      <td>0.893407</td>\n",
       "      <td>0.893407</td>\n",
       "      <td>0.811344</td>\n",
       "      <td>0.891604</td>\n",
       "      <td>0.893407</td>\n",
       "      <td>3448832.0</td>\n",
       "      <td>3448832.0</td>\n",
       "    </tr>\n",
       "    <tr>\n",
       "      <th>25</th>\n",
       "      <td>SSL_HVG_2000_CN_HVG_2000_MLP_50prun0_SSL</td>\n",
       "      <td>0.864325</td>\n",
       "      <td>0.794550</td>\n",
       "      <td>0.865709</td>\n",
       "      <td>0.864325</td>\n",
       "      <td>0.770550</td>\n",
       "      <td>0.864325</td>\n",
       "      <td>0.864325</td>\n",
       "      <td>0.770750</td>\n",
       "      <td>0.861830</td>\n",
       "      <td>0.864325</td>\n",
       "      <td>3448832.0</td>\n",
       "      <td>3448832.0</td>\n",
       "    </tr>\n",
       "    <tr>\n",
       "      <th>26</th>\n",
       "      <td>SSL_MLP_BYOL_Gaussian_0_001run0_SSL</td>\n",
       "      <td>0.894531</td>\n",
       "      <td>0.832525</td>\n",
       "      <td>0.895575</td>\n",
       "      <td>0.894531</td>\n",
       "      <td>0.815378</td>\n",
       "      <td>0.894531</td>\n",
       "      <td>0.894531</td>\n",
       "      <td>0.813267</td>\n",
       "      <td>0.892797</td>\n",
       "      <td>0.894531</td>\n",
       "      <td>3448832.0</td>\n",
       "      <td>3448832.0</td>\n",
       "    </tr>\n",
       "    <tr>\n",
       "      <th>27</th>\n",
       "      <td>SSL_contrastive_MLP_bt_Gaussian_0_01run0_SSL</td>\n",
       "      <td>0.891320</td>\n",
       "      <td>0.830438</td>\n",
       "      <td>0.892731</td>\n",
       "      <td>0.891320</td>\n",
       "      <td>0.808040</td>\n",
       "      <td>0.891320</td>\n",
       "      <td>0.891320</td>\n",
       "      <td>0.806926</td>\n",
       "      <td>0.889429</td>\n",
       "      <td>0.891320</td>\n",
       "      <td>3448832.0</td>\n",
       "      <td>3448832.0</td>\n",
       "    </tr>\n",
       "    <tr>\n",
       "      <th>28</th>\n",
       "      <td>_Only Pretrained</td>\n",
       "      <td>0.347380</td>\n",
       "      <td>0.311242</td>\n",
       "      <td>0.383033</td>\n",
       "      <td>0.347380</td>\n",
       "      <td>0.205531</td>\n",
       "      <td>0.347380</td>\n",
       "      <td>0.347380</td>\n",
       "      <td>0.217315</td>\n",
       "      <td>0.333597</td>\n",
       "      <td>0.347380</td>\n",
       "      <td>3448832.0</td>\n",
       "      <td>3448832.0</td>\n",
       "    </tr>\n",
       "  </tbody>\n",
       "</table>\n",
       "</div>"
      ],
      "text/plain": [
       "                                      Unnamed: 0  precision: accuracy  \\\n",
       "0                     CN_MLP_50p_Only Pretrained             0.796648   \n",
       "1                 CN_MLP_50prun1_Only Pretrained             0.811840   \n",
       "2                 CN_MLP_50prun2_Only Pretrained             0.822599   \n",
       "3                 CN_MLP_50prun3_Only Pretrained             0.817777   \n",
       "4                 CN_MLP_50prun4_Only Pretrained             0.803451   \n",
       "5     CN_MLP_gene_program_C8_25p_Only Pretrained             0.821322   \n",
       "6                CN_MLP_gp_to_tf_Only Pretrained             0.707912   \n",
       "7     CN_MLP_single_gene_program_Only Pretrained             0.703981   \n",
       "8     MLP_BYOL_Gaussian_0_001_v4_Only Pretrained             0.294380   \n",
       "9                    No_SSL_HVG_2000_run0_No SSL             0.857961   \n",
       "10                            No_SSL_run4_No SSL             0.901287   \n",
       "11                            No_SSL_run1_No SSL             0.903513   \n",
       "12                            No_SSL_run2_No SSL             0.901581   \n",
       "13                            No_SSL_run3_No SSL             0.898550   \n",
       "14                            No_SSL_run0_No SSL             0.898384   \n",
       "15                                           PCA             0.282261   \n",
       "16                                        Random             0.120784   \n",
       "17                        SSL_CN_MLP_50prun3_SSL             0.897023   \n",
       "18                        SSL_CN_MLP_50prun1_SSL             0.898648   \n",
       "19                        SSL_CN_MLP_50prun2_SSL             0.894434   \n",
       "20                        SSL_CN_MLP_50prun0_SSL             0.898925   \n",
       "21                        SSL_CN_MLP_50prun4_SSL             0.893743   \n",
       "22        SSL_CN_MLP_gene_program_C8_25prun0_SSL             0.896532   \n",
       "23                   SSL_CN_MLP_gp_to_tfrun0_SSL             0.894692   \n",
       "24        SSL_CN_MLP_single_gene_programrun0_SSL             0.893407   \n",
       "25      SSL_HVG_2000_CN_HVG_2000_MLP_50prun0_SSL             0.864325   \n",
       "26           SSL_MLP_BYOL_Gaussian_0_001run0_SSL             0.894531   \n",
       "27  SSL_contrastive_MLP_bt_Gaussian_0_01run0_SSL             0.891320   \n",
       "28                              _Only Pretrained             0.347380   \n",
       "\n",
       "    precision: macro avg  precision: weighted avg  recall: accuracy  \\\n",
       "0               0.687486                 0.797259          0.796648   \n",
       "1               0.704358                 0.814228          0.811840   \n",
       "2               0.703593                 0.825211          0.822599   \n",
       "3               0.710244                 0.818301          0.817777   \n",
       "4               0.694791                 0.804528          0.803451   \n",
       "5               0.712525                 0.822761          0.821322   \n",
       "6               0.589827                 0.707862          0.707912   \n",
       "7               0.577372                 0.704306          0.703981   \n",
       "8               0.201680                 0.309656          0.294380   \n",
       "9               0.794260                 0.858660          0.857961   \n",
       "10              0.838596                 0.902322          0.901287   \n",
       "11              0.842965                 0.904033          0.903513   \n",
       "12              0.840057                 0.902384          0.901581   \n",
       "13              0.841577                 0.898791          0.898550   \n",
       "14              0.838716                 0.899413          0.898384   \n",
       "15              0.090695                 0.290242          0.282261   \n",
       "16              0.060220                 0.191375          0.120784   \n",
       "17              0.840632                 0.898222          0.897023   \n",
       "18              0.834323                 0.899762          0.898648   \n",
       "19              0.835404                 0.896073          0.894434   \n",
       "20              0.836386                 0.899471          0.898925   \n",
       "21              0.835915                 0.896205          0.893743   \n",
       "22              0.837042                 0.898065          0.896532   \n",
       "23              0.836495                 0.895841          0.894692   \n",
       "24              0.831414                 0.894549          0.893407   \n",
       "25              0.794550                 0.865709          0.864325   \n",
       "26              0.832525                 0.895575          0.894531   \n",
       "27              0.830438                 0.892731          0.891320   \n",
       "28              0.311242                 0.383033          0.347380   \n",
       "\n",
       "    recall: macro avg  recall: weighted avg  f1-score: accuracy  \\\n",
       "0            0.616566              0.796648            0.796648   \n",
       "1            0.646979              0.811840            0.811840   \n",
       "2            0.662319              0.822599            0.822599   \n",
       "3            0.651561              0.817777            0.817777   \n",
       "4            0.635294              0.803451            0.803451   \n",
       "5            0.671336              0.821322            0.821322   \n",
       "6            0.487070              0.707912            0.707912   \n",
       "7            0.490553              0.703981            0.703981   \n",
       "8            0.112817              0.294380            0.294380   \n",
       "9            0.770764              0.857961            0.857961   \n",
       "10           0.819411              0.901287            0.901287   \n",
       "11           0.824820              0.903513            0.903513   \n",
       "12           0.820372              0.901581            0.901581   \n",
       "13           0.819712              0.898550            0.898550   \n",
       "14           0.819925              0.898384            0.898384   \n",
       "15           0.079138              0.282261            0.282261   \n",
       "16           0.023649              0.120784            0.120784   \n",
       "17           0.818031              0.897023            0.897023   \n",
       "18           0.814575              0.898648            0.898648   \n",
       "19           0.816005              0.894434            0.894434   \n",
       "20           0.813836              0.898925            0.898925   \n",
       "21           0.819542              0.893743            0.893743   \n",
       "22           0.822589              0.896532            0.896532   \n",
       "23           0.814670              0.894692            0.894692   \n",
       "24           0.813335              0.893407            0.893407   \n",
       "25           0.770550              0.864325            0.864325   \n",
       "26           0.815378              0.894531            0.894531   \n",
       "27           0.808040              0.891320            0.891320   \n",
       "28           0.205531              0.347380            0.347380   \n",
       "\n",
       "    f1-score: macro avg  f1-score: weighted avg  support: accuracy  \\\n",
       "0              0.629193                0.789696           0.796648   \n",
       "1              0.654910                0.806839           0.811840   \n",
       "2              0.660416                0.817695           0.822599   \n",
       "3              0.657790                0.811207           0.817777   \n",
       "4              0.644204                0.796915           0.803451   \n",
       "5              0.672496                0.816017           0.821322   \n",
       "6              0.509707                0.695416           0.707912   \n",
       "7              0.505185                0.691896           0.703981   \n",
       "8              0.122541                0.271400           0.294380   \n",
       "9              0.769494                0.854974           0.857961   \n",
       "10             0.818589                0.899525           0.901287   \n",
       "11             0.824566                0.901714           0.903513   \n",
       "12             0.820451                0.899796           0.901581   \n",
       "13             0.820579                0.896647           0.898550   \n",
       "14             0.819361                0.896806           0.898384   \n",
       "15             0.064686                0.255513           0.282261   \n",
       "16             0.020617                0.090398           0.120784   \n",
       "17             0.818363                0.895157           0.897023   \n",
       "18             0.814707                0.897106           0.898648   \n",
       "19             0.814476                0.892842           0.894434   \n",
       "20             0.814428                0.896999           0.898925   \n",
       "21             0.816272                0.892366           0.893743   \n",
       "22             0.819716                0.895108           0.896532   \n",
       "23             0.815430                0.892929           0.894692   \n",
       "24             0.811344                0.891604           0.893407   \n",
       "25             0.770750                0.861830           0.864325   \n",
       "26             0.813267                0.892797           0.894531   \n",
       "27             0.806926                0.889429           0.891320   \n",
       "28             0.217315                0.333597           0.347380   \n",
       "\n",
       "    support: macro avg  support: weighted avg  \n",
       "0            3448832.0              3448832.0  \n",
       "1            3448832.0              3448832.0  \n",
       "2            3448832.0              3448832.0  \n",
       "3            3448832.0              3448832.0  \n",
       "4            3448832.0              3448832.0  \n",
       "5            3448832.0              3448832.0  \n",
       "6            3448832.0              3448832.0  \n",
       "7            3448832.0              3448832.0  \n",
       "8            3448832.0              3448832.0  \n",
       "9            3448832.0              3448832.0  \n",
       "10           3448832.0              3448832.0  \n",
       "11           3448832.0              3448832.0  \n",
       "12           3448832.0              3448832.0  \n",
       "13           3448832.0              3448832.0  \n",
       "14           3448832.0              3448832.0  \n",
       "15           3448832.0              3448832.0  \n",
       "16           3448832.0              3448832.0  \n",
       "17           3448832.0              3448832.0  \n",
       "18           3448832.0              3448832.0  \n",
       "19           3448832.0              3448832.0  \n",
       "20           3448832.0              3448832.0  \n",
       "21           3448832.0              3448832.0  \n",
       "22           3448832.0              3448832.0  \n",
       "23           3448832.0              3448832.0  \n",
       "24           3448832.0              3448832.0  \n",
       "25           3448832.0              3448832.0  \n",
       "26           3448832.0              3448832.0  \n",
       "27           3448832.0              3448832.0  \n",
       "28           3448832.0              3448832.0  "
      ]
     },
     "execution_count": 55,
     "metadata": {},
     "output_type": "execute_result"
    }
   ],
   "source": [
    "# Reading the uploaded CSV file to understand its contents\n",
    "import pandas as pd\n",
    "\n",
    "# Load the CSV file into a DataFrame\n",
    "file_path = os.path.join(RESULT_PATH, 'classification', 'val_clf_report_CellNet_knn.csv')\n",
    "df = pd.read_csv(file_path)\n",
    "\n",
    "# Show the first few rows to get an overview of the data\n",
    "df"
   ]
  },
  {
   "cell_type": "markdown",
   "id": "c0defe4d-38c4-4f44-9877-e597f058c40c",
   "metadata": {},
   "source": [
    "# Figure 2\n",
    "\n",
    "OOD task, where supervised learning may come to its limits\n",
    "\n",
    "Novel, unseen dataset"
   ]
  },
  {
   "cell_type": "markdown",
   "id": "bd7debe3-e758-496e-8925-15331ed6492f",
   "metadata": {},
   "source": [
    "### **Dissection: Tail of Hippocampus (HiT) - Caudal Hippocampus - CA4-DGC**\n",
    "\n",
    "- 56,367 cells\n",
    "- 10x 3' v3\n",
    "- hippocampal formation\n",
    "- astrocyte (3761), central nervous system macrophage (1782), endothelial cell (174), ependymal cell (111), ~~fibroblast (86)~~, leukocyte (36), neuron (36588), oligodendrocyte (11875), oligodendrocyte precursor cell (1896), pericyte (39), vascular associated smooth muscle cell (19)"
   ]
  },
  {
   "cell_type": "code",
   "execution_count": 16,
   "id": "5e8d0335-fa63-485d-8503-5c5f1fd418aa",
   "metadata": {},
   "outputs": [],
   "source": [
    "test_loader_hit = create_ood_dataloader(adata_path=os.path.join(ADATA_PATH, 'tail_of_hippocampus', 'tail_of_hippocampus.h5ad'), data_path=DATA_PATH, batch_size=32)"
   ]
  },
  {
   "cell_type": "code",
   "execution_count": null,
   "id": "b9f3517b-1566-4967-8fc2-4f971d48153f",
   "metadata": {},
   "outputs": [],
   "source": [
    "model_dirs = [\n",
    "    ### Supervised Models ###\n",
    "    \n",
    "    MODEL_PATH + '/final_models/classification/No_SSL_run0/default/version_0/checkpoints/best_checkpoint_val.ckpt',\n",
    "    MODEL_PATH + '/final_models/classification/No_SSL_run1/default/version_0/checkpoints/best_checkpoint_val.ckpt',\n",
    "    MODEL_PATH + '/final_models/classification/No_SSL_run2/default/version_0/checkpoints/best_checkpoint_val.ckpt',\n",
    "    MODEL_PATH + '/final_models/classification/No_SSL_run3/default/version_0/checkpoints/best_checkpoint_val.ckpt',\n",
    "    MODEL_PATH + '/final_models/classification/No_SSL_run4/default/version_0/checkpoints/best_checkpoint_val.ckpt',\n",
    "    \n",
    "    ### Only Pretrained Models ###\n",
    "    \n",
    "    # Individual Gene Masking\n",
    "    MODEL_PATH + '/pretext_models/masking/CN_MLP_50p/default/version_1/checkpoints/best_checkpoint_val.ckpt',\n",
    "    MODEL_PATH + '/pretext_models/masking/CN_MLP_50prun1/default/version_0/checkpoints/best_checkpoint_val.ckpt',\n",
    "    MODEL_PATH + '/pretext_models/masking/CN_MLP_50prun2/default/version_0/checkpoints/best_checkpoint_val.ckpt',\n",
    "    MODEL_PATH + '/pretext_models/masking/CN_MLP_50prun3/default/version_0/checkpoints/best_checkpoint_val.ckpt',\n",
    "    MODEL_PATH + '/pretext_models/masking/CN_MLP_50prun4/default/version_0/checkpoints/best_checkpoint_val.ckpt',\n",
    "    \n",
    "    ### Self-Supervised Models ###\n",
    "    \n",
    "    # Individual Gene Masking\n",
    "    MODEL_PATH + '/final_models/classification/SSL_CN_MLP_50prun0/default/version_0/checkpoints/best_checkpoint_val.ckpt',\n",
    "    MODEL_PATH + '/final_models/classification/SSL_CN_MLP_50prun1/default/version_1/checkpoints/best_checkpoint_val.ckpt',\n",
    "    MODEL_PATH + '/final_models/classification/SSL_CN_MLP_50prun2/default/version_1/checkpoints/best_checkpoint_val.ckpt',\n",
    "    MODEL_PATH + '/final_models/classification/SSL_CN_MLP_50prun3/default/version_1/checkpoints/best_checkpoint_val.ckpt',\n",
    "    MODEL_PATH + '/final_models/classification/SSL_CN_MLP_50prun4/default/version_1/checkpoints/best_checkpoint_val.ckpt',\n",
    "]"
   ]
  },
  {
   "cell_type": "code",
   "execution_count": 18,
   "id": "8a596233-0254-4544-8f53-be64572f535c",
   "metadata": {},
   "outputs": [],
   "source": [
    "# init estim class\n",
    "estim = EstimatorAutoEncoder(DATA_PATH, hvg=False)"
   ]
  },
  {
   "cell_type": "code",
   "execution_count": 19,
   "id": "fbae4aeb-a1b3-43ab-a13f-dd4935fc4687",
   "metadata": {},
   "outputs": [],
   "source": [
    "# init datamodule\n",
    "estim.init_datamodule(batch_size=1024) "
   ]
  },
  {
   "cell_type": "code",
   "execution_count": 20,
   "id": "8eb474bf-1715-49f5-924d-29eb44407108",
   "metadata": {
    "tags": []
   },
   "outputs": [],
   "source": [
    "eval_emb_knn(estim, model_dirs=model_dirs, setting='OOD_HiT', test_dataloader=test_loader_hit, eval_random=True, eval_pca=False, reference='val')"
   ]
  },
  {
   "cell_type": "code",
   "execution_count": 20,
   "id": "3da62f82-e0dd-4964-b1d5-e57aeda58ae2",
   "metadata": {},
   "outputs": [
    {
     "data": {
      "text/html": [
       "<div>\n",
       "<style scoped>\n",
       "    .dataframe tbody tr th:only-of-type {\n",
       "        vertical-align: middle;\n",
       "    }\n",
       "\n",
       "    .dataframe tbody tr th {\n",
       "        vertical-align: top;\n",
       "    }\n",
       "\n",
       "    .dataframe thead th {\n",
       "        text-align: right;\n",
       "    }\n",
       "</style>\n",
       "<table border=\"1\" class=\"dataframe\">\n",
       "  <thead>\n",
       "    <tr style=\"text-align: right;\">\n",
       "      <th></th>\n",
       "      <th>Unnamed: 0</th>\n",
       "      <th>precision: accuracy</th>\n",
       "      <th>precision: macro avg</th>\n",
       "      <th>precision: weighted avg</th>\n",
       "      <th>recall: accuracy</th>\n",
       "      <th>recall: macro avg</th>\n",
       "      <th>recall: weighted avg</th>\n",
       "      <th>f1-score: accuracy</th>\n",
       "      <th>f1-score: macro avg</th>\n",
       "      <th>f1-score: weighted avg</th>\n",
       "      <th>support: accuracy</th>\n",
       "      <th>support: macro avg</th>\n",
       "      <th>support: weighted avg</th>\n",
       "    </tr>\n",
       "  </thead>\n",
       "  <tbody>\n",
       "    <tr>\n",
       "      <th>0</th>\n",
       "      <td>CN_MLP_50p_Only Pretrained</td>\n",
       "      <td>0.993142</td>\n",
       "      <td>0.424441</td>\n",
       "      <td>0.994168</td>\n",
       "      <td>0.993142</td>\n",
       "      <td>0.407992</td>\n",
       "      <td>0.993142</td>\n",
       "      <td>0.993142</td>\n",
       "      <td>0.412011</td>\n",
       "      <td>0.993522</td>\n",
       "      <td>0.993142</td>\n",
       "      <td>56281.0</td>\n",
       "      <td>56281.0</td>\n",
       "    </tr>\n",
       "    <tr>\n",
       "      <th>3</th>\n",
       "      <td>CN_MLP_50prun1_Only Pretrained</td>\n",
       "      <td>0.997815</td>\n",
       "      <td>0.394518</td>\n",
       "      <td>0.998469</td>\n",
       "      <td>0.997815</td>\n",
       "      <td>0.363018</td>\n",
       "      <td>0.997815</td>\n",
       "      <td>0.997815</td>\n",
       "      <td>0.366438</td>\n",
       "      <td>0.998034</td>\n",
       "      <td>0.997815</td>\n",
       "      <td>56281.0</td>\n",
       "      <td>56281.0</td>\n",
       "    </tr>\n",
       "    <tr>\n",
       "      <th>6</th>\n",
       "      <td>CN_MLP_50prun2_Only Pretrained</td>\n",
       "      <td>0.995896</td>\n",
       "      <td>0.362867</td>\n",
       "      <td>0.996664</td>\n",
       "      <td>0.995896</td>\n",
       "      <td>0.357005</td>\n",
       "      <td>0.995896</td>\n",
       "      <td>0.995896</td>\n",
       "      <td>0.358695</td>\n",
       "      <td>0.996246</td>\n",
       "      <td>0.995896</td>\n",
       "      <td>56281.0</td>\n",
       "      <td>56281.0</td>\n",
       "    </tr>\n",
       "    <tr>\n",
       "      <th>9</th>\n",
       "      <td>CN_MLP_50prun3_Only Pretrained</td>\n",
       "      <td>0.998738</td>\n",
       "      <td>0.615198</td>\n",
       "      <td>0.999010</td>\n",
       "      <td>0.998738</td>\n",
       "      <td>0.590554</td>\n",
       "      <td>0.998738</td>\n",
       "      <td>0.998738</td>\n",
       "      <td>0.596699</td>\n",
       "      <td>0.998837</td>\n",
       "      <td>0.998738</td>\n",
       "      <td>56281.0</td>\n",
       "      <td>56281.0</td>\n",
       "    </tr>\n",
       "    <tr>\n",
       "      <th>12</th>\n",
       "      <td>CN_MLP_50prun4_Only Pretrained</td>\n",
       "      <td>0.998667</td>\n",
       "      <td>0.421375</td>\n",
       "      <td>0.999062</td>\n",
       "      <td>0.998667</td>\n",
       "      <td>0.404475</td>\n",
       "      <td>0.998667</td>\n",
       "      <td>0.998667</td>\n",
       "      <td>0.408075</td>\n",
       "      <td>0.998822</td>\n",
       "      <td>0.998667</td>\n",
       "      <td>56281.0</td>\n",
       "      <td>56281.0</td>\n",
       "    </tr>\n",
       "    <tr>\n",
       "      <th>15</th>\n",
       "      <td>No_SSL_run0_HLCA_No SSL</td>\n",
       "      <td>0.935236</td>\n",
       "      <td>0.135320</td>\n",
       "      <td>0.952957</td>\n",
       "      <td>0.935236</td>\n",
       "      <td>0.125819</td>\n",
       "      <td>0.935236</td>\n",
       "      <td>0.935236</td>\n",
       "      <td>0.127759</td>\n",
       "      <td>0.942831</td>\n",
       "      <td>0.935236</td>\n",
       "      <td>56281.0</td>\n",
       "      <td>56281.0</td>\n",
       "    </tr>\n",
       "    <tr>\n",
       "      <th>63</th>\n",
       "      <td>No_SSL_run0_No SSL</td>\n",
       "      <td>0.000284</td>\n",
       "      <td>0.037736</td>\n",
       "      <td>0.003731</td>\n",
       "      <td>0.000284</td>\n",
       "      <td>0.007139</td>\n",
       "      <td>0.000284</td>\n",
       "      <td>0.000284</td>\n",
       "      <td>0.010651</td>\n",
       "      <td>0.000444</td>\n",
       "      <td>0.000284</td>\n",
       "      <td>56281.0</td>\n",
       "      <td>56281.0</td>\n",
       "    </tr>\n",
       "    <tr>\n",
       "      <th>64</th>\n",
       "      <td>No_SSL_run1_No SSL</td>\n",
       "      <td>0.999574</td>\n",
       "      <td>0.900971</td>\n",
       "      <td>0.999611</td>\n",
       "      <td>0.999574</td>\n",
       "      <td>0.908165</td>\n",
       "      <td>0.999574</td>\n",
       "      <td>0.999574</td>\n",
       "      <td>0.904490</td>\n",
       "      <td>0.999592</td>\n",
       "      <td>0.999574</td>\n",
       "      <td>56281.0</td>\n",
       "      <td>56281.0</td>\n",
       "    </tr>\n",
       "    <tr>\n",
       "      <th>67</th>\n",
       "      <td>No_SSL_run2_No SSL</td>\n",
       "      <td>0.999769</td>\n",
       "      <td>0.992084</td>\n",
       "      <td>0.999770</td>\n",
       "      <td>0.999769</td>\n",
       "      <td>0.999200</td>\n",
       "      <td>0.999769</td>\n",
       "      <td>0.999769</td>\n",
       "      <td>0.995559</td>\n",
       "      <td>0.999769</td>\n",
       "      <td>0.999769</td>\n",
       "      <td>56281.0</td>\n",
       "      <td>56281.0</td>\n",
       "    </tr>\n",
       "    <tr>\n",
       "      <th>70</th>\n",
       "      <td>No_SSL_run3_No SSL</td>\n",
       "      <td>0.999627</td>\n",
       "      <td>0.831033</td>\n",
       "      <td>0.999663</td>\n",
       "      <td>0.999627</td>\n",
       "      <td>0.828643</td>\n",
       "      <td>0.999627</td>\n",
       "      <td>0.999627</td>\n",
       "      <td>0.829766</td>\n",
       "      <td>0.999644</td>\n",
       "      <td>0.999627</td>\n",
       "      <td>56281.0</td>\n",
       "      <td>56281.0</td>\n",
       "    </tr>\n",
       "    <tr>\n",
       "      <th>73</th>\n",
       "      <td>No_SSL_run4_No SSL</td>\n",
       "      <td>0.000888</td>\n",
       "      <td>0.043939</td>\n",
       "      <td>0.003525</td>\n",
       "      <td>0.000888</td>\n",
       "      <td>0.024556</td>\n",
       "      <td>0.000888</td>\n",
       "      <td>0.000888</td>\n",
       "      <td>0.026094</td>\n",
       "      <td>0.001098</td>\n",
       "      <td>0.000888</td>\n",
       "      <td>56281.0</td>\n",
       "      <td>56281.0</td>\n",
       "    </tr>\n",
       "    <tr>\n",
       "      <th>74</th>\n",
       "      <td>Random</td>\n",
       "      <td>0.740925</td>\n",
       "      <td>0.039358</td>\n",
       "      <td>0.854921</td>\n",
       "      <td>0.740925</td>\n",
       "      <td>0.021562</td>\n",
       "      <td>0.740925</td>\n",
       "      <td>0.740925</td>\n",
       "      <td>0.026066</td>\n",
       "      <td>0.771114</td>\n",
       "      <td>0.740925</td>\n",
       "      <td>56281.0</td>\n",
       "      <td>56281.0</td>\n",
       "    </tr>\n",
       "    <tr>\n",
       "      <th>122</th>\n",
       "      <td>SSL_CN_MLP_50prun0_HLCA_SSL</td>\n",
       "      <td>0.975516</td>\n",
       "      <td>0.225330</td>\n",
       "      <td>0.982853</td>\n",
       "      <td>0.975516</td>\n",
       "      <td>0.212173</td>\n",
       "      <td>0.975516</td>\n",
       "      <td>0.975516</td>\n",
       "      <td>0.209650</td>\n",
       "      <td>0.978525</td>\n",
       "      <td>0.975516</td>\n",
       "      <td>56281.0</td>\n",
       "      <td>56281.0</td>\n",
       "    </tr>\n",
       "    <tr>\n",
       "      <th>170</th>\n",
       "      <td>SSL_CN_MLP_50prun0_SSL</td>\n",
       "      <td>0.999769</td>\n",
       "      <td>0.999855</td>\n",
       "      <td>0.999769</td>\n",
       "      <td>0.999769</td>\n",
       "      <td>0.999802</td>\n",
       "      <td>0.999769</td>\n",
       "      <td>0.999769</td>\n",
       "      <td>0.999829</td>\n",
       "      <td>0.999769</td>\n",
       "      <td>0.999769</td>\n",
       "      <td>56281.0</td>\n",
       "      <td>56281.0</td>\n",
       "    </tr>\n",
       "    <tr>\n",
       "      <th>173</th>\n",
       "      <td>SSL_CN_MLP_50prun1_SSL</td>\n",
       "      <td>0.999751</td>\n",
       "      <td>0.768993</td>\n",
       "      <td>0.999805</td>\n",
       "      <td>0.999751</td>\n",
       "      <td>0.768320</td>\n",
       "      <td>0.999751</td>\n",
       "      <td>0.999751</td>\n",
       "      <td>0.768655</td>\n",
       "      <td>0.999778</td>\n",
       "      <td>0.999751</td>\n",
       "      <td>56281.0</td>\n",
       "      <td>56281.0</td>\n",
       "    </tr>\n",
       "    <tr>\n",
       "      <th>176</th>\n",
       "      <td>SSL_CN_MLP_50prun2_SSL</td>\n",
       "      <td>0.999680</td>\n",
       "      <td>0.906259</td>\n",
       "      <td>0.999716</td>\n",
       "      <td>0.999680</td>\n",
       "      <td>0.908878</td>\n",
       "      <td>0.999680</td>\n",
       "      <td>0.999680</td>\n",
       "      <td>0.907552</td>\n",
       "      <td>0.999698</td>\n",
       "      <td>0.999680</td>\n",
       "      <td>56281.0</td>\n",
       "      <td>56281.0</td>\n",
       "    </tr>\n",
       "    <tr>\n",
       "      <th>179</th>\n",
       "      <td>SSL_CN_MLP_50prun3_SSL</td>\n",
       "      <td>0.999769</td>\n",
       "      <td>0.999774</td>\n",
       "      <td>0.999769</td>\n",
       "      <td>0.999769</td>\n",
       "      <td>0.999806</td>\n",
       "      <td>0.999769</td>\n",
       "      <td>0.999769</td>\n",
       "      <td>0.999790</td>\n",
       "      <td>0.999769</td>\n",
       "      <td>0.999769</td>\n",
       "      <td>56281.0</td>\n",
       "      <td>56281.0</td>\n",
       "    </tr>\n",
       "    <tr>\n",
       "      <th>182</th>\n",
       "      <td>SSL_CN_MLP_50prun4_SSL</td>\n",
       "      <td>0.999716</td>\n",
       "      <td>0.903578</td>\n",
       "      <td>0.999735</td>\n",
       "      <td>0.999716</td>\n",
       "      <td>0.908333</td>\n",
       "      <td>0.999716</td>\n",
       "      <td>0.999716</td>\n",
       "      <td>0.905895</td>\n",
       "      <td>0.999725</td>\n",
       "      <td>0.999716</td>\n",
       "      <td>56281.0</td>\n",
       "      <td>56281.0</td>\n",
       "    </tr>\n",
       "  </tbody>\n",
       "</table>\n",
       "</div>"
      ],
      "text/plain": [
       "                         Unnamed: 0  precision: accuracy  \\\n",
       "0        CN_MLP_50p_Only Pretrained             0.993142   \n",
       "3    CN_MLP_50prun1_Only Pretrained             0.997815   \n",
       "6    CN_MLP_50prun2_Only Pretrained             0.995896   \n",
       "9    CN_MLP_50prun3_Only Pretrained             0.998738   \n",
       "12   CN_MLP_50prun4_Only Pretrained             0.998667   \n",
       "15          No_SSL_run0_HLCA_No SSL             0.935236   \n",
       "63               No_SSL_run0_No SSL             0.000284   \n",
       "64               No_SSL_run1_No SSL             0.999574   \n",
       "67               No_SSL_run2_No SSL             0.999769   \n",
       "70               No_SSL_run3_No SSL             0.999627   \n",
       "73               No_SSL_run4_No SSL             0.000888   \n",
       "74                           Random             0.740925   \n",
       "122     SSL_CN_MLP_50prun0_HLCA_SSL             0.975516   \n",
       "170          SSL_CN_MLP_50prun0_SSL             0.999769   \n",
       "173          SSL_CN_MLP_50prun1_SSL             0.999751   \n",
       "176          SSL_CN_MLP_50prun2_SSL             0.999680   \n",
       "179          SSL_CN_MLP_50prun3_SSL             0.999769   \n",
       "182          SSL_CN_MLP_50prun4_SSL             0.999716   \n",
       "\n",
       "     precision: macro avg  precision: weighted avg  recall: accuracy  \\\n",
       "0                0.424441                 0.994168          0.993142   \n",
       "3                0.394518                 0.998469          0.997815   \n",
       "6                0.362867                 0.996664          0.995896   \n",
       "9                0.615198                 0.999010          0.998738   \n",
       "12               0.421375                 0.999062          0.998667   \n",
       "15               0.135320                 0.952957          0.935236   \n",
       "63               0.037736                 0.003731          0.000284   \n",
       "64               0.900971                 0.999611          0.999574   \n",
       "67               0.992084                 0.999770          0.999769   \n",
       "70               0.831033                 0.999663          0.999627   \n",
       "73               0.043939                 0.003525          0.000888   \n",
       "74               0.039358                 0.854921          0.740925   \n",
       "122              0.225330                 0.982853          0.975516   \n",
       "170              0.999855                 0.999769          0.999769   \n",
       "173              0.768993                 0.999805          0.999751   \n",
       "176              0.906259                 0.999716          0.999680   \n",
       "179              0.999774                 0.999769          0.999769   \n",
       "182              0.903578                 0.999735          0.999716   \n",
       "\n",
       "     recall: macro avg  recall: weighted avg  f1-score: accuracy  \\\n",
       "0             0.407992              0.993142            0.993142   \n",
       "3             0.363018              0.997815            0.997815   \n",
       "6             0.357005              0.995896            0.995896   \n",
       "9             0.590554              0.998738            0.998738   \n",
       "12            0.404475              0.998667            0.998667   \n",
       "15            0.125819              0.935236            0.935236   \n",
       "63            0.007139              0.000284            0.000284   \n",
       "64            0.908165              0.999574            0.999574   \n",
       "67            0.999200              0.999769            0.999769   \n",
       "70            0.828643              0.999627            0.999627   \n",
       "73            0.024556              0.000888            0.000888   \n",
       "74            0.021562              0.740925            0.740925   \n",
       "122           0.212173              0.975516            0.975516   \n",
       "170           0.999802              0.999769            0.999769   \n",
       "173           0.768320              0.999751            0.999751   \n",
       "176           0.908878              0.999680            0.999680   \n",
       "179           0.999806              0.999769            0.999769   \n",
       "182           0.908333              0.999716            0.999716   \n",
       "\n",
       "     f1-score: macro avg  f1-score: weighted avg  support: accuracy  \\\n",
       "0               0.412011                0.993522           0.993142   \n",
       "3               0.366438                0.998034           0.997815   \n",
       "6               0.358695                0.996246           0.995896   \n",
       "9               0.596699                0.998837           0.998738   \n",
       "12              0.408075                0.998822           0.998667   \n",
       "15              0.127759                0.942831           0.935236   \n",
       "63              0.010651                0.000444           0.000284   \n",
       "64              0.904490                0.999592           0.999574   \n",
       "67              0.995559                0.999769           0.999769   \n",
       "70              0.829766                0.999644           0.999627   \n",
       "73              0.026094                0.001098           0.000888   \n",
       "74              0.026066                0.771114           0.740925   \n",
       "122             0.209650                0.978525           0.975516   \n",
       "170             0.999829                0.999769           0.999769   \n",
       "173             0.768655                0.999778           0.999751   \n",
       "176             0.907552                0.999698           0.999680   \n",
       "179             0.999790                0.999769           0.999769   \n",
       "182             0.905895                0.999725           0.999716   \n",
       "\n",
       "     support: macro avg  support: weighted avg  \n",
       "0               56281.0                56281.0  \n",
       "3               56281.0                56281.0  \n",
       "6               56281.0                56281.0  \n",
       "9               56281.0                56281.0  \n",
       "12              56281.0                56281.0  \n",
       "15              56281.0                56281.0  \n",
       "63              56281.0                56281.0  \n",
       "64              56281.0                56281.0  \n",
       "67              56281.0                56281.0  \n",
       "70              56281.0                56281.0  \n",
       "73              56281.0                56281.0  \n",
       "74              56281.0                56281.0  \n",
       "122             56281.0                56281.0  \n",
       "170             56281.0                56281.0  \n",
       "173             56281.0                56281.0  \n",
       "176             56281.0                56281.0  \n",
       "179             56281.0                56281.0  \n",
       "182             56281.0                56281.0  "
      ]
     },
     "execution_count": 20,
     "metadata": {},
     "output_type": "execute_result"
    }
   ],
   "source": [
    "# Reading the uploaded CSV file to understand its contents\n",
    "import pandas as pd\n",
    "\n",
    "# Load the CSV file into a DataFrame\n",
    "file_path = os.path.join(RESULT_PATH, 'classification', 'val_clf_report_OOD_HiT_knn.csv')\n",
    "df = pd.read_csv(file_path)\n",
    "\n",
    "# Remove duplicates\n",
    "df = df.drop_duplicates()\n",
    "\n",
    "# Show the first few rows to get an overview of the data\n",
    "df"
   ]
  },
  {
   "cell_type": "markdown",
   "id": "0e3f85c2-5462-4a1b-86f7-dca6041af08c",
   "metadata": {},
   "source": [
    "### **All non-neuronal cells**\n",
    "\n",
    "- 888,263 cells\n",
    "- 10x 3' v3\n",
    "- Bergmann glial cell (8041), astrocyte (155025), central nervous system macrophage (91383), ~~choroid plexus epithelial cell (7689)~~, endothelial cell (5165), ependymal cell (5882), ~~fibroblast (9156)~~, oligodendrocyte (494966), oligodendrocyte precursor cell (105734), pericyte (3693), vascular associated smooth muscle cell (1074)"
   ]
  },
  {
   "cell_type": "code",
   "execution_count": 23,
   "id": "550c7dcb-dbee-47ed-a759-f7a518f2f085",
   "metadata": {},
   "outputs": [],
   "source": [
    "ood_set = 'non_neuronal'  # non_neuronal"
   ]
  },
  {
   "cell_type": "code",
   "execution_count": 24,
   "id": "d5cddde3-1913-4a87-93cf-46a333ce8434",
   "metadata": {},
   "outputs": [],
   "source": [
    "# Load OOD data\n",
    "ood_dataloader = get_large_ood_dataloader(x_file_path, y_file_path, batch_size=1024)"
   ]
  },
  {
   "cell_type": "code",
   "execution_count": 25,
   "id": "67393bd1-71ad-4ddd-973c-17fc149b1617",
   "metadata": {},
   "outputs": [],
   "source": [
    "model_dirs = [\n",
    "    ### Supervised Models ###\n",
    "    \n",
    "    MODEL_PATH + '/final_models/classification/No_SSL_run0/default/version_0/checkpoints/best_checkpoint_val.ckpt',  # Done\n",
    "    MODEL_PATH + '/final_models/classification/No_SSL_run1/default/version_0/checkpoints/best_checkpoint_val.ckpt',  # Done\n",
    "    MODEL_PATH + '/final_models/classification/No_SSL_run2/default/version_0/checkpoints/best_checkpoint_val.ckpt',  # Done\n",
    "    MODEL_PATH + '/final_models/classification/No_SSL_run3/default/version_0/checkpoints/best_checkpoint_val.ckpt',  # Done\n",
    "    MODEL_PATH + '/final_models/classification/No_SSL_run4/default/version_0/checkpoints/best_checkpoint_val.ckpt',  # Done\n",
    "    \n",
    "    ### Only Pretrained Models ###\n",
    "    \n",
    "    # Individual Gene Masking\n",
    "    MODEL_PATH + '/pretext_models/masking/CN_MLP_50p/default/version_1/checkpoints/best_checkpoint_val.ckpt',  # Done\n",
    "    MODEL_PATH + '/pretext_models/masking/CN_MLP_50prun1/default/version_0/checkpoints/best_checkpoint_val.ckpt',  # Done\n",
    "    MODEL_PATH + '/pretext_models/masking/CN_MLP_50prun2/default/version_0/checkpoints/best_checkpoint_val.ckpt',  # Done\n",
    "    MODEL_PATH + '/pretext_models/masking/CN_MLP_50prun3/default/version_0/checkpoints/best_checkpoint_val.ckpt',  # Done\n",
    "    MODEL_PATH + '/pretext_models/masking/CN_MLP_50prun4/default/version_0/checkpoints/best_checkpoint_val.ckpt',  # Done\n",
    "    \n",
    "    ### Self-Supervised Models ###\n",
    "    \n",
    "    # Individual Gene Masking\n",
    "    MODEL_PATH + '/final_models/classification/SSL_CN_MLP_50prun0/default/version_0/checkpoints/best_checkpoint_val.ckpt',  # Done\n",
    "    MODEL_PATH + '/final_models/classification/SSL_CN_MLP_50prun1/default/version_1/checkpoints/best_checkpoint_val.ckpt',  # Done\n",
    "    MODEL_PATH + '/final_models/classification/SSL_CN_MLP_50prun2/default/version_1/checkpoints/best_checkpoint_val.ckpt',  # Done\n",
    "    MODEL_PATH + '/final_models/classification/SSL_CN_MLP_50prun3/default/version_1/checkpoints/best_checkpoint_val.ckpt',  # Done\n",
    "    MODEL_PATH + '/final_models/classification/SSL_CN_MLP_50prun4/default/version_1/checkpoints/best_checkpoint_val.ckpt',  # Done\n",
    "]"
   ]
  },
  {
   "cell_type": "code",
   "execution_count": 26,
   "id": "ed94dbd6-5ee3-4e8e-9681-65e47ebc3c39",
   "metadata": {},
   "outputs": [],
   "source": [
    "# # init estim class\n",
    "estim = EstimatorAutoEncoder(DATA_PATH, hvg=False)"
   ]
  },
  {
   "cell_type": "code",
   "execution_count": 27,
   "id": "73b34122-c8bd-4440-a17d-99ca1a2243fc",
   "metadata": {},
   "outputs": [],
   "source": [
    "# init datamodule\n",
    "estim.init_datamodule(batch_size=1024) "
   ]
  },
  {
   "cell_type": "code",
   "execution_count": 39,
   "id": "46ceabef-d5f7-4fa3-b2f8-05cdfd6ab550",
   "metadata": {},
   "outputs": [],
   "source": [
    "eval_emb_knn(estim, model_dirs=model_dirs, setting='OOD_nn', test_dataloader=ood_dataloader, eval_random=True, eval_pca=False, reference='val')"
   ]
  },
  {
   "cell_type": "code",
   "execution_count": 23,
   "id": "d341c6b0-8e84-43a4-98b9-1a7730229bb6",
   "metadata": {},
   "outputs": [
    {
     "data": {
      "text/html": [
       "<div>\n",
       "<style scoped>\n",
       "    .dataframe tbody tr th:only-of-type {\n",
       "        vertical-align: middle;\n",
       "    }\n",
       "\n",
       "    .dataframe tbody tr th {\n",
       "        vertical-align: top;\n",
       "    }\n",
       "\n",
       "    .dataframe thead th {\n",
       "        text-align: right;\n",
       "    }\n",
       "</style>\n",
       "<table border=\"1\" class=\"dataframe\">\n",
       "  <thead>\n",
       "    <tr style=\"text-align: right;\">\n",
       "      <th></th>\n",
       "      <th>Unnamed: 0</th>\n",
       "      <th>precision: accuracy</th>\n",
       "      <th>precision: macro avg</th>\n",
       "      <th>precision: weighted avg</th>\n",
       "      <th>recall: accuracy</th>\n",
       "      <th>recall: macro avg</th>\n",
       "      <th>recall: weighted avg</th>\n",
       "      <th>f1-score: accuracy</th>\n",
       "      <th>f1-score: macro avg</th>\n",
       "      <th>f1-score: weighted avg</th>\n",
       "      <th>support: accuracy</th>\n",
       "      <th>support: macro avg</th>\n",
       "      <th>support: weighted avg</th>\n",
       "    </tr>\n",
       "  </thead>\n",
       "  <tbody>\n",
       "    <tr>\n",
       "      <th>0</th>\n",
       "      <td>CN_MLP_50p_Only Pretrained</td>\n",
       "      <td>0.994172</td>\n",
       "      <td>0.121142</td>\n",
       "      <td>0.997695</td>\n",
       "      <td>0.994172</td>\n",
       "      <td>0.113036</td>\n",
       "      <td>0.994172</td>\n",
       "      <td>0.994172</td>\n",
       "      <td>0.115399</td>\n",
       "      <td>0.995772</td>\n",
       "      <td>0.994172</td>\n",
       "      <td>871418.0</td>\n",
       "      <td>871418.0</td>\n",
       "    </tr>\n",
       "    <tr>\n",
       "      <th>96</th>\n",
       "      <td>CN_MLP_50prun1_Only Pretrained</td>\n",
       "      <td>0.992357</td>\n",
       "      <td>0.098901</td>\n",
       "      <td>0.997487</td>\n",
       "      <td>0.992357</td>\n",
       "      <td>0.092442</td>\n",
       "      <td>0.992357</td>\n",
       "      <td>0.992357</td>\n",
       "      <td>0.093995</td>\n",
       "      <td>0.994716</td>\n",
       "      <td>0.992357</td>\n",
       "      <td>871418.0</td>\n",
       "      <td>871418.0</td>\n",
       "    </tr>\n",
       "    <tr>\n",
       "      <th>112</th>\n",
       "      <td>CN_MLP_50prun2_Only Pretrained</td>\n",
       "      <td>0.993871</td>\n",
       "      <td>0.101470</td>\n",
       "      <td>0.997504</td>\n",
       "      <td>0.993871</td>\n",
       "      <td>0.097361</td>\n",
       "      <td>0.993871</td>\n",
       "      <td>0.993871</td>\n",
       "      <td>0.098768</td>\n",
       "      <td>0.995606</td>\n",
       "      <td>0.993871</td>\n",
       "      <td>871418.0</td>\n",
       "      <td>871418.0</td>\n",
       "    </tr>\n",
       "    <tr>\n",
       "      <th>114</th>\n",
       "      <td>CN_MLP_50prun3_Only Pretrained</td>\n",
       "      <td>0.996000</td>\n",
       "      <td>0.158608</td>\n",
       "      <td>0.997993</td>\n",
       "      <td>0.996000</td>\n",
       "      <td>0.150998</td>\n",
       "      <td>0.996000</td>\n",
       "      <td>0.996000</td>\n",
       "      <td>0.153484</td>\n",
       "      <td>0.996899</td>\n",
       "      <td>0.996000</td>\n",
       "      <td>871418.0</td>\n",
       "      <td>871418.0</td>\n",
       "    </tr>\n",
       "    <tr>\n",
       "      <th>116</th>\n",
       "      <td>CN_MLP_50prun4_Only Pretrained</td>\n",
       "      <td>0.994688</td>\n",
       "      <td>0.125916</td>\n",
       "      <td>0.997251</td>\n",
       "      <td>0.994688</td>\n",
       "      <td>0.117897</td>\n",
       "      <td>0.994688</td>\n",
       "      <td>0.994688</td>\n",
       "      <td>0.120010</td>\n",
       "      <td>0.995796</td>\n",
       "      <td>0.994688</td>\n",
       "      <td>871418.0</td>\n",
       "      <td>871418.0</td>\n",
       "    </tr>\n",
       "    <tr>\n",
       "      <th>118</th>\n",
       "      <td>No_SSL_run0_No SSL</td>\n",
       "      <td>0.000199</td>\n",
       "      <td>0.013889</td>\n",
       "      <td>0.005927</td>\n",
       "      <td>0.000199</td>\n",
       "      <td>0.000465</td>\n",
       "      <td>0.000199</td>\n",
       "      <td>0.000199</td>\n",
       "      <td>0.000900</td>\n",
       "      <td>0.000384</td>\n",
       "      <td>0.000199</td>\n",
       "      <td>871418.0</td>\n",
       "      <td>871418.0</td>\n",
       "    </tr>\n",
       "    <tr>\n",
       "      <th>214</th>\n",
       "      <td>No_SSL_run1_No SSL</td>\n",
       "      <td>0.999373</td>\n",
       "      <td>0.345114</td>\n",
       "      <td>0.999804</td>\n",
       "      <td>0.999373</td>\n",
       "      <td>0.344603</td>\n",
       "      <td>0.999373</td>\n",
       "      <td>0.999373</td>\n",
       "      <td>0.344858</td>\n",
       "      <td>0.999588</td>\n",
       "      <td>0.999373</td>\n",
       "      <td>871418.0</td>\n",
       "      <td>871418.0</td>\n",
       "    </tr>\n",
       "    <tr>\n",
       "      <th>230</th>\n",
       "      <td>No_SSL_run2_No SSL</td>\n",
       "      <td>0.999280</td>\n",
       "      <td>0.345042</td>\n",
       "      <td>0.999721</td>\n",
       "      <td>0.999280</td>\n",
       "      <td>0.343891</td>\n",
       "      <td>0.999280</td>\n",
       "      <td>0.999280</td>\n",
       "      <td>0.344453</td>\n",
       "      <td>0.999500</td>\n",
       "      <td>0.999280</td>\n",
       "      <td>871418.0</td>\n",
       "      <td>871418.0</td>\n",
       "    </tr>\n",
       "    <tr>\n",
       "      <th>246</th>\n",
       "      <td>No_SSL_run3_No SSL</td>\n",
       "      <td>0.999256</td>\n",
       "      <td>0.298722</td>\n",
       "      <td>0.999706</td>\n",
       "      <td>0.999256</td>\n",
       "      <td>0.297777</td>\n",
       "      <td>0.999256</td>\n",
       "      <td>0.999256</td>\n",
       "      <td>0.298242</td>\n",
       "      <td>0.999481</td>\n",
       "      <td>0.999256</td>\n",
       "      <td>871418.0</td>\n",
       "      <td>871418.0</td>\n",
       "    </tr>\n",
       "    <tr>\n",
       "      <th>262</th>\n",
       "      <td>No_SSL_run4_No SSL</td>\n",
       "      <td>0.000296</td>\n",
       "      <td>0.013952</td>\n",
       "      <td>0.005541</td>\n",
       "      <td>0.000296</td>\n",
       "      <td>0.000746</td>\n",
       "      <td>0.000296</td>\n",
       "      <td>0.000296</td>\n",
       "      <td>0.001415</td>\n",
       "      <td>0.000562</td>\n",
       "      <td>0.000296</td>\n",
       "      <td>871418.0</td>\n",
       "      <td>871418.0</td>\n",
       "    </tr>\n",
       "    <tr>\n",
       "      <th>278</th>\n",
       "      <td>Random</td>\n",
       "      <td>0.422717</td>\n",
       "      <td>0.023306</td>\n",
       "      <td>0.818961</td>\n",
       "      <td>0.422717</td>\n",
       "      <td>0.009745</td>\n",
       "      <td>0.422717</td>\n",
       "      <td>0.422717</td>\n",
       "      <td>0.012737</td>\n",
       "      <td>0.546759</td>\n",
       "      <td>0.422717</td>\n",
       "      <td>871418.0</td>\n",
       "      <td>871418.0</td>\n",
       "    </tr>\n",
       "    <tr>\n",
       "      <th>279</th>\n",
       "      <td>SSL_CN_MLP_50prun0_SSL</td>\n",
       "      <td>0.999223</td>\n",
       "      <td>0.358490</td>\n",
       "      <td>0.999662</td>\n",
       "      <td>0.999223</td>\n",
       "      <td>0.356486</td>\n",
       "      <td>0.999223</td>\n",
       "      <td>0.999223</td>\n",
       "      <td>0.357455</td>\n",
       "      <td>0.999441</td>\n",
       "      <td>0.999223</td>\n",
       "      <td>871418.0</td>\n",
       "      <td>871418.0</td>\n",
       "    </tr>\n",
       "    <tr>\n",
       "      <th>375</th>\n",
       "      <td>SSL_CN_MLP_50prun1_SSL</td>\n",
       "      <td>0.999369</td>\n",
       "      <td>0.256096</td>\n",
       "      <td>0.999680</td>\n",
       "      <td>0.999369</td>\n",
       "      <td>0.254666</td>\n",
       "      <td>0.999369</td>\n",
       "      <td>0.999369</td>\n",
       "      <td>0.255360</td>\n",
       "      <td>0.999523</td>\n",
       "      <td>0.999369</td>\n",
       "      <td>871418.0</td>\n",
       "      <td>871418.0</td>\n",
       "    </tr>\n",
       "    <tr>\n",
       "      <th>377</th>\n",
       "      <td>SSL_CN_MLP_50prun2_SSL</td>\n",
       "      <td>0.999233</td>\n",
       "      <td>0.289130</td>\n",
       "      <td>0.999662</td>\n",
       "      <td>0.999233</td>\n",
       "      <td>0.288324</td>\n",
       "      <td>0.999233</td>\n",
       "      <td>0.999233</td>\n",
       "      <td>0.288723</td>\n",
       "      <td>0.999447</td>\n",
       "      <td>0.999233</td>\n",
       "      <td>871418.0</td>\n",
       "      <td>871418.0</td>\n",
       "    </tr>\n",
       "    <tr>\n",
       "      <th>379</th>\n",
       "      <td>SSL_CN_MLP_50prun3_SSL</td>\n",
       "      <td>0.999395</td>\n",
       "      <td>0.320224</td>\n",
       "      <td>0.999746</td>\n",
       "      <td>0.999395</td>\n",
       "      <td>0.318328</td>\n",
       "      <td>0.999395</td>\n",
       "      <td>0.999395</td>\n",
       "      <td>0.319237</td>\n",
       "      <td>0.999569</td>\n",
       "      <td>0.999395</td>\n",
       "      <td>871418.0</td>\n",
       "      <td>871418.0</td>\n",
       "    </tr>\n",
       "    <tr>\n",
       "      <th>381</th>\n",
       "      <td>SSL_CN_MLP_50prun4_SSL</td>\n",
       "      <td>0.999215</td>\n",
       "      <td>0.372998</td>\n",
       "      <td>0.999642</td>\n",
       "      <td>0.999215</td>\n",
       "      <td>0.372590</td>\n",
       "      <td>0.999215</td>\n",
       "      <td>0.999215</td>\n",
       "      <td>0.372792</td>\n",
       "      <td>0.999428</td>\n",
       "      <td>0.999215</td>\n",
       "      <td>871418.0</td>\n",
       "      <td>871418.0</td>\n",
       "    </tr>\n",
       "  </tbody>\n",
       "</table>\n",
       "</div>"
      ],
      "text/plain": [
       "                         Unnamed: 0  precision: accuracy  \\\n",
       "0        CN_MLP_50p_Only Pretrained             0.994172   \n",
       "96   CN_MLP_50prun1_Only Pretrained             0.992357   \n",
       "112  CN_MLP_50prun2_Only Pretrained             0.993871   \n",
       "114  CN_MLP_50prun3_Only Pretrained             0.996000   \n",
       "116  CN_MLP_50prun4_Only Pretrained             0.994688   \n",
       "118              No_SSL_run0_No SSL             0.000199   \n",
       "214              No_SSL_run1_No SSL             0.999373   \n",
       "230              No_SSL_run2_No SSL             0.999280   \n",
       "246              No_SSL_run3_No SSL             0.999256   \n",
       "262              No_SSL_run4_No SSL             0.000296   \n",
       "278                          Random             0.422717   \n",
       "279          SSL_CN_MLP_50prun0_SSL             0.999223   \n",
       "375          SSL_CN_MLP_50prun1_SSL             0.999369   \n",
       "377          SSL_CN_MLP_50prun2_SSL             0.999233   \n",
       "379          SSL_CN_MLP_50prun3_SSL             0.999395   \n",
       "381          SSL_CN_MLP_50prun4_SSL             0.999215   \n",
       "\n",
       "     precision: macro avg  precision: weighted avg  recall: accuracy  \\\n",
       "0                0.121142                 0.997695          0.994172   \n",
       "96               0.098901                 0.997487          0.992357   \n",
       "112              0.101470                 0.997504          0.993871   \n",
       "114              0.158608                 0.997993          0.996000   \n",
       "116              0.125916                 0.997251          0.994688   \n",
       "118              0.013889                 0.005927          0.000199   \n",
       "214              0.345114                 0.999804          0.999373   \n",
       "230              0.345042                 0.999721          0.999280   \n",
       "246              0.298722                 0.999706          0.999256   \n",
       "262              0.013952                 0.005541          0.000296   \n",
       "278              0.023306                 0.818961          0.422717   \n",
       "279              0.358490                 0.999662          0.999223   \n",
       "375              0.256096                 0.999680          0.999369   \n",
       "377              0.289130                 0.999662          0.999233   \n",
       "379              0.320224                 0.999746          0.999395   \n",
       "381              0.372998                 0.999642          0.999215   \n",
       "\n",
       "     recall: macro avg  recall: weighted avg  f1-score: accuracy  \\\n",
       "0             0.113036              0.994172            0.994172   \n",
       "96            0.092442              0.992357            0.992357   \n",
       "112           0.097361              0.993871            0.993871   \n",
       "114           0.150998              0.996000            0.996000   \n",
       "116           0.117897              0.994688            0.994688   \n",
       "118           0.000465              0.000199            0.000199   \n",
       "214           0.344603              0.999373            0.999373   \n",
       "230           0.343891              0.999280            0.999280   \n",
       "246           0.297777              0.999256            0.999256   \n",
       "262           0.000746              0.000296            0.000296   \n",
       "278           0.009745              0.422717            0.422717   \n",
       "279           0.356486              0.999223            0.999223   \n",
       "375           0.254666              0.999369            0.999369   \n",
       "377           0.288324              0.999233            0.999233   \n",
       "379           0.318328              0.999395            0.999395   \n",
       "381           0.372590              0.999215            0.999215   \n",
       "\n",
       "     f1-score: macro avg  f1-score: weighted avg  support: accuracy  \\\n",
       "0               0.115399                0.995772           0.994172   \n",
       "96              0.093995                0.994716           0.992357   \n",
       "112             0.098768                0.995606           0.993871   \n",
       "114             0.153484                0.996899           0.996000   \n",
       "116             0.120010                0.995796           0.994688   \n",
       "118             0.000900                0.000384           0.000199   \n",
       "214             0.344858                0.999588           0.999373   \n",
       "230             0.344453                0.999500           0.999280   \n",
       "246             0.298242                0.999481           0.999256   \n",
       "262             0.001415                0.000562           0.000296   \n",
       "278             0.012737                0.546759           0.422717   \n",
       "279             0.357455                0.999441           0.999223   \n",
       "375             0.255360                0.999523           0.999369   \n",
       "377             0.288723                0.999447           0.999233   \n",
       "379             0.319237                0.999569           0.999395   \n",
       "381             0.372792                0.999428           0.999215   \n",
       "\n",
       "     support: macro avg  support: weighted avg  \n",
       "0              871418.0               871418.0  \n",
       "96             871418.0               871418.0  \n",
       "112            871418.0               871418.0  \n",
       "114            871418.0               871418.0  \n",
       "116            871418.0               871418.0  \n",
       "118            871418.0               871418.0  \n",
       "214            871418.0               871418.0  \n",
       "230            871418.0               871418.0  \n",
       "246            871418.0               871418.0  \n",
       "262            871418.0               871418.0  \n",
       "278            871418.0               871418.0  \n",
       "279            871418.0               871418.0  \n",
       "375            871418.0               871418.0  \n",
       "377            871418.0               871418.0  \n",
       "379            871418.0               871418.0  \n",
       "381            871418.0               871418.0  "
      ]
     },
     "execution_count": 23,
     "metadata": {},
     "output_type": "execute_result"
    }
   ],
   "source": [
    "# Reading the uploaded CSV file to understand its contents\n",
    "import pandas as pd\n",
    "\n",
    "# Load the CSV file into a DataFrame\n",
    "file_path = os.path.join(RESULT_PATH, 'classification', 'val_clf_report_OOD_nn_knn.csv')\n",
    "df = pd.read_csv(file_path)\n",
    "df = df.drop_duplicates()\n",
    "\n",
    "# Show the first few rows to get an overview of the data\n",
    "df"
   ]
  },
  {
   "cell_type": "markdown",
   "id": "dd9f659c-a774-45f8-9d1b-4571c06a2983",
   "metadata": {
    "tags": []
   },
   "source": [
    "### **Circulating Immune cells -- CV19 infection, vaccination and HC**\n",
    "\n",
    "- 195,632 cells\n",
    "- 10x 5' v1 10x 5' v2\n",
    "- B Cell (21190), CD4-positive, alpha-beta T cell (61350), CD8-positive, alpha-beta T cell (35752), T cell (1407), dendritic cell (3368), gamma-delta T cell (3184), monocyte (38476), mucosal invariant T cell (1244), natural killer cell (28834), stem cell (827) "
   ]
  },
  {
   "cell_type": "code",
   "execution_count": 13,
   "id": "a6959a73-5263-48d8-96c9-9c67be41edfb",
   "metadata": {},
   "outputs": [
    {
     "name": "stdout",
     "output_type": "stream",
     "text": [
      "Loaded tensor_x and tensor_y from disk.\n",
      "Created DataLoader.\n"
     ]
    }
   ],
   "source": [
    "test_loader_circ = create_ood_dataloader(adata_path=os.path.join(ADATA_PATH, 'circ_imm', 'circ_imm.h5ad'), data_path=DATA_PATH, batch_size=32)"
   ]
  },
  {
   "cell_type": "code",
   "execution_count": 14,
   "id": "9a7047cb-a1c7-4e1c-ab3c-d23ac222a131",
   "metadata": {},
   "outputs": [],
   "source": [
    "model_dirs = [\n",
    "    ### Supervised Models ###\n",
    "    \n",
    "    MODEL_PATH + '/final_models/classification/No_SSL_run0/default/version_0/checkpoints/best_checkpoint_val.ckpt',\n",
    "    MODEL_PATH + '/final_models/classification/No_SSL_run1/default/version_0/checkpoints/best_checkpoint_val.ckpt',\n",
    "    MODEL_PATH + '/final_models/classification/No_SSL_run2/default/version_0/checkpoints/best_checkpoint_val.ckpt',\n",
    "    MODEL_PATH + '/final_models/classification/No_SSL_run3/default/version_0/checkpoints/best_checkpoint_val.ckpt',\n",
    "    MODEL_PATH + '/final_models/classification/No_SSL_run4/default/version_0/checkpoints/best_checkpoint_val.ckpt',\n",
    "    \n",
    "    ### Only Pretrained Models ###\n",
    "    \n",
    "    # Individual Gene Masking\n",
    "    MODEL_PATH + '/pretext_models/masking/CN_MLP_50p/default/version_1/checkpoints/best_checkpoint_val.ckpt',\n",
    "    MODEL_PATH + '/pretext_models/masking/CN_MLP_50prun1/default/version_0/checkpoints/best_checkpoint_val.ckpt',\n",
    "    MODEL_PATH + '/pretext_models/masking/CN_MLP_50prun2/default/version_0/checkpoints/best_checkpoint_val.ckpt',\n",
    "    MODEL_PATH + '/pretext_models/masking/CN_MLP_50prun3/default/version_0/checkpoints/best_checkpoint_val.ckpt',\n",
    "    MODEL_PATH + '/pretext_models/masking/CN_MLP_50prun4/default/version_0/checkpoints/best_checkpoint_val.ckpt',\n",
    "    \n",
    "    ### Self-Supervised Models ###\n",
    "    \n",
    "    # Individual Gene Masking\n",
    "    MODEL_PATH + '/final_models/classification/SSL_CN_MLP_50prun0/default/version_0/checkpoints/best_checkpoint_val.ckpt',\n",
    "    MODEL_PATH + '/final_models/classification/SSL_CN_MLP_50prun1/default/version_1/checkpoints/best_checkpoint_val.ckpt',\n",
    "    MODEL_PATH + '/final_models/classification/SSL_CN_MLP_50prun2/default/version_1/checkpoints/best_checkpoint_val.ckpt',\n",
    "    MODEL_PATH + '/final_models/classification/SSL_CN_MLP_50prun3/default/version_1/checkpoints/best_checkpoint_val.ckpt',\n",
    "    MODEL_PATH + '/final_models/classification/SSL_CN_MLP_50prun4/default/version_1/checkpoints/best_checkpoint_val.ckpt',\n",
    "]"
   ]
  },
  {
   "cell_type": "code",
   "execution_count": 15,
   "id": "4b8e2427-ef91-4bd4-b3a4-2930612a5de0",
   "metadata": {},
   "outputs": [],
   "source": [
    "# init estim class\n",
    "estim = EstimatorAutoEncoder(DATA_PATH, hvg=False)"
   ]
  },
  {
   "cell_type": "code",
   "execution_count": 16,
   "id": "d5fa9d9d-efad-4612-b6b1-fc4648144ccd",
   "metadata": {},
   "outputs": [],
   "source": [
    "# init datamodule\n",
    "estim.init_datamodule(batch_size=1024) "
   ]
  },
  {
   "cell_type": "code",
   "execution_count": 17,
   "id": "f3a5033a-ed83-4e74-a8a2-8e9e0161ff1c",
   "metadata": {
    "scrolled": true,
    "tags": []
   },
   "outputs": [
    {
     "name": "stdout",
     "output_type": "stream",
     "text": [
      "Loaded train labels:  (15240192,) val labels:  (3500032,) test labels:  (194805,)\n",
      "Evaluating /lustre/groups/ml01/workspace/till.richter/trained_models//final_models/classification/No_SSL_run0/default/version_0/checkpoints/best_checkpoint_val.ckpt\n",
      "Get index for no ssl\n"
     ]
    },
    {
     "name": "stderr",
     "output_type": "stream",
     "text": [
      "GPU available: True (cuda), used: True\n",
      "TPU available: False, using: 0 TPU cores\n",
      "IPU available: False, using: 0 IPUs\n",
      "HPU available: False, using: 0 HPUs\n"
     ]
    },
    {
     "name": "stdout",
     "output_type": "stream",
     "text": [
      "Loaded val embeddings from disk at  /lustre/groups/ml01/workspace/till.richter/ssl_results/classification/embeddings/val_emb_No_SSL_run0_No SSL_OOD_Circ_Imm.npy\n",
      "Loaded test embeddings from disk at  /lustre/groups/ml01/workspace/till.richter/ssl_results/classification/embeddings/test_emb_No_SSL_run0_No SSL_OOD_Circ_Imm.npy\n",
      "Loaded reference embeddings:  (3500032, 64) test embeddings:  (194805, 64)\n",
      "Start kNN...\n",
      "Evaluating /lustre/groups/ml01/workspace/till.richter/trained_models//final_models/classification/No_SSL_run1/default/version_0/checkpoints/best_checkpoint_val.ckpt\n",
      "Get index for no ssl\n"
     ]
    },
    {
     "name": "stderr",
     "output_type": "stream",
     "text": [
      "GPU available: True (cuda), used: True\n",
      "TPU available: False, using: 0 TPU cores\n",
      "IPU available: False, using: 0 IPUs\n",
      "HPU available: False, using: 0 HPUs\n"
     ]
    },
    {
     "name": "stdout",
     "output_type": "stream",
     "text": [
      "Loaded val embeddings from disk at  /lustre/groups/ml01/workspace/till.richter/ssl_results/classification/embeddings/val_emb_No_SSL_run1_No SSL_OOD_Circ_Imm.npy\n",
      "Loaded test embeddings from disk at  /lustre/groups/ml01/workspace/till.richter/ssl_results/classification/embeddings/test_emb_No_SSL_run1_No SSL_OOD_Circ_Imm.npy\n",
      "Loaded reference embeddings:  (3500032, 64) test embeddings:  (194805, 64)\n",
      "Start kNN...\n",
      "Evaluating /lustre/groups/ml01/workspace/till.richter/trained_models//final_models/classification/No_SSL_run2/default/version_0/checkpoints/best_checkpoint_val.ckpt\n",
      "Get index for no ssl\n"
     ]
    },
    {
     "name": "stderr",
     "output_type": "stream",
     "text": [
      "GPU available: True (cuda), used: True\n",
      "TPU available: False, using: 0 TPU cores\n",
      "IPU available: False, using: 0 IPUs\n",
      "HPU available: False, using: 0 HPUs\n"
     ]
    },
    {
     "name": "stdout",
     "output_type": "stream",
     "text": [
      "Loaded val embeddings from disk at  /lustre/groups/ml01/workspace/till.richter/ssl_results/classification/embeddings/val_emb_No_SSL_run2_No SSL_OOD_Circ_Imm.npy\n",
      "Loaded test embeddings from disk at  /lustre/groups/ml01/workspace/till.richter/ssl_results/classification/embeddings/test_emb_No_SSL_run2_No SSL_OOD_Circ_Imm.npy\n",
      "Loaded reference embeddings:  (3500032, 64) test embeddings:  (194805, 64)\n",
      "Start kNN...\n",
      "Evaluating /lustre/groups/ml01/workspace/till.richter/trained_models//final_models/classification/No_SSL_run3/default/version_0/checkpoints/best_checkpoint_val.ckpt\n",
      "Get index for no ssl\n"
     ]
    },
    {
     "name": "stderr",
     "output_type": "stream",
     "text": [
      "GPU available: True (cuda), used: True\n",
      "TPU available: False, using: 0 TPU cores\n",
      "IPU available: False, using: 0 IPUs\n",
      "HPU available: False, using: 0 HPUs\n"
     ]
    },
    {
     "name": "stdout",
     "output_type": "stream",
     "text": [
      "Loaded val embeddings from disk at  /lustre/groups/ml01/workspace/till.richter/ssl_results/classification/embeddings/val_emb_No_SSL_run3_No SSL_OOD_Circ_Imm.npy\n",
      "Loaded test embeddings from disk at  /lustre/groups/ml01/workspace/till.richter/ssl_results/classification/embeddings/test_emb_No_SSL_run3_No SSL_OOD_Circ_Imm.npy\n",
      "Loaded reference embeddings:  (3500032, 64) test embeddings:  (194805, 64)\n",
      "Start kNN...\n",
      "Evaluating /lustre/groups/ml01/workspace/till.richter/trained_models//final_models/classification/No_SSL_run4/default/version_0/checkpoints/best_checkpoint_val.ckpt\n",
      "Get index for no ssl\n"
     ]
    },
    {
     "name": "stderr",
     "output_type": "stream",
     "text": [
      "GPU available: True (cuda), used: True\n",
      "TPU available: False, using: 0 TPU cores\n",
      "IPU available: False, using: 0 IPUs\n",
      "HPU available: False, using: 0 HPUs\n"
     ]
    },
    {
     "name": "stdout",
     "output_type": "stream",
     "text": [
      "Loaded val embeddings from disk at  /lustre/groups/ml01/workspace/till.richter/ssl_results/classification/embeddings/val_emb_No_SSL_run4_No SSL_OOD_Circ_Imm.npy\n",
      "Loaded test embeddings from disk at  /lustre/groups/ml01/workspace/till.richter/ssl_results/classification/embeddings/test_emb_No_SSL_run4_No SSL_OOD_Circ_Imm.npy\n",
      "Loaded reference embeddings:  (3500032, 64) test embeddings:  (194805, 64)\n",
      "Start kNN...\n",
      "Evaluating /lustre/groups/ml01/workspace/till.richter/trained_models//pretext_models/masking/CN_MLP_50p/default/version_1/checkpoints/best_checkpoint_val.ckpt\n",
      "Get index for pretrained\n",
      "Initializing model...\n",
      "dict keys:  odict_keys(['class_weights', 'child_lookup', 'classifier.0.weight', 'classifier.0.bias', 'classifier.3.weight', 'classifier.3.bias', 'classifier.6.weight', 'classifier.6.bias', 'classifier.9.weight', 'classifier.9.bias', 'classifier.12.weight', 'classifier.12.bias', 'classifier.15.weight', 'classifier.15.bias']) odict_keys(['encoder.0.weight', 'encoder.0.bias', 'encoder.3.weight', 'encoder.3.bias', 'encoder.6.weight', 'encoder.6.bias', 'encoder.9.weight', 'encoder.9.bias', 'encoder.12.weight', 'encoder.12.bias', 'decoder.0.0.weight', 'decoder.0.0.bias', 'decoder.0.3.weight', 'decoder.0.3.bias', 'decoder.0.6.weight', 'decoder.0.6.bias', 'decoder.0.9.weight', 'decoder.0.9.bias', 'decoder.0.12.weight', 'decoder.0.12.bias'])\n",
      "Did not find match for class_weights in pretrained_dict. Initializing randomly.\n",
      "Did not find match for child_lookup in pretrained_dict. Initializing randomly.\n",
      "Weight transfer: Matched classifier.0.weight\n",
      "Weight transfer: Matched classifier.0.bias\n",
      "Weight transfer: Matched classifier.3.weight\n",
      "Weight transfer: Matched classifier.3.bias\n",
      "Weight transfer: Matched classifier.6.weight\n",
      "Weight transfer: Matched classifier.6.bias\n",
      "Weight transfer: Matched classifier.9.weight\n",
      "Weight transfer: Matched classifier.9.bias\n",
      "Weight transfer: Matched classifier.12.weight\n",
      "Weight transfer: Matched classifier.12.bias\n",
      "Did not find match for classifier.15.weight in pretrained_dict. Initializing randomly.\n",
      "Did not find match for classifier.15.bias in pretrained_dict. Initializing randomly.\n",
      "Supervised subset:  None\n"
     ]
    },
    {
     "name": "stderr",
     "output_type": "stream",
     "text": [
      "GPU available: True (cuda), used: True\n",
      "TPU available: False, using: 0 TPU cores\n",
      "IPU available: False, using: 0 IPUs\n",
      "HPU available: False, using: 0 HPUs\n"
     ]
    },
    {
     "name": "stdout",
     "output_type": "stream",
     "text": [
      "Loaded val embeddings from disk at  /lustre/groups/ml01/workspace/till.richter/ssl_results/classification/embeddings/val_emb_CN_MLP_50p_Only Pretrained_OOD_Circ_Imm.npy\n",
      "Loaded test embeddings from disk at  /lustre/groups/ml01/workspace/till.richter/ssl_results/classification/embeddings/test_emb_CN_MLP_50p_Only Pretrained_OOD_Circ_Imm.npy\n",
      "Loaded reference embeddings:  (3500032, 64) test embeddings:  (194805, 64)\n",
      "Start kNN...\n",
      "Evaluating /lustre/groups/ml01/workspace/till.richter/trained_models//pretext_models/masking/CN_MLP_50prun1/default/version_0/checkpoints/best_checkpoint_val.ckpt\n",
      "Get index for pretrained\n",
      "Initializing model...\n",
      "dict keys:  odict_keys(['class_weights', 'child_lookup', 'classifier.0.weight', 'classifier.0.bias', 'classifier.3.weight', 'classifier.3.bias', 'classifier.6.weight', 'classifier.6.bias', 'classifier.9.weight', 'classifier.9.bias', 'classifier.12.weight', 'classifier.12.bias', 'classifier.15.weight', 'classifier.15.bias']) odict_keys(['encoder.0.weight', 'encoder.0.bias', 'encoder.3.weight', 'encoder.3.bias', 'encoder.6.weight', 'encoder.6.bias', 'encoder.9.weight', 'encoder.9.bias', 'encoder.12.weight', 'encoder.12.bias', 'decoder.0.0.weight', 'decoder.0.0.bias', 'decoder.0.3.weight', 'decoder.0.3.bias', 'decoder.0.6.weight', 'decoder.0.6.bias', 'decoder.0.9.weight', 'decoder.0.9.bias', 'decoder.0.12.weight', 'decoder.0.12.bias'])\n",
      "Did not find match for class_weights in pretrained_dict. Initializing randomly.\n",
      "Did not find match for child_lookup in pretrained_dict. Initializing randomly.\n",
      "Weight transfer: Matched classifier.0.weight\n",
      "Weight transfer: Matched classifier.0.bias\n",
      "Weight transfer: Matched classifier.3.weight\n",
      "Weight transfer: Matched classifier.3.bias\n",
      "Weight transfer: Matched classifier.6.weight\n",
      "Weight transfer: Matched classifier.6.bias\n",
      "Weight transfer: Matched classifier.9.weight\n",
      "Weight transfer: Matched classifier.9.bias\n",
      "Weight transfer: Matched classifier.12.weight\n",
      "Weight transfer: Matched classifier.12.bias\n",
      "Did not find match for classifier.15.weight in pretrained_dict. Initializing randomly.\n",
      "Did not find match for classifier.15.bias in pretrained_dict. Initializing randomly.\n",
      "Supervised subset:  None\n"
     ]
    },
    {
     "name": "stderr",
     "output_type": "stream",
     "text": [
      "GPU available: True (cuda), used: True\n",
      "TPU available: False, using: 0 TPU cores\n",
      "IPU available: False, using: 0 IPUs\n",
      "HPU available: False, using: 0 HPUs\n"
     ]
    },
    {
     "name": "stdout",
     "output_type": "stream",
     "text": [
      "Loaded val embeddings from disk at  /lustre/groups/ml01/workspace/till.richter/ssl_results/classification/embeddings/val_emb_CN_MLP_50prun1_Only Pretrained_OOD_Circ_Imm.npy\n",
      "Loaded test embeddings from disk at  /lustre/groups/ml01/workspace/till.richter/ssl_results/classification/embeddings/test_emb_CN_MLP_50prun1_Only Pretrained_OOD_Circ_Imm.npy\n",
      "Loaded reference embeddings:  (3500032, 64) test embeddings:  (194805, 64)\n",
      "Start kNN...\n",
      "Evaluating /lustre/groups/ml01/workspace/till.richter/trained_models//pretext_models/masking/CN_MLP_50prun2/default/version_0/checkpoints/best_checkpoint_val.ckpt\n",
      "Get index for pretrained\n",
      "Initializing model...\n",
      "dict keys:  odict_keys(['class_weights', 'child_lookup', 'classifier.0.weight', 'classifier.0.bias', 'classifier.3.weight', 'classifier.3.bias', 'classifier.6.weight', 'classifier.6.bias', 'classifier.9.weight', 'classifier.9.bias', 'classifier.12.weight', 'classifier.12.bias', 'classifier.15.weight', 'classifier.15.bias']) odict_keys(['encoder.0.weight', 'encoder.0.bias', 'encoder.3.weight', 'encoder.3.bias', 'encoder.6.weight', 'encoder.6.bias', 'encoder.9.weight', 'encoder.9.bias', 'encoder.12.weight', 'encoder.12.bias', 'decoder.0.0.weight', 'decoder.0.0.bias', 'decoder.0.3.weight', 'decoder.0.3.bias', 'decoder.0.6.weight', 'decoder.0.6.bias', 'decoder.0.9.weight', 'decoder.0.9.bias', 'decoder.0.12.weight', 'decoder.0.12.bias'])\n",
      "Did not find match for class_weights in pretrained_dict. Initializing randomly.\n",
      "Did not find match for child_lookup in pretrained_dict. Initializing randomly.\n",
      "Weight transfer: Matched classifier.0.weight\n",
      "Weight transfer: Matched classifier.0.bias\n",
      "Weight transfer: Matched classifier.3.weight\n",
      "Weight transfer: Matched classifier.3.bias\n",
      "Weight transfer: Matched classifier.6.weight\n",
      "Weight transfer: Matched classifier.6.bias\n",
      "Weight transfer: Matched classifier.9.weight\n",
      "Weight transfer: Matched classifier.9.bias\n",
      "Weight transfer: Matched classifier.12.weight\n",
      "Weight transfer: Matched classifier.12.bias\n",
      "Did not find match for classifier.15.weight in pretrained_dict. Initializing randomly.\n",
      "Did not find match for classifier.15.bias in pretrained_dict. Initializing randomly.\n",
      "Supervised subset:  None\n"
     ]
    },
    {
     "name": "stderr",
     "output_type": "stream",
     "text": [
      "GPU available: True (cuda), used: True\n",
      "TPU available: False, using: 0 TPU cores\n",
      "IPU available: False, using: 0 IPUs\n",
      "HPU available: False, using: 0 HPUs\n"
     ]
    },
    {
     "name": "stdout",
     "output_type": "stream",
     "text": [
      "Loaded val embeddings from disk at  /lustre/groups/ml01/workspace/till.richter/ssl_results/classification/embeddings/val_emb_CN_MLP_50prun2_Only Pretrained_OOD_Circ_Imm.npy\n",
      "Loaded test embeddings from disk at  /lustre/groups/ml01/workspace/till.richter/ssl_results/classification/embeddings/test_emb_CN_MLP_50prun2_Only Pretrained_OOD_Circ_Imm.npy\n",
      "Loaded reference embeddings:  (3500032, 64) test embeddings:  (194805, 64)\n",
      "Start kNN...\n",
      "Evaluating /lustre/groups/ml01/workspace/till.richter/trained_models//pretext_models/masking/CN_MLP_50prun3/default/version_0/checkpoints/best_checkpoint_val.ckpt\n",
      "Get index for pretrained\n",
      "Initializing model...\n",
      "dict keys:  odict_keys(['class_weights', 'child_lookup', 'classifier.0.weight', 'classifier.0.bias', 'classifier.3.weight', 'classifier.3.bias', 'classifier.6.weight', 'classifier.6.bias', 'classifier.9.weight', 'classifier.9.bias', 'classifier.12.weight', 'classifier.12.bias', 'classifier.15.weight', 'classifier.15.bias']) odict_keys(['encoder.0.weight', 'encoder.0.bias', 'encoder.3.weight', 'encoder.3.bias', 'encoder.6.weight', 'encoder.6.bias', 'encoder.9.weight', 'encoder.9.bias', 'encoder.12.weight', 'encoder.12.bias', 'decoder.0.0.weight', 'decoder.0.0.bias', 'decoder.0.3.weight', 'decoder.0.3.bias', 'decoder.0.6.weight', 'decoder.0.6.bias', 'decoder.0.9.weight', 'decoder.0.9.bias', 'decoder.0.12.weight', 'decoder.0.12.bias'])\n",
      "Did not find match for class_weights in pretrained_dict. Initializing randomly.\n",
      "Did not find match for child_lookup in pretrained_dict. Initializing randomly.\n",
      "Weight transfer: Matched classifier.0.weight\n",
      "Weight transfer: Matched classifier.0.bias\n",
      "Weight transfer: Matched classifier.3.weight\n",
      "Weight transfer: Matched classifier.3.bias\n",
      "Weight transfer: Matched classifier.6.weight\n",
      "Weight transfer: Matched classifier.6.bias\n",
      "Weight transfer: Matched classifier.9.weight\n",
      "Weight transfer: Matched classifier.9.bias\n",
      "Weight transfer: Matched classifier.12.weight\n",
      "Weight transfer: Matched classifier.12.bias\n",
      "Did not find match for classifier.15.weight in pretrained_dict. Initializing randomly.\n",
      "Did not find match for classifier.15.bias in pretrained_dict. Initializing randomly.\n",
      "Supervised subset:  None\n"
     ]
    },
    {
     "name": "stderr",
     "output_type": "stream",
     "text": [
      "GPU available: True (cuda), used: True\n",
      "TPU available: False, using: 0 TPU cores\n",
      "IPU available: False, using: 0 IPUs\n",
      "HPU available: False, using: 0 HPUs\n"
     ]
    },
    {
     "name": "stdout",
     "output_type": "stream",
     "text": [
      "Loaded val embeddings from disk at  /lustre/groups/ml01/workspace/till.richter/ssl_results/classification/embeddings/val_emb_CN_MLP_50prun3_Only Pretrained_OOD_Circ_Imm.npy\n",
      "Loaded test embeddings from disk at  /lustre/groups/ml01/workspace/till.richter/ssl_results/classification/embeddings/test_emb_CN_MLP_50prun3_Only Pretrained_OOD_Circ_Imm.npy\n",
      "Loaded reference embeddings:  (3500032, 64) test embeddings:  (194805, 64)\n",
      "Start kNN...\n",
      "Evaluating /lustre/groups/ml01/workspace/till.richter/trained_models//pretext_models/masking/CN_MLP_50prun4/default/version_0/checkpoints/best_checkpoint_val.ckpt\n",
      "Get index for pretrained\n",
      "Initializing model...\n",
      "dict keys:  odict_keys(['class_weights', 'child_lookup', 'classifier.0.weight', 'classifier.0.bias', 'classifier.3.weight', 'classifier.3.bias', 'classifier.6.weight', 'classifier.6.bias', 'classifier.9.weight', 'classifier.9.bias', 'classifier.12.weight', 'classifier.12.bias', 'classifier.15.weight', 'classifier.15.bias']) odict_keys(['encoder.0.weight', 'encoder.0.bias', 'encoder.3.weight', 'encoder.3.bias', 'encoder.6.weight', 'encoder.6.bias', 'encoder.9.weight', 'encoder.9.bias', 'encoder.12.weight', 'encoder.12.bias', 'decoder.0.0.weight', 'decoder.0.0.bias', 'decoder.0.3.weight', 'decoder.0.3.bias', 'decoder.0.6.weight', 'decoder.0.6.bias', 'decoder.0.9.weight', 'decoder.0.9.bias', 'decoder.0.12.weight', 'decoder.0.12.bias'])\n",
      "Did not find match for class_weights in pretrained_dict. Initializing randomly.\n",
      "Did not find match for child_lookup in pretrained_dict. Initializing randomly.\n",
      "Weight transfer: Matched classifier.0.weight\n",
      "Weight transfer: Matched classifier.0.bias\n",
      "Weight transfer: Matched classifier.3.weight\n",
      "Weight transfer: Matched classifier.3.bias\n",
      "Weight transfer: Matched classifier.6.weight\n",
      "Weight transfer: Matched classifier.6.bias\n",
      "Weight transfer: Matched classifier.9.weight\n",
      "Weight transfer: Matched classifier.9.bias\n",
      "Weight transfer: Matched classifier.12.weight\n",
      "Weight transfer: Matched classifier.12.bias\n",
      "Did not find match for classifier.15.weight in pretrained_dict. Initializing randomly.\n",
      "Did not find match for classifier.15.bias in pretrained_dict. Initializing randomly.\n",
      "Supervised subset:  None\n"
     ]
    },
    {
     "name": "stderr",
     "output_type": "stream",
     "text": [
      "GPU available: True (cuda), used: True\n",
      "TPU available: False, using: 0 TPU cores\n",
      "IPU available: False, using: 0 IPUs\n",
      "HPU available: False, using: 0 HPUs\n"
     ]
    },
    {
     "name": "stdout",
     "output_type": "stream",
     "text": [
      "Loaded val embeddings from disk at  /lustre/groups/ml01/workspace/till.richter/ssl_results/classification/embeddings/val_emb_CN_MLP_50prun4_Only Pretrained_OOD_Circ_Imm.npy\n",
      "Loaded test embeddings from disk at  /lustre/groups/ml01/workspace/till.richter/ssl_results/classification/embeddings/test_emb_CN_MLP_50prun4_Only Pretrained_OOD_Circ_Imm.npy\n",
      "Loaded reference embeddings:  (3500032, 64) test embeddings:  (194805, 64)\n",
      "Start kNN...\n",
      "Evaluating /lustre/groups/ml01/workspace/till.richter/trained_models//final_models/classification/SSL_CN_MLP_50prun0/default/version_0/checkpoints/best_checkpoint_val.ckpt\n",
      "Get index for ssl\n"
     ]
    },
    {
     "name": "stderr",
     "output_type": "stream",
     "text": [
      "GPU available: True (cuda), used: True\n",
      "TPU available: False, using: 0 TPU cores\n",
      "IPU available: False, using: 0 IPUs\n",
      "HPU available: False, using: 0 HPUs\n"
     ]
    },
    {
     "name": "stdout",
     "output_type": "stream",
     "text": [
      "Loaded val embeddings from disk at  /lustre/groups/ml01/workspace/till.richter/ssl_results/classification/embeddings/val_emb_SSL_CN_MLP_50prun0_SSL_OOD_Circ_Imm.npy\n",
      "Loaded test embeddings from disk at  /lustre/groups/ml01/workspace/till.richter/ssl_results/classification/embeddings/test_emb_SSL_CN_MLP_50prun0_SSL_OOD_Circ_Imm.npy\n",
      "Loaded reference embeddings:  (3500032, 64) test embeddings:  (194805, 64)\n",
      "Start kNN...\n",
      "Evaluating /lustre/groups/ml01/workspace/till.richter/trained_models//final_models/classification/SSL_CN_MLP_50prun1/default/version_1/checkpoints/best_checkpoint_val.ckpt\n",
      "Get index for ssl\n"
     ]
    },
    {
     "name": "stderr",
     "output_type": "stream",
     "text": [
      "GPU available: True (cuda), used: True\n",
      "TPU available: False, using: 0 TPU cores\n",
      "IPU available: False, using: 0 IPUs\n",
      "HPU available: False, using: 0 HPUs\n"
     ]
    },
    {
     "name": "stdout",
     "output_type": "stream",
     "text": [
      "Loaded val embeddings from disk at  /lustre/groups/ml01/workspace/till.richter/ssl_results/classification/embeddings/val_emb_SSL_CN_MLP_50prun1_SSL_OOD_Circ_Imm.npy\n",
      "Loaded test embeddings from disk at  /lustre/groups/ml01/workspace/till.richter/ssl_results/classification/embeddings/test_emb_SSL_CN_MLP_50prun1_SSL_OOD_Circ_Imm.npy\n",
      "Loaded reference embeddings:  (3500032, 64) test embeddings:  (194805, 64)\n",
      "Start kNN...\n",
      "Evaluating /lustre/groups/ml01/workspace/till.richter/trained_models//final_models/classification/SSL_CN_MLP_50prun2/default/version_1/checkpoints/best_checkpoint_val.ckpt\n",
      "Get index for ssl\n"
     ]
    },
    {
     "name": "stderr",
     "output_type": "stream",
     "text": [
      "GPU available: True (cuda), used: True\n",
      "TPU available: False, using: 0 TPU cores\n",
      "IPU available: False, using: 0 IPUs\n",
      "HPU available: False, using: 0 HPUs\n"
     ]
    },
    {
     "name": "stdout",
     "output_type": "stream",
     "text": [
      "Loaded val embeddings from disk at  /lustre/groups/ml01/workspace/till.richter/ssl_results/classification/embeddings/val_emb_SSL_CN_MLP_50prun2_SSL_OOD_Circ_Imm.npy\n",
      "Loaded test embeddings from disk at  /lustre/groups/ml01/workspace/till.richter/ssl_results/classification/embeddings/test_emb_SSL_CN_MLP_50prun2_SSL_OOD_Circ_Imm.npy\n",
      "Loaded reference embeddings:  (3500032, 64) test embeddings:  (194805, 64)\n",
      "Start kNN...\n",
      "Evaluating /lustre/groups/ml01/workspace/till.richter/trained_models//final_models/classification/SSL_CN_MLP_50prun3/default/version_1/checkpoints/best_checkpoint_val.ckpt\n",
      "Get index for ssl\n"
     ]
    },
    {
     "name": "stderr",
     "output_type": "stream",
     "text": [
      "GPU available: True (cuda), used: True\n",
      "TPU available: False, using: 0 TPU cores\n",
      "IPU available: False, using: 0 IPUs\n",
      "HPU available: False, using: 0 HPUs\n",
      "You are using a CUDA device ('NVIDIA A100-PCIE-40GB MIG 3g.20gb') that has Tensor Cores. To properly utilize them, you should set `torch.set_float32_matmul_precision('medium' | 'high')` which will trade-off precision for performance. For more details, read https://pytorch.org/docs/stable/generated/torch.set_float32_matmul_precision.html#torch.set_float32_matmul_precision\n",
      "LOCAL_RANK: 0 - CUDA_VISIBLE_DEVICES: [MIG-ac41d84a-b235-5afb-99b1-56eb9d641d2b]\n"
     ]
    },
    {
     "name": "stdout",
     "output_type": "stream",
     "text": [
      "Loaded val embeddings from disk at  /lustre/groups/ml01/workspace/till.richter/ssl_results/classification/embeddings/val_emb_SSL_CN_MLP_50prun3_SSL_OOD_Circ_Imm.npy\n"
     ]
    },
    {
     "data": {
      "application/vnd.jupyter.widget-view+json": {
       "model_id": "6148835dc6564aae818087064ea0e4a4",
       "version_major": 2,
       "version_minor": 0
      },
      "text/plain": [
       "Predicting: 0it [00:00, ?it/s]"
      ]
     },
     "metadata": {},
     "output_type": "display_data"
    },
    {
     "name": "stdout",
     "output_type": "stream",
     "text": [
      "Saved test embeddings to disk at  /lustre/groups/ml01/workspace/till.richter/ssl_results/classification/embeddings/test_emb_SSL_CN_MLP_50prun3_SSL_OOD_Circ_Imm.npy\n",
      "Loaded reference embeddings:  (3500032, 64) test embeddings:  (194805, 64)\n",
      "Start kNN...\n",
      "Evaluating /lustre/groups/ml01/workspace/till.richter/trained_models//final_models/classification/SSL_CN_MLP_50prun4/default/version_1/checkpoints/best_checkpoint_val.ckpt\n",
      "Get index for ssl\n"
     ]
    },
    {
     "name": "stderr",
     "output_type": "stream",
     "text": [
      "GPU available: True (cuda), used: True\n",
      "TPU available: False, using: 0 TPU cores\n",
      "IPU available: False, using: 0 IPUs\n",
      "HPU available: False, using: 0 HPUs\n",
      "LOCAL_RANK: 0 - CUDA_VISIBLE_DEVICES: [MIG-ac41d84a-b235-5afb-99b1-56eb9d641d2b]\n"
     ]
    },
    {
     "data": {
      "application/vnd.jupyter.widget-view+json": {
       "model_id": "44782374b76348a8b45f7387d411e657",
       "version_major": 2,
       "version_minor": 0
      },
      "text/plain": [
       "Predicting: 0it [00:00, ?it/s]"
      ]
     },
     "metadata": {},
     "output_type": "display_data"
    },
    {
     "name": "stderr",
     "output_type": "stream",
     "text": [
      "LOCAL_RANK: 0 - CUDA_VISIBLE_DEVICES: [MIG-ac41d84a-b235-5afb-99b1-56eb9d641d2b]\n"
     ]
    },
    {
     "name": "stdout",
     "output_type": "stream",
     "text": [
      "Saved val embeddings to disk at  /lustre/groups/ml01/workspace/till.richter/ssl_results/classification/embeddings/val_emb_SSL_CN_MLP_50prun4_SSL_OOD_Circ_Imm.npy\n"
     ]
    },
    {
     "data": {
      "application/vnd.jupyter.widget-view+json": {
       "model_id": "ded81d96ab3c40bdb0a59a73e56b5c1e",
       "version_major": 2,
       "version_minor": 0
      },
      "text/plain": [
       "Predicting: 0it [00:00, ?it/s]"
      ]
     },
     "metadata": {},
     "output_type": "display_data"
    },
    {
     "name": "stdout",
     "output_type": "stream",
     "text": [
      "Saved test embeddings to disk at  /lustre/groups/ml01/workspace/till.richter/ssl_results/classification/embeddings/test_emb_SSL_CN_MLP_50prun4_SSL_OOD_Circ_Imm.npy\n",
      "Loaded reference embeddings:  (3500032, 64) test embeddings:  (194805, 64)\n",
      "Start kNN...\n",
      "Get index for pretrained\n",
      "Saved  CN_MLP_50prun1_Only Pretrained  to  /lustre/groups/ml01/workspace/till.richter/ssl_results/classification/val_clf_report_OOD_Circ_Imm_knn.csv\n",
      "Done evaluating /lustre/groups/ml01/workspace/till.richter/trained_models//pretext_models/masking/CN_MLP_50prun1/default/version_0/checkpoints/best_checkpoint_val.ckpt\n",
      "Get index for pretrained\n",
      "Saved  CN_MLP_50prun2_Only Pretrained  to  /lustre/groups/ml01/workspace/till.richter/ssl_results/classification/val_clf_report_OOD_Circ_Imm_knn.csv\n",
      "Done evaluating /lustre/groups/ml01/workspace/till.richter/trained_models//pretext_models/masking/CN_MLP_50prun2/default/version_0/checkpoints/best_checkpoint_val.ckpt\n",
      "Get index for no ssl\n",
      "Saved  No_SSL_run1_No SSL  to  /lustre/groups/ml01/workspace/till.richter/ssl_results/classification/val_clf_report_OOD_Circ_Imm_knn.csv\n",
      "Done evaluating /lustre/groups/ml01/workspace/till.richter/trained_models//final_models/classification/No_SSL_run1/default/version_0/checkpoints/best_checkpoint_val.ckpt\n",
      "Get index for pretrained\n",
      "Saved  CN_MLP_50prun3_Only Pretrained  to  /lustre/groups/ml01/workspace/till.richter/ssl_results/classification/val_clf_report_OOD_Circ_Imm_knn.csv\n",
      "Done evaluating /lustre/groups/ml01/workspace/till.richter/trained_models//pretext_models/masking/CN_MLP_50prun3/default/version_0/checkpoints/best_checkpoint_val.ckpt\n",
      "Get index for pretrained\n",
      "Saved  CN_MLP_50p_Only Pretrained  to  /lustre/groups/ml01/workspace/till.richter/ssl_results/classification/val_clf_report_OOD_Circ_Imm_knn.csv\n",
      "Done evaluating /lustre/groups/ml01/workspace/till.richter/trained_models//pretext_models/masking/CN_MLP_50p/default/version_1/checkpoints/best_checkpoint_val.ckpt\n",
      "Get index for no ssl\n",
      "Saved  No_SSL_run4_No SSL  to  /lustre/groups/ml01/workspace/till.richter/ssl_results/classification/val_clf_report_OOD_Circ_Imm_knn.csv\n",
      "Done evaluating /lustre/groups/ml01/workspace/till.richter/trained_models//final_models/classification/No_SSL_run4/default/version_0/checkpoints/best_checkpoint_val.ckpt\n",
      "Get index for ssl\n",
      "Saved  SSL_CN_MLP_50prun0_SSL  to  /lustre/groups/ml01/workspace/till.richter/ssl_results/classification/val_clf_report_OOD_Circ_Imm_knn.csv\n",
      "Done evaluating /lustre/groups/ml01/workspace/till.richter/trained_models//final_models/classification/SSL_CN_MLP_50prun0/default/version_0/checkpoints/best_checkpoint_val.ckpt\n",
      "Get index for pretrained\n",
      "Saved  CN_MLP_50prun4_Only Pretrained  to  /lustre/groups/ml01/workspace/till.richter/ssl_results/classification/val_clf_report_OOD_Circ_Imm_knn.csv\n",
      "Done evaluating /lustre/groups/ml01/workspace/till.richter/trained_models//pretext_models/masking/CN_MLP_50prun4/default/version_0/checkpoints/best_checkpoint_val.ckpt\n",
      "Get index for no ssl\n",
      "Saved  No_SSL_run3_No SSL  to  /lustre/groups/ml01/workspace/till.richter/ssl_results/classification/val_clf_report_OOD_Circ_Imm_knn.csv\n",
      "Done evaluating /lustre/groups/ml01/workspace/till.richter/trained_models//final_models/classification/No_SSL_run3/default/version_0/checkpoints/best_checkpoint_val.ckpt\n",
      "Get index for ssl\n",
      "Saved  SSL_CN_MLP_50prun2_SSL  to  /lustre/groups/ml01/workspace/till.richter/ssl_results/classification/val_clf_report_OOD_Circ_Imm_knn.csv\n",
      "Done evaluating /lustre/groups/ml01/workspace/till.richter/trained_models//final_models/classification/SSL_CN_MLP_50prun2/default/version_1/checkpoints/best_checkpoint_val.ckpt\n",
      "Get index for ssl\n",
      "Saved  SSL_CN_MLP_50prun3_SSL  to  /lustre/groups/ml01/workspace/till.richter/ssl_results/classification/val_clf_report_OOD_Circ_Imm_knn.csv\n",
      "Done evaluating /lustre/groups/ml01/workspace/till.richter/trained_models//final_models/classification/SSL_CN_MLP_50prun3/default/version_1/checkpoints/best_checkpoint_val.ckpt\n",
      "Get index for no ssl\n",
      "Saved  No_SSL_run0_No SSL  to  /lustre/groups/ml01/workspace/till.richter/ssl_results/classification/val_clf_report_OOD_Circ_Imm_knn.csv\n",
      "Done evaluating /lustre/groups/ml01/workspace/till.richter/trained_models//final_models/classification/No_SSL_run0/default/version_0/checkpoints/best_checkpoint_val.ckpt\n",
      "Get index for no ssl\n",
      "Saved  No_SSL_run2_No SSL  to  /lustre/groups/ml01/workspace/till.richter/ssl_results/classification/val_clf_report_OOD_Circ_Imm_knn.csv\n",
      "Done evaluating /lustre/groups/ml01/workspace/till.richter/trained_models//final_models/classification/No_SSL_run2/default/version_0/checkpoints/best_checkpoint_val.ckpt\n",
      "Get index for ssl\n",
      "Saved  SSL_CN_MLP_50prun1_SSL  to  /lustre/groups/ml01/workspace/till.richter/ssl_results/classification/val_clf_report_OOD_Circ_Imm_knn.csv\n",
      "Done evaluating /lustre/groups/ml01/workspace/till.richter/trained_models//final_models/classification/SSL_CN_MLP_50prun1/default/version_1/checkpoints/best_checkpoint_val.ckpt\n",
      "Get index for ssl\n",
      "Saved  SSL_CN_MLP_50prun4_SSL  to  /lustre/groups/ml01/workspace/till.richter/ssl_results/classification/val_clf_report_OOD_Circ_Imm_knn.csv\n",
      "Done evaluating /lustre/groups/ml01/workspace/till.richter/trained_models//final_models/classification/SSL_CN_MLP_50prun4/default/version_1/checkpoints/best_checkpoint_val.ckpt\n",
      "Done.\n",
      "Evaluating random model\n",
      "Evaluating randomly initialized model\n"
     ]
    },
    {
     "name": "stderr",
     "output_type": "stream",
     "text": [
      "GPU available: True (cuda), used: True\n",
      "TPU available: False, using: 0 TPU cores\n",
      "IPU available: False, using: 0 IPUs\n",
      "HPU available: False, using: 0 HPUs\n",
      "GPU available: True (cuda), used: True\n",
      "TPU available: False, using: 0 TPU cores\n",
      "IPU available: False, using: 0 IPUs\n",
      "HPU available: False, using: 0 HPUs\n",
      "LOCAL_RANK: 0 - CUDA_VISIBLE_DEVICES: [MIG-ac41d84a-b235-5afb-99b1-56eb9d641d2b]\n"
     ]
    },
    {
     "name": "stdout",
     "output_type": "stream",
     "text": [
      "Estim model:  LightningWrapper(\n",
      "  (base_model): MLPClassifier(\n",
      "    (train_metrics): MetricCollection(\n",
      "      (f1_macro): MulticlassF1Score()\n",
      "      (f1_micro): MulticlassF1Score(),\n",
      "      prefix=train_\n",
      "    )\n",
      "    (val_metrics): MetricCollection(\n",
      "      (f1_macro): MulticlassF1Score()\n",
      "      (f1_micro): MulticlassF1Score(),\n",
      "      prefix=val_\n",
      "    )\n",
      "    (test_metrics): MetricCollection(\n",
      "      (f1_macro): MulticlassF1Score()\n",
      "      (f1_micro): MulticlassF1Score(),\n",
      "      prefix=test_\n",
      "    )\n",
      "    (classifier): MLP(\n",
      "      (0): Linear(in_features=19331, out_features=512, bias=True)\n",
      "      (1): ReLU()\n",
      "      (2): Dropout(p=0.1, inplace=False)\n",
      "      (3): Linear(in_features=512, out_features=512, bias=True)\n",
      "      (4): ReLU()\n",
      "      (5): Dropout(p=0.1, inplace=False)\n",
      "      (6): Linear(in_features=512, out_features=256, bias=True)\n",
      "      (7): ReLU()\n",
      "      (8): Dropout(p=0.1, inplace=False)\n",
      "      (9): Linear(in_features=256, out_features=256, bias=True)\n",
      "      (10): ReLU()\n",
      "      (11): Dropout(p=0.1, inplace=False)\n",
      "      (12): Linear(in_features=256, out_features=64, bias=True)\n",
      "      (13): ReLU()\n",
      "      (14): Dropout(p=0.1, inplace=False)\n",
      "      (15): Linear(in_features=64, out_features=164, bias=True)\n",
      "    )\n",
      "  )\n",
      ")\n"
     ]
    },
    {
     "data": {
      "application/vnd.jupyter.widget-view+json": {
       "model_id": "dbdd08afa33f423eba6001a39556b153",
       "version_major": 2,
       "version_minor": 0
      },
      "text/plain": [
       "Predicting: 0it [00:00, ?it/s]"
      ]
     },
     "metadata": {},
     "output_type": "display_data"
    },
    {
     "name": "stderr",
     "output_type": "stream",
     "text": [
      "LOCAL_RANK: 0 - CUDA_VISIBLE_DEVICES: [MIG-ac41d84a-b235-5afb-99b1-56eb9d641d2b]\n"
     ]
    },
    {
     "name": "stdout",
     "output_type": "stream",
     "text": [
      "Saved reference embeddings to disk at  /lustre/groups/ml01/workspace/till.richter/ssl_results/classification/embeddings/val_emb_Random_OOD_Circ_Imm.npy\n"
     ]
    },
    {
     "data": {
      "application/vnd.jupyter.widget-view+json": {
       "model_id": "9adf72f1460e4caa99ae76cd562f5d51",
       "version_major": 2,
       "version_minor": 0
      },
      "text/plain": [
       "Predicting: 0it [00:00, ?it/s]"
      ]
     },
     "metadata": {},
     "output_type": "display_data"
    },
    {
     "name": "stdout",
     "output_type": "stream",
     "text": [
      "Saved test embeddings to disk at  /lustre/groups/ml01/workspace/till.richter/ssl_results/classification/embeddings/test_emb_Random_OOD_Circ_Imm.npy\n",
      "Start kNN...\n",
      "Saved  Random  to  /lustre/groups/ml01/workspace/till.richter/ssl_results/classification/val_clf_report_OOD_Circ_Imm_knn.csv\n"
     ]
    }
   ],
   "source": [
    "eval_emb_knn(estim, model_dirs=model_dirs, setting='OOD_Circ_Imm', test_dataloader=test_loader_circ, eval_random=True, eval_pca=False, reference='val')"
   ]
  },
  {
   "cell_type": "code",
   "execution_count": 18,
   "id": "2d39cc66-da19-44de-8b97-763c741418c7",
   "metadata": {},
   "outputs": [
    {
     "data": {
      "text/html": [
       "<div>\n",
       "<style scoped>\n",
       "    .dataframe tbody tr th:only-of-type {\n",
       "        vertical-align: middle;\n",
       "    }\n",
       "\n",
       "    .dataframe tbody tr th {\n",
       "        vertical-align: top;\n",
       "    }\n",
       "\n",
       "    .dataframe thead th {\n",
       "        text-align: right;\n",
       "    }\n",
       "</style>\n",
       "<table border=\"1\" class=\"dataframe\">\n",
       "  <thead>\n",
       "    <tr style=\"text-align: right;\">\n",
       "      <th></th>\n",
       "      <th>Unnamed: 0</th>\n",
       "      <th>precision: accuracy</th>\n",
       "      <th>precision: macro avg</th>\n",
       "      <th>precision: weighted avg</th>\n",
       "      <th>recall: accuracy</th>\n",
       "      <th>recall: macro avg</th>\n",
       "      <th>recall: weighted avg</th>\n",
       "      <th>f1-score: accuracy</th>\n",
       "      <th>f1-score: macro avg</th>\n",
       "      <th>f1-score: weighted avg</th>\n",
       "      <th>support: accuracy</th>\n",
       "      <th>support: macro avg</th>\n",
       "      <th>support: weighted avg</th>\n",
       "    </tr>\n",
       "  </thead>\n",
       "  <tbody>\n",
       "    <tr>\n",
       "      <th>0</th>\n",
       "      <td>CN_MLP_50p_Only Pretrained</td>\n",
       "      <td>0.657658</td>\n",
       "      <td>0.061083</td>\n",
       "      <td>0.796547</td>\n",
       "      <td>0.657658</td>\n",
       "      <td>0.054292</td>\n",
       "      <td>0.657658</td>\n",
       "      <td>0.657658</td>\n",
       "      <td>0.055134</td>\n",
       "      <td>0.715888</td>\n",
       "      <td>0.657658</td>\n",
       "      <td>194805.0</td>\n",
       "      <td>194805.0</td>\n",
       "    </tr>\n",
       "    <tr>\n",
       "      <th>1</th>\n",
       "      <td>CN_MLP_50prun1_Only Pretrained</td>\n",
       "      <td>0.698976</td>\n",
       "      <td>0.067801</td>\n",
       "      <td>0.821786</td>\n",
       "      <td>0.698976</td>\n",
       "      <td>0.060953</td>\n",
       "      <td>0.698976</td>\n",
       "      <td>0.698976</td>\n",
       "      <td>0.062740</td>\n",
       "      <td>0.750762</td>\n",
       "      <td>0.698976</td>\n",
       "      <td>194805.0</td>\n",
       "      <td>194805.0</td>\n",
       "    </tr>\n",
       "    <tr>\n",
       "      <th>2</th>\n",
       "      <td>CN_MLP_50prun2_Only Pretrained</td>\n",
       "      <td>0.726624</td>\n",
       "      <td>0.082375</td>\n",
       "      <td>0.840857</td>\n",
       "      <td>0.726624</td>\n",
       "      <td>0.071754</td>\n",
       "      <td>0.726624</td>\n",
       "      <td>0.726624</td>\n",
       "      <td>0.074578</td>\n",
       "      <td>0.777041</td>\n",
       "      <td>0.726624</td>\n",
       "      <td>194805.0</td>\n",
       "      <td>194805.0</td>\n",
       "    </tr>\n",
       "    <tr>\n",
       "      <th>3</th>\n",
       "      <td>CN_MLP_50prun3_Only Pretrained</td>\n",
       "      <td>0.721285</td>\n",
       "      <td>0.071240</td>\n",
       "      <td>0.822088</td>\n",
       "      <td>0.721285</td>\n",
       "      <td>0.062057</td>\n",
       "      <td>0.721285</td>\n",
       "      <td>0.721285</td>\n",
       "      <td>0.065455</td>\n",
       "      <td>0.765492</td>\n",
       "      <td>0.721285</td>\n",
       "      <td>194805.0</td>\n",
       "      <td>194805.0</td>\n",
       "    </tr>\n",
       "    <tr>\n",
       "      <th>4</th>\n",
       "      <td>CN_MLP_50prun4_Only Pretrained</td>\n",
       "      <td>0.666338</td>\n",
       "      <td>0.064271</td>\n",
       "      <td>0.799270</td>\n",
       "      <td>0.666338</td>\n",
       "      <td>0.054571</td>\n",
       "      <td>0.666338</td>\n",
       "      <td>0.666338</td>\n",
       "      <td>0.057145</td>\n",
       "      <td>0.724354</td>\n",
       "      <td>0.666338</td>\n",
       "      <td>194805.0</td>\n",
       "      <td>194805.0</td>\n",
       "    </tr>\n",
       "    <tr>\n",
       "      <th>5</th>\n",
       "      <td>No_SSL_run0_No SSL</td>\n",
       "      <td>0.900146</td>\n",
       "      <td>0.108625</td>\n",
       "      <td>0.913244</td>\n",
       "      <td>0.900146</td>\n",
       "      <td>0.112794</td>\n",
       "      <td>0.900146</td>\n",
       "      <td>0.900146</td>\n",
       "      <td>0.108211</td>\n",
       "      <td>0.904782</td>\n",
       "      <td>0.900146</td>\n",
       "      <td>194805.0</td>\n",
       "      <td>194805.0</td>\n",
       "    </tr>\n",
       "    <tr>\n",
       "      <th>6</th>\n",
       "      <td>No_SSL_run1_No SSL</td>\n",
       "      <td>0.898067</td>\n",
       "      <td>0.107538</td>\n",
       "      <td>0.913165</td>\n",
       "      <td>0.898067</td>\n",
       "      <td>0.112638</td>\n",
       "      <td>0.898067</td>\n",
       "      <td>0.898067</td>\n",
       "      <td>0.107134</td>\n",
       "      <td>0.903620</td>\n",
       "      <td>0.898067</td>\n",
       "      <td>194805.0</td>\n",
       "      <td>194805.0</td>\n",
       "    </tr>\n",
       "    <tr>\n",
       "      <th>7</th>\n",
       "      <td>No_SSL_run2_No SSL</td>\n",
       "      <td>0.887457</td>\n",
       "      <td>0.107612</td>\n",
       "      <td>0.904736</td>\n",
       "      <td>0.887457</td>\n",
       "      <td>0.114708</td>\n",
       "      <td>0.887457</td>\n",
       "      <td>0.887457</td>\n",
       "      <td>0.107683</td>\n",
       "      <td>0.894024</td>\n",
       "      <td>0.887457</td>\n",
       "      <td>194805.0</td>\n",
       "      <td>194805.0</td>\n",
       "    </tr>\n",
       "    <tr>\n",
       "      <th>8</th>\n",
       "      <td>No_SSL_run3_No SSL</td>\n",
       "      <td>0.897908</td>\n",
       "      <td>0.107846</td>\n",
       "      <td>0.911489</td>\n",
       "      <td>0.897908</td>\n",
       "      <td>0.110063</td>\n",
       "      <td>0.897908</td>\n",
       "      <td>0.897908</td>\n",
       "      <td>0.106210</td>\n",
       "      <td>0.902642</td>\n",
       "      <td>0.897908</td>\n",
       "      <td>194805.0</td>\n",
       "      <td>194805.0</td>\n",
       "    </tr>\n",
       "    <tr>\n",
       "      <th>9</th>\n",
       "      <td>No_SSL_run4_No SSL</td>\n",
       "      <td>0.899787</td>\n",
       "      <td>0.114521</td>\n",
       "      <td>0.915579</td>\n",
       "      <td>0.899787</td>\n",
       "      <td>0.119192</td>\n",
       "      <td>0.899787</td>\n",
       "      <td>0.899787</td>\n",
       "      <td>0.114245</td>\n",
       "      <td>0.906040</td>\n",
       "      <td>0.899787</td>\n",
       "      <td>194805.0</td>\n",
       "      <td>194805.0</td>\n",
       "    </tr>\n",
       "    <tr>\n",
       "      <th>10</th>\n",
       "      <td>Random</td>\n",
       "      <td>0.316599</td>\n",
       "      <td>0.020054</td>\n",
       "      <td>0.536983</td>\n",
       "      <td>0.316599</td>\n",
       "      <td>0.014098</td>\n",
       "      <td>0.316599</td>\n",
       "      <td>0.316599</td>\n",
       "      <td>0.014236</td>\n",
       "      <td>0.385764</td>\n",
       "      <td>0.316599</td>\n",
       "      <td>194805.0</td>\n",
       "      <td>194805.0</td>\n",
       "    </tr>\n",
       "    <tr>\n",
       "      <th>11</th>\n",
       "      <td>SSL_CN_MLP_50prun0_SSL</td>\n",
       "      <td>0.894659</td>\n",
       "      <td>0.110393</td>\n",
       "      <td>0.908417</td>\n",
       "      <td>0.894659</td>\n",
       "      <td>0.115603</td>\n",
       "      <td>0.894659</td>\n",
       "      <td>0.894659</td>\n",
       "      <td>0.109846</td>\n",
       "      <td>0.898879</td>\n",
       "      <td>0.894659</td>\n",
       "      <td>194805.0</td>\n",
       "      <td>194805.0</td>\n",
       "    </tr>\n",
       "    <tr>\n",
       "      <th>12</th>\n",
       "      <td>SSL_CN_MLP_50prun1_SSL</td>\n",
       "      <td>0.905218</td>\n",
       "      <td>0.110459</td>\n",
       "      <td>0.918091</td>\n",
       "      <td>0.905218</td>\n",
       "      <td>0.111213</td>\n",
       "      <td>0.905218</td>\n",
       "      <td>0.905218</td>\n",
       "      <td>0.108222</td>\n",
       "      <td>0.909741</td>\n",
       "      <td>0.905218</td>\n",
       "      <td>194805.0</td>\n",
       "      <td>194805.0</td>\n",
       "    </tr>\n",
       "    <tr>\n",
       "      <th>13</th>\n",
       "      <td>SSL_CN_MLP_50prun2_SSL</td>\n",
       "      <td>0.894987</td>\n",
       "      <td>0.125686</td>\n",
       "      <td>0.903147</td>\n",
       "      <td>0.894987</td>\n",
       "      <td>0.122869</td>\n",
       "      <td>0.894987</td>\n",
       "      <td>0.894987</td>\n",
       "      <td>0.120492</td>\n",
       "      <td>0.895944</td>\n",
       "      <td>0.894987</td>\n",
       "      <td>194805.0</td>\n",
       "      <td>194805.0</td>\n",
       "    </tr>\n",
       "    <tr>\n",
       "      <th>14</th>\n",
       "      <td>SSL_CN_MLP_50prun3_SSL</td>\n",
       "      <td>0.896517</td>\n",
       "      <td>0.103658</td>\n",
       "      <td>0.912052</td>\n",
       "      <td>0.896517</td>\n",
       "      <td>0.105820</td>\n",
       "      <td>0.896517</td>\n",
       "      <td>0.896517</td>\n",
       "      <td>0.101392</td>\n",
       "      <td>0.901487</td>\n",
       "      <td>0.896517</td>\n",
       "      <td>194805.0</td>\n",
       "      <td>194805.0</td>\n",
       "    </tr>\n",
       "    <tr>\n",
       "      <th>15</th>\n",
       "      <td>SSL_CN_MLP_50prun4_SSL</td>\n",
       "      <td>0.895834</td>\n",
       "      <td>0.122546</td>\n",
       "      <td>0.907520</td>\n",
       "      <td>0.895834</td>\n",
       "      <td>0.123140</td>\n",
       "      <td>0.895834</td>\n",
       "      <td>0.895834</td>\n",
       "      <td>0.119169</td>\n",
       "      <td>0.898847</td>\n",
       "      <td>0.895834</td>\n",
       "      <td>194805.0</td>\n",
       "      <td>194805.0</td>\n",
       "    </tr>\n",
       "  </tbody>\n",
       "</table>\n",
       "</div>"
      ],
      "text/plain": [
       "                        Unnamed: 0  precision: accuracy  precision: macro avg  \\\n",
       "0       CN_MLP_50p_Only Pretrained             0.657658              0.061083   \n",
       "1   CN_MLP_50prun1_Only Pretrained             0.698976              0.067801   \n",
       "2   CN_MLP_50prun2_Only Pretrained             0.726624              0.082375   \n",
       "3   CN_MLP_50prun3_Only Pretrained             0.721285              0.071240   \n",
       "4   CN_MLP_50prun4_Only Pretrained             0.666338              0.064271   \n",
       "5               No_SSL_run0_No SSL             0.900146              0.108625   \n",
       "6               No_SSL_run1_No SSL             0.898067              0.107538   \n",
       "7               No_SSL_run2_No SSL             0.887457              0.107612   \n",
       "8               No_SSL_run3_No SSL             0.897908              0.107846   \n",
       "9               No_SSL_run4_No SSL             0.899787              0.114521   \n",
       "10                          Random             0.316599              0.020054   \n",
       "11          SSL_CN_MLP_50prun0_SSL             0.894659              0.110393   \n",
       "12          SSL_CN_MLP_50prun1_SSL             0.905218              0.110459   \n",
       "13          SSL_CN_MLP_50prun2_SSL             0.894987              0.125686   \n",
       "14          SSL_CN_MLP_50prun3_SSL             0.896517              0.103658   \n",
       "15          SSL_CN_MLP_50prun4_SSL             0.895834              0.122546   \n",
       "\n",
       "    precision: weighted avg  recall: accuracy  recall: macro avg  \\\n",
       "0                  0.796547          0.657658           0.054292   \n",
       "1                  0.821786          0.698976           0.060953   \n",
       "2                  0.840857          0.726624           0.071754   \n",
       "3                  0.822088          0.721285           0.062057   \n",
       "4                  0.799270          0.666338           0.054571   \n",
       "5                  0.913244          0.900146           0.112794   \n",
       "6                  0.913165          0.898067           0.112638   \n",
       "7                  0.904736          0.887457           0.114708   \n",
       "8                  0.911489          0.897908           0.110063   \n",
       "9                  0.915579          0.899787           0.119192   \n",
       "10                 0.536983          0.316599           0.014098   \n",
       "11                 0.908417          0.894659           0.115603   \n",
       "12                 0.918091          0.905218           0.111213   \n",
       "13                 0.903147          0.894987           0.122869   \n",
       "14                 0.912052          0.896517           0.105820   \n",
       "15                 0.907520          0.895834           0.123140   \n",
       "\n",
       "    recall: weighted avg  f1-score: accuracy  f1-score: macro avg  \\\n",
       "0               0.657658            0.657658             0.055134   \n",
       "1               0.698976            0.698976             0.062740   \n",
       "2               0.726624            0.726624             0.074578   \n",
       "3               0.721285            0.721285             0.065455   \n",
       "4               0.666338            0.666338             0.057145   \n",
       "5               0.900146            0.900146             0.108211   \n",
       "6               0.898067            0.898067             0.107134   \n",
       "7               0.887457            0.887457             0.107683   \n",
       "8               0.897908            0.897908             0.106210   \n",
       "9               0.899787            0.899787             0.114245   \n",
       "10              0.316599            0.316599             0.014236   \n",
       "11              0.894659            0.894659             0.109846   \n",
       "12              0.905218            0.905218             0.108222   \n",
       "13              0.894987            0.894987             0.120492   \n",
       "14              0.896517            0.896517             0.101392   \n",
       "15              0.895834            0.895834             0.119169   \n",
       "\n",
       "    f1-score: weighted avg  support: accuracy  support: macro avg  \\\n",
       "0                 0.715888           0.657658            194805.0   \n",
       "1                 0.750762           0.698976            194805.0   \n",
       "2                 0.777041           0.726624            194805.0   \n",
       "3                 0.765492           0.721285            194805.0   \n",
       "4                 0.724354           0.666338            194805.0   \n",
       "5                 0.904782           0.900146            194805.0   \n",
       "6                 0.903620           0.898067            194805.0   \n",
       "7                 0.894024           0.887457            194805.0   \n",
       "8                 0.902642           0.897908            194805.0   \n",
       "9                 0.906040           0.899787            194805.0   \n",
       "10                0.385764           0.316599            194805.0   \n",
       "11                0.898879           0.894659            194805.0   \n",
       "12                0.909741           0.905218            194805.0   \n",
       "13                0.895944           0.894987            194805.0   \n",
       "14                0.901487           0.896517            194805.0   \n",
       "15                0.898847           0.895834            194805.0   \n",
       "\n",
       "    support: weighted avg  \n",
       "0                194805.0  \n",
       "1                194805.0  \n",
       "2                194805.0  \n",
       "3                194805.0  \n",
       "4                194805.0  \n",
       "5                194805.0  \n",
       "6                194805.0  \n",
       "7                194805.0  \n",
       "8                194805.0  \n",
       "9                194805.0  \n",
       "10               194805.0  \n",
       "11               194805.0  \n",
       "12               194805.0  \n",
       "13               194805.0  \n",
       "14               194805.0  \n",
       "15               194805.0  "
      ]
     },
     "execution_count": 18,
     "metadata": {},
     "output_type": "execute_result"
    }
   ],
   "source": [
    "# Reading the uploaded CSV file to understand its contents\n",
    "import pandas as pd\n",
    "\n",
    "# Load the CSV file into a DataFrame\n",
    "file_path = os.path.join(RESULT_PATH, 'classification', 'val_clf_report_OOD_Circ_Imm_knn.csv')\n",
    "df = pd.read_csv(file_path)\n",
    "\n",
    "# Remove duplicates\n",
    "df = df.drop_duplicates()\n",
    "\n",
    "# Show the first few rows to get an overview of the data\n",
    "df"
   ]
  },
  {
   "cell_type": "markdown",
   "id": "66542149-c261-41ca-8eac-5f011443d675",
   "metadata": {},
   "source": [
    "### **Single-cell analysis of prenatal and postnatal human cortical development**\n",
    "\n",
    "- 709,372 cells\n",
    "- 110x 3' v2, 10x 3' v3, 10x multiome\n",
    "- astrocyte (67868), microglial cell (15857), native cell (15828), neural cell (537452), oligodendrocyte (40875), oligodendrocyte precursor cell (31392)"
   ]
  },
  {
   "cell_type": "code",
   "execution_count": 9,
   "id": "c3cce5b4-0f8a-4705-9caa-0ed66c19f252",
   "metadata": {},
   "outputs": [
    {
     "name": "stdout",
     "output_type": "stream",
     "text": [
      "Loaded tensor_x and tensor_y from disk.\n",
      "Created DataLoader.\n"
     ]
    }
   ],
   "source": [
    "test_loader_cort = create_ood_dataloader(adata_path=os.path.join(ADATA_PATH, 'cort_dev', 'cort_dev.h5ad'), data_path=DATA_PATH, batch_size=32)"
   ]
  },
  {
   "cell_type": "code",
   "execution_count": 10,
   "id": "00b20076-da54-4d42-a71f-2a1734d17ab4",
   "metadata": {},
   "outputs": [],
   "source": [
    "model_dirs = [\n",
    "    ### Supervised Models ###\n",
    "    \n",
    "    MODEL_PATH + '/final_models/classification/No_SSL_run0/default/version_0/checkpoints/best_checkpoint_val.ckpt',\n",
    "    MODEL_PATH + '/final_models/classification/No_SSL_run1/default/version_0/checkpoints/best_checkpoint_val.ckpt',\n",
    "    MODEL_PATH + '/final_models/classification/No_SSL_run2/default/version_0/checkpoints/best_checkpoint_val.ckpt',\n",
    "    MODEL_PATH + '/final_models/classification/No_SSL_run3/default/version_0/checkpoints/best_checkpoint_val.ckpt',\n",
    "    MODEL_PATH + '/final_models/classification/No_SSL_run4/default/version_0/checkpoints/best_checkpoint_val.ckpt',\n",
    "    \n",
    "    ### Only Pretrained Models ###\n",
    "    \n",
    "    # Individual Gene Masking\n",
    "    MODEL_PATH + '/pretext_models/masking/CN_MLP_50p/default/version_1/checkpoints/best_checkpoint_val.ckpt',\n",
    "    MODEL_PATH + '/pretext_models/masking/CN_MLP_50prun1/default/version_0/checkpoints/best_checkpoint_val.ckpt',\n",
    "    MODEL_PATH + '/pretext_models/masking/CN_MLP_50prun2/default/version_0/checkpoints/best_checkpoint_val.ckpt',\n",
    "    MODEL_PATH + '/pretext_models/masking/CN_MLP_50prun3/default/version_0/checkpoints/best_checkpoint_val.ckpt',\n",
    "    MODEL_PATH + '/pretext_models/masking/CN_MLP_50prun4/default/version_0/checkpoints/best_checkpoint_val.ckpt',\n",
    "    \n",
    "    ### Self-Supervised Models ###\n",
    "    \n",
    "    # Individual Gene Masking\n",
    "    MODEL_PATH + '/final_models/classification/SSL_CN_MLP_50prun0/default/version_0/checkpoints/best_checkpoint_val.ckpt',\n",
    "    MODEL_PATH + '/final_models/classification/SSL_CN_MLP_50prun1/default/version_1/checkpoints/best_checkpoint_val.ckpt',\n",
    "    MODEL_PATH + '/final_models/classification/SSL_CN_MLP_50prun2/default/version_1/checkpoints/best_checkpoint_val.ckpt',\n",
    "    MODEL_PATH + '/final_models/classification/SSL_CN_MLP_50prun3/default/version_1/checkpoints/best_checkpoint_val.ckpt',\n",
    "    MODEL_PATH + '/final_models/classification/SSL_CN_MLP_50prun4/default/version_1/checkpoints/best_checkpoint_val.ckpt',\n",
    "]"
   ]
  },
  {
   "cell_type": "code",
   "execution_count": 11,
   "id": "adc3b69c-c789-45b6-a2cc-5da6f7438667",
   "metadata": {},
   "outputs": [],
   "source": [
    "# init estim class\n",
    "estim = EstimatorAutoEncoder(DATA_PATH, hvg=False)"
   ]
  },
  {
   "cell_type": "code",
   "execution_count": 12,
   "id": "c8933538-a8b7-4b45-b956-bc96d88ca7e5",
   "metadata": {},
   "outputs": [],
   "source": [
    "# init datamodule\n",
    "estim.init_datamodule(batch_size=1024) "
   ]
  },
  {
   "cell_type": "code",
   "execution_count": 13,
   "id": "49ec7bbd-1b40-4da5-a0bc-87504812c8fc",
   "metadata": {
    "tags": []
   },
   "outputs": [
    {
     "name": "stdout",
     "output_type": "stream",
     "text": [
      "Loaded train labels:  (15240192,) val labels:  (3500032,) test labels:  (156092,)\n",
      "Evaluating /lustre/groups/ml01/workspace/till.richter/trained_models//final_models/classification/No_SSL_run0/default/version_0/checkpoints/best_checkpoint_val.ckpt\n",
      "Get index for no ssl\n"
     ]
    },
    {
     "name": "stderr",
     "output_type": "stream",
     "text": [
      "GPU available: True (cuda), used: True\n",
      "TPU available: False, using: 0 TPU cores\n",
      "IPU available: False, using: 0 IPUs\n",
      "HPU available: False, using: 0 HPUs\n",
      "You are using a CUDA device ('NVIDIA A100-PCIE-40GB MIG 3g.20gb') that has Tensor Cores. To properly utilize them, you should set `torch.set_float32_matmul_precision('medium' | 'high')` which will trade-off precision for performance. For more details, read https://pytorch.org/docs/stable/generated/torch.set_float32_matmul_precision.html#torch.set_float32_matmul_precision\n",
      "LOCAL_RANK: 0 - CUDA_VISIBLE_DEVICES: [MIG-ac41d84a-b235-5afb-99b1-56eb9d641d2b]\n"
     ]
    },
    {
     "data": {
      "application/vnd.jupyter.widget-view+json": {
       "model_id": "c7e54a59c5834fb38ccfe0e65c7a62d6",
       "version_major": 2,
       "version_minor": 0
      },
      "text/plain": [
       "Predicting: 0it [00:00, ?it/s]"
      ]
     },
     "metadata": {},
     "output_type": "display_data"
    },
    {
     "name": "stderr",
     "output_type": "stream",
     "text": [
      "LOCAL_RANK: 0 - CUDA_VISIBLE_DEVICES: [MIG-ac41d84a-b235-5afb-99b1-56eb9d641d2b]\n"
     ]
    },
    {
     "name": "stdout",
     "output_type": "stream",
     "text": [
      "Saved val embeddings to disk at  /lustre/groups/ml01/workspace/till.richter/ssl_results/classification/embeddings/val_emb_No_SSL_run0_No SSL_OOD_Cort_Dev.npy\n"
     ]
    },
    {
     "data": {
      "application/vnd.jupyter.widget-view+json": {
       "model_id": "1231bf75280e4d039a20a3d3fb2cf7ee",
       "version_major": 2,
       "version_minor": 0
      },
      "text/plain": [
       "Predicting: 0it [00:00, ?it/s]"
      ]
     },
     "metadata": {},
     "output_type": "display_data"
    },
    {
     "name": "stdout",
     "output_type": "stream",
     "text": [
      "Saved test embeddings to disk at  /lustre/groups/ml01/workspace/till.richter/ssl_results/classification/embeddings/test_emb_No_SSL_run0_No SSL_OOD_Cort_Dev.npy\n",
      "Loaded reference embeddings:  (3500032, 64) test embeddings:  (156092, 64)\n",
      "Start kNN...\n",
      "Evaluating /lustre/groups/ml01/workspace/till.richter/trained_models//final_models/classification/No_SSL_run1/default/version_0/checkpoints/best_checkpoint_val.ckpt\n",
      "Get index for no ssl\n"
     ]
    },
    {
     "name": "stderr",
     "output_type": "stream",
     "text": [
      "GPU available: True (cuda), used: True\n",
      "TPU available: False, using: 0 TPU cores\n",
      "IPU available: False, using: 0 IPUs\n",
      "HPU available: False, using: 0 HPUs\n",
      "LOCAL_RANK: 0 - CUDA_VISIBLE_DEVICES: [MIG-ac41d84a-b235-5afb-99b1-56eb9d641d2b]\n"
     ]
    },
    {
     "data": {
      "application/vnd.jupyter.widget-view+json": {
       "model_id": "439584a9dc1647f7a8e32c7e33a0b8d8",
       "version_major": 2,
       "version_minor": 0
      },
      "text/plain": [
       "Predicting: 0it [00:00, ?it/s]"
      ]
     },
     "metadata": {},
     "output_type": "display_data"
    },
    {
     "name": "stderr",
     "output_type": "stream",
     "text": [
      "LOCAL_RANK: 0 - CUDA_VISIBLE_DEVICES: [MIG-ac41d84a-b235-5afb-99b1-56eb9d641d2b]\n"
     ]
    },
    {
     "name": "stdout",
     "output_type": "stream",
     "text": [
      "Saved val embeddings to disk at  /lustre/groups/ml01/workspace/till.richter/ssl_results/classification/embeddings/val_emb_No_SSL_run1_No SSL_OOD_Cort_Dev.npy\n"
     ]
    },
    {
     "data": {
      "application/vnd.jupyter.widget-view+json": {
       "model_id": "2642f57c3ba94f1aadfca543a37c4b13",
       "version_major": 2,
       "version_minor": 0
      },
      "text/plain": [
       "Predicting: 0it [00:00, ?it/s]"
      ]
     },
     "metadata": {},
     "output_type": "display_data"
    },
    {
     "name": "stdout",
     "output_type": "stream",
     "text": [
      "Saved test embeddings to disk at  /lustre/groups/ml01/workspace/till.richter/ssl_results/classification/embeddings/test_emb_No_SSL_run1_No SSL_OOD_Cort_Dev.npy\n",
      "Loaded reference embeddings:  (3500032, 64) test embeddings:  (156092, 64)\n",
      "Start kNN...\n",
      "Evaluating /lustre/groups/ml01/workspace/till.richter/trained_models//final_models/classification/No_SSL_run2/default/version_0/checkpoints/best_checkpoint_val.ckpt\n",
      "Get index for no ssl\n"
     ]
    },
    {
     "name": "stderr",
     "output_type": "stream",
     "text": [
      "GPU available: True (cuda), used: True\n",
      "TPU available: False, using: 0 TPU cores\n",
      "IPU available: False, using: 0 IPUs\n",
      "HPU available: False, using: 0 HPUs\n",
      "LOCAL_RANK: 0 - CUDA_VISIBLE_DEVICES: [MIG-ac41d84a-b235-5afb-99b1-56eb9d641d2b]\n"
     ]
    },
    {
     "data": {
      "application/vnd.jupyter.widget-view+json": {
       "model_id": "3ba3d54148634527b1b21243f73027b1",
       "version_major": 2,
       "version_minor": 0
      },
      "text/plain": [
       "Predicting: 0it [00:00, ?it/s]"
      ]
     },
     "metadata": {},
     "output_type": "display_data"
    },
    {
     "name": "stderr",
     "output_type": "stream",
     "text": [
      "LOCAL_RANK: 0 - CUDA_VISIBLE_DEVICES: [MIG-ac41d84a-b235-5afb-99b1-56eb9d641d2b]\n"
     ]
    },
    {
     "name": "stdout",
     "output_type": "stream",
     "text": [
      "Saved val embeddings to disk at  /lustre/groups/ml01/workspace/till.richter/ssl_results/classification/embeddings/val_emb_No_SSL_run2_No SSL_OOD_Cort_Dev.npy\n"
     ]
    },
    {
     "data": {
      "application/vnd.jupyter.widget-view+json": {
       "model_id": "f2bb3f933694482b8a0c236c36e59db3",
       "version_major": 2,
       "version_minor": 0
      },
      "text/plain": [
       "Predicting: 0it [00:00, ?it/s]"
      ]
     },
     "metadata": {},
     "output_type": "display_data"
    },
    {
     "name": "stdout",
     "output_type": "stream",
     "text": [
      "Saved test embeddings to disk at  /lustre/groups/ml01/workspace/till.richter/ssl_results/classification/embeddings/test_emb_No_SSL_run2_No SSL_OOD_Cort_Dev.npy\n",
      "Loaded reference embeddings:  (3500032, 64) test embeddings:  (156092, 64)\n",
      "Start kNN...\n",
      "Evaluating /lustre/groups/ml01/workspace/till.richter/trained_models//final_models/classification/No_SSL_run3/default/version_0/checkpoints/best_checkpoint_val.ckpt\n",
      "Get index for no ssl\n"
     ]
    },
    {
     "name": "stderr",
     "output_type": "stream",
     "text": [
      "GPU available: True (cuda), used: True\n",
      "TPU available: False, using: 0 TPU cores\n",
      "IPU available: False, using: 0 IPUs\n",
      "HPU available: False, using: 0 HPUs\n",
      "LOCAL_RANK: 0 - CUDA_VISIBLE_DEVICES: [MIG-ac41d84a-b235-5afb-99b1-56eb9d641d2b]\n"
     ]
    },
    {
     "data": {
      "application/vnd.jupyter.widget-view+json": {
       "model_id": "cd5adbfe66b4451399b14b0728090437",
       "version_major": 2,
       "version_minor": 0
      },
      "text/plain": [
       "Predicting: 0it [00:00, ?it/s]"
      ]
     },
     "metadata": {},
     "output_type": "display_data"
    },
    {
     "name": "stderr",
     "output_type": "stream",
     "text": [
      "LOCAL_RANK: 0 - CUDA_VISIBLE_DEVICES: [MIG-ac41d84a-b235-5afb-99b1-56eb9d641d2b]\n"
     ]
    },
    {
     "name": "stdout",
     "output_type": "stream",
     "text": [
      "Saved val embeddings to disk at  /lustre/groups/ml01/workspace/till.richter/ssl_results/classification/embeddings/val_emb_No_SSL_run3_No SSL_OOD_Cort_Dev.npy\n"
     ]
    },
    {
     "data": {
      "application/vnd.jupyter.widget-view+json": {
       "model_id": "4c36013e9e1544e5b23f20008580820b",
       "version_major": 2,
       "version_minor": 0
      },
      "text/plain": [
       "Predicting: 0it [00:00, ?it/s]"
      ]
     },
     "metadata": {},
     "output_type": "display_data"
    },
    {
     "name": "stdout",
     "output_type": "stream",
     "text": [
      "Saved test embeddings to disk at  /lustre/groups/ml01/workspace/till.richter/ssl_results/classification/embeddings/test_emb_No_SSL_run3_No SSL_OOD_Cort_Dev.npy\n",
      "Loaded reference embeddings:  (3500032, 64) test embeddings:  (156092, 64)\n",
      "Evaluating /lustre/groups/ml01/workspace/till.richter/trained_models//final_models/classification/No_SSL_run4/default/version_0/checkpoints/best_checkpoint_val.ckpt\n",
      "Get index for no ssl\n",
      "Start kNN...\n"
     ]
    },
    {
     "name": "stderr",
     "output_type": "stream",
     "text": [
      "GPU available: True (cuda), used: True\n",
      "TPU available: False, using: 0 TPU cores\n",
      "IPU available: False, using: 0 IPUs\n",
      "HPU available: False, using: 0 HPUs\n",
      "LOCAL_RANK: 0 - CUDA_VISIBLE_DEVICES: [MIG-ac41d84a-b235-5afb-99b1-56eb9d641d2b]\n"
     ]
    },
    {
     "data": {
      "application/vnd.jupyter.widget-view+json": {
       "model_id": "debc99b7d45640b8b4feb34da385e035",
       "version_major": 2,
       "version_minor": 0
      },
      "text/plain": [
       "Predicting: 0it [00:00, ?it/s]"
      ]
     },
     "metadata": {},
     "output_type": "display_data"
    },
    {
     "name": "stderr",
     "output_type": "stream",
     "text": [
      "LOCAL_RANK: 0 - CUDA_VISIBLE_DEVICES: [MIG-ac41d84a-b235-5afb-99b1-56eb9d641d2b]\n"
     ]
    },
    {
     "name": "stdout",
     "output_type": "stream",
     "text": [
      "Saved val embeddings to disk at  /lustre/groups/ml01/workspace/till.richter/ssl_results/classification/embeddings/val_emb_No_SSL_run4_No SSL_OOD_Cort_Dev.npy\n"
     ]
    },
    {
     "data": {
      "application/vnd.jupyter.widget-view+json": {
       "model_id": "959e8543e81847e0b8c5463f05f18c60",
       "version_major": 2,
       "version_minor": 0
      },
      "text/plain": [
       "Predicting: 0it [00:00, ?it/s]"
      ]
     },
     "metadata": {},
     "output_type": "display_data"
    },
    {
     "name": "stdout",
     "output_type": "stream",
     "text": [
      "Saved test embeddings to disk at  /lustre/groups/ml01/workspace/till.richter/ssl_results/classification/embeddings/test_emb_No_SSL_run4_No SSL_OOD_Cort_Dev.npy\n",
      "Loaded reference embeddings:  (3500032, 64) test embeddings:  (156092, 64)\n",
      "Evaluating /lustre/groups/ml01/workspace/till.richter/trained_models//pretext_models/masking/CN_MLP_50p/default/version_1/checkpoints/best_checkpoint_val.ckpt\n",
      "Get index for pretrained\n",
      "Initializing model...\n",
      "Start kNN...\n",
      "dict keys:  odict_keys(['class_weights', 'child_lookup', 'classifier.0.weight', 'classifier.0.bias', 'classifier.3.weight', 'classifier.3.bias', 'classifier.6.weight', 'classifier.6.bias', 'classifier.9.weight', 'classifier.9.bias', 'classifier.12.weight', 'classifier.12.bias', 'classifier.15.weight', 'classifier.15.bias']) odict_keys(['encoder.0.weight', 'encoder.0.bias', 'encoder.3.weight', 'encoder.3.bias', 'encoder.6.weight', 'encoder.6.bias', 'encoder.9.weight', 'encoder.9.bias', 'encoder.12.weight', 'encoder.12.bias', 'decoder.0.0.weight', 'decoder.0.0.bias', 'decoder.0.3.weight', 'decoder.0.3.bias', 'decoder.0.6.weight', 'decoder.0.6.bias', 'decoder.0.9.weight', 'decoder.0.9.bias', 'decoder.0.12.weight', 'decoder.0.12.bias'])\n",
      "Did not find match for class_weights in pretrained_dict. Initializing randomly.\n",
      "Did not find match for child_lookup in pretrained_dict. Initializing randomly.\n",
      "Weight transfer: Matched classifier.0.weight\n",
      "Weight transfer: Matched classifier.0.bias\n",
      "Weight transfer: Matched classifier.3.weight\n",
      "Weight transfer: Matched classifier.3.bias\n",
      "Weight transfer: Matched classifier.6.weight\n",
      "Weight transfer: Matched classifier.6.bias\n",
      "Weight transfer: Matched classifier.9.weight\n",
      "Weight transfer: Matched classifier.9.bias\n",
      "Weight transfer: Matched classifier.12.weight\n",
      "Weight transfer: Matched classifier.12.bias\n",
      "Did not find match for classifier.15.weight in pretrained_dict. Initializing randomly.\n",
      "Did not find match for classifier.15.bias in pretrained_dict. Initializing randomly.\n",
      "Supervised subset:  None\n"
     ]
    },
    {
     "name": "stderr",
     "output_type": "stream",
     "text": [
      "GPU available: True (cuda), used: True\n",
      "TPU available: False, using: 0 TPU cores\n",
      "IPU available: False, using: 0 IPUs\n",
      "HPU available: False, using: 0 HPUs\n",
      "LOCAL_RANK: 0 - CUDA_VISIBLE_DEVICES: [MIG-ac41d84a-b235-5afb-99b1-56eb9d641d2b]\n"
     ]
    },
    {
     "data": {
      "application/vnd.jupyter.widget-view+json": {
       "model_id": "fd390cb4281e42f8b5f4d240a1bc746f",
       "version_major": 2,
       "version_minor": 0
      },
      "text/plain": [
       "Predicting: 0it [00:00, ?it/s]"
      ]
     },
     "metadata": {},
     "output_type": "display_data"
    },
    {
     "name": "stderr",
     "output_type": "stream",
     "text": [
      "LOCAL_RANK: 0 - CUDA_VISIBLE_DEVICES: [MIG-ac41d84a-b235-5afb-99b1-56eb9d641d2b]\n"
     ]
    },
    {
     "name": "stdout",
     "output_type": "stream",
     "text": [
      "Saved val embeddings to disk at  /lustre/groups/ml01/workspace/till.richter/ssl_results/classification/embeddings/val_emb_CN_MLP_50p_Only Pretrained_OOD_Cort_Dev.npy\n"
     ]
    },
    {
     "data": {
      "application/vnd.jupyter.widget-view+json": {
       "model_id": "bbf8bbf798414c84bed2daa30b380976",
       "version_major": 2,
       "version_minor": 0
      },
      "text/plain": [
       "Predicting: 0it [00:00, ?it/s]"
      ]
     },
     "metadata": {},
     "output_type": "display_data"
    },
    {
     "name": "stdout",
     "output_type": "stream",
     "text": [
      "Saved test embeddings to disk at  /lustre/groups/ml01/workspace/till.richter/ssl_results/classification/embeddings/test_emb_CN_MLP_50p_Only Pretrained_OOD_Cort_Dev.npy\n",
      "Loaded reference embeddings:  (3500032, 64) test embeddings:  (156092, 64)\n",
      "Start kNN...\n",
      "Evaluating /lustre/groups/ml01/workspace/till.richter/trained_models//pretext_models/masking/CN_MLP_50prun1/default/version_0/checkpoints/best_checkpoint_val.ckpt\n",
      "Get index for pretrained\n",
      "Initializing model...\n",
      "dict keys:  odict_keys(['class_weights', 'child_lookup', 'classifier.0.weight', 'classifier.0.bias', 'classifier.3.weight', 'classifier.3.bias', 'classifier.6.weight', 'classifier.6.bias', 'classifier.9.weight', 'classifier.9.bias', 'classifier.12.weight', 'classifier.12.bias', 'classifier.15.weight', 'classifier.15.bias']) odict_keys(['encoder.0.weight', 'encoder.0.bias', 'encoder.3.weight', 'encoder.3.bias', 'encoder.6.weight', 'encoder.6.bias', 'encoder.9.weight', 'encoder.9.bias', 'encoder.12.weight', 'encoder.12.bias', 'decoder.0.0.weight', 'decoder.0.0.bias', 'decoder.0.3.weight', 'decoder.0.3.bias', 'decoder.0.6.weight', 'decoder.0.6.bias', 'decoder.0.9.weight', 'decoder.0.9.bias', 'decoder.0.12.weight', 'decoder.0.12.bias'])\n",
      "Did not find match for class_weights in pretrained_dict. Initializing randomly.\n",
      "Did not find match for child_lookup in pretrained_dict. Initializing randomly.\n",
      "Weight transfer: Matched classifier.0.weight\n",
      "Weight transfer: Matched classifier.0.bias\n",
      "Weight transfer: Matched classifier.3.weight\n",
      "Weight transfer: Matched classifier.3.bias\n",
      "Weight transfer: Matched classifier.6.weight\n",
      "Weight transfer: Matched classifier.6.bias\n",
      "Weight transfer: Matched classifier.9.weight\n",
      "Weight transfer: Matched classifier.9.bias\n",
      "Weight transfer: Matched classifier.12.weight\n",
      "Weight transfer: Matched classifier.12.bias\n",
      "Did not find match for classifier.15.weight in pretrained_dict. Initializing randomly.\n",
      "Did not find match for classifier.15.bias in pretrained_dict. Initializing randomly.\n",
      "Supervised subset:  None\n"
     ]
    },
    {
     "name": "stderr",
     "output_type": "stream",
     "text": [
      "GPU available: True (cuda), used: True\n",
      "TPU available: False, using: 0 TPU cores\n",
      "IPU available: False, using: 0 IPUs\n",
      "HPU available: False, using: 0 HPUs\n",
      "LOCAL_RANK: 0 - CUDA_VISIBLE_DEVICES: [MIG-ac41d84a-b235-5afb-99b1-56eb9d641d2b]\n"
     ]
    },
    {
     "data": {
      "application/vnd.jupyter.widget-view+json": {
       "model_id": "f89b19714de84423b86145891c9ed3bc",
       "version_major": 2,
       "version_minor": 0
      },
      "text/plain": [
       "Predicting: 0it [00:00, ?it/s]"
      ]
     },
     "metadata": {},
     "output_type": "display_data"
    },
    {
     "name": "stderr",
     "output_type": "stream",
     "text": [
      "IOPub message rate exceeded.\n",
      "The Jupyter server will temporarily stop sending output\n",
      "to the client in order to avoid crashing it.\n",
      "To change this limit, set the config variable\n",
      "`--ServerApp.iopub_msg_rate_limit`.\n",
      "\n",
      "Current values:\n",
      "ServerApp.iopub_msg_rate_limit=1000.0 (msgs/sec)\n",
      "ServerApp.rate_limit_window=3.0 (secs)\n",
      "\n",
      "LOCAL_RANK: 0 - CUDA_VISIBLE_DEVICES: [MIG-ac41d84a-b235-5afb-99b1-56eb9d641d2b]\n"
     ]
    },
    {
     "name": "stdout",
     "output_type": "stream",
     "text": [
      "Saved val embeddings to disk at  /lustre/groups/ml01/workspace/till.richter/ssl_results/classification/embeddings/val_emb_CN_MLP_50prun1_Only Pretrained_OOD_Cort_Dev.npy\n"
     ]
    },
    {
     "data": {
      "application/vnd.jupyter.widget-view+json": {
       "model_id": "1c100d9aca2a4bde830fb71a7a889792",
       "version_major": 2,
       "version_minor": 0
      },
      "text/plain": [
       "Predicting: 0it [00:00, ?it/s]"
      ]
     },
     "metadata": {},
     "output_type": "display_data"
    },
    {
     "name": "stdout",
     "output_type": "stream",
     "text": [
      "Saved test embeddings to disk at  /lustre/groups/ml01/workspace/till.richter/ssl_results/classification/embeddings/test_emb_CN_MLP_50prun1_Only Pretrained_OOD_Cort_Dev.npy\n",
      "Loaded reference embeddings:  (3500032, 64) test embeddings:  (156092, 64)\n",
      "Start kNN...\n",
      "Evaluating /lustre/groups/ml01/workspace/till.richter/trained_models//pretext_models/masking/CN_MLP_50prun2/default/version_0/checkpoints/best_checkpoint_val.ckpt\n",
      "Get index for pretrained\n",
      "Initializing model...\n",
      "dict keys:  odict_keys(['class_weights', 'child_lookup', 'classifier.0.weight', 'classifier.0.bias', 'classifier.3.weight', 'classifier.3.bias', 'classifier.6.weight', 'classifier.6.bias', 'classifier.9.weight', 'classifier.9.bias', 'classifier.12.weight', 'classifier.12.bias', 'classifier.15.weight', 'classifier.15.bias']) odict_keys(['encoder.0.weight', 'encoder.0.bias', 'encoder.3.weight', 'encoder.3.bias', 'encoder.6.weight', 'encoder.6.bias', 'encoder.9.weight', 'encoder.9.bias', 'encoder.12.weight', 'encoder.12.bias', 'decoder.0.0.weight', 'decoder.0.0.bias', 'decoder.0.3.weight', 'decoder.0.3.bias', 'decoder.0.6.weight', 'decoder.0.6.bias', 'decoder.0.9.weight', 'decoder.0.9.bias', 'decoder.0.12.weight', 'decoder.0.12.bias'])\n",
      "Did not find match for class_weights in pretrained_dict. Initializing randomly.\n",
      "Did not find match for child_lookup in pretrained_dict. Initializing randomly.\n",
      "Weight transfer: Matched classifier.0.weight\n",
      "Weight transfer: Matched classifier.0.bias\n",
      "Weight transfer: Matched classifier.3.weight\n",
      "Weight transfer: Matched classifier.3.bias\n",
      "Weight transfer: Matched classifier.6.weight\n",
      "Weight transfer: Matched classifier.6.bias\n",
      "Weight transfer: Matched classifier.9.weight\n",
      "Weight transfer: Matched classifier.9.bias\n",
      "Weight transfer: Matched classifier.12.weight\n",
      "Weight transfer: Matched classifier.12.bias\n",
      "Did not find match for classifier.15.weight in pretrained_dict. Initializing randomly.\n",
      "Did not find match for classifier.15.bias in pretrained_dict. Initializing randomly.\n",
      "Supervised subset:  None\n"
     ]
    },
    {
     "name": "stderr",
     "output_type": "stream",
     "text": [
      "GPU available: True (cuda), used: True\n",
      "TPU available: False, using: 0 TPU cores\n",
      "IPU available: False, using: 0 IPUs\n",
      "HPU available: False, using: 0 HPUs\n",
      "LOCAL_RANK: 0 - CUDA_VISIBLE_DEVICES: [MIG-ac41d84a-b235-5afb-99b1-56eb9d641d2b]\n"
     ]
    },
    {
     "data": {
      "application/vnd.jupyter.widget-view+json": {
       "model_id": "297d92bdc1b444b58fa018d8e077e38d",
       "version_major": 2,
       "version_minor": 0
      },
      "text/plain": [
       "Predicting: 0it [00:00, ?it/s]"
      ]
     },
     "metadata": {},
     "output_type": "display_data"
    },
    {
     "name": "stderr",
     "output_type": "stream",
     "text": [
      "LOCAL_RANK: 0 - CUDA_VISIBLE_DEVICES: [MIG-ac41d84a-b235-5afb-99b1-56eb9d641d2b]\n"
     ]
    },
    {
     "name": "stdout",
     "output_type": "stream",
     "text": [
      "Saved val embeddings to disk at  /lustre/groups/ml01/workspace/till.richter/ssl_results/classification/embeddings/val_emb_CN_MLP_50prun2_Only Pretrained_OOD_Cort_Dev.npy\n"
     ]
    },
    {
     "data": {
      "application/vnd.jupyter.widget-view+json": {
       "model_id": "471fd7e48adc4bda87d0786ef6553e14",
       "version_major": 2,
       "version_minor": 0
      },
      "text/plain": [
       "Predicting: 0it [00:00, ?it/s]"
      ]
     },
     "metadata": {},
     "output_type": "display_data"
    },
    {
     "name": "stdout",
     "output_type": "stream",
     "text": [
      "Saved test embeddings to disk at  /lustre/groups/ml01/workspace/till.richter/ssl_results/classification/embeddings/test_emb_CN_MLP_50prun2_Only Pretrained_OOD_Cort_Dev.npy\n",
      "Loaded reference embeddings:  (3500032, 64) test embeddings:  (156092, 64)\n",
      "Evaluating /lustre/groups/ml01/workspace/till.richter/trained_models//pretext_models/masking/CN_MLP_50prun3/default/version_0/checkpoints/best_checkpoint_val.ckpt\n",
      "Get index for pretrained\n",
      "Initializing model...\n",
      "Start kNN...\n",
      "dict keys:  odict_keys(['class_weights', 'child_lookup', 'classifier.0.weight', 'classifier.0.bias', 'classifier.3.weight', 'classifier.3.bias', 'classifier.6.weight', 'classifier.6.bias', 'classifier.9.weight', 'classifier.9.bias', 'classifier.12.weight', 'classifier.12.bias', 'classifier.15.weight', 'classifier.15.bias']) odict_keys(['encoder.0.weight', 'encoder.0.bias', 'encoder.3.weight', 'encoder.3.bias', 'encoder.6.weight', 'encoder.6.bias', 'encoder.9.weight', 'encoder.9.bias', 'encoder.12.weight', 'encoder.12.bias', 'decoder.0.0.weight', 'decoder.0.0.bias', 'decoder.0.3.weight', 'decoder.0.3.bias', 'decoder.0.6.weight', 'decoder.0.6.bias', 'decoder.0.9.weight', 'decoder.0.9.bias', 'decoder.0.12.weight', 'decoder.0.12.bias'])\n",
      "Did not find match for class_weights in pretrained_dict. Initializing randomly.\n",
      "Did not find match for child_lookup in pretrained_dict. Initializing randomly.\n",
      "Weight transfer: Matched classifier.0.weight\n",
      "Weight transfer: Matched classifier.0.bias\n",
      "Weight transfer: Matched classifier.3.weight\n",
      "Weight transfer: Matched classifier.3.bias\n",
      "Weight transfer: Matched classifier.6.weight\n",
      "Weight transfer: Matched classifier.6.bias\n",
      "Weight transfer: Matched classifier.9.weight\n",
      "Weight transfer: Matched classifier.9.bias\n",
      "Weight transfer: Matched classifier.12.weight\n",
      "Weight transfer: Matched classifier.12.bias\n",
      "Did not find match for classifier.15.weight in pretrained_dict. Initializing randomly.\n",
      "Did not find match for classifier.15.bias in pretrained_dict. Initializing randomly.\n",
      "Supervised subset:  None\n"
     ]
    },
    {
     "name": "stderr",
     "output_type": "stream",
     "text": [
      "GPU available: True (cuda), used: True\n",
      "TPU available: False, using: 0 TPU cores\n",
      "IPU available: False, using: 0 IPUs\n",
      "HPU available: False, using: 0 HPUs\n",
      "LOCAL_RANK: 0 - CUDA_VISIBLE_DEVICES: [MIG-ac41d84a-b235-5afb-99b1-56eb9d641d2b]\n"
     ]
    },
    {
     "data": {
      "application/vnd.jupyter.widget-view+json": {
       "model_id": "3c6a8a30672c4e1db164da4ebc04b226",
       "version_major": 2,
       "version_minor": 0
      },
      "text/plain": [
       "Predicting: 0it [00:00, ?it/s]"
      ]
     },
     "metadata": {},
     "output_type": "display_data"
    },
    {
     "name": "stderr",
     "output_type": "stream",
     "text": [
      "LOCAL_RANK: 0 - CUDA_VISIBLE_DEVICES: [MIG-ac41d84a-b235-5afb-99b1-56eb9d641d2b]\n"
     ]
    },
    {
     "name": "stdout",
     "output_type": "stream",
     "text": [
      "Saved val embeddings to disk at  /lustre/groups/ml01/workspace/till.richter/ssl_results/classification/embeddings/val_emb_CN_MLP_50prun3_Only Pretrained_OOD_Cort_Dev.npy\n"
     ]
    },
    {
     "data": {
      "application/vnd.jupyter.widget-view+json": {
       "model_id": "cf2fb69e4c384ab29acc8d54502be7ed",
       "version_major": 2,
       "version_minor": 0
      },
      "text/plain": [
       "Predicting: 0it [00:00, ?it/s]"
      ]
     },
     "metadata": {},
     "output_type": "display_data"
    },
    {
     "name": "stdout",
     "output_type": "stream",
     "text": [
      "Saved test embeddings to disk at  /lustre/groups/ml01/workspace/till.richter/ssl_results/classification/embeddings/test_emb_CN_MLP_50prun3_Only Pretrained_OOD_Cort_Dev.npy\n",
      "Loaded reference embeddings:  (3500032, 64) test embeddings:  (156092, 64)\n",
      "Evaluating /lustre/groups/ml01/workspace/till.richter/trained_models//pretext_models/masking/CN_MLP_50prun4/default/version_0/checkpoints/best_checkpoint_val.ckpt\n",
      "Get index for pretrained\n",
      "Initializing model...\n",
      "Start kNN...\n",
      "dict keys:  odict_keys(['class_weights', 'child_lookup', 'classifier.0.weight', 'classifier.0.bias', 'classifier.3.weight', 'classifier.3.bias', 'classifier.6.weight', 'classifier.6.bias', 'classifier.9.weight', 'classifier.9.bias', 'classifier.12.weight', 'classifier.12.bias', 'classifier.15.weight', 'classifier.15.bias']) odict_keys(['encoder.0.weight', 'encoder.0.bias', 'encoder.3.weight', 'encoder.3.bias', 'encoder.6.weight', 'encoder.6.bias', 'encoder.9.weight', 'encoder.9.bias', 'encoder.12.weight', 'encoder.12.bias', 'decoder.0.0.weight', 'decoder.0.0.bias', 'decoder.0.3.weight', 'decoder.0.3.bias', 'decoder.0.6.weight', 'decoder.0.6.bias', 'decoder.0.9.weight', 'decoder.0.9.bias', 'decoder.0.12.weight', 'decoder.0.12.bias'])\n",
      "Did not find match for class_weights in pretrained_dict. Initializing randomly.\n",
      "Did not find match for child_lookup in pretrained_dict. Initializing randomly.\n",
      "Weight transfer: Matched classifier.0.weight\n",
      "Weight transfer: Matched classifier.0.bias\n",
      "Weight transfer: Matched classifier.3.weight\n",
      "Weight transfer: Matched classifier.3.bias\n",
      "Weight transfer: Matched classifier.6.weight\n",
      "Weight transfer: Matched classifier.6.bias\n",
      "Weight transfer: Matched classifier.9.weight\n",
      "Weight transfer: Matched classifier.9.bias\n",
      "Weight transfer: Matched classifier.12.weight\n",
      "Weight transfer: Matched classifier.12.bias\n",
      "Did not find match for classifier.15.weight in pretrained_dict. Initializing randomly.\n",
      "Did not find match for classifier.15.bias in pretrained_dict. Initializing randomly.\n",
      "Supervised subset:  None\n"
     ]
    },
    {
     "name": "stderr",
     "output_type": "stream",
     "text": [
      "GPU available: True (cuda), used: True\n",
      "TPU available: False, using: 0 TPU cores\n",
      "IPU available: False, using: 0 IPUs\n",
      "HPU available: False, using: 0 HPUs\n",
      "LOCAL_RANK: 0 - CUDA_VISIBLE_DEVICES: [MIG-ac41d84a-b235-5afb-99b1-56eb9d641d2b]\n"
     ]
    },
    {
     "data": {
      "application/vnd.jupyter.widget-view+json": {
       "model_id": "ae5e3ddb649a4254847de83779fa38f0",
       "version_major": 2,
       "version_minor": 0
      },
      "text/plain": [
       "Predicting: 0it [00:00, ?it/s]"
      ]
     },
     "metadata": {},
     "output_type": "display_data"
    },
    {
     "name": "stderr",
     "output_type": "stream",
     "text": [
      "LOCAL_RANK: 0 - CUDA_VISIBLE_DEVICES: [MIG-ac41d84a-b235-5afb-99b1-56eb9d641d2b]\n"
     ]
    },
    {
     "name": "stdout",
     "output_type": "stream",
     "text": [
      "Saved val embeddings to disk at  /lustre/groups/ml01/workspace/till.richter/ssl_results/classification/embeddings/val_emb_CN_MLP_50prun4_Only Pretrained_OOD_Cort_Dev.npy\n"
     ]
    },
    {
     "data": {
      "application/vnd.jupyter.widget-view+json": {
       "model_id": "313327a4ab7c405b9e9afa41d9d86b7f",
       "version_major": 2,
       "version_minor": 0
      },
      "text/plain": [
       "Predicting: 0it [00:00, ?it/s]"
      ]
     },
     "metadata": {},
     "output_type": "display_data"
    },
    {
     "name": "stdout",
     "output_type": "stream",
     "text": [
      "Saved test embeddings to disk at  /lustre/groups/ml01/workspace/till.richter/ssl_results/classification/embeddings/test_emb_CN_MLP_50prun4_Only Pretrained_OOD_Cort_Dev.npy\n",
      "Loaded reference embeddings:  (3500032, 64) test embeddings:  (156092, 64)\n",
      "Evaluating /lustre/groups/ml01/workspace/till.richter/trained_models//final_models/classification/SSL_CN_MLP_50prun0/default/version_0/checkpoints/best_checkpoint_val.ckpt\n",
      "Get index for ssl\n",
      "Start kNN...\n"
     ]
    },
    {
     "name": "stderr",
     "output_type": "stream",
     "text": [
      "GPU available: True (cuda), used: True\n",
      "TPU available: False, using: 0 TPU cores\n",
      "IPU available: False, using: 0 IPUs\n",
      "HPU available: False, using: 0 HPUs\n",
      "LOCAL_RANK: 0 - CUDA_VISIBLE_DEVICES: [MIG-ac41d84a-b235-5afb-99b1-56eb9d641d2b]\n"
     ]
    },
    {
     "data": {
      "application/vnd.jupyter.widget-view+json": {
       "model_id": "baa9038408e445e5b3d0ec8843bc20b2",
       "version_major": 2,
       "version_minor": 0
      },
      "text/plain": [
       "Predicting: 0it [00:00, ?it/s]"
      ]
     },
     "metadata": {},
     "output_type": "display_data"
    },
    {
     "name": "stderr",
     "output_type": "stream",
     "text": [
      "LOCAL_RANK: 0 - CUDA_VISIBLE_DEVICES: [MIG-ac41d84a-b235-5afb-99b1-56eb9d641d2b]\n"
     ]
    },
    {
     "name": "stdout",
     "output_type": "stream",
     "text": [
      "Saved val embeddings to disk at  /lustre/groups/ml01/workspace/till.richter/ssl_results/classification/embeddings/val_emb_SSL_CN_MLP_50prun0_SSL_OOD_Cort_Dev.npy\n"
     ]
    },
    {
     "data": {
      "application/vnd.jupyter.widget-view+json": {
       "model_id": "8ed0a18894ac45f6844ed5e8892d7cdd",
       "version_major": 2,
       "version_minor": 0
      },
      "text/plain": [
       "Predicting: 0it [00:00, ?it/s]"
      ]
     },
     "metadata": {},
     "output_type": "display_data"
    },
    {
     "name": "stdout",
     "output_type": "stream",
     "text": [
      "Saved test embeddings to disk at  /lustre/groups/ml01/workspace/till.richter/ssl_results/classification/embeddings/test_emb_SSL_CN_MLP_50prun0_SSL_OOD_Cort_Dev.npy\n",
      "Loaded reference embeddings:  (3500032, 64) test embeddings:  (156092, 64)\n",
      "Start kNN...\n",
      "Evaluating /lustre/groups/ml01/workspace/till.richter/trained_models//final_models/classification/SSL_CN_MLP_50prun1/default/version_1/checkpoints/best_checkpoint_val.ckpt\n",
      "Get index for ssl\n"
     ]
    },
    {
     "name": "stderr",
     "output_type": "stream",
     "text": [
      "GPU available: True (cuda), used: True\n",
      "TPU available: False, using: 0 TPU cores\n",
      "IPU available: False, using: 0 IPUs\n",
      "HPU available: False, using: 0 HPUs\n",
      "LOCAL_RANK: 0 - CUDA_VISIBLE_DEVICES: [MIG-ac41d84a-b235-5afb-99b1-56eb9d641d2b]\n"
     ]
    },
    {
     "data": {
      "application/vnd.jupyter.widget-view+json": {
       "model_id": "0ac9ee73db3a4d8a8c910d61e1a63ff6",
       "version_major": 2,
       "version_minor": 0
      },
      "text/plain": [
       "Predicting: 0it [00:00, ?it/s]"
      ]
     },
     "metadata": {},
     "output_type": "display_data"
    },
    {
     "name": "stderr",
     "output_type": "stream",
     "text": [
      "LOCAL_RANK: 0 - CUDA_VISIBLE_DEVICES: [MIG-ac41d84a-b235-5afb-99b1-56eb9d641d2b]\n"
     ]
    },
    {
     "name": "stdout",
     "output_type": "stream",
     "text": [
      "Saved val embeddings to disk at  /lustre/groups/ml01/workspace/till.richter/ssl_results/classification/embeddings/val_emb_SSL_CN_MLP_50prun1_SSL_OOD_Cort_Dev.npy\n"
     ]
    },
    {
     "data": {
      "application/vnd.jupyter.widget-view+json": {
       "model_id": "3ca808a39cda430c9ec84af0ac3fa678",
       "version_major": 2,
       "version_minor": 0
      },
      "text/plain": [
       "Predicting: 0it [00:00, ?it/s]"
      ]
     },
     "metadata": {},
     "output_type": "display_data"
    },
    {
     "name": "stdout",
     "output_type": "stream",
     "text": [
      "Saved test embeddings to disk at  /lustre/groups/ml01/workspace/till.richter/ssl_results/classification/embeddings/test_emb_SSL_CN_MLP_50prun1_SSL_OOD_Cort_Dev.npy\n",
      "Loaded reference embeddings:  (3500032, 64) test embeddings:  (156092, 64)\n",
      "Evaluating /lustre/groups/ml01/workspace/till.richter/trained_models//final_models/classification/SSL_CN_MLP_50prun2/default/version_1/checkpoints/best_checkpoint_val.ckpt\n",
      "Get index for ssl\n",
      "Start kNN...\n"
     ]
    },
    {
     "name": "stderr",
     "output_type": "stream",
     "text": [
      "GPU available: True (cuda), used: True\n",
      "TPU available: False, using: 0 TPU cores\n",
      "IPU available: False, using: 0 IPUs\n",
      "HPU available: False, using: 0 HPUs\n",
      "LOCAL_RANK: 0 - CUDA_VISIBLE_DEVICES: [MIG-ac41d84a-b235-5afb-99b1-56eb9d641d2b]\n"
     ]
    },
    {
     "data": {
      "application/vnd.jupyter.widget-view+json": {
       "model_id": "91067183ed694d75acb96b4a91d86968",
       "version_major": 2,
       "version_minor": 0
      },
      "text/plain": [
       "Predicting: 0it [00:00, ?it/s]"
      ]
     },
     "metadata": {},
     "output_type": "display_data"
    },
    {
     "name": "stderr",
     "output_type": "stream",
     "text": [
      "IOPub message rate exceeded.\n",
      "The Jupyter server will temporarily stop sending output\n",
      "to the client in order to avoid crashing it.\n",
      "To change this limit, set the config variable\n",
      "`--ServerApp.iopub_msg_rate_limit`.\n",
      "\n",
      "Current values:\n",
      "ServerApp.iopub_msg_rate_limit=1000.0 (msgs/sec)\n",
      "ServerApp.rate_limit_window=3.0 (secs)\n",
      "\n",
      "IOPub message rate exceeded.\n",
      "The Jupyter server will temporarily stop sending output\n",
      "to the client in order to avoid crashing it.\n",
      "To change this limit, set the config variable\n",
      "`--ServerApp.iopub_msg_rate_limit`.\n",
      "\n",
      "Current values:\n",
      "ServerApp.iopub_msg_rate_limit=1000.0 (msgs/sec)\n",
      "ServerApp.rate_limit_window=3.0 (secs)\n",
      "\n",
      "IOPub message rate exceeded.\n",
      "The Jupyter server will temporarily stop sending output\n",
      "to the client in order to avoid crashing it.\n",
      "To change this limit, set the config variable\n",
      "`--ServerApp.iopub_msg_rate_limit`.\n",
      "\n",
      "Current values:\n",
      "ServerApp.iopub_msg_rate_limit=1000.0 (msgs/sec)\n",
      "ServerApp.rate_limit_window=3.0 (secs)\n",
      "\n",
      "IOPub message rate exceeded.\n",
      "The Jupyter server will temporarily stop sending output\n",
      "to the client in order to avoid crashing it.\n",
      "To change this limit, set the config variable\n",
      "`--ServerApp.iopub_msg_rate_limit`.\n",
      "\n",
      "Current values:\n",
      "ServerApp.iopub_msg_rate_limit=1000.0 (msgs/sec)\n",
      "ServerApp.rate_limit_window=3.0 (secs)\n",
      "\n",
      "IOPub message rate exceeded.\n",
      "The Jupyter server will temporarily stop sending output\n",
      "to the client in order to avoid crashing it.\n",
      "To change this limit, set the config variable\n",
      "`--ServerApp.iopub_msg_rate_limit`.\n",
      "\n",
      "Current values:\n",
      "ServerApp.iopub_msg_rate_limit=1000.0 (msgs/sec)\n",
      "ServerApp.rate_limit_window=3.0 (secs)\n",
      "\n",
      "IOPub message rate exceeded.\n",
      "The Jupyter server will temporarily stop sending output\n",
      "to the client in order to avoid crashing it.\n",
      "To change this limit, set the config variable\n",
      "`--ServerApp.iopub_msg_rate_limit`.\n",
      "\n",
      "Current values:\n",
      "ServerApp.iopub_msg_rate_limit=1000.0 (msgs/sec)\n",
      "ServerApp.rate_limit_window=3.0 (secs)\n",
      "\n",
      "IOPub message rate exceeded.\n",
      "The Jupyter server will temporarily stop sending output\n",
      "to the client in order to avoid crashing it.\n",
      "To change this limit, set the config variable\n",
      "`--ServerApp.iopub_msg_rate_limit`.\n",
      "\n",
      "Current values:\n",
      "ServerApp.iopub_msg_rate_limit=1000.0 (msgs/sec)\n",
      "ServerApp.rate_limit_window=3.0 (secs)\n",
      "\n",
      "IOPub message rate exceeded.\n",
      "The Jupyter server will temporarily stop sending output\n",
      "to the client in order to avoid crashing it.\n",
      "To change this limit, set the config variable\n",
      "`--ServerApp.iopub_msg_rate_limit`.\n",
      "\n",
      "Current values:\n",
      "ServerApp.iopub_msg_rate_limit=1000.0 (msgs/sec)\n",
      "ServerApp.rate_limit_window=3.0 (secs)\n",
      "\n"
     ]
    }
   ],
   "source": [
    "eval_emb_knn(estim, model_dirs=model_dirs, setting='OOD_Cort_Dev', test_dataloader=test_loader_cort, eval_random=True, eval_pca=False, reference='val')"
   ]
  },
  {
   "cell_type": "code",
   "execution_count": 14,
   "id": "f046a5aa-e271-4e96-9c00-76f300e8145b",
   "metadata": {},
   "outputs": [
    {
     "data": {
      "text/html": [
       "<div>\n",
       "<style scoped>\n",
       "    .dataframe tbody tr th:only-of-type {\n",
       "        vertical-align: middle;\n",
       "    }\n",
       "\n",
       "    .dataframe tbody tr th {\n",
       "        vertical-align: top;\n",
       "    }\n",
       "\n",
       "    .dataframe thead th {\n",
       "        text-align: right;\n",
       "    }\n",
       "</style>\n",
       "<table border=\"1\" class=\"dataframe\">\n",
       "  <thead>\n",
       "    <tr style=\"text-align: right;\">\n",
       "      <th></th>\n",
       "      <th>Unnamed: 0</th>\n",
       "      <th>precision: accuracy</th>\n",
       "      <th>precision: macro avg</th>\n",
       "      <th>precision: weighted avg</th>\n",
       "      <th>recall: accuracy</th>\n",
       "      <th>recall: macro avg</th>\n",
       "      <th>recall: weighted avg</th>\n",
       "      <th>f1-score: accuracy</th>\n",
       "      <th>f1-score: macro avg</th>\n",
       "      <th>f1-score: weighted avg</th>\n",
       "      <th>support: accuracy</th>\n",
       "      <th>support: macro avg</th>\n",
       "      <th>support: weighted avg</th>\n",
       "    </tr>\n",
       "  </thead>\n",
       "  <tbody>\n",
       "    <tr>\n",
       "      <th>0</th>\n",
       "      <td>CN_MLP_50p_Only Pretrained</td>\n",
       "      <td>0.642499</td>\n",
       "      <td>0.030629</td>\n",
       "      <td>0.897384</td>\n",
       "      <td>0.642499</td>\n",
       "      <td>0.021505</td>\n",
       "      <td>0.642499</td>\n",
       "      <td>0.642499</td>\n",
       "      <td>0.023128</td>\n",
       "      <td>0.710677</td>\n",
       "      <td>0.642499</td>\n",
       "      <td>156092.0</td>\n",
       "      <td>156092.0</td>\n",
       "    </tr>\n",
       "    <tr>\n",
       "      <th>1</th>\n",
       "      <td>CN_MLP_50prun1_Only Pretrained</td>\n",
       "      <td>0.634978</td>\n",
       "      <td>0.029722</td>\n",
       "      <td>0.910616</td>\n",
       "      <td>0.634978</td>\n",
       "      <td>0.020562</td>\n",
       "      <td>0.634978</td>\n",
       "      <td>0.634978</td>\n",
       "      <td>0.022743</td>\n",
       "      <td>0.715370</td>\n",
       "      <td>0.634978</td>\n",
       "      <td>156092.0</td>\n",
       "      <td>156092.0</td>\n",
       "    </tr>\n",
       "    <tr>\n",
       "      <th>2</th>\n",
       "      <td>CN_MLP_50prun2_Only Pretrained</td>\n",
       "      <td>0.663282</td>\n",
       "      <td>0.031077</td>\n",
       "      <td>0.907577</td>\n",
       "      <td>0.663282</td>\n",
       "      <td>0.021339</td>\n",
       "      <td>0.663282</td>\n",
       "      <td>0.663282</td>\n",
       "      <td>0.022658</td>\n",
       "      <td>0.719073</td>\n",
       "      <td>0.663282</td>\n",
       "      <td>156092.0</td>\n",
       "      <td>156092.0</td>\n",
       "    </tr>\n",
       "    <tr>\n",
       "      <th>3</th>\n",
       "      <td>CN_MLP_50prun3_Only Pretrained</td>\n",
       "      <td>0.706532</td>\n",
       "      <td>0.035473</td>\n",
       "      <td>0.887690</td>\n",
       "      <td>0.706532</td>\n",
       "      <td>0.027811</td>\n",
       "      <td>0.706532</td>\n",
       "      <td>0.706532</td>\n",
       "      <td>0.028957</td>\n",
       "      <td>0.747294</td>\n",
       "      <td>0.706532</td>\n",
       "      <td>156092.0</td>\n",
       "      <td>156092.0</td>\n",
       "    </tr>\n",
       "    <tr>\n",
       "      <th>4</th>\n",
       "      <td>CN_MLP_50prun4_Only Pretrained</td>\n",
       "      <td>0.619346</td>\n",
       "      <td>0.027740</td>\n",
       "      <td>0.859237</td>\n",
       "      <td>0.619346</td>\n",
       "      <td>0.019730</td>\n",
       "      <td>0.619346</td>\n",
       "      <td>0.619346</td>\n",
       "      <td>0.020946</td>\n",
       "      <td>0.672547</td>\n",
       "      <td>0.619346</td>\n",
       "      <td>156092.0</td>\n",
       "      <td>156092.0</td>\n",
       "    </tr>\n",
       "    <tr>\n",
       "      <th>5</th>\n",
       "      <td>No_SSL_run0_No SSL</td>\n",
       "      <td>0.776798</td>\n",
       "      <td>0.041266</td>\n",
       "      <td>0.908059</td>\n",
       "      <td>0.776798</td>\n",
       "      <td>0.037026</td>\n",
       "      <td>0.776798</td>\n",
       "      <td>0.776798</td>\n",
       "      <td>0.037430</td>\n",
       "      <td>0.804902</td>\n",
       "      <td>0.776798</td>\n",
       "      <td>156092.0</td>\n",
       "      <td>156092.0</td>\n",
       "    </tr>\n",
       "    <tr>\n",
       "      <th>6</th>\n",
       "      <td>No_SSL_run1_No SSL</td>\n",
       "      <td>0.779880</td>\n",
       "      <td>0.043597</td>\n",
       "      <td>0.913510</td>\n",
       "      <td>0.779880</td>\n",
       "      <td>0.038466</td>\n",
       "      <td>0.779880</td>\n",
       "      <td>0.779880</td>\n",
       "      <td>0.039522</td>\n",
       "      <td>0.815707</td>\n",
       "      <td>0.779880</td>\n",
       "      <td>156092.0</td>\n",
       "      <td>156092.0</td>\n",
       "    </tr>\n",
       "    <tr>\n",
       "      <th>7</th>\n",
       "      <td>No_SSL_run2_No SSL</td>\n",
       "      <td>0.754299</td>\n",
       "      <td>0.041974</td>\n",
       "      <td>0.912432</td>\n",
       "      <td>0.754299</td>\n",
       "      <td>0.035918</td>\n",
       "      <td>0.754299</td>\n",
       "      <td>0.754299</td>\n",
       "      <td>0.037021</td>\n",
       "      <td>0.793382</td>\n",
       "      <td>0.754299</td>\n",
       "      <td>156092.0</td>\n",
       "      <td>156092.0</td>\n",
       "    </tr>\n",
       "    <tr>\n",
       "      <th>8</th>\n",
       "      <td>No_SSL_run3_No SSL</td>\n",
       "      <td>0.747803</td>\n",
       "      <td>0.047969</td>\n",
       "      <td>0.909396</td>\n",
       "      <td>0.747803</td>\n",
       "      <td>0.040593</td>\n",
       "      <td>0.747803</td>\n",
       "      <td>0.747803</td>\n",
       "      <td>0.041533</td>\n",
       "      <td>0.782007</td>\n",
       "      <td>0.747803</td>\n",
       "      <td>156092.0</td>\n",
       "      <td>156092.0</td>\n",
       "    </tr>\n",
       "    <tr>\n",
       "      <th>9</th>\n",
       "      <td>No_SSL_run4_No SSL</td>\n",
       "      <td>0.754965</td>\n",
       "      <td>0.036201</td>\n",
       "      <td>0.908414</td>\n",
       "      <td>0.754965</td>\n",
       "      <td>0.031244</td>\n",
       "      <td>0.754965</td>\n",
       "      <td>0.754965</td>\n",
       "      <td>0.032037</td>\n",
       "      <td>0.790901</td>\n",
       "      <td>0.754965</td>\n",
       "      <td>156092.0</td>\n",
       "      <td>156092.0</td>\n",
       "    </tr>\n",
       "    <tr>\n",
       "      <th>10</th>\n",
       "      <td>Random</td>\n",
       "      <td>0.073610</td>\n",
       "      <td>0.014155</td>\n",
       "      <td>0.609425</td>\n",
       "      <td>0.073610</td>\n",
       "      <td>0.001708</td>\n",
       "      <td>0.073610</td>\n",
       "      <td>0.073610</td>\n",
       "      <td>0.002889</td>\n",
       "      <td>0.124893</td>\n",
       "      <td>0.073610</td>\n",
       "      <td>156092.0</td>\n",
       "      <td>156092.0</td>\n",
       "    </tr>\n",
       "    <tr>\n",
       "      <th>11</th>\n",
       "      <td>SSL_CN_MLP_50prun0_SSL</td>\n",
       "      <td>0.746303</td>\n",
       "      <td>0.047458</td>\n",
       "      <td>0.888324</td>\n",
       "      <td>0.746303</td>\n",
       "      <td>0.042943</td>\n",
       "      <td>0.746303</td>\n",
       "      <td>0.746303</td>\n",
       "      <td>0.042731</td>\n",
       "      <td>0.766501</td>\n",
       "      <td>0.746303</td>\n",
       "      <td>156092.0</td>\n",
       "      <td>156092.0</td>\n",
       "    </tr>\n",
       "    <tr>\n",
       "      <th>12</th>\n",
       "      <td>SSL_CN_MLP_50prun1_SSL</td>\n",
       "      <td>0.763524</td>\n",
       "      <td>0.042199</td>\n",
       "      <td>0.907678</td>\n",
       "      <td>0.763524</td>\n",
       "      <td>0.036365</td>\n",
       "      <td>0.763524</td>\n",
       "      <td>0.763524</td>\n",
       "      <td>0.037286</td>\n",
       "      <td>0.797350</td>\n",
       "      <td>0.763524</td>\n",
       "      <td>156092.0</td>\n",
       "      <td>156092.0</td>\n",
       "    </tr>\n",
       "    <tr>\n",
       "      <th>13</th>\n",
       "      <td>SSL_CN_MLP_50prun2_SSL</td>\n",
       "      <td>0.757566</td>\n",
       "      <td>0.054490</td>\n",
       "      <td>0.903397</td>\n",
       "      <td>0.757566</td>\n",
       "      <td>0.048284</td>\n",
       "      <td>0.757566</td>\n",
       "      <td>0.757566</td>\n",
       "      <td>0.049024</td>\n",
       "      <td>0.788322</td>\n",
       "      <td>0.757566</td>\n",
       "      <td>156092.0</td>\n",
       "      <td>156092.0</td>\n",
       "    </tr>\n",
       "    <tr>\n",
       "      <th>14</th>\n",
       "      <td>SSL_CN_MLP_50prun3_SSL</td>\n",
       "      <td>0.773839</td>\n",
       "      <td>0.043259</td>\n",
       "      <td>0.909879</td>\n",
       "      <td>0.773839</td>\n",
       "      <td>0.037920</td>\n",
       "      <td>0.773839</td>\n",
       "      <td>0.773839</td>\n",
       "      <td>0.038689</td>\n",
       "      <td>0.805556</td>\n",
       "      <td>0.773839</td>\n",
       "      <td>156092.0</td>\n",
       "      <td>156092.0</td>\n",
       "    </tr>\n",
       "    <tr>\n",
       "      <th>15</th>\n",
       "      <td>SSL_CN_MLP_50prun4_SSL</td>\n",
       "      <td>0.765529</td>\n",
       "      <td>0.059477</td>\n",
       "      <td>0.899014</td>\n",
       "      <td>0.765529</td>\n",
       "      <td>0.053066</td>\n",
       "      <td>0.765529</td>\n",
       "      <td>0.765529</td>\n",
       "      <td>0.053345</td>\n",
       "      <td>0.789506</td>\n",
       "      <td>0.765529</td>\n",
       "      <td>156092.0</td>\n",
       "      <td>156092.0</td>\n",
       "    </tr>\n",
       "  </tbody>\n",
       "</table>\n",
       "</div>"
      ],
      "text/plain": [
       "                        Unnamed: 0  precision: accuracy  precision: macro avg  \\\n",
       "0       CN_MLP_50p_Only Pretrained             0.642499              0.030629   \n",
       "1   CN_MLP_50prun1_Only Pretrained             0.634978              0.029722   \n",
       "2   CN_MLP_50prun2_Only Pretrained             0.663282              0.031077   \n",
       "3   CN_MLP_50prun3_Only Pretrained             0.706532              0.035473   \n",
       "4   CN_MLP_50prun4_Only Pretrained             0.619346              0.027740   \n",
       "5               No_SSL_run0_No SSL             0.776798              0.041266   \n",
       "6               No_SSL_run1_No SSL             0.779880              0.043597   \n",
       "7               No_SSL_run2_No SSL             0.754299              0.041974   \n",
       "8               No_SSL_run3_No SSL             0.747803              0.047969   \n",
       "9               No_SSL_run4_No SSL             0.754965              0.036201   \n",
       "10                          Random             0.073610              0.014155   \n",
       "11          SSL_CN_MLP_50prun0_SSL             0.746303              0.047458   \n",
       "12          SSL_CN_MLP_50prun1_SSL             0.763524              0.042199   \n",
       "13          SSL_CN_MLP_50prun2_SSL             0.757566              0.054490   \n",
       "14          SSL_CN_MLP_50prun3_SSL             0.773839              0.043259   \n",
       "15          SSL_CN_MLP_50prun4_SSL             0.765529              0.059477   \n",
       "\n",
       "    precision: weighted avg  recall: accuracy  recall: macro avg  \\\n",
       "0                  0.897384          0.642499           0.021505   \n",
       "1                  0.910616          0.634978           0.020562   \n",
       "2                  0.907577          0.663282           0.021339   \n",
       "3                  0.887690          0.706532           0.027811   \n",
       "4                  0.859237          0.619346           0.019730   \n",
       "5                  0.908059          0.776798           0.037026   \n",
       "6                  0.913510          0.779880           0.038466   \n",
       "7                  0.912432          0.754299           0.035918   \n",
       "8                  0.909396          0.747803           0.040593   \n",
       "9                  0.908414          0.754965           0.031244   \n",
       "10                 0.609425          0.073610           0.001708   \n",
       "11                 0.888324          0.746303           0.042943   \n",
       "12                 0.907678          0.763524           0.036365   \n",
       "13                 0.903397          0.757566           0.048284   \n",
       "14                 0.909879          0.773839           0.037920   \n",
       "15                 0.899014          0.765529           0.053066   \n",
       "\n",
       "    recall: weighted avg  f1-score: accuracy  f1-score: macro avg  \\\n",
       "0               0.642499            0.642499             0.023128   \n",
       "1               0.634978            0.634978             0.022743   \n",
       "2               0.663282            0.663282             0.022658   \n",
       "3               0.706532            0.706532             0.028957   \n",
       "4               0.619346            0.619346             0.020946   \n",
       "5               0.776798            0.776798             0.037430   \n",
       "6               0.779880            0.779880             0.039522   \n",
       "7               0.754299            0.754299             0.037021   \n",
       "8               0.747803            0.747803             0.041533   \n",
       "9               0.754965            0.754965             0.032037   \n",
       "10              0.073610            0.073610             0.002889   \n",
       "11              0.746303            0.746303             0.042731   \n",
       "12              0.763524            0.763524             0.037286   \n",
       "13              0.757566            0.757566             0.049024   \n",
       "14              0.773839            0.773839             0.038689   \n",
       "15              0.765529            0.765529             0.053345   \n",
       "\n",
       "    f1-score: weighted avg  support: accuracy  support: macro avg  \\\n",
       "0                 0.710677           0.642499            156092.0   \n",
       "1                 0.715370           0.634978            156092.0   \n",
       "2                 0.719073           0.663282            156092.0   \n",
       "3                 0.747294           0.706532            156092.0   \n",
       "4                 0.672547           0.619346            156092.0   \n",
       "5                 0.804902           0.776798            156092.0   \n",
       "6                 0.815707           0.779880            156092.0   \n",
       "7                 0.793382           0.754299            156092.0   \n",
       "8                 0.782007           0.747803            156092.0   \n",
       "9                 0.790901           0.754965            156092.0   \n",
       "10                0.124893           0.073610            156092.0   \n",
       "11                0.766501           0.746303            156092.0   \n",
       "12                0.797350           0.763524            156092.0   \n",
       "13                0.788322           0.757566            156092.0   \n",
       "14                0.805556           0.773839            156092.0   \n",
       "15                0.789506           0.765529            156092.0   \n",
       "\n",
       "    support: weighted avg  \n",
       "0                156092.0  \n",
       "1                156092.0  \n",
       "2                156092.0  \n",
       "3                156092.0  \n",
       "4                156092.0  \n",
       "5                156092.0  \n",
       "6                156092.0  \n",
       "7                156092.0  \n",
       "8                156092.0  \n",
       "9                156092.0  \n",
       "10               156092.0  \n",
       "11               156092.0  \n",
       "12               156092.0  \n",
       "13               156092.0  \n",
       "14               156092.0  \n",
       "15               156092.0  "
      ]
     },
     "execution_count": 14,
     "metadata": {},
     "output_type": "execute_result"
    }
   ],
   "source": [
    "# Reading the uploaded CSV file to understand its contents\n",
    "import pandas as pd\n",
    "\n",
    "# Load the CSV file into a DataFrame\n",
    "file_path = os.path.join(RESULT_PATH, 'classification', 'val_clf_report_OOD_Cort_Dev_knn.csv')\n",
    "df = pd.read_csv(file_path)\n",
    "\n",
    "# Remove duplicates\n",
    "df = df.drop_duplicates()\n",
    "\n",
    "# Show the first few rows to get an overview of the data\n",
    "df"
   ]
  },
  {
   "cell_type": "markdown",
   "id": "f5d3667b-e323-45d0-89e2-80904a8e424a",
   "metadata": {
    "tags": []
   },
   "source": [
    "### **Human: Great apes study**\n",
    "\n",
    "- 156,285 cells\n",
    "- 10x 3' v3 Smart-seq v4\n",
    "- L2/3-6 intratelencephalic projecting glutamatergic cortical neuron (85276), L5 something not included (392), L6b glutamatergic cortical neuron (3415), astrocyte of the cerebral cortex (3047), caudial ganglio... not included (844), cerebral cortex endothelial cell (168), chandelier pval (728), cortocothalami... (3118), lamp5 GABAeric... (6416), microglial cell (1263), near-projecting ... (3461), oligodendrocyte (7876), oligodendrocyte precursor cell (2392), pvalb GABAergic (11778), sncg GABAergic (2025), sst GABAergic cortical interneuron (13593), vascular leptomeningeal cell (276), vip GABAergic cortical interneuron (10219)"
   ]
  },
  {
   "cell_type": "code",
   "execution_count": null,
   "id": "839bfadc-6249-41b6-aaf8-2523edc32420",
   "metadata": {},
   "outputs": [],
   "source": [
    "test_loader_apes = create_ood_dataloader(adata_path=os.path.join(ADATA_PATH, 'great_apes', 'great_apes.h5ad'), data_path=DATA_PATH, batch_size=32)"
   ]
  },
  {
   "cell_type": "code",
   "execution_count": null,
   "id": "9f574ac5-c5b4-4b86-9ee0-8b75e9a5f7b9",
   "metadata": {},
   "outputs": [],
   "source": [
    "model_dirs = [\n",
    "    ### Supervised Models ###\n",
    "    \n",
    "    MODEL_PATH + '/final_models/classification/No_SSL_run0/default/version_0/checkpoints/best_checkpoint_val.ckpt',\n",
    "    MODEL_PATH + '/final_models/classification/No_SSL_run1/default/version_0/checkpoints/best_checkpoint_val.ckpt',\n",
    "    MODEL_PATH + '/final_models/classification/No_SSL_run2/default/version_0/checkpoints/best_checkpoint_val.ckpt',\n",
    "    MODEL_PATH + '/final_models/classification/No_SSL_run3/default/version_0/checkpoints/best_checkpoint_val.ckpt',\n",
    "    MODEL_PATH + '/final_models/classification/No_SSL_run4/default/version_0/checkpoints/best_checkpoint_val.ckpt',\n",
    "    \n",
    "    ### Only Pretrained Models ###\n",
    "    \n",
    "    # Individual Gene Masking\n",
    "    MODEL_PATH + '/pretext_models/masking/CN_MLP_50p/default/version_1/checkpoints/best_checkpoint_val.ckpt',\n",
    "    MODEL_PATH + '/pretext_models/masking/CN_MLP_50prun1/default/version_0/checkpoints/best_checkpoint_val.ckpt',\n",
    "    MODEL_PATH + '/pretext_models/masking/CN_MLP_50prun2/default/version_0/checkpoints/best_checkpoint_val.ckpt',\n",
    "    MODEL_PATH + '/pretext_models/masking/CN_MLP_50prun3/default/version_0/checkpoints/best_checkpoint_val.ckpt',\n",
    "    MODEL_PATH + '/pretext_models/masking/CN_MLP_50prun4/default/version_0/checkpoints/best_checkpoint_val.ckpt',\n",
    "    \n",
    "    ### Self-Supervised Models ###\n",
    "    \n",
    "    # Individual Gene Masking\n",
    "    MODEL_PATH + '/final_models/classification/SSL_CN_MLP_50prun0/default/version_0/checkpoints/best_checkpoint_val.ckpt',\n",
    "    MODEL_PATH + '/final_models/classification/SSL_CN_MLP_50prun1/default/version_1/checkpoints/best_checkpoint_val.ckpt',\n",
    "    MODEL_PATH + '/final_models/classification/SSL_CN_MLP_50prun2/default/version_1/checkpoints/best_checkpoint_val.ckpt',\n",
    "    MODEL_PATH + '/final_models/classification/SSL_CN_MLP_50prun3/default/version_1/checkpoints/best_checkpoint_val.ckpt',\n",
    "    MODEL_PATH + '/final_models/classification/SSL_CN_MLP_50prun4/default/version_1/checkpoints/best_checkpoint_val.ckpt',\n",
    "]"
   ]
  },
  {
   "cell_type": "code",
   "execution_count": null,
   "id": "71396258-0705-426e-aa6d-240d2dcb738a",
   "metadata": {},
   "outputs": [],
   "source": [
    "# init estim class\n",
    "estim = EstimatorAutoEncoder(DATA_PATH, hvg=False)"
   ]
  },
  {
   "cell_type": "code",
   "execution_count": null,
   "id": "ca8d9f71-c38a-4335-b19f-58e40b10face",
   "metadata": {},
   "outputs": [],
   "source": [
    "# init datamodule\n",
    "estim.init_datamodule(batch_size=1024) "
   ]
  },
  {
   "cell_type": "code",
   "execution_count": null,
   "id": "abe90ac2-6fde-4a75-b34a-24ca9918d462",
   "metadata": {
    "tags": []
   },
   "outputs": [],
   "source": [
    "eval_emb_knn(estim, model_dirs=model_dirs, setting='OOD_Great_Apes', test_dataloader=test_loader_apes, eval_random=True, eval_pca=False, reference='val')"
   ]
  },
  {
   "cell_type": "code",
   "execution_count": null,
   "id": "8f810a6d-7c24-47ce-8bcc-7a73ab7cea74",
   "metadata": {},
   "outputs": [],
   "source": [
    "# Reading the uploaded CSV file to understand its contents\n",
    "import pandas as pd\n",
    "\n",
    "# Load the CSV file into a DataFrame\n",
    "file_path = os.path.join(RESULT_PATH, 'classification', 'val_clf_report_OOD_Great_Apes_knn.csv')\n",
    "df = pd.read_csv(file_path)\n",
    "\n",
    "# Remove duplicates\n",
    "df = df.drop_duplicates()\n",
    "\n",
    "# Show the first few rows to get an overview of the data\n",
    "df"
   ]
  },
  {
   "cell_type": "code",
   "execution_count": null,
   "id": "8a375e66-bda6-49be-a11b-9ed5c44d95c7",
   "metadata": {},
   "outputs": [],
   "source": []
  },
  {
   "cell_type": "markdown",
   "id": "c0430645-9b9a-4e1e-82e9-1eff621215f8",
   "metadata": {},
   "source": [
    "# Figure 3\n",
    "\n",
    "Does pretraining on a large, auxiliary dataset improve performance on a specific, known dataset to be classified?"
   ]
  },
  {
   "cell_type": "markdown",
   "id": "1b9cf356-d43e-4175-9017-b9377b93b353",
   "metadata": {},
   "source": [
    "## 1. HLCA"
   ]
  },
  {
   "cell_type": "code",
   "execution_count": 22,
   "id": "09d562f0-7e95-420f-b39a-8039e3371013",
   "metadata": {},
   "outputs": [],
   "source": [
    "# TO DO: DOUBLE CHECK WITH NEW RUNS FOR HLCA\n",
    "\n",
    "model_dirs = [\n",
    "    # Individual Gene Masking\n",
    "    # MODEL_PATH + '/pretext_models/masking/CN_MLP_50p/default/version_1/checkpoints/best_checkpoint_val.ckpt',  # Done\n",
    "    # MODEL_PATH + '/pretext_models/masking/CN_MLP_50prun1/default/version_0/checkpoints/best_checkpoint_val.ckpt',  # Done\n",
    "    # MODEL_PATH + '/pretext_models/masking/CN_MLP_50prun2/default/version_0/checkpoints/best_checkpoint_val.ckpt',  # Done\n",
    "    # MODEL_PATH + '/pretext_models/masking/CN_MLP_50prun3/default/version_0/checkpoints/best_checkpoint_val.ckpt',  # Done\n",
    "    # MODEL_PATH + '/pretext_models/masking/CN_MLP_50prun4/default/version_0/checkpoints/best_checkpoint_val.ckpt',  # Done\n",
    "    \n",
    "    # Gene Program Masking\n",
    "    # MODEL_PATH + '/pretext_models/masking/CN_MLP_gene_program_C8_25p/default/version_2/checkpoints/best_checkpoint_val.ckpt',\n",
    "    # MODEL_PATH + '/pretext_models/masking/CN_MLP_gene_program_C8_25p/default/version_0/checkpoints/best_checkpoint_val.ckpt', # To Do\n",
    "    # MODEL_PATH + '/pretext_models/masking/CN_MLP_gene_program_C8_25p/default/version_0/checkpoints/best_checkpoint_val.ckpt', # To Do\n",
    "    # MODEL_PATH + '/pretext_models/masking/CN_MLP_gene_program_C8_25p/default/version_0/checkpoints/best_checkpoint_val.ckpt', # To Do\n",
    "    # MODEL_PATH + '/pretext_models/masking/CN_MLP_gene_program_C8_25p/default/version_0/checkpoints/best_checkpoint_val.ckpt', # To Do\n",
    "    \n",
    "    \n",
    "    ### Supervised Models ###\n",
    "    \n",
    "    # MODEL_PATH + '/final_models/classification/No_SSL_new_run0_HLCA/default/version_0/checkpoints/best_checkpoint_val.ckpt',\n",
    "    # MODEL_PATH + '/final_models/classification/No_SSL_new_run1_HLCA/default/version_0/checkpoints/best_checkpoint_val.ckpt',\n",
    "    # MODEL_PATH + '/final_models/classification/No_SSL_new_run2_HLCA/default/version_0/checkpoints/best_checkpoint_val.ckpt',\n",
    "    # MODEL_PATH + '/final_models/classification/No_SSL_new_run3_HLCA/default/version_0/checkpoints/best_checkpoint_val.ckpt',\n",
    "    # MODEL_PATH + '/final_models/classification/No_SSL_new_run4_HLCA/default/version_0/checkpoints/best_checkpoint_val.ckpt',\n",
    "    \n",
    "    ### Self-Supervised Models ###\n",
    "    \n",
    "    # Individual Gene Masking\n",
    "    # MODEL_PATH + '/final_models/classification/SSL_CN_MLP_50pnew_run0_HLCA/default/version_0/checkpoints/best_checkpoint_val.ckpt',\n",
    "    # MODEL_PATH + '/final_models/classification/SSL_CN_MLP_50prun1_HLCA/default/version_0/checkpoints/best_checkpoint_val.ckpt',\n",
    "    # MODEL_PATH + '/final_models/classification/SSL_CN_MLP_50prun2_HLCA/default/version_0/checkpoints/best_checkpoint_val.ckpt',\n",
    "    # MODEL_PATH + '/final_models/classification/SSL_CN_MLP_50prun3_HLCA/default/version_0/checkpoints/best_checkpoint_val.ckpt',\n",
    "    # MODEL_PATH + '/final_models/classification/SSL_CN_MLP_50prun4_HLCA/default/version_0/checkpoints/best_checkpoint_val.ckpt',\n",
    "    \n",
    "    \n",
    "    # Gene Program Masking\n",
    "    # MODEL_PATH + '//final_models/classification/SSL_CN_MLP_gene_program_C8_25prun0_HLCA/default/version_0/checkpoints/best_checkpoint_val.ckpt',\n",
    "    # MODEL_PATH + '//final_models/classification/SSL_CN_MLP_gene_program_C8_25prun1_HLCA/default/version_0/checkpoints/best_checkpoint_val.ckpt',\n",
    "    # MODEL_PATH + '//final_models/classification/SSL_CN_MLP_gene_program_C8_25prun2_HLCA/default/version_0/checkpoints/best_checkpoint_val.ckpt',\n",
    "    # MODEL_PATH + '//final_models/classification/SSL_CN_MLP_gene_program_C8_25prun3_HLCA/default/version_0/checkpoints/best_checkpoint_val.ckpt',\n",
    "    # MODEL_PATH + '//final_models/classification/SSL_CN_MLP_gene_program_C8_25prun4_HLCA/default/version_0/checkpoints/best_checkpoint_val.ckpt',\n",
    "    \n",
    "    # Gene Program to Gene Program\n",
    "    \n",
    "    # Gene Program to Transcription Factor\n",
    "    \n",
    "    # Boostrap Your Own Latent (BYOL)\n",
    "    # MODEL_PATH + '/final_models/classification/SSL_MLP_BYOL_Gaussian_0_001run0_HLCA/default/version_0/checkpoints/best_checkpoint_val.ckpt',\n",
    "    \n",
    "    # Barlow Twins\n",
    "    # MODEL_PATH + '/final_models/classification/SSL_contrastive_MLP_bt_Gaussian_0_01run0_HLCA/default/version_0/checkpoints/best_checkpoint_val.ckpt',\n",
    "]"
   ]
  },
  {
   "cell_type": "code",
   "execution_count": 23,
   "id": "27e555ee-1cf9-4caa-82cc-ae64a79efbcf",
   "metadata": {
    "scrolled": true,
    "tags": []
   },
   "outputs": [
    {
     "name": "stdout",
     "output_type": "stream",
     "text": [
      "Am in hlca setting, have 117517 test and 117541 val labels left\n",
      "Loaded train labels:  (15240192,) val labels:  (117541,) test labels:  (117517,)\n",
      "Done.\n",
      "Evaluating random model\n",
      "Evaluating randomly initialized model\n"
     ]
    },
    {
     "name": "stderr",
     "output_type": "stream",
     "text": [
      "GPU available: True (cuda), used: True\n",
      "TPU available: False, using: 0 TPU cores\n",
      "IPU available: False, using: 0 IPUs\n",
      "HPU available: False, using: 0 HPUs\n",
      "GPU available: True (cuda), used: True\n",
      "TPU available: False, using: 0 TPU cores\n",
      "IPU available: False, using: 0 IPUs\n",
      "HPU available: False, using: 0 HPUs\n"
     ]
    },
    {
     "name": "stdout",
     "output_type": "stream",
     "text": [
      "Estim model:  LightningWrapper(\n",
      "  (base_model): MLPClassifier(\n",
      "    (train_metrics): MetricCollection(\n",
      "      (f1_macro): MulticlassF1Score()\n",
      "      (f1_micro): MulticlassF1Score(),\n",
      "      prefix=train_\n",
      "    )\n",
      "    (val_metrics): MetricCollection(\n",
      "      (f1_macro): MulticlassF1Score()\n",
      "      (f1_micro): MulticlassF1Score(),\n",
      "      prefix=val_\n",
      "    )\n",
      "    (test_metrics): MetricCollection(\n",
      "      (f1_macro): MulticlassF1Score()\n",
      "      (f1_micro): MulticlassF1Score(),\n",
      "      prefix=test_\n",
      "    )\n",
      "    (classifier): MLP(\n",
      "      (0): Linear(in_features=19331, out_features=512, bias=True)\n",
      "      (1): ReLU()\n",
      "      (2): Dropout(p=0.1, inplace=False)\n",
      "      (3): Linear(in_features=512, out_features=512, bias=True)\n",
      "      (4): ReLU()\n",
      "      (5): Dropout(p=0.1, inplace=False)\n",
      "      (6): Linear(in_features=512, out_features=256, bias=True)\n",
      "      (7): ReLU()\n",
      "      (8): Dropout(p=0.1, inplace=False)\n",
      "      (9): Linear(in_features=256, out_features=256, bias=True)\n",
      "      (10): ReLU()\n",
      "      (11): Dropout(p=0.1, inplace=False)\n",
      "      (12): Linear(in_features=256, out_features=64, bias=True)\n",
      "      (13): ReLU()\n",
      "      (14): Dropout(p=0.1, inplace=False)\n",
      "      (15): Linear(in_features=64, out_features=164, bias=True)\n",
      "    )\n",
      "  )\n",
      ")\n"
     ]
    },
    {
     "name": "stderr",
     "output_type": "stream",
     "text": [
      "LOCAL_RANK: 0 - CUDA_VISIBLE_DEVICES: [0]\n"
     ]
    },
    {
     "data": {
      "application/vnd.jupyter.widget-view+json": {
       "model_id": "9e765e2ee3904eba955ea0b2f1ae3625",
       "version_major": 2,
       "version_minor": 0
      },
      "text/plain": [
       "Predicting: 0it [00:00, ?it/s]"
      ]
     },
     "metadata": {},
     "output_type": "display_data"
    },
    {
     "name": "stdout",
     "output_type": "stream",
     "text": [
      "Saved reference embeddings to disk at  /lustre/groups/ml01/workspace/till.richter/ssl_results/classification/embeddings/val_emb_Random_hlca.npy\n"
     ]
    },
    {
     "name": "stderr",
     "output_type": "stream",
     "text": [
      "LOCAL_RANK: 0 - CUDA_VISIBLE_DEVICES: [0]\n"
     ]
    },
    {
     "data": {
      "application/vnd.jupyter.widget-view+json": {
       "model_id": "f65fdc5f230c40aabf1c0170564fcc25",
       "version_major": 2,
       "version_minor": 0
      },
      "text/plain": [
       "Predicting: 0it [00:00, ?it/s]"
      ]
     },
     "metadata": {},
     "output_type": "display_data"
    },
    {
     "name": "stdout",
     "output_type": "stream",
     "text": [
      "Saved test embeddings to disk at  /lustre/groups/ml01/workspace/till.richter/ssl_results/classification/embeddings/test_emb_Random_hlca.npy\n",
      "Start kNN...\n",
      "Saved  Random  to  /lustre/groups/ml01/workspace/till.richter/ssl_results/classification/val_clf_report_hlca_knn.csv\n"
     ]
    }
   ],
   "source": [
    "eval_emb_knn(estim, model_dirs, setting='hlca', eval_random=True, eval_pca=False, reference='val')"
   ]
  },
  {
   "cell_type": "code",
   "execution_count": null,
   "id": "0f443533-5649-4a37-bf89-1e47fd4d2b72",
   "metadata": {},
   "outputs": [],
   "source": [
    "# Reading the uploaded CSV file to understand its contents\n",
    "import pandas as pd\n",
    "\n",
    "# Load the CSV file into a DataFrame\n",
    "file_path = os.path.join(RESULT_PATH, 'classification', 'val_clf_report_hlca_knn.csv')\n",
    "df = pd.read_csv(file_path)\n",
    "\n",
    "# Remove duplicates\n",
    "df = df.drop_duplicates()\n",
    "\n",
    "# Show the first few rows to get an overview of the data\n",
    "df"
   ]
  },
  {
   "cell_type": "markdown",
   "id": "663de1b4-10b9-4e35-b58c-150b7b361154",
   "metadata": {},
   "source": [
    "Histogram"
   ]
  },
  {
   "cell_type": "code",
   "execution_count": 8,
   "id": "bce05577-c81e-4bc2-9845-75132c826134",
   "metadata": {},
   "outputs": [],
   "source": [
    "%autoreload 2\n",
    "from self_supervision.tester.classifier.kNN_new import eval_emb_knn_per_class"
   ]
  },
  {
   "cell_type": "code",
   "execution_count": 9,
   "id": "b48934f4-246b-47fd-956d-51af6b365b2b",
   "metadata": {},
   "outputs": [],
   "source": [
    "supervised_model = MODEL_PATH + '/final_models/classification/No_SSL_new_run1_HLCA/default/version_0/checkpoints/best_checkpoint_val.ckpt'\n",
    "ssl_model = MODEL_PATH + '/final_models/classification/SSL_CN_MLP_50prun4_HLCA/default/version_0/checkpoints/best_checkpoint_val.ckpt'"
   ]
  },
  {
   "cell_type": "code",
   "execution_count": 12,
   "id": "4aa2668e-bb16-445b-81d1-d3d8802db367",
   "metadata": {},
   "outputs": [
    {
     "name": "stdout",
     "output_type": "stream",
     "text": [
      "Am in hlca setting, have 117517 test and 117541 val labels left\n",
      "Loaded train labels:  (15240192,) val labels:  (117541,) test labels:  (117517,)\n",
      "Evaluating /lustre/groups/ml01/workspace/till.richter/trained_models//final_models/classification/No_SSL_new_run1_HLCA/default/version_0/checkpoints/best_checkpoint_val.ckpt\n",
      "Get index for no ssl\n",
      "Loading model with supervised_subset:  148\n"
     ]
    },
    {
     "name": "stderr",
     "output_type": "stream",
     "text": [
      "GPU available: True (cuda), used: True\n",
      "TPU available: False, using: 0 TPU cores\n",
      "IPU available: False, using: 0 IPUs\n",
      "HPU available: False, using: 0 HPUs\n"
     ]
    },
    {
     "name": "stdout",
     "output_type": "stream",
     "text": [
      "Loaded val embeddings from disk at  /lustre/groups/ml01/workspace/till.richter/ssl_results/classification/embeddings/val_emb_No_SSL_new_run1_HLCA_No SSL.npy\n",
      "Loaded test embeddings from disk.\n",
      "Loaded reference embeddings:  (117541, 64) test embeddings:  (117517, 64)\n",
      "Start kNN...\n",
      "Evalute model  /lustre/groups/ml01/workspace/till.richter/trained_models//final_models/classification/No_SSL_new_run1_HLCA/default/version_0/checkpoints/best_checkpoint_val.ckpt generate is_supervised to  True\n",
      "Done evaluating /lustre/groups/ml01/workspace/till.richter/trained_models//final_models/classification/No_SSL_new_run1_HLCA/default/version_0/checkpoints/best_checkpoint_val.ckpt\n",
      "Done.\n",
      "Am in hlca setting, have 117517 test and 117541 val labels left\n",
      "Loaded train labels:  (15240192,) val labels:  (117541,) test labels:  (117517,)\n",
      "Evaluating /lustre/groups/ml01/workspace/till.richter/trained_models//final_models/classification/SSL_CN_MLP_50prun4_HLCA/default/version_0/checkpoints/best_checkpoint_val.ckpt\n",
      "Get index for ssl\n",
      "Loading model with supervised_subset:  148\n"
     ]
    },
    {
     "name": "stderr",
     "output_type": "stream",
     "text": [
      "GPU available: True (cuda), used: True\n",
      "TPU available: False, using: 0 TPU cores\n",
      "IPU available: False, using: 0 IPUs\n",
      "HPU available: False, using: 0 HPUs\n"
     ]
    },
    {
     "name": "stdout",
     "output_type": "stream",
     "text": [
      "Loaded val embeddings from disk at  /lustre/groups/ml01/workspace/till.richter/ssl_results/classification/embeddings/val_emb_SSL_CN_MLP_50prun4_HLCA_SSL.npy\n",
      "Loaded test embeddings from disk.\n",
      "Loaded reference embeddings:  (117541, 64) test embeddings:  (117517, 64)\n",
      "Start kNN...\n",
      "Evalute model  /lustre/groups/ml01/workspace/till.richter/trained_models//final_models/classification/SSL_CN_MLP_50prun4_HLCA/default/version_0/checkpoints/best_checkpoint_val.ckpt generate is_supervised to  False\n",
      "Done evaluating /lustre/groups/ml01/workspace/till.richter/trained_models//final_models/classification/SSL_CN_MLP_50prun4_HLCA/default/version_0/checkpoints/best_checkpoint_val.ckpt\n",
      "Done.\n"
     ]
    }
   ],
   "source": [
    "df_supervised = eval_emb_knn_per_class(estim, [supervised_model], setting='hlca', reference='val')\n",
    "df_ssl = eval_emb_knn_per_class(estim, [ssl_model], setting='hlca', reference='val')"
   ]
  },
  {
   "cell_type": "code",
   "execution_count": 13,
   "id": "dc7894a3-dee4-4734-ae4d-cd1e12945cac",
   "metadata": {},
   "outputs": [
    {
     "data": {
      "text/html": [
       "<div>\n",
       "<style scoped>\n",
       "    .dataframe tbody tr th:only-of-type {\n",
       "        vertical-align: middle;\n",
       "    }\n",
       "\n",
       "    .dataframe tbody tr th {\n",
       "        vertical-align: top;\n",
       "    }\n",
       "\n",
       "    .dataframe thead th {\n",
       "        text-align: right;\n",
       "    }\n",
       "</style>\n",
       "<table border=\"1\" class=\"dataframe\">\n",
       "  <thead>\n",
       "    <tr style=\"text-align: right;\">\n",
       "      <th></th>\n",
       "      <th>F1_Self-Supervised</th>\n",
       "      <th>Cell Count</th>\n",
       "      <th>Cell Type</th>\n",
       "      <th>F1_Supervised</th>\n",
       "    </tr>\n",
       "  </thead>\n",
       "  <tbody>\n",
       "    <tr>\n",
       "      <th>0</th>\n",
       "      <td>0.992313</td>\n",
       "      <td>6172</td>\n",
       "      <td>B cell</td>\n",
       "      <td>0.993351</td>\n",
       "    </tr>\n",
       "    <tr>\n",
       "      <th>1</th>\n",
       "      <td>0.918387</td>\n",
       "      <td>2046</td>\n",
       "      <td>CD1c-positive myeloid dendritic cell</td>\n",
       "      <td>0.910165</td>\n",
       "    </tr>\n",
       "    <tr>\n",
       "      <th>2</th>\n",
       "      <td>0.960894</td>\n",
       "      <td>9870</td>\n",
       "      <td>CD4-positive, alpha-beta T cell</td>\n",
       "      <td>0.956418</td>\n",
       "    </tr>\n",
       "    <tr>\n",
       "      <th>3</th>\n",
       "      <td>0.963771</td>\n",
       "      <td>13203</td>\n",
       "      <td>CD8-positive, alpha-beta T cell</td>\n",
       "      <td>0.961713</td>\n",
       "    </tr>\n",
       "    <tr>\n",
       "      <th>4</th>\n",
       "      <td>0.969980</td>\n",
       "      <td>737</td>\n",
       "      <td>T cell</td>\n",
       "      <td>0.981132</td>\n",
       "    </tr>\n",
       "    <tr>\n",
       "      <th>5</th>\n",
       "      <td>0.971144</td>\n",
       "      <td>12084</td>\n",
       "      <td>alveolar macrophage</td>\n",
       "      <td>0.969715</td>\n",
       "    </tr>\n",
       "    <tr>\n",
       "      <th>6</th>\n",
       "      <td>0.974449</td>\n",
       "      <td>1144</td>\n",
       "      <td>alveolar type 1 fibroblast cell</td>\n",
       "      <td>0.966964</td>\n",
       "    </tr>\n",
       "    <tr>\n",
       "      <th>7</th>\n",
       "      <td>0.902367</td>\n",
       "      <td>652</td>\n",
       "      <td>alveolar type 2 fibroblast cell</td>\n",
       "      <td>0.900073</td>\n",
       "    </tr>\n",
       "    <tr>\n",
       "      <th>8</th>\n",
       "      <td>0.983123</td>\n",
       "      <td>3070</td>\n",
       "      <td>bronchus fibroblast of lung</td>\n",
       "      <td>0.978417</td>\n",
       "    </tr>\n",
       "    <tr>\n",
       "      <th>9</th>\n",
       "      <td>0.950142</td>\n",
       "      <td>1778</td>\n",
       "      <td>capillary endothelial cell</td>\n",
       "      <td>0.951412</td>\n",
       "    </tr>\n",
       "    <tr>\n",
       "      <th>10</th>\n",
       "      <td>0.995993</td>\n",
       "      <td>8223</td>\n",
       "      <td>ciliated columnar cell of tracheobronchial tree</td>\n",
       "      <td>0.994606</td>\n",
       "    </tr>\n",
       "    <tr>\n",
       "      <th>11</th>\n",
       "      <td>0.919730</td>\n",
       "      <td>5178</td>\n",
       "      <td>classical monocyte</td>\n",
       "      <td>0.924746</td>\n",
       "    </tr>\n",
       "    <tr>\n",
       "      <th>12</th>\n",
       "      <td>0.878103</td>\n",
       "      <td>3644</td>\n",
       "      <td>club cell</td>\n",
       "      <td>0.868869</td>\n",
       "    </tr>\n",
       "    <tr>\n",
       "      <th>13</th>\n",
       "      <td>0.936639</td>\n",
       "      <td>187</td>\n",
       "      <td>conventional dendritic cell</td>\n",
       "      <td>0.960422</td>\n",
       "    </tr>\n",
       "    <tr>\n",
       "      <th>14</th>\n",
       "      <td>0.982063</td>\n",
       "      <td>222</td>\n",
       "      <td>dendritic cell</td>\n",
       "      <td>0.975717</td>\n",
       "    </tr>\n",
       "    <tr>\n",
       "      <th>15</th>\n",
       "      <td>0.925993</td>\n",
       "      <td>6706</td>\n",
       "      <td>elicited macrophage</td>\n",
       "      <td>0.918767</td>\n",
       "    </tr>\n",
       "    <tr>\n",
       "      <th>16</th>\n",
       "      <td>0.981268</td>\n",
       "      <td>689</td>\n",
       "      <td>endothelial cell of lymphatic vessel</td>\n",
       "      <td>0.987672</td>\n",
       "    </tr>\n",
       "    <tr>\n",
       "      <th>17</th>\n",
       "      <td>0.844614</td>\n",
       "      <td>517</td>\n",
       "      <td>lung macrophage</td>\n",
       "      <td>0.791266</td>\n",
       "    </tr>\n",
       "    <tr>\n",
       "      <th>18</th>\n",
       "      <td>0.950646</td>\n",
       "      <td>852</td>\n",
       "      <td>lung pericyte</td>\n",
       "      <td>0.960947</td>\n",
       "    </tr>\n",
       "    <tr>\n",
       "      <th>19</th>\n",
       "      <td>0.987144</td>\n",
       "      <td>1096</td>\n",
       "      <td>mast cell</td>\n",
       "      <td>0.984475</td>\n",
       "    </tr>\n",
       "    <tr>\n",
       "      <th>20</th>\n",
       "      <td>0.982456</td>\n",
       "      <td>85</td>\n",
       "      <td>mesothelial cell</td>\n",
       "      <td>0.982659</td>\n",
       "    </tr>\n",
       "    <tr>\n",
       "      <th>21</th>\n",
       "      <td>0.905558</td>\n",
       "      <td>5365</td>\n",
       "      <td>nasal mucosa goblet cell</td>\n",
       "      <td>0.912430</td>\n",
       "    </tr>\n",
       "    <tr>\n",
       "      <th>22</th>\n",
       "      <td>0.977742</td>\n",
       "      <td>2442</td>\n",
       "      <td>natural killer cell</td>\n",
       "      <td>0.973549</td>\n",
       "    </tr>\n",
       "    <tr>\n",
       "      <th>23</th>\n",
       "      <td>0.914355</td>\n",
       "      <td>1290</td>\n",
       "      <td>non-classical monocyte</td>\n",
       "      <td>0.922400</td>\n",
       "    </tr>\n",
       "    <tr>\n",
       "      <th>24</th>\n",
       "      <td>0.982787</td>\n",
       "      <td>3123</td>\n",
       "      <td>plasma cell</td>\n",
       "      <td>0.982382</td>\n",
       "    </tr>\n",
       "    <tr>\n",
       "      <th>25</th>\n",
       "      <td>0.994681</td>\n",
       "      <td>562</td>\n",
       "      <td>plasmacytoid dendritic cell</td>\n",
       "      <td>0.995563</td>\n",
       "    </tr>\n",
       "    <tr>\n",
       "      <th>26</th>\n",
       "      <td>0.931507</td>\n",
       "      <td>622</td>\n",
       "      <td>pulmonary artery endothelial cell</td>\n",
       "      <td>0.950233</td>\n",
       "    </tr>\n",
       "    <tr>\n",
       "      <th>27</th>\n",
       "      <td>0.933657</td>\n",
       "      <td>14469</td>\n",
       "      <td>respiratory basal cell</td>\n",
       "      <td>0.935864</td>\n",
       "    </tr>\n",
       "    <tr>\n",
       "      <th>28</th>\n",
       "      <td>0.351544</td>\n",
       "      <td>506</td>\n",
       "      <td>respiratory hillock cell</td>\n",
       "      <td>0.348512</td>\n",
       "    </tr>\n",
       "    <tr>\n",
       "      <th>29</th>\n",
       "      <td>0.952514</td>\n",
       "      <td>341</td>\n",
       "      <td>smooth muscle cell</td>\n",
       "      <td>0.961810</td>\n",
       "    </tr>\n",
       "    <tr>\n",
       "      <th>30</th>\n",
       "      <td>0.971590</td>\n",
       "      <td>2315</td>\n",
       "      <td>tracheobronchial smooth muscle cell</td>\n",
       "      <td>0.974968</td>\n",
       "    </tr>\n",
       "    <tr>\n",
       "      <th>31</th>\n",
       "      <td>0.959732</td>\n",
       "      <td>441</td>\n",
       "      <td>type I pneumocyte</td>\n",
       "      <td>0.963048</td>\n",
       "    </tr>\n",
       "    <tr>\n",
       "      <th>32</th>\n",
       "      <td>0.984414</td>\n",
       "      <td>5197</td>\n",
       "      <td>type II pneumocyte</td>\n",
       "      <td>0.979129</td>\n",
       "    </tr>\n",
       "    <tr>\n",
       "      <th>33</th>\n",
       "      <td>0.978091</td>\n",
       "      <td>2689</td>\n",
       "      <td>vein endothelial cell</td>\n",
       "      <td>0.978660</td>\n",
       "    </tr>\n",
       "  </tbody>\n",
       "</table>\n",
       "</div>"
      ],
      "text/plain": [
       "    F1_Self-Supervised  Cell Count  \\\n",
       "0             0.992313        6172   \n",
       "1             0.918387        2046   \n",
       "2             0.960894        9870   \n",
       "3             0.963771       13203   \n",
       "4             0.969980         737   \n",
       "5             0.971144       12084   \n",
       "6             0.974449        1144   \n",
       "7             0.902367         652   \n",
       "8             0.983123        3070   \n",
       "9             0.950142        1778   \n",
       "10            0.995993        8223   \n",
       "11            0.919730        5178   \n",
       "12            0.878103        3644   \n",
       "13            0.936639         187   \n",
       "14            0.982063         222   \n",
       "15            0.925993        6706   \n",
       "16            0.981268         689   \n",
       "17            0.844614         517   \n",
       "18            0.950646         852   \n",
       "19            0.987144        1096   \n",
       "20            0.982456          85   \n",
       "21            0.905558        5365   \n",
       "22            0.977742        2442   \n",
       "23            0.914355        1290   \n",
       "24            0.982787        3123   \n",
       "25            0.994681         562   \n",
       "26            0.931507         622   \n",
       "27            0.933657       14469   \n",
       "28            0.351544         506   \n",
       "29            0.952514         341   \n",
       "30            0.971590        2315   \n",
       "31            0.959732         441   \n",
       "32            0.984414        5197   \n",
       "33            0.978091        2689   \n",
       "\n",
       "                                          Cell Type  F1_Supervised  \n",
       "0                                            B cell       0.993351  \n",
       "1              CD1c-positive myeloid dendritic cell       0.910165  \n",
       "2                   CD4-positive, alpha-beta T cell       0.956418  \n",
       "3                   CD8-positive, alpha-beta T cell       0.961713  \n",
       "4                                            T cell       0.981132  \n",
       "5                               alveolar macrophage       0.969715  \n",
       "6                   alveolar type 1 fibroblast cell       0.966964  \n",
       "7                   alveolar type 2 fibroblast cell       0.900073  \n",
       "8                       bronchus fibroblast of lung       0.978417  \n",
       "9                        capillary endothelial cell       0.951412  \n",
       "10  ciliated columnar cell of tracheobronchial tree       0.994606  \n",
       "11                               classical monocyte       0.924746  \n",
       "12                                        club cell       0.868869  \n",
       "13                      conventional dendritic cell       0.960422  \n",
       "14                                   dendritic cell       0.975717  \n",
       "15                              elicited macrophage       0.918767  \n",
       "16             endothelial cell of lymphatic vessel       0.987672  \n",
       "17                                  lung macrophage       0.791266  \n",
       "18                                    lung pericyte       0.960947  \n",
       "19                                        mast cell       0.984475  \n",
       "20                                 mesothelial cell       0.982659  \n",
       "21                         nasal mucosa goblet cell       0.912430  \n",
       "22                              natural killer cell       0.973549  \n",
       "23                           non-classical monocyte       0.922400  \n",
       "24                                      plasma cell       0.982382  \n",
       "25                      plasmacytoid dendritic cell       0.995563  \n",
       "26                pulmonary artery endothelial cell       0.950233  \n",
       "27                           respiratory basal cell       0.935864  \n",
       "28                         respiratory hillock cell       0.348512  \n",
       "29                               smooth muscle cell       0.961810  \n",
       "30              tracheobronchial smooth muscle cell       0.974968  \n",
       "31                                type I pneumocyte       0.963048  \n",
       "32                               type II pneumocyte       0.979129  \n",
       "33                            vein endothelial cell       0.978660  "
      ]
     },
     "execution_count": 13,
     "metadata": {},
     "output_type": "execute_result"
    }
   ],
   "source": [
    "import pandas as pd\n",
    "\n",
    "# Ensuring that the 'Cell Count' columns in both dataframes are identical\n",
    "assert all(df_ssl['Cell Count'] == df_supervised['Cell Count'])\n",
    "\n",
    "# Merging the dataframes with 'Cell Type' as the key and keeping the 'Cell Count' column common\n",
    "merged_df = pd.merge(df_ssl, df_supervised[['Cell Type', 'Supervised F1']], on='Cell Type')\n",
    "\n",
    "# Renaming columns for clarity\n",
    "merged_df = merged_df.rename(columns={'Self-Supervised F1': 'F1_Self-Supervised', 'Supervised F1': 'F1_Supervised'})\n",
    "\n",
    "# The merged dataframe now has columns: 'Cell Type', 'Cell Count', 'F1_Self-Supervised', 'F1_Supervised'\n",
    "merged_df.to_csv(os.path.join(RESULT_PATH, 'classification',  'val_clf_per_class_report_hlca_merged_knn.csv'))\n",
    "\n",
    "merged_df"
   ]
  },
  {
   "cell_type": "markdown",
   "id": "59e9b4a5-0f95-4674-ae55-c1ac1128e736",
   "metadata": {},
   "source": [
    "Confusion Matrix"
   ]
  },
  {
   "cell_type": "code",
   "execution_count": 64,
   "id": "5ef94bfd-f59d-4a87-8de1-6fbfd6e475ac",
   "metadata": {},
   "outputs": [],
   "source": [
    "%autoreload 2\n",
    "from self_supervision.tester.classifier.kNN_new import get_conf_knn"
   ]
  },
  {
   "cell_type": "code",
   "execution_count": 65,
   "id": "3498187d-db66-494e-9866-b97392ebab2a",
   "metadata": {},
   "outputs": [],
   "source": [
    "model_dirs = [\n",
    "    MODEL_PATH + '/final_models/classification/No_SSL_new_run1_HLCA/default/version_0/checkpoints/best_checkpoint_val.ckpt',\n",
    "    MODEL_PATH + '/final_models/classification/SSL_CN_MLP_50prun4_HLCA/default/version_0/checkpoints/best_checkpoint_val.ckpt'\n",
    "]"
   ]
  },
  {
   "cell_type": "code",
   "execution_count": 66,
   "id": "e2277852-de5a-4e52-aa8a-327b1b1969df",
   "metadata": {},
   "outputs": [
    {
     "name": "stdout",
     "output_type": "stream",
     "text": [
      "Am in hlca setting, have 117517 test and 117541 val labels left\n",
      "Loaded train labels:  (15240192,) val labels:  (117541,) test labels:  (117517,)\n",
      "Evaluating /lustre/groups/ml01/workspace/till.richter/trained_models//final_models/classification/No_SSL_new_run1_HLCA/default/version_0/checkpoints/best_checkpoint_val.ckpt\n",
      "Get index for no ssl\n"
     ]
    },
    {
     "name": "stderr",
     "output_type": "stream",
     "text": [
      "GPU available: True (cuda), used: True\n",
      "TPU available: False, using: 0 TPU cores\n",
      "IPU available: False, using: 0 IPUs\n",
      "HPU available: False, using: 0 HPUs\n"
     ]
    },
    {
     "name": "stdout",
     "output_type": "stream",
     "text": [
      "Loaded val embeddings from disk at  /lustre/groups/ml01/workspace/till.richter/ssl_results/classification/embeddings/val_emb_No_SSL_new_run1_HLCA_No SSL.npy\n",
      "Loaded test embeddings from disk.\n",
      "Start kNN...\n",
      "Evaluating /lustre/groups/ml01/workspace/till.richter/trained_models//final_models/classification/SSL_CN_MLP_50prun4_HLCA/default/version_0/checkpoints/best_checkpoint_val.ckpt\n",
      "Get index for ssl\n"
     ]
    },
    {
     "name": "stderr",
     "output_type": "stream",
     "text": [
      "GPU available: True (cuda), used: True\n",
      "TPU available: False, using: 0 TPU cores\n",
      "IPU available: False, using: 0 IPUs\n",
      "HPU available: False, using: 0 HPUs\n"
     ]
    },
    {
     "name": "stdout",
     "output_type": "stream",
     "text": [
      "Loaded val embeddings from disk at  /lustre/groups/ml01/workspace/till.richter/ssl_results/classification/embeddings/val_emb_SSL_CN_MLP_50prun4_HLCA_SSL.npy\n",
      "Loaded test embeddings from disk.\n",
      "Start kNN...\n",
      "Get index for no ssl\n",
      "Saved confusion matrix to disk at  /lustre/groups/ml01/workspace/till.richter/ssl_results/No_SSL_new_run1_HLCA_No SSL_conf_matrix.npy\n",
      "Done evaluating /lustre/groups/ml01/workspace/till.richter/trained_models//final_models/classification/No_SSL_new_run1_HLCA/default/version_0/checkpoints/best_checkpoint_val.ckpt\n",
      "Get index for ssl\n",
      "Saved confusion matrix to disk at  /lustre/groups/ml01/workspace/till.richter/ssl_results/SSL_CN_MLP_50prun4_HLCA_SSL_conf_matrix.npy\n",
      "Done evaluating /lustre/groups/ml01/workspace/till.richter/trained_models//final_models/classification/SSL_CN_MLP_50prun4_HLCA/default/version_0/checkpoints/best_checkpoint_val.ckpt\n",
      "Get index for no ssl\n",
      "Saved /lustre/groups/ml01/workspace/till.richter/ssl_results/classification/conf_matrix_No_SSL_new_run1_HLCA_No SSL.csv to disk.\n",
      "Get index for ssl\n",
      "Saved /lustre/groups/ml01/workspace/till.richter/ssl_results/classification/conf_matrix_SSL_CN_MLP_50prun4_HLCA_SSL.csv to disk.\n"
     ]
    }
   ],
   "source": [
    "conf_matrix = get_conf_knn(estim=estim, model_dirs=model_dirs, setting='hlca')"
   ]
  },
  {
   "cell_type": "markdown",
   "id": "efa6fe52-f87d-4af9-8f46-d09bd54dbc22",
   "metadata": {},
   "source": [
    "## 2. PBMC"
   ]
  },
  {
   "cell_type": "code",
   "execution_count": 23,
   "id": "94b55da9-d38d-4a68-bbbd-fc28ead60852",
   "metadata": {},
   "outputs": [],
   "source": [
    "model_dirs = [\n",
    "    # Individual Gene Masking\n",
    "    MODEL_PATH + '/pretext_models/masking/CN_MLP_50p/default/version_1/checkpoints/best_checkpoint_val.ckpt',  # Done\n",
    "    MODEL_PATH + '/pretext_models/masking/CN_MLP_50prun1/default/version_0/checkpoints/best_checkpoint_val.ckpt',  # Done\n",
    "    MODEL_PATH + '/pretext_models/masking/CN_MLP_50prun2/default/version_0/checkpoints/best_checkpoint_val.ckpt',  # Done\n",
    "    MODEL_PATH + '/pretext_models/masking/CN_MLP_50prun3/default/version_0/checkpoints/best_checkpoint_val.ckpt',  # Done\n",
    "    MODEL_PATH + '/pretext_models/masking/CN_MLP_50prun4/default/version_0/checkpoints/best_checkpoint_val.ckpt',  # Done\n",
    "    \n",
    "    # Gene Program Masking\n",
    "    MODEL_PATH + '/pretext_models/masking/CN_MLP_gene_program_C8_25p/default/version_2/checkpoints/best_checkpoint_val.ckpt',\n",
    "    MODEL_PATH + '/pretext_models/masking/CN_MLP_gene_program_C8_25p/default/version_0/checkpoints/best_checkpoint_val.ckpt', # To Do\n",
    "    MODEL_PATH + '/pretext_models/masking/CN_MLP_gene_program_C8_25p/default/version_0/checkpoints/best_checkpoint_val.ckpt', # To Do\n",
    "    MODEL_PATH + '/pretext_models/masking/CN_MLP_gene_program_C8_25p/default/version_0/checkpoints/best_checkpoint_val.ckpt', # To Do\n",
    "    MODEL_PATH + '/pretext_models/masking/CN_MLP_gene_program_C8_25p/default/version_0/checkpoints/best_checkpoint_val.ckpt', # To Do\n",
    "    \n",
    "    ### Supervised Models ###\n",
    "    \n",
    "    MODEL_PATH + '/final_models/classification/No_SSL_new_run0_PBMC/default/version_0/checkpoints/best_checkpoint_val.ckpt',\n",
    "    MODEL_PATH + '/final_models/classification/No_SSL_new_run1_PBMC/default/version_0/checkpoints/best_checkpoint_val.ckpt',\n",
    "    MODEL_PATH + '/final_models/classification/No_SSL_new_run2_PBMC/default/version_0/checkpoints/best_checkpoint_val.ckpt',\n",
    "    MODEL_PATH + '/final_models/classification/No_SSL_new_run3_PBMC/default/version_0/checkpoints/best_checkpoint_val.ckpt',\n",
    "    MODEL_PATH + '/final_models/classification/No_SSL_new_run4_PBMC/default/version_0/checkpoints/best_checkpoint_val.ckpt',\n",
    "    MODEL_PATH + '/final_models/classification/No_SSL_new_run5_PBMC/default/version_0/checkpoints/best_checkpoint_val.ckpt',\n",
    "    MODEL_PATH + '/final_models/classification/No_SSL_new_run6_PBMC/default/version_0/checkpoints/best_checkpoint_val.ckpt',\n",
    "    \n",
    "    ### Self-Supervised Models ###\n",
    "    \n",
    "    # Individual Gene Masking\n",
    "    MODEL_PATH + '/final_models/classification/SSL_CN_MLP_50pnew_run0_PBMC/default/version_0/checkpoints/best_checkpoint_val.ckpt',\n",
    "    MODEL_PATH + '/final_models/classification/SSL_CN_MLP_50pnew_run1_PBMC/default/version_0/checkpoints/best_checkpoint_val.ckpt',\n",
    "    MODEL_PATH + '/final_models/classification/SSL_CN_MLP_50pnew_run2_PBMC/default/version_0/checkpoints/best_checkpoint_val.ckpt',\n",
    "    MODEL_PATH + '/final_models/classification/SSL_CN_MLP_50pnew_run3_PBMC/default/version_0/checkpoints/best_checkpoint_val.ckpt',\n",
    "    MODEL_PATH + '/final_models/classification/SSL_CN_MLP_50pnew_run4_PBMC/default/version_0/checkpoints/best_checkpoint_val.ckpt',\n",
    "    \n",
    "    # Gene Program Masking\n",
    "    MODEL_PATH + '/final_models/classification/SSL_CN_MLP_gene_program_C8_25pnew_run0_PBMC/default/version_0/checkpoints/best_checkpoint_val.ckpt',\n",
    "    MODEL_PATH + '/final_models/classification/SSL_CN_MLP_gene_program_C8_25pnew_run1_PBMC/default/version_0/checkpoints/best_checkpoint_val.ckpt',\n",
    "    MODEL_PATH + '/final_models/classification/SSL_CN_MLP_gene_program_C8_25pnew_run2_PBMC/default/version_0/checkpoints/best_checkpoint_val.ckpt',\n",
    "    MODEL_PATH + '/final_models/classification/SSL_CN_MLP_gene_program_C8_25pnew_run3_PBMC/default/version_0/checkpoints/best_checkpoint_val.ckpt',\n",
    "    MODEL_PATH + '/final_models/classification/SSL_CN_MLP_gene_program_C8_25pnew_run4_PBMC/default/version_0/checkpoints/best_checkpoint_val.ckpt',\n",
    "    \n",
    "]"
   ]
  },
  {
   "cell_type": "code",
   "execution_count": null,
   "id": "d3d05ea5-3cfa-47f5-97a9-14764adeab7e",
   "metadata": {
    "scrolled": true,
    "tags": []
   },
   "outputs": [
    {
     "name": "stdout",
     "output_type": "stream",
     "text": [
      "Am in pbmc setting, have 57616 test and 54908 val labels left\n",
      "Loaded train labels:  (15240192,) val labels:  (54908,) test labels:  (57616,)\n",
      "Evaluating /lustre/groups/ml01/workspace/till.richter/trained_models//pretext_models/masking/CN_MLP_50p/default/version_1/checkpoints/best_checkpoint_val.ckpt\n",
      "Get index for pretrained\n",
      "Loading model with supervised_subset:  41\n",
      "dict keys:  odict_keys(['class_weights', 'child_lookup', 'classifier.0.weight', 'classifier.0.bias', 'classifier.3.weight', 'classifier.3.bias', 'classifier.6.weight', 'classifier.6.bias', 'classifier.9.weight', 'classifier.9.bias', 'classifier.12.weight', 'classifier.12.bias', 'classifier.15.weight', 'classifier.15.bias']) odict_keys(['encoder.0.weight', 'encoder.0.bias', 'encoder.3.weight', 'encoder.3.bias', 'encoder.6.weight', 'encoder.6.bias', 'encoder.9.weight', 'encoder.9.bias', 'encoder.12.weight', 'encoder.12.bias', 'decoder.0.0.weight', 'decoder.0.0.bias', 'decoder.0.3.weight', 'decoder.0.3.bias', 'decoder.0.6.weight', 'decoder.0.6.bias', 'decoder.0.9.weight', 'decoder.0.9.bias', 'decoder.0.12.weight', 'decoder.0.12.bias'])\n",
      "Did not find match for class_weights in pretrained_dict. Initializing randomly.\n",
      "Did not find match for child_lookup in pretrained_dict. Initializing randomly.\n",
      "Weight transfer: Matched classifier.0.weight\n",
      "Weight transfer: Matched classifier.0.bias\n",
      "Weight transfer: Matched classifier.3.weight\n",
      "Weight transfer: Matched classifier.3.bias\n",
      "Weight transfer: Matched classifier.6.weight\n",
      "Weight transfer: Matched classifier.6.bias\n",
      "Weight transfer: Matched classifier.9.weight\n",
      "Weight transfer: Matched classifier.9.bias\n",
      "Weight transfer: Matched classifier.12.weight\n",
      "Weight transfer: Matched classifier.12.bias\n",
      "Did not find match for classifier.15.weight in pretrained_dict. Initializing randomly.\n",
      "Did not find match for classifier.15.bias in pretrained_dict. Initializing randomly.\n",
      "Supervised subset:  41\n",
      "Estim model:  LightningWrapper(\n",
      "  (base_model): MLPClassifier(\n",
      "    (train_metrics): MetricCollection(\n",
      "      (f1_macro): MulticlassF1Score()\n",
      "      (f1_micro): MulticlassF1Score(),\n",
      "      prefix=train_\n",
      "    )\n",
      "    (val_metrics): MetricCollection(\n",
      "      (f1_macro): MulticlassF1Score()\n",
      "      (f1_micro): MulticlassF1Score(),\n",
      "      prefix=val_\n",
      "    )\n",
      "    (test_metrics): MetricCollection(\n",
      "      (f1_macro): MulticlassF1Score()\n",
      "      (f1_micro): MulticlassF1Score(),\n",
      "      prefix=test_\n",
      "    )\n",
      "    (classifier): MLP(\n",
      "      (0): Linear(in_features=19331, out_features=512, bias=True)\n",
      "      (1): ReLU()\n",
      "      (2): Dropout(p=0.1, inplace=False)\n",
      "      (3): Linear(in_features=512, out_features=512, bias=True)\n",
      "      (4): ReLU()\n",
      "      (5): Dropout(p=0.1, inplace=False)\n",
      "      (6): Linear(in_features=512, out_features=256, bias=True)\n",
      "      (7): ReLU()\n",
      "      (8): Dropout(p=0.1, inplace=False)\n",
      "      (9): Linear(in_features=256, out_features=256, bias=True)\n",
      "      (10): ReLU()\n",
      "      (11): Dropout(p=0.1, inplace=False)\n",
      "      (12): Linear(in_features=256, out_features=64, bias=True)\n",
      "      (13): ReLU()\n",
      "      (14): Dropout(p=0.1, inplace=False)\n",
      "      (15): Linear(in_features=64, out_features=164, bias=True)\n",
      "    )\n",
      "  )\n",
      ")\n"
     ]
    },
    {
     "name": "stderr",
     "output_type": "stream",
     "text": [
      "GPU available: True (cuda), used: True\n",
      "TPU available: False, using: 0 TPU cores\n",
      "IPU available: False, using: 0 IPUs\n",
      "HPU available: False, using: 0 HPUs\n"
     ]
    },
    {
     "name": "stdout",
     "output_type": "stream",
     "text": [
      "Loaded val embeddings from disk at  /lustre/groups/ml01/workspace/till.richter/ssl_results/classification/embeddings/val_emb_CN_MLP_50p_Only Pretrained_pbmc.npy\n",
      "Loaded test embeddings from disk at  /lustre/groups/ml01/workspace/till.richter/ssl_results/classification/embeddings/test_emb_CN_MLP_50p_Only Pretrained_pbmc.npy\n",
      "Loaded reference embeddings:  (54908, 64) test embeddings:  (57616, 64)\n",
      "Start kNN...\n",
      "Evaluating /lustre/groups/ml01/workspace/till.richter/trained_models//pretext_models/masking/CN_MLP_50prun1/default/version_0/checkpoints/best_checkpoint_val.ckpt\n",
      "Get index for pretrained\n",
      "Loading model with supervised_subset:  41\n",
      "Initializing model...\n",
      "dict keys:  odict_keys(['class_weights', 'child_lookup', 'classifier.0.weight', 'classifier.0.bias', 'classifier.3.weight', 'classifier.3.bias', 'classifier.6.weight', 'classifier.6.bias', 'classifier.9.weight', 'classifier.9.bias', 'classifier.12.weight', 'classifier.12.bias', 'classifier.15.weight', 'classifier.15.bias']) odict_keys(['encoder.0.weight', 'encoder.0.bias', 'encoder.3.weight', 'encoder.3.bias', 'encoder.6.weight', 'encoder.6.bias', 'encoder.9.weight', 'encoder.9.bias', 'encoder.12.weight', 'encoder.12.bias', 'decoder.0.0.weight', 'decoder.0.0.bias', 'decoder.0.3.weight', 'decoder.0.3.bias', 'decoder.0.6.weight', 'decoder.0.6.bias', 'decoder.0.9.weight', 'decoder.0.9.bias', 'decoder.0.12.weight', 'decoder.0.12.bias'])\n",
      "Did not find match for class_weights in pretrained_dict. Initializing randomly.\n",
      "Did not find match for child_lookup in pretrained_dict. Initializing randomly.\n",
      "Weight transfer: Matched classifier.0.weight\n",
      "Weight transfer: Matched classifier.0.bias\n",
      "Weight transfer: Matched classifier.3.weight\n",
      "Weight transfer: Matched classifier.3.bias\n",
      "Weight transfer: Matched classifier.6.weight\n",
      "Weight transfer: Matched classifier.6.bias\n",
      "Weight transfer: Matched classifier.9.weight\n",
      "Weight transfer: Matched classifier.9.bias\n",
      "Weight transfer: Matched classifier.12.weight\n",
      "Weight transfer: Matched classifier.12.bias\n",
      "Did not find match for classifier.15.weight in pretrained_dict. Initializing randomly.\n",
      "Did not find match for classifier.15.bias in pretrained_dict. Initializing randomly.\n",
      "Supervised subset:  41\n"
     ]
    },
    {
     "name": "stderr",
     "output_type": "stream",
     "text": [
      "GPU available: True (cuda), used: True\n",
      "TPU available: False, using: 0 TPU cores\n",
      "IPU available: False, using: 0 IPUs\n",
      "HPU available: False, using: 0 HPUs\n"
     ]
    },
    {
     "name": "stdout",
     "output_type": "stream",
     "text": [
      "Estim model:  LightningWrapper(\n",
      "  (base_model): MLPClassifier(\n",
      "    (train_metrics): MetricCollection(\n",
      "      (f1_macro): MulticlassF1Score()\n",
      "      (f1_micro): MulticlassF1Score(),\n",
      "      prefix=train_\n",
      "    )\n",
      "    (val_metrics): MetricCollection(\n",
      "      (f1_macro): MulticlassF1Score()\n",
      "      (f1_micro): MulticlassF1Score(),\n",
      "      prefix=val_\n",
      "    )\n",
      "    (test_metrics): MetricCollection(\n",
      "      (f1_macro): MulticlassF1Score()\n",
      "      (f1_micro): MulticlassF1Score(),\n",
      "      prefix=test_\n",
      "    )\n",
      "    (classifier): MLP(\n",
      "      (0): Linear(in_features=19331, out_features=512, bias=True)\n",
      "      (1): ReLU()\n",
      "      (2): Dropout(p=0.1, inplace=False)\n",
      "      (3): Linear(in_features=512, out_features=512, bias=True)\n",
      "      (4): ReLU()\n",
      "      (5): Dropout(p=0.1, inplace=False)\n",
      "      (6): Linear(in_features=512, out_features=256, bias=True)\n",
      "      (7): ReLU()\n",
      "      (8): Dropout(p=0.1, inplace=False)\n",
      "      (9): Linear(in_features=256, out_features=256, bias=True)\n",
      "      (10): ReLU()\n",
      "      (11): Dropout(p=0.1, inplace=False)\n",
      "      (12): Linear(in_features=256, out_features=64, bias=True)\n",
      "      (13): ReLU()\n",
      "      (14): Dropout(p=0.1, inplace=False)\n",
      "      (15): Linear(in_features=64, out_features=164, bias=True)\n",
      "    )\n",
      "  )\n",
      ")\n"
     ]
    },
    {
     "name": "stderr",
     "output_type": "stream",
     "text": [
      "LOCAL_RANK: 0 - CUDA_VISIBLE_DEVICES: [MIG-6d67b200-09a5-5833-88a5-d79c3a331619]\n"
     ]
    },
    {
     "data": {
      "application/vnd.jupyter.widget-view+json": {
       "model_id": "dbfee00a1f2345a7ace14b04a56a135f",
       "version_major": 2,
       "version_minor": 0
      },
      "text/plain": [
       "Predicting: 0it [00:00, ?it/s]"
      ]
     },
     "metadata": {},
     "output_type": "display_data"
    },
    {
     "name": "stdout",
     "output_type": "stream",
     "text": [
      "Saved val embeddings to disk at  /lustre/groups/ml01/workspace/till.richter/ssl_results/classification/embeddings/val_emb_CN_MLP_50prun1_Only Pretrained_pbmc.npy\n"
     ]
    },
    {
     "name": "stderr",
     "output_type": "stream",
     "text": [
      "LOCAL_RANK: 0 - CUDA_VISIBLE_DEVICES: [MIG-6d67b200-09a5-5833-88a5-d79c3a331619]\n"
     ]
    },
    {
     "data": {
      "application/vnd.jupyter.widget-view+json": {
       "model_id": "c049cce06f5c4cda8615d30a6aebc71a",
       "version_major": 2,
       "version_minor": 0
      },
      "text/plain": [
       "Predicting: 0it [00:00, ?it/s]"
      ]
     },
     "metadata": {},
     "output_type": "display_data"
    },
    {
     "name": "stdout",
     "output_type": "stream",
     "text": [
      "Saved test embeddings to disk at  /lustre/groups/ml01/workspace/till.richter/ssl_results/classification/embeddings/test_emb_CN_MLP_50prun1_Only Pretrained_pbmc.npy\n",
      "Loaded reference embeddings:  (54908, 64) test embeddings:  (57616, 64)\n",
      "Start kNN...\n",
      "Evaluating /lustre/groups/ml01/workspace/till.richter/trained_models//pretext_models/masking/CN_MLP_50prun2/default/version_0/checkpoints/best_checkpoint_val.ckpt\n",
      "Get index for pretrained\n",
      "Loading model with supervised_subset:  41\n",
      "Initializing model...\n",
      "dict keys:  odict_keys(['class_weights', 'child_lookup', 'classifier.0.weight', 'classifier.0.bias', 'classifier.3.weight', 'classifier.3.bias', 'classifier.6.weight', 'classifier.6.bias', 'classifier.9.weight', 'classifier.9.bias', 'classifier.12.weight', 'classifier.12.bias', 'classifier.15.weight', 'classifier.15.bias']) odict_keys(['encoder.0.weight', 'encoder.0.bias', 'encoder.3.weight', 'encoder.3.bias', 'encoder.6.weight', 'encoder.6.bias', 'encoder.9.weight', 'encoder.9.bias', 'encoder.12.weight', 'encoder.12.bias', 'decoder.0.0.weight', 'decoder.0.0.bias', 'decoder.0.3.weight', 'decoder.0.3.bias', 'decoder.0.6.weight', 'decoder.0.6.bias', 'decoder.0.9.weight', 'decoder.0.9.bias', 'decoder.0.12.weight', 'decoder.0.12.bias'])\n",
      "Did not find match for class_weights in pretrained_dict. Initializing randomly.\n",
      "Did not find match for child_lookup in pretrained_dict. Initializing randomly.\n",
      "Weight transfer: Matched classifier.0.weight\n",
      "Weight transfer: Matched classifier.0.bias\n",
      "Weight transfer: Matched classifier.3.weight\n",
      "Weight transfer: Matched classifier.3.bias\n",
      "Weight transfer: Matched classifier.6.weight\n",
      "Weight transfer: Matched classifier.6.bias\n",
      "Weight transfer: Matched classifier.9.weight\n",
      "Weight transfer: Matched classifier.9.bias\n",
      "Weight transfer: Matched classifier.12.weight\n",
      "Weight transfer: Matched classifier.12.bias\n",
      "Did not find match for classifier.15.weight in pretrained_dict. Initializing randomly.\n",
      "Did not find match for classifier.15.bias in pretrained_dict. Initializing randomly.\n",
      "Supervised subset:  41\n"
     ]
    },
    {
     "name": "stderr",
     "output_type": "stream",
     "text": [
      "GPU available: True (cuda), used: True\n",
      "TPU available: False, using: 0 TPU cores\n",
      "IPU available: False, using: 0 IPUs\n",
      "HPU available: False, using: 0 HPUs\n",
      "LOCAL_RANK: 0 - CUDA_VISIBLE_DEVICES: [MIG-6d67b200-09a5-5833-88a5-d79c3a331619]\n"
     ]
    },
    {
     "name": "stdout",
     "output_type": "stream",
     "text": [
      "Estim model:  LightningWrapper(\n",
      "  (base_model): MLPClassifier(\n",
      "    (train_metrics): MetricCollection(\n",
      "      (f1_macro): MulticlassF1Score()\n",
      "      (f1_micro): MulticlassF1Score(),\n",
      "      prefix=train_\n",
      "    )\n",
      "    (val_metrics): MetricCollection(\n",
      "      (f1_macro): MulticlassF1Score()\n",
      "      (f1_micro): MulticlassF1Score(),\n",
      "      prefix=val_\n",
      "    )\n",
      "    (test_metrics): MetricCollection(\n",
      "      (f1_macro): MulticlassF1Score()\n",
      "      (f1_micro): MulticlassF1Score(),\n",
      "      prefix=test_\n",
      "    )\n",
      "    (classifier): MLP(\n",
      "      (0): Linear(in_features=19331, out_features=512, bias=True)\n",
      "      (1): ReLU()\n",
      "      (2): Dropout(p=0.1, inplace=False)\n",
      "      (3): Linear(in_features=512, out_features=512, bias=True)\n",
      "      (4): ReLU()\n",
      "      (5): Dropout(p=0.1, inplace=False)\n",
      "      (6): Linear(in_features=512, out_features=256, bias=True)\n",
      "      (7): ReLU()\n",
      "      (8): Dropout(p=0.1, inplace=False)\n",
      "      (9): Linear(in_features=256, out_features=256, bias=True)\n",
      "      (10): ReLU()\n",
      "      (11): Dropout(p=0.1, inplace=False)\n",
      "      (12): Linear(in_features=256, out_features=64, bias=True)\n",
      "      (13): ReLU()\n",
      "      (14): Dropout(p=0.1, inplace=False)\n",
      "      (15): Linear(in_features=64, out_features=164, bias=True)\n",
      "    )\n",
      "  )\n",
      ")\n"
     ]
    },
    {
     "data": {
      "application/vnd.jupyter.widget-view+json": {
       "model_id": "b79921a74de6405c8c62c02c98ab5a7d",
       "version_major": 2,
       "version_minor": 0
      },
      "text/plain": [
       "Predicting: 0it [00:00, ?it/s]"
      ]
     },
     "metadata": {},
     "output_type": "display_data"
    },
    {
     "name": "stderr",
     "output_type": "stream",
     "text": [
      "LOCAL_RANK: 0 - CUDA_VISIBLE_DEVICES: [MIG-6d67b200-09a5-5833-88a5-d79c3a331619]\n"
     ]
    },
    {
     "name": "stdout",
     "output_type": "stream",
     "text": [
      "Saved val embeddings to disk at  /lustre/groups/ml01/workspace/till.richter/ssl_results/classification/embeddings/val_emb_CN_MLP_50prun2_Only Pretrained_pbmc.npy\n"
     ]
    },
    {
     "data": {
      "application/vnd.jupyter.widget-view+json": {
       "model_id": "87495ff0c42e457b94fb76652bd9b571",
       "version_major": 2,
       "version_minor": 0
      },
      "text/plain": [
       "Predicting: 0it [00:00, ?it/s]"
      ]
     },
     "metadata": {},
     "output_type": "display_data"
    },
    {
     "name": "stderr",
     "output_type": "stream",
     "text": [
      "IOPub message rate exceeded.\n",
      "The Jupyter server will temporarily stop sending output\n",
      "to the client in order to avoid crashing it.\n",
      "To change this limit, set the config variable\n",
      "`--ServerApp.iopub_msg_rate_limit`.\n",
      "\n",
      "Current values:\n",
      "ServerApp.iopub_msg_rate_limit=1000.0 (msgs/sec)\n",
      "ServerApp.rate_limit_window=3.0 (secs)\n",
      "\n",
      "IOPub message rate exceeded.\n",
      "The Jupyter server will temporarily stop sending output\n",
      "to the client in order to avoid crashing it.\n",
      "To change this limit, set the config variable\n",
      "`--ServerApp.iopub_msg_rate_limit`.\n",
      "\n",
      "Current values:\n",
      "ServerApp.iopub_msg_rate_limit=1000.0 (msgs/sec)\n",
      "ServerApp.rate_limit_window=3.0 (secs)\n",
      "\n",
      "IOPub message rate exceeded.\n",
      "The Jupyter server will temporarily stop sending output\n",
      "to the client in order to avoid crashing it.\n",
      "To change this limit, set the config variable\n",
      "`--ServerApp.iopub_msg_rate_limit`.\n",
      "\n",
      "Current values:\n",
      "ServerApp.iopub_msg_rate_limit=1000.0 (msgs/sec)\n",
      "ServerApp.rate_limit_window=3.0 (secs)\n",
      "\n",
      "LOCAL_RANK: 0 - CUDA_VISIBLE_DEVICES: [MIG-6d67b200-09a5-5833-88a5-d79c3a331619]\n"
     ]
    },
    {
     "name": "stdout",
     "output_type": "stream",
     "text": [
      "Saved val embeddings to disk at  /lustre/groups/ml01/workspace/till.richter/ssl_results/classification/embeddings/val_emb_CN_MLP_50prun3_Only Pretrained_pbmc.npy\n"
     ]
    },
    {
     "data": {
      "application/vnd.jupyter.widget-view+json": {
       "model_id": "d0dbde0782ed4934b0448d9f01cbe6e6",
       "version_major": 2,
       "version_minor": 0
      },
      "text/plain": [
       "Predicting: 0it [00:00, ?it/s]"
      ]
     },
     "metadata": {},
     "output_type": "display_data"
    }
   ],
   "source": [
    "eval_emb_knn(estim, model_dirs, setting='pbmc', eval_random=True, eval_pca=False, reference='val')"
   ]
  },
  {
   "cell_type": "code",
   "execution_count": null,
   "id": "562af984-3fa3-43f3-90d2-8b169d9ab01a",
   "metadata": {},
   "outputs": [],
   "source": [
    "# Reading the uploaded CSV file to understand its contents\n",
    "import pandas as pd\n",
    "\n",
    "# Load the CSV file into a DataFrame\n",
    "file_path = os.path.join(RESULT_PATH, 'classification', 'val_clf_report_pbmc_knn.csv')\n",
    "df = pd.read_csv(file_path)\n",
    "\n",
    "# Show the first few rows to get an overview of the data\n",
    "df"
   ]
  },
  {
   "cell_type": "markdown",
   "id": "7c702da3-d793-4ae8-a4d1-07dd0e39a68d",
   "metadata": {},
   "source": [
    "Histogram"
   ]
  },
  {
   "cell_type": "code",
   "execution_count": 19,
   "id": "5bfd4f26-21fe-4ed0-9e9e-e6135797cc67",
   "metadata": {},
   "outputs": [],
   "source": [
    "%autoreload 2\n",
    "from self_supervision.tester.classifier.kNN_new import eval_emb_knn_per_class"
   ]
  },
  {
   "cell_type": "code",
   "execution_count": 20,
   "id": "9da81958-7348-46f4-8577-2f9c168fe4d6",
   "metadata": {},
   "outputs": [],
   "source": [
    "supervised_model = MODEL_PATH + '/final_models/classification/No_SSL_run2_PBMC/default/version_0/checkpoints/best_checkpoint_val.ckpt'\n",
    "ssl_model = MODEL_PATH + '/final_models/classification/SSL_CN_MLP_50pnew_run2_PBMC/default/version_0/checkpoints/best_checkpoint_val.ckpt'\n"
   ]
  },
  {
   "cell_type": "code",
   "execution_count": 21,
   "id": "83ded5f1-a967-4b90-ba07-f310f1a7fed0",
   "metadata": {},
   "outputs": [
    {
     "name": "stdout",
     "output_type": "stream",
     "text": [
      "Am in pbmc setting, have 57616 test and 54908 val labels left\n",
      "Loaded train labels:  (15240192,) val labels:  (54908,) test labels:  (57616,)\n",
      "Evaluating /lustre/groups/ml01/workspace/till.richter/trained_models//final_models/classification/No_SSL_run2_PBMC/default/version_0/checkpoints/best_checkpoint_val.ckpt\n",
      "Get index for no ssl\n",
      "Loading model with supervised_subset:  41\n"
     ]
    },
    {
     "name": "stderr",
     "output_type": "stream",
     "text": [
      "GPU available: True (cuda), used: True\n",
      "TPU available: False, using: 0 TPU cores\n",
      "IPU available: False, using: 0 IPUs\n",
      "HPU available: False, using: 0 HPUs\n",
      "LOCAL_RANK: 0 - CUDA_VISIBLE_DEVICES: [0]\n"
     ]
    },
    {
     "data": {
      "application/vnd.jupyter.widget-view+json": {
       "model_id": "217071194cb546ee9a9cc763c91849ae",
       "version_major": 2,
       "version_minor": 0
      },
      "text/plain": [
       "Predicting: 0it [00:00, ?it/s]"
      ]
     },
     "metadata": {},
     "output_type": "display_data"
    },
    {
     "name": "stdout",
     "output_type": "stream",
     "text": [
      "Saved val embeddings to disk at  /lustre/groups/ml01/workspace/till.richter/ssl_results/classification/embeddings/val_emb_No_SSL_run2_PBMC_No SSL.npy\n",
      "Loaded test embeddings from disk.\n",
      "Loaded reference embeddings:  (54908, 64) test embeddings:  (57616, 64)\n",
      "Start kNN...\n",
      "Evalute model  /lustre/groups/ml01/workspace/till.richter/trained_models//final_models/classification/No_SSL_run2_PBMC/default/version_0/checkpoints/best_checkpoint_val.ckpt generate is_supervised to  True\n",
      "Done evaluating /lustre/groups/ml01/workspace/till.richter/trained_models//final_models/classification/No_SSL_run2_PBMC/default/version_0/checkpoints/best_checkpoint_val.ckpt\n",
      "Done.\n",
      "Am in pbmc setting, have 57616 test and 54908 val labels left\n",
      "Loaded train labels:  (15240192,) val labels:  (54908,) test labels:  (57616,)\n",
      "Evaluating /lustre/groups/ml01/workspace/till.richter/trained_models//final_models/classification/SSL_CN_MLP_50pnew_run2_PBMC/default/version_0/checkpoints/best_checkpoint_val.ckpt\n",
      "Get index for ssl\n",
      "Loading model with supervised_subset:  41\n"
     ]
    },
    {
     "name": "stderr",
     "output_type": "stream",
     "text": [
      "GPU available: True (cuda), used: True\n",
      "TPU available: False, using: 0 TPU cores\n",
      "IPU available: False, using: 0 IPUs\n",
      "HPU available: False, using: 0 HPUs\n"
     ]
    },
    {
     "name": "stdout",
     "output_type": "stream",
     "text": [
      "Loaded val embeddings from disk at  /lustre/groups/ml01/workspace/till.richter/ssl_results/classification/embeddings/val_emb_SSL_CN_MLP_50pnew_run2_PBMC_SSL.npy\n",
      "Loaded test embeddings from disk.\n",
      "Loaded reference embeddings:  (54908, 64) test embeddings:  (57616, 64)\n",
      "Start kNN...\n",
      "Evalute model  /lustre/groups/ml01/workspace/till.richter/trained_models//final_models/classification/SSL_CN_MLP_50pnew_run2_PBMC/default/version_0/checkpoints/best_checkpoint_val.ckpt generate is_supervised to  False\n",
      "Done evaluating /lustre/groups/ml01/workspace/till.richter/trained_models//final_models/classification/SSL_CN_MLP_50pnew_run2_PBMC/default/version_0/checkpoints/best_checkpoint_val.ckpt\n",
      "Done.\n"
     ]
    }
   ],
   "source": [
    "df_supervised = eval_emb_knn_per_class(estim, [supervised_model], setting='pbmc', reference='val')\n",
    "df_ssl = eval_emb_knn_per_class(estim, [ssl_model], setting='pbmc', reference='val')"
   ]
  },
  {
   "cell_type": "code",
   "execution_count": 23,
   "id": "86786b99-f675-443f-8ba4-cd063db71e81",
   "metadata": {},
   "outputs": [
    {
     "data": {
      "text/html": [
       "<div>\n",
       "<style scoped>\n",
       "    .dataframe tbody tr th:only-of-type {\n",
       "        vertical-align: middle;\n",
       "    }\n",
       "\n",
       "    .dataframe tbody tr th {\n",
       "        vertical-align: top;\n",
       "    }\n",
       "\n",
       "    .dataframe thead th {\n",
       "        text-align: right;\n",
       "    }\n",
       "</style>\n",
       "<table border=\"1\" class=\"dataframe\">\n",
       "  <thead>\n",
       "    <tr style=\"text-align: right;\">\n",
       "      <th></th>\n",
       "      <th>F1_Self-Supervised</th>\n",
       "      <th>Cell Count</th>\n",
       "      <th>Cell Type</th>\n",
       "      <th>F1_Supervised</th>\n",
       "    </tr>\n",
       "  </thead>\n",
       "  <tbody>\n",
       "    <tr>\n",
       "      <th>0</th>\n",
       "      <td>0.903427</td>\n",
       "      <td>154</td>\n",
       "      <td>B cell</td>\n",
       "      <td>0.779661</td>\n",
       "    </tr>\n",
       "    <tr>\n",
       "      <th>1</th>\n",
       "      <td>0.798301</td>\n",
       "      <td>555</td>\n",
       "      <td>CD16-negative, CD56-bright natural killer cell...</td>\n",
       "      <td>0.829569</td>\n",
       "    </tr>\n",
       "    <tr>\n",
       "      <th>2</th>\n",
       "      <td>0.828407</td>\n",
       "      <td>5067</td>\n",
       "      <td>CD4-positive helper T cell</td>\n",
       "      <td>0.818499</td>\n",
       "    </tr>\n",
       "    <tr>\n",
       "      <th>3</th>\n",
       "      <td>0.507375</td>\n",
       "      <td>567</td>\n",
       "      <td>CD4-positive, alpha-beta cytotoxic T cell</td>\n",
       "      <td>0.465072</td>\n",
       "    </tr>\n",
       "    <tr>\n",
       "      <th>4</th>\n",
       "      <td>0.787442</td>\n",
       "      <td>7122</td>\n",
       "      <td>CD8-positive, alpha-beta cytotoxic T cell</td>\n",
       "      <td>0.765005</td>\n",
       "    </tr>\n",
       "    <tr>\n",
       "      <th>5</th>\n",
       "      <td>0.514677</td>\n",
       "      <td>2156</td>\n",
       "      <td>central memory CD8-positive, alpha-beta T cell</td>\n",
       "      <td>0.499858</td>\n",
       "    </tr>\n",
       "    <tr>\n",
       "      <th>6</th>\n",
       "      <td>0.734072</td>\n",
       "      <td>323</td>\n",
       "      <td>class switched memory B cell</td>\n",
       "      <td>0.696532</td>\n",
       "    </tr>\n",
       "    <tr>\n",
       "      <th>7</th>\n",
       "      <td>0.974092</td>\n",
       "      <td>8950</td>\n",
       "      <td>classical monocyte</td>\n",
       "      <td>0.970662</td>\n",
       "    </tr>\n",
       "    <tr>\n",
       "      <th>8</th>\n",
       "      <td>0.733333</td>\n",
       "      <td>326</td>\n",
       "      <td>conventional dendritic cell</td>\n",
       "      <td>0.732348</td>\n",
       "    </tr>\n",
       "    <tr>\n",
       "      <th>9</th>\n",
       "      <td>0.750000</td>\n",
       "      <td>5</td>\n",
       "      <td>dendritic cell</td>\n",
       "      <td>0.727273</td>\n",
       "    </tr>\n",
       "    <tr>\n",
       "      <th>10</th>\n",
       "      <td>0.203774</td>\n",
       "      <td>393</td>\n",
       "      <td>effector memory CD8-positive, alpha-beta T cell</td>\n",
       "      <td>0.064795</td>\n",
       "    </tr>\n",
       "    <tr>\n",
       "      <th>11</th>\n",
       "      <td>0.573232</td>\n",
       "      <td>1463</td>\n",
       "      <td>effector memory CD8-positive, alpha-beta T cel...</td>\n",
       "      <td>0.514150</td>\n",
       "    </tr>\n",
       "    <tr>\n",
       "      <th>12</th>\n",
       "      <td>0.400000</td>\n",
       "      <td>4</td>\n",
       "      <td>erythrocyte</td>\n",
       "      <td>0.000000</td>\n",
       "    </tr>\n",
       "    <tr>\n",
       "      <th>13</th>\n",
       "      <td>0.641414</td>\n",
       "      <td>1143</td>\n",
       "      <td>gamma-delta T cell</td>\n",
       "      <td>0.588351</td>\n",
       "    </tr>\n",
       "    <tr>\n",
       "      <th>14</th>\n",
       "      <td>0.857143</td>\n",
       "      <td>3</td>\n",
       "      <td>granulocyte</td>\n",
       "      <td>0.250000</td>\n",
       "    </tr>\n",
       "    <tr>\n",
       "      <th>15</th>\n",
       "      <td>0.776471</td>\n",
       "      <td>41</td>\n",
       "      <td>innate lymphoid cell</td>\n",
       "      <td>0.808989</td>\n",
       "    </tr>\n",
       "    <tr>\n",
       "      <th>16</th>\n",
       "      <td>0.008772</td>\n",
       "      <td>138</td>\n",
       "      <td>mature NK T cell</td>\n",
       "      <td>0.021505</td>\n",
       "    </tr>\n",
       "    <tr>\n",
       "      <th>17</th>\n",
       "      <td>0.719178</td>\n",
       "      <td>772</td>\n",
       "      <td>mucosal invariant T cell</td>\n",
       "      <td>0.697772</td>\n",
       "    </tr>\n",
       "    <tr>\n",
       "      <th>18</th>\n",
       "      <td>0.971610</td>\n",
       "      <td>4075</td>\n",
       "      <td>naive B cell</td>\n",
       "      <td>0.954913</td>\n",
       "    </tr>\n",
       "    <tr>\n",
       "      <th>19</th>\n",
       "      <td>0.909490</td>\n",
       "      <td>9923</td>\n",
       "      <td>naive thymus-derived CD4-positive, alpha-beta ...</td>\n",
       "      <td>0.903223</td>\n",
       "    </tr>\n",
       "    <tr>\n",
       "      <th>20</th>\n",
       "      <td>0.878542</td>\n",
       "      <td>2835</td>\n",
       "      <td>naive thymus-derived CD8-positive, alpha-beta ...</td>\n",
       "      <td>0.874228</td>\n",
       "    </tr>\n",
       "    <tr>\n",
       "      <th>21</th>\n",
       "      <td>0.910664</td>\n",
       "      <td>8576</td>\n",
       "      <td>natural killer cell</td>\n",
       "      <td>0.890114</td>\n",
       "    </tr>\n",
       "    <tr>\n",
       "      <th>22</th>\n",
       "      <td>0.888481</td>\n",
       "      <td>1408</td>\n",
       "      <td>non-classical monocyte</td>\n",
       "      <td>0.883117</td>\n",
       "    </tr>\n",
       "    <tr>\n",
       "      <th>23</th>\n",
       "      <td>0.971698</td>\n",
       "      <td>109</td>\n",
       "      <td>plasma cell</td>\n",
       "      <td>0.893401</td>\n",
       "    </tr>\n",
       "    <tr>\n",
       "      <th>24</th>\n",
       "      <td>0.666667</td>\n",
       "      <td>4</td>\n",
       "      <td>plasmablast</td>\n",
       "      <td>0.666667</td>\n",
       "    </tr>\n",
       "    <tr>\n",
       "      <th>25</th>\n",
       "      <td>0.958425</td>\n",
       "      <td>236</td>\n",
       "      <td>plasmacytoid dendritic cell</td>\n",
       "      <td>0.974138</td>\n",
       "    </tr>\n",
       "    <tr>\n",
       "      <th>26</th>\n",
       "      <td>1.000000</td>\n",
       "      <td>292</td>\n",
       "      <td>platelet</td>\n",
       "      <td>0.998285</td>\n",
       "    </tr>\n",
       "    <tr>\n",
       "      <th>27</th>\n",
       "      <td>0.854188</td>\n",
       "      <td>976</td>\n",
       "      <td>regulatory T cell</td>\n",
       "      <td>0.830964</td>\n",
       "    </tr>\n",
       "  </tbody>\n",
       "</table>\n",
       "</div>"
      ],
      "text/plain": [
       "    F1_Self-Supervised  Cell Count  \\\n",
       "0             0.903427         154   \n",
       "1             0.798301         555   \n",
       "2             0.828407        5067   \n",
       "3             0.507375         567   \n",
       "4             0.787442        7122   \n",
       "5             0.514677        2156   \n",
       "6             0.734072         323   \n",
       "7             0.974092        8950   \n",
       "8             0.733333         326   \n",
       "9             0.750000           5   \n",
       "10            0.203774         393   \n",
       "11            0.573232        1463   \n",
       "12            0.400000           4   \n",
       "13            0.641414        1143   \n",
       "14            0.857143           3   \n",
       "15            0.776471          41   \n",
       "16            0.008772         138   \n",
       "17            0.719178         772   \n",
       "18            0.971610        4075   \n",
       "19            0.909490        9923   \n",
       "20            0.878542        2835   \n",
       "21            0.910664        8576   \n",
       "22            0.888481        1408   \n",
       "23            0.971698         109   \n",
       "24            0.666667           4   \n",
       "25            0.958425         236   \n",
       "26            1.000000         292   \n",
       "27            0.854188         976   \n",
       "\n",
       "                                            Cell Type  F1_Supervised  \n",
       "0                                              B cell       0.779661  \n",
       "1   CD16-negative, CD56-bright natural killer cell...       0.829569  \n",
       "2                          CD4-positive helper T cell       0.818499  \n",
       "3           CD4-positive, alpha-beta cytotoxic T cell       0.465072  \n",
       "4           CD8-positive, alpha-beta cytotoxic T cell       0.765005  \n",
       "5      central memory CD8-positive, alpha-beta T cell       0.499858  \n",
       "6                        class switched memory B cell       0.696532  \n",
       "7                                  classical monocyte       0.970662  \n",
       "8                         conventional dendritic cell       0.732348  \n",
       "9                                      dendritic cell       0.727273  \n",
       "10    effector memory CD8-positive, alpha-beta T cell       0.064795  \n",
       "11  effector memory CD8-positive, alpha-beta T cel...       0.514150  \n",
       "12                                        erythrocyte       0.000000  \n",
       "13                                 gamma-delta T cell       0.588351  \n",
       "14                                        granulocyte       0.250000  \n",
       "15                               innate lymphoid cell       0.808989  \n",
       "16                                   mature NK T cell       0.021505  \n",
       "17                           mucosal invariant T cell       0.697772  \n",
       "18                                       naive B cell       0.954913  \n",
       "19  naive thymus-derived CD4-positive, alpha-beta ...       0.903223  \n",
       "20  naive thymus-derived CD8-positive, alpha-beta ...       0.874228  \n",
       "21                                natural killer cell       0.890114  \n",
       "22                             non-classical monocyte       0.883117  \n",
       "23                                        plasma cell       0.893401  \n",
       "24                                        plasmablast       0.666667  \n",
       "25                        plasmacytoid dendritic cell       0.974138  \n",
       "26                                           platelet       0.998285  \n",
       "27                                  regulatory T cell       0.830964  "
      ]
     },
     "execution_count": 23,
     "metadata": {},
     "output_type": "execute_result"
    }
   ],
   "source": [
    "import pandas as pd\n",
    "\n",
    "# Ensuring that the 'Cell Count' columns in both dataframes are identical\n",
    "assert all(df_ssl['Cell Count'] == df_supervised['Cell Count'])\n",
    "\n",
    "# Merging the dataframes with 'Cell Type' as the key and keeping the 'Cell Count' column common\n",
    "merged_df = pd.merge(df_ssl, df_supervised[['Cell Type', 'Supervised F1']], on='Cell Type')\n",
    "\n",
    "# Renaming columns for clarity\n",
    "merged_df = merged_df.rename(columns={'Self-Supervised F1': 'F1_Self-Supervised', 'Supervised F1': 'F1_Supervised'})\n",
    "\n",
    "# The merged dataframe now has columns: 'Cell Type', 'Cell Count', 'F1_Self-Supervised', 'F1_Supervised'\n",
    "merged_df.to_csv(os.path.join(RESULT_PATH, 'classification',  'val_clf_per_class_report_pbmc_merged_knn.csv'))\n",
    "merged_df"
   ]
  },
  {
   "cell_type": "markdown",
   "id": "2eb84abb-4c84-4e2a-944a-65e01ff741be",
   "metadata": {},
   "source": [
    "Confusion Matrix"
   ]
  },
  {
   "cell_type": "code",
   "execution_count": 61,
   "id": "1a153b24-8083-485e-9d84-9b1332b13722",
   "metadata": {},
   "outputs": [],
   "source": [
    "%autoreload 2\n",
    "from self_supervision.tester.classifier.kNN_new import get_conf_knn"
   ]
  },
  {
   "cell_type": "code",
   "execution_count": 62,
   "id": "5dc30c49-b9bf-44a0-b8b5-c303bd3c331f",
   "metadata": {},
   "outputs": [],
   "source": [
    "model_dirs = [\n",
    "    MODEL_PATH + '/final_models/classification/No_SSL_run2_PBMC/default/version_0/checkpoints/best_checkpoint_val.ckpt',\n",
    "    MODEL_PATH + '/final_models/classification/SSL_CN_MLP_50pnew_run2_PBMC/default/version_0/checkpoints/best_checkpoint_val.ckpt'\n",
    "]"
   ]
  },
  {
   "cell_type": "code",
   "execution_count": 63,
   "id": "c493fd58-7e66-4d4b-b3d2-c9ee29220a81",
   "metadata": {},
   "outputs": [
    {
     "name": "stdout",
     "output_type": "stream",
     "text": [
      "Am in pbmc setting, have 57616 test and 54908 val labels left\n",
      "Loaded train labels:  (15240192,) val labels:  (54908,) test labels:  (57616,)\n",
      "Evaluating /lustre/groups/ml01/workspace/till.richter/trained_models//final_models/classification/No_SSL_run2_PBMC/default/version_0/checkpoints/best_checkpoint_val.ckpt\n",
      "Get index for no ssl\n"
     ]
    },
    {
     "name": "stderr",
     "output_type": "stream",
     "text": [
      "GPU available: True (cuda), used: True\n",
      "TPU available: False, using: 0 TPU cores\n",
      "IPU available: False, using: 0 IPUs\n",
      "HPU available: False, using: 0 HPUs\n"
     ]
    },
    {
     "name": "stdout",
     "output_type": "stream",
     "text": [
      "Loaded val embeddings from disk at  /lustre/groups/ml01/workspace/till.richter/ssl_results/classification/embeddings/val_emb_No_SSL_run2_PBMC_No SSL.npy\n",
      "Loaded test embeddings from disk.\n",
      "Start kNN...\n",
      "Evaluating /lustre/groups/ml01/workspace/till.richter/trained_models//final_models/classification/SSL_CN_MLP_50pnew_run2_PBMC/default/version_0/checkpoints/best_checkpoint_val.ckpt\n",
      "Get index for ssl\n"
     ]
    },
    {
     "name": "stderr",
     "output_type": "stream",
     "text": [
      "GPU available: True (cuda), used: True\n",
      "TPU available: False, using: 0 TPU cores\n",
      "IPU available: False, using: 0 IPUs\n",
      "HPU available: False, using: 0 HPUs\n"
     ]
    },
    {
     "name": "stdout",
     "output_type": "stream",
     "text": [
      "Loaded val embeddings from disk at  /lustre/groups/ml01/workspace/till.richter/ssl_results/classification/embeddings/val_emb_SSL_CN_MLP_50pnew_run2_PBMC_SSL.npy\n",
      "Loaded test embeddings from disk.\n",
      "Start kNN...\n",
      "Get index for no ssl\n",
      "Saved confusion matrix to disk at  /lustre/groups/ml01/workspace/till.richter/ssl_results/No_SSL_run2_PBMC_No SSL_conf_matrix.npy\n",
      "Done evaluating /lustre/groups/ml01/workspace/till.richter/trained_models//final_models/classification/No_SSL_run2_PBMC/default/version_0/checkpoints/best_checkpoint_val.ckpt\n",
      "Get index for ssl\n",
      "Saved confusion matrix to disk at  /lustre/groups/ml01/workspace/till.richter/ssl_results/SSL_CN_MLP_50pnew_run2_PBMC_SSL_conf_matrix.npy\n",
      "Done evaluating /lustre/groups/ml01/workspace/till.richter/trained_models//final_models/classification/SSL_CN_MLP_50pnew_run2_PBMC/default/version_0/checkpoints/best_checkpoint_val.ckpt\n",
      "Get index for no ssl\n",
      "Saved /lustre/groups/ml01/workspace/till.richter/ssl_results/classification/conf_matrix_No_SSL_run2_PBMC_No SSL.csv to disk.\n",
      "Get index for ssl\n",
      "Saved /lustre/groups/ml01/workspace/till.richter/ssl_results/classification/conf_matrix_SSL_CN_MLP_50pnew_run2_PBMC_SSL.csv to disk.\n"
     ]
    }
   ],
   "source": [
    "conf_matrix = get_conf_knn(estim=estim, model_dirs=model_dirs, setting='pbmc')"
   ]
  },
  {
   "cell_type": "markdown",
   "id": "82b40ca2-2f74-408a-959d-cb768dc0d44b",
   "metadata": {},
   "source": [
    "## 3. Tabula Sapiens"
   ]
  },
  {
   "cell_type": "code",
   "execution_count": 20,
   "id": "9756f313-8590-4436-8a1a-a098b7bd6729",
   "metadata": {},
   "outputs": [],
   "source": [
    "model_dirs = [\n",
    "    # Individual Gene Masking\n",
    "    # MODEL_PATH + '/pretext_models/masking/CN_MLP_50p/default/version_1/checkpoints/best_checkpoint_val.ckpt',  # Done\n",
    "    # MODEL_PATH + '/pretext_models/masking/CN_MLP_50prun1/default/version_0/checkpoints/best_checkpoint_val.ckpt',  # Done\n",
    "    # MODEL_PATH + '/pretext_models/masking/CN_MLP_50prun2/default/version_0/checkpoints/best_checkpoint_val.ckpt',  # Done\n",
    "    # MODEL_PATH + '/pretext_models/masking/CN_MLP_50prun3/default/version_0/checkpoints/best_checkpoint_val.ckpt',  # Done\n",
    "    # MODEL_PATH + '/pretext_models/masking/CN_MLP_50prun4/default/version_0/checkpoints/best_checkpoint_val.ckpt',  # Done\n",
    "    \n",
    "    # Gene Program Masking\n",
    "    # MODEL_PATH + '/pretext_models/masking/CN_MLP_gene_program_C8_25p/default/version_2/checkpoints/best_checkpoint_val.ckpt',\n",
    "    # MODEL_PATH + '/pretext_models/masking/CN_MLP_gene_program_C8_25p/default/version_0/checkpoints/best_checkpoint_val.ckpt', # To Do\n",
    "    # MODEL_PATH + '/pretext_models/masking/CN_MLP_gene_program_C8_25p/default/version_0/checkpoints/best_checkpoint_val.ckpt', # To Do\n",
    "    # MODEL_PATH + '/pretext_models/masking/CN_MLP_gene_program_C8_25p/default/version_0/checkpoints/best_checkpoint_val.ckpt', # To Do\n",
    "    # MODEL_PATH + '/pretext_models/masking/CN_MLP_gene_program_C8_25p/default/version_0/checkpoints/best_checkpoint_val.ckpt', # To Do\n",
    "    \n",
    "    ### Supervised Models ###\n",
    "    \n",
    "    # MODEL_PATH + '/final_models/classification/No_SSL_new_run0_Tabula_Sapiens/default/version_0/checkpoints/best_checkpoint_val.ckpt',\n",
    "    # MODEL_PATH + '/final_models/classification/No_SSL_new_run1_Tabula_Sapiens/default/version_0/checkpoints/best_checkpoint_val.ckpt',\n",
    "    # MODEL_PATH + '/final_models/classification/No_SSL_new_run2_Tabula_Sapiens/default/version_0/checkpoints/best_checkpoint_val.ckpt',\n",
    "    # MODEL_PATH + '/final_models/classification/No_SSL_new_run3_Tabula_Sapiens/default/version_0/checkpoints/best_checkpoint_val.ckpt',\n",
    "    # MODEL_PATH + '/final_models/classification/No_SSL_new_run4_Tabula_Sapiens/default/version_0/checkpoints/best_checkpoint_val.ckpt',\n",
    "    \n",
    "    ### Self-Supervised Models ###\n",
    "    \n",
    "    # Individual Gene Masking\n",
    "    # MODEL_PATH + '/final_models/classification/SSL_CN_MLP_50pnew_run0_Tabula_Sapiens/default/version_0/checkpoints/best_checkpoint_val.ckpt',\n",
    "    # MODEL_PATH + '/final_models/classification/SSL_CN_MLP_50pnew_run1_Tabula_Sapiens/default/version_0/checkpoints/best_checkpoint_val.ckpt',\n",
    "    # MODEL_PATH + '/final_models/classification/SSL_CN_MLP_50pnew_run2_Tabula_Sapiens/default/version_0/checkpoints/best_checkpoint_val.ckpt',\n",
    "    # MODEL_PATH + '/final_models/classification/SSL_CN_MLP_50pnew_run3_Tabula_Sapiens/default/version_0/checkpoints/best_checkpoint_val.ckpt',\n",
    "    # MODEL_PATH + '/final_models/classification/SSL_CN_MLP_50pnew_run4_Tabula_Sapiens/default/version_0/checkpoints/best_checkpoint_val.ckpt',\n",
    "    \n",
    "    # Gene Program Masking\n",
    "    # MODEL_PATH + '/final_models/classification/SSL_CN_MLP_gene_program_C8_25pnew_run0_Tabula_Sapiens/default/version_0/checkpoints/best_checkpoint_val.ckpt',\n",
    "    # MODEL_PATH + '/final_models/classification/SSL_CN_MLP_gene_program_C8_25pnew_run1_Tabula_Sapiens/default/version_0/checkpoints/best_checkpoint_val.ckpt',\n",
    "    # MODEL_PATH + '/final_models/classification/SSL_CN_MLP_gene_program_C8_25pnew_run2_Tabula_Sapiens/default/version_0/checkpoints/best_checkpoint_val.ckpt',\n",
    "    # MODEL_PATH + '/final_models/classification/SSL_CN_MLP_gene_program_C8_25pnew_run3_Tabula_Sapiens/default/version_0/checkpoints/best_checkpoint_val.ckpt',\n",
    "    # MODEL_PATH + '/final_models/classification/SSL_CN_MLP_gene_program_C8_25pnew_run4_Tabula_Sapiens/default/version_0/checkpoints/best_checkpoint_val.ckpt',\n",
    "    \n",
    "    # Gene Program to Gene Program\n",
    "    \n",
    "    # Gene Program to Transcription Factor\n",
    "    \n",
    "    # Boostrap Your Own Latent (BYOL)\n",
    "    \n",
    "    # Barlow Twins\n",
    "]"
   ]
  },
  {
   "cell_type": "code",
   "execution_count": 21,
   "id": "76b795fc-648e-4eee-ac9d-9326b6729521",
   "metadata": {
    "tags": []
   },
   "outputs": [
    {
     "name": "stdout",
     "output_type": "stream",
     "text": [
      "Am in tabula_sapiens setting, have 189756 test and 33761 val labels left\n",
      "Loaded train labels:  (15240192,) val labels:  (33761,) test labels:  (189756,)\n",
      "Done.\n",
      "Evaluating random model\n",
      "Evaluating randomly initialized model\n"
     ]
    },
    {
     "name": "stderr",
     "output_type": "stream",
     "text": [
      "GPU available: True (cuda), used: True\n",
      "TPU available: False, using: 0 TPU cores\n",
      "IPU available: False, using: 0 IPUs\n",
      "HPU available: False, using: 0 HPUs\n",
      "GPU available: True (cuda), used: True\n",
      "TPU available: False, using: 0 TPU cores\n",
      "IPU available: False, using: 0 IPUs\n",
      "HPU available: False, using: 0 HPUs\n",
      "LOCAL_RANK: 0 - CUDA_VISIBLE_DEVICES: [0]\n"
     ]
    },
    {
     "name": "stdout",
     "output_type": "stream",
     "text": [
      "Estim model:  LightningWrapper(\n",
      "  (base_model): MLPClassifier(\n",
      "    (train_metrics): MetricCollection(\n",
      "      (f1_macro): MulticlassF1Score()\n",
      "      (f1_micro): MulticlassF1Score(),\n",
      "      prefix=train_\n",
      "    )\n",
      "    (val_metrics): MetricCollection(\n",
      "      (f1_macro): MulticlassF1Score()\n",
      "      (f1_micro): MulticlassF1Score(),\n",
      "      prefix=val_\n",
      "    )\n",
      "    (test_metrics): MetricCollection(\n",
      "      (f1_macro): MulticlassF1Score()\n",
      "      (f1_micro): MulticlassF1Score(),\n",
      "      prefix=test_\n",
      "    )\n",
      "    (classifier): MLP(\n",
      "      (0): Linear(in_features=19331, out_features=512, bias=True)\n",
      "      (1): ReLU()\n",
      "      (2): Dropout(p=0.1, inplace=False)\n",
      "      (3): Linear(in_features=512, out_features=512, bias=True)\n",
      "      (4): ReLU()\n",
      "      (5): Dropout(p=0.1, inplace=False)\n",
      "      (6): Linear(in_features=512, out_features=256, bias=True)\n",
      "      (7): ReLU()\n",
      "      (8): Dropout(p=0.1, inplace=False)\n",
      "      (9): Linear(in_features=256, out_features=256, bias=True)\n",
      "      (10): ReLU()\n",
      "      (11): Dropout(p=0.1, inplace=False)\n",
      "      (12): Linear(in_features=256, out_features=64, bias=True)\n",
      "      (13): ReLU()\n",
      "      (14): Dropout(p=0.1, inplace=False)\n",
      "      (15): Linear(in_features=64, out_features=164, bias=True)\n",
      "    )\n",
      "  )\n",
      ")\n"
     ]
    },
    {
     "data": {
      "application/vnd.jupyter.widget-view+json": {
       "model_id": "44ef293ba7534f58af5991c9fc5e7199",
       "version_major": 2,
       "version_minor": 0
      },
      "text/plain": [
       "Predicting: 0it [00:00, ?it/s]"
      ]
     },
     "metadata": {},
     "output_type": "display_data"
    },
    {
     "name": "stdout",
     "output_type": "stream",
     "text": [
      "Saved reference embeddings to disk at  /lustre/groups/ml01/workspace/till.richter/ssl_results/classification/embeddings/val_emb_Random_tabula_sapiens.npy\n"
     ]
    },
    {
     "name": "stderr",
     "output_type": "stream",
     "text": [
      "LOCAL_RANK: 0 - CUDA_VISIBLE_DEVICES: [0]\n"
     ]
    },
    {
     "data": {
      "application/vnd.jupyter.widget-view+json": {
       "model_id": "d4ea64ee68114d718d167bba22ec6e8b",
       "version_major": 2,
       "version_minor": 0
      },
      "text/plain": [
       "Predicting: 0it [00:00, ?it/s]"
      ]
     },
     "metadata": {},
     "output_type": "display_data"
    },
    {
     "name": "stdout",
     "output_type": "stream",
     "text": [
      "Saved test embeddings to disk at  /lustre/groups/ml01/workspace/till.richter/ssl_results/classification/embeddings/test_emb_Random_tabula_sapiens.npy\n",
      "Start kNN...\n",
      "Saved  Random  to  /lustre/groups/ml01/workspace/till.richter/ssl_results/classification/val_clf_report_tabula_sapiens_knn.csv\n"
     ]
    }
   ],
   "source": [
    "eval_emb_knn(estim, model_dirs, setting='tabula_sapiens', eval_random=True, eval_pca=False, reference='val')"
   ]
  },
  {
   "cell_type": "code",
   "execution_count": null,
   "id": "307b0495-0f58-481c-993a-9f9d1c499bb2",
   "metadata": {},
   "outputs": [],
   "source": [
    "# Reading the uploaded CSV file to understand its contents\n",
    "import pandas as pd\n",
    "\n",
    "# Load the CSV file into a DataFrame\n",
    "file_path = os.path.join(RESULT_PATH, 'classification', 'val_clf_report_tabula_sapiens_knn.csv')\n",
    "df = pd.read_csv(file_path)\n",
    "\n",
    "# Remove duplicates\n",
    "df = df.drop_duplicates()\n",
    "\n",
    "df = df[df['Unnamed: 0'].str.contains('new_run')]\n",
    "\n",
    "# Show the first few rows to get an overview of the data\n",
    "df"
   ]
  },
  {
   "cell_type": "markdown",
   "id": "52937e91-6c28-4001-81fe-17457f4dcebc",
   "metadata": {},
   "source": [
    "Histogram"
   ]
  },
  {
   "cell_type": "code",
   "execution_count": 49,
   "id": "d3eefccf-6dcc-41a0-a37b-403dfb4a3847",
   "metadata": {},
   "outputs": [],
   "source": [
    "%autoreload 2\n",
    "from self_supervision.tester.classifier.kNN_new import eval_emb_knn_per_class"
   ]
  },
  {
   "cell_type": "code",
   "execution_count": 50,
   "id": "847331e6-7b97-4c8d-9ab6-6c52d86b82db",
   "metadata": {},
   "outputs": [],
   "source": [
    "supervised_model = MODEL_PATH + '/final_models/classification/No_SSL_new_run4_Tabula_Sapiens/default/version_0/checkpoints/best_checkpoint_val.ckpt'\n",
    "ssl_model = MODEL_PATH + '/final_models/classification/SSL_CN_MLP_50pnew_run0_Tabula_Sapiens/default/version_0/checkpoints/best_checkpoint_val.ckpt'\n"
   ]
  },
  {
   "cell_type": "code",
   "execution_count": 51,
   "id": "726cd853-41ee-4ed0-8dd2-c90f844a67db",
   "metadata": {},
   "outputs": [
    {
     "name": "stdout",
     "output_type": "stream",
     "text": [
      "Am in tabula_sapiens setting, have 189756 test and 33761 val labels left\n",
      "Loaded train labels:  (15240192,) val labels:  (33761,) test labels:  (189756,)\n",
      "Evaluating /lustre/groups/ml01/workspace/till.richter/trained_models//final_models/classification/No_SSL_new_run4_Tabula_Sapiens/default/version_0/checkpoints/best_checkpoint_val.ckpt\n",
      "Get index for no ssl\n",
      "Loading model with supervised_subset:  87\n"
     ]
    },
    {
     "name": "stderr",
     "output_type": "stream",
     "text": [
      "GPU available: True (cuda), used: True\n",
      "TPU available: False, using: 0 TPU cores\n",
      "IPU available: False, using: 0 IPUs\n",
      "HPU available: False, using: 0 HPUs\n"
     ]
    },
    {
     "name": "stdout",
     "output_type": "stream",
     "text": [
      "Loaded val embeddings from disk at  /lustre/groups/ml01/workspace/till.richter/ssl_results/classification/embeddings/val_emb_No_SSL_new_run4_Tabula_Sapiens_No SSL.npy\n",
      "Loaded test embeddings from disk.\n",
      "Loaded reference embeddings:  (33761, 64) test embeddings:  (189756, 64)\n",
      "Start kNN...\n",
      "Evalute model  /lustre/groups/ml01/workspace/till.richter/trained_models//final_models/classification/No_SSL_new_run4_Tabula_Sapiens/default/version_0/checkpoints/best_checkpoint_val.ckpt generate is_supervised to  True\n",
      "Done evaluating /lustre/groups/ml01/workspace/till.richter/trained_models//final_models/classification/No_SSL_new_run4_Tabula_Sapiens/default/version_0/checkpoints/best_checkpoint_val.ckpt\n",
      "Done.\n"
     ]
    }
   ],
   "source": [
    "df_supervised = eval_emb_knn_per_class(estim, [supervised_model], setting='tabula_sapiens', reference='val')\n",
    "# df_ssl = eval_emb_knn_per_class(estim, [ssl_model], setting='tabula_sapiens', reference='val')"
   ]
  },
  {
   "cell_type": "code",
   "execution_count": 83,
   "id": "b36c389f-12e1-4855-8dfd-182f61380c5b",
   "metadata": {},
   "outputs": [],
   "source": [
    "import pandas as pd\n",
    "\n",
    "# Ensuring that the 'Cell Count' columns in both dataframes are identical\n",
    "assert all(df_ssl['Cell Count'] == df_supervised['Cell Count'])\n",
    "\n",
    "# Merging the dataframes with 'Cell Type' as the key and keeping the 'Cell Count' column common\n",
    "merged_df = pd.merge(df_ssl, df_supervised[['Cell Type', 'Supervised F1']], on='Cell Type')\n",
    "\n",
    "# Renaming columns for clarity\n",
    "merged_df = merged_df.rename(columns={'Self-Supervised F1': 'F1_Self-Supervised', 'Supervised F1': 'F1_Supervised'})\n",
    "\n",
    "# The merged dataframe now has columns: 'Cell Type', 'Cell Count', 'F1_Self-Supervised', 'F1_Supervised'\n",
    "merged_df.to_csv(os.path.join(RESULT_PATH, 'classification',  'val_clf_per_class_report_tabula_sapiens_merged_knn.csv'))"
   ]
  },
  {
   "cell_type": "markdown",
   "id": "9f572cbe-bd52-464b-b8e7-c0ba40ab5ee2",
   "metadata": {},
   "source": [
    "Confusion Matrix"
   ]
  },
  {
   "cell_type": "code",
   "execution_count": 97,
   "id": "664d5e29-3128-4d95-8f2a-8a2dadf7c1a4",
   "metadata": {},
   "outputs": [],
   "source": [
    "%autoreload 2\n",
    "from self_supervision.tester.classifier.kNN_new import get_conf_knn"
   ]
  },
  {
   "cell_type": "code",
   "execution_count": 98,
   "id": "6014d687-3699-4043-acac-e6d53810a082",
   "metadata": {},
   "outputs": [],
   "source": [
    "model_dirs = [\n",
    "    MODEL_PATH + '/final_models/classification/No_SSL_new_run4_Tabula_Sapiens/default/version_0/checkpoints/best_checkpoint_val.ckpt',\n",
    "    MODEL_PATH + '/final_models/classification/SSL_CN_MLP_50pnew_run0_Tabula_Sapiens/default/version_0/checkpoints/best_checkpoint_val.ckpt'\n",
    "]"
   ]
  },
  {
   "cell_type": "code",
   "execution_count": 99,
   "id": "210f9cb7-1076-4a4a-a90a-fe0bda9e68cf",
   "metadata": {},
   "outputs": [
    {
     "name": "stdout",
     "output_type": "stream",
     "text": [
      "Am in tabula_sapiens setting, have 189756 test and 33761 val labels left\n",
      "Loaded train labels:  (15240192,) val labels:  (33761,) test labels:  (189756,)\n",
      "Evaluating /lustre/groups/ml01/workspace/till.richter/trained_models//final_models/classification/No_SSL_new_run4_Tabula_Sapiens/default/version_0/checkpoints/best_checkpoint_val.ckpt\n",
      "Get index for no ssl\n"
     ]
    },
    {
     "name": "stderr",
     "output_type": "stream",
     "text": [
      "GPU available: True (cuda), used: True\n",
      "TPU available: False, using: 0 TPU cores\n",
      "IPU available: False, using: 0 IPUs\n",
      "HPU available: False, using: 0 HPUs\n"
     ]
    },
    {
     "name": "stdout",
     "output_type": "stream",
     "text": [
      "Loaded val embeddings from disk at  /lustre/groups/ml01/workspace/till.richter/ssl_results/classification/embeddings/val_emb_No_SSL_new_run4_Tabula_Sapiens_No SSL.npy\n",
      "Loaded test embeddings from disk.\n",
      "Start kNN...\n",
      "Evaluating /lustre/groups/ml01/workspace/till.richter/trained_models//final_models/classification/SSL_CN_MLP_50pnew_run0_Tabula_Sapiens/default/version_0/checkpoints/best_checkpoint_val.ckpt\n",
      "Get index for ssl\n"
     ]
    },
    {
     "name": "stderr",
     "output_type": "stream",
     "text": [
      "GPU available: True (cuda), used: True\n",
      "TPU available: False, using: 0 TPU cores\n",
      "IPU available: False, using: 0 IPUs\n",
      "HPU available: False, using: 0 HPUs\n"
     ]
    },
    {
     "name": "stdout",
     "output_type": "stream",
     "text": [
      "Loaded val embeddings from disk at  /lustre/groups/ml01/workspace/till.richter/ssl_results/classification/embeddings/val_emb_SSL_CN_MLP_50pnew_run0_Tabula_Sapiens_SSL.npy\n",
      "Loaded test embeddings from disk.\n",
      "Start kNN...\n",
      "Conf matrix shape:  (33, 33)\n",
      "Get index for no ssl\n",
      "Saved confusion matrix to disk at  /lustre/groups/ml01/workspace/till.richter/ssl_results/No_SSL_new_run4_Tabula_Sapiens_No SSL_conf_matrix.npy\n",
      "Done evaluating /lustre/groups/ml01/workspace/till.richter/trained_models//final_models/classification/No_SSL_new_run4_Tabula_Sapiens/default/version_0/checkpoints/best_checkpoint_val.ckpt\n",
      "Conf matrix shape:  (33, 33)\n",
      "Get index for ssl\n",
      "Saved confusion matrix to disk at  /lustre/groups/ml01/workspace/till.richter/ssl_results/SSL_CN_MLP_50pnew_run0_Tabula_Sapiens_SSL_conf_matrix.npy\n",
      "Done evaluating /lustre/groups/ml01/workspace/till.richter/trained_models//final_models/classification/SSL_CN_MLP_50pnew_run0_Tabula_Sapiens/default/version_0/checkpoints/best_checkpoint_val.ckpt\n",
      "Get index for no ssl\n",
      "Saved /lustre/groups/ml01/workspace/till.richter/ssl_results/classification/conf_matrix_No_SSL_new_run4_Tabula_Sapiens_No SSL.csv to disk.\n",
      "Get index for ssl\n",
      "Saved /lustre/groups/ml01/workspace/till.richter/ssl_results/classification/conf_matrix_SSL_CN_MLP_50pnew_run0_Tabula_Sapiens_SSL.csv to disk.\n"
     ]
    }
   ],
   "source": [
    "conf_matrix = get_conf_knn(estim=estim, model_dirs=model_dirs, setting='tabula_sapiens')"
   ]
  },
  {
   "cell_type": "markdown",
   "id": "5f029048-7ed9-4e88-925f-9dfd856b2822",
   "metadata": {},
   "source": [
    "# Geneformer Baseline"
   ]
  },
  {
   "cell_type": "code",
   "execution_count": 18,
   "id": "b85820da-feac-486c-8c5f-800fc610cc09",
   "metadata": {},
   "outputs": [],
   "source": [
    "reference_emb = '/lustre/groups/ml01/workspace/mojtaba.bahrami/cellxgene/geneformer_embs/val/embs.npy'\n",
    "reference_labels = '/lustre/groups/ml01/workspace/mojtaba.bahrami/cellxgene/geneformer_embs/val/cell_type.npy'\n",
    "test_emb = '/lustre/groups/ml01/workspace/mojtaba.bahrami/cellxgene/geneformer_embs/test/embs.npy'\n",
    "test_labels = '/lustre/groups/ml01/workspace/mojtaba.bahrami/cellxgene/geneformer_embs/test/cell_type.npy'\n",
    "REFERENCE_PATH = '/lustre/groups/ml01/workspace/till.richter/merlin_cxg_2023_05_15_sf-log1p/'"
   ]
  },
  {
   "cell_type": "code",
   "execution_count": 19,
   "id": "493b4012-49b7-4e33-962a-2ffefcef8501",
   "metadata": {},
   "outputs": [
    {
     "data": {
      "text/plain": [
       "(3500032,)"
      ]
     },
     "execution_count": 19,
     "metadata": {},
     "output_type": "execute_result"
    }
   ],
   "source": [
    "reference_labels_np = np.load(reference_labels)\n",
    "reference_labels_np.shape"
   ]
  },
  {
   "cell_type": "code",
   "execution_count": 20,
   "id": "50be1c09-ca5f-4f9c-90b6-f0b1a59ebe03",
   "metadata": {},
   "outputs": [
    {
     "data": {
      "text/plain": [
       "(3500032, 512)"
      ]
     },
     "execution_count": 20,
     "metadata": {},
     "output_type": "execute_result"
    }
   ],
   "source": [
    "reference_emb_np = np.load(reference_emb)\n",
    "reference_emb_np.shape"
   ]
  },
  {
   "cell_type": "code",
   "execution_count": 21,
   "id": "673e9e3b-e13d-472a-aa07-05ad1f2299ba",
   "metadata": {},
   "outputs": [
    {
     "data": {
      "text/plain": [
       "(3448832,)"
      ]
     },
     "execution_count": 21,
     "metadata": {},
     "output_type": "execute_result"
    }
   ],
   "source": [
    "test_labels_np = np.load(test_labels)\n",
    "test_labels_np.shape"
   ]
  },
  {
   "cell_type": "code",
   "execution_count": 22,
   "id": "9da0ac2b-b26b-4fd4-9647-f1e6b345423e",
   "metadata": {},
   "outputs": [
    {
     "data": {
      "text/plain": [
       "(3448832, 512)"
      ]
     },
     "execution_count": 22,
     "metadata": {},
     "output_type": "execute_result"
    }
   ],
   "source": [
    "test_emb_np = np.load(test_emb)\n",
    "test_emb_np.shape"
   ]
  },
  {
   "cell_type": "code",
   "execution_count": 23,
   "id": "e51ac351-8a3a-43fb-9a58-8403c100f325",
   "metadata": {},
   "outputs": [],
   "source": [
    "%autoreload 2\n",
    "from self_supervision.tester.classifier.kNN_new import eval_emb_knn"
   ]
  },
  {
   "cell_type": "code",
   "execution_count": 24,
   "id": "8184474c-dcec-4aad-b04d-d434f048ba86",
   "metadata": {},
   "outputs": [
    {
     "name": "stdout",
     "output_type": "stream",
     "text": [
      "Loaded train labels:  (15240192,) val labels:  (3500032,) test labels:  (3448832,)\n",
      "Done.\n",
      "Evaluating from file\n",
      "Saved  GeneFormer  to  /lustre/groups/ml01/workspace/till.richter/ssl_results/classification/val_clf_report_CellNet_knn.csv\n"
     ]
    }
   ],
   "source": [
    "eval_emb_knn(estim, model_dirs = [], eval_random=False, eval_pca=False, eval_file=[reference_emb, reference_labels, test_emb, test_labels])"
   ]
  },
  {
   "cell_type": "markdown",
   "id": "c6c85ccd-4afb-4054-8583-c40935588622",
   "metadata": {},
   "source": [
    "# Figure 4 - effect of HVGs"
   ]
  },
  {
   "cell_type": "code",
   "execution_count": 13,
   "id": "4099b8a7-1a22-4422-b8a8-16b4af16259d",
   "metadata": {
    "scrolled": true,
    "tags": []
   },
   "outputs": [],
   "source": [
    "model_dirs = [\n",
    "    \n",
    "    # 2000 HVGs\n",
    "    ### Supervised Models ###\n",
    "    \n",
    "    MODEL_PATH + '/final_models/classification/No_SSL_HVG_2000_run0/default/version_0/checkpoints/best_checkpoint_val.ckpt',\n",
    "    # MODEL_PATH + '/final_models/classification/No_SSL_HVG_2000_run1/default/version_0/checkpoints/best_checkpoint_val.ckpt',\n",
    "    # MODEL_PATH + '/final_models/classification/No_SSL_HVG_2000_run2/default/version_0/checkpoints/best_checkpoint_val.ckpt',\n",
    "    # MODEL_PATH + '/final_models/classification/No_SSL_HVG_2000_run3/default/version_0/checkpoints/best_checkpoint_val.ckpt',\n",
    "    # MODEL_PATH + '/final_models/classification/No_SSL_HVG_2000_run4/default/version_0/checkpoints/best_checkpoint_val.ckpt',\n",
    "\n",
    "    ### Self-Supervised Models ###\n",
    "    \n",
    "    # Individual Gene Masking\n",
    "    MODEL_PATH + '/final_models/classification/SSL_HVG_2000_CN_HVG_2000_MLP_50prun0/default/version_2/checkpoints/best_checkpoint_val.ckpt',\n",
    "    \n",
    "    # Full Transcriptome\n",
    "    ### Supervised Models ###\n",
    "    MODEL_PATH + '/final_models/classification/No_SSL_run0/default/version_0/checkpoints/best_checkpoint_val.ckpt',\n",
    "    \n",
    "    ### Self-Supervised Models ###\n",
    "    MODEL_PATH + '/final_models/classification/SSL_CN_MLP_50prun0/default/version_0/checkpoints/best_checkpoint_val.ckpt',\n",
    "    \n",
    "]"
   ]
  },
  {
   "cell_type": "code",
   "execution_count": 14,
   "id": "f161adf9-0857-4465-b023-ba3c644636e9",
   "metadata": {},
   "outputs": [
    {
     "ename": "KeyboardInterrupt",
     "evalue": "",
     "output_type": "error",
     "traceback": [
      "\u001b[0;31m---------------------------------------------------------------------------\u001b[0m",
      "\u001b[0;31mKeyboardInterrupt\u001b[0m                         Traceback (most recent call last)",
      "Cell \u001b[0;32mIn[14], line 1\u001b[0m\n\u001b[0;32m----> 1\u001b[0m \u001b[43meval_emb_knn_hvgs\u001b[49m\u001b[43m(\u001b[49m\u001b[43mmodel_dirs\u001b[49m\u001b[43m)\u001b[49m\n",
      "File \u001b[0;32m~/git/self_supervision/self_supervision/tester/classifier/kNN_new.py:1523\u001b[0m, in \u001b[0;36meval_emb_knn_hvgs\u001b[0;34m(model_dirs, ORIG_DATA_PATH, RESULT_PATH, train_dataloader, val_dataloader, test_dataloader, setting, reference, batch_size)\u001b[0m\n\u001b[1;32m   1520\u001b[0m clf_report \u001b[38;5;241m=\u001b[39m prepare_clf_report(RESULT_PATH\u001b[38;5;241m=\u001b[39mRESULT_PATH, setting\u001b[38;5;241m=\u001b[39msetting, reference\u001b[38;5;241m=\u001b[39mreference)\n\u001b[1;32m   1522\u001b[0m \u001b[38;5;66;03m# Load true labels\u001b[39;00m\n\u001b[0;32m-> 1523\u001b[0m train_labels, val_labels, test_labels \u001b[38;5;241m=\u001b[39m \u001b[43mload_true_labels\u001b[49m\u001b[43m(\u001b[49m\u001b[43mDATA_PATH\u001b[49m\u001b[38;5;241;43m=\u001b[39;49m\u001b[43mDATA_PATH\u001b[49m\u001b[43m,\u001b[49m\n\u001b[1;32m   1524\u001b[0m \u001b[43m                                                        \u001b[49m\u001b[43mREFERENCE_PATH\u001b[49m\u001b[38;5;241;43m=\u001b[39;49m\u001b[43mREFERENCE_PATH\u001b[49m\u001b[43m,\u001b[49m\n\u001b[1;32m   1525\u001b[0m \u001b[43m                                                        \u001b[49m\u001b[43mtest_dataloader\u001b[49m\u001b[38;5;241;43m=\u001b[39;49m\u001b[43mtest_dataloader\u001b[49m\u001b[43m,\u001b[49m\n\u001b[1;32m   1526\u001b[0m \u001b[43m                                                        \u001b[49m\u001b[43msetting\u001b[49m\u001b[38;5;241;43m=\u001b[39;49m\u001b[43msetting\u001b[49m\u001b[43m,\u001b[49m\n\u001b[1;32m   1527\u001b[0m \u001b[43m                                                        \u001b[49m\u001b[43mreference\u001b[49m\u001b[38;5;241;43m=\u001b[39;49m\u001b[43mreference\u001b[49m\u001b[43m,\u001b[49m\u001b[43m)\u001b[49m\n\u001b[1;32m   1529\u001b[0m \u001b[38;5;66;03m# Ensure labels are one-dimensional\u001b[39;00m\n\u001b[1;32m   1530\u001b[0m train_labels \u001b[38;5;241m=\u001b[39m np\u001b[38;5;241m.\u001b[39msqueeze(train_labels)\n",
      "File \u001b[0;32m~/git/self_supervision/self_supervision/tester/classifier/kNN_new.py:119\u001b[0m, in \u001b[0;36mload_true_labels\u001b[0;34m(DATA_PATH, REFERENCE_PATH, test_dataloader, setting, reference)\u001b[0m\n\u001b[1;32m    117\u001b[0m     train_labels \u001b[38;5;241m=\u001b[39m dd\u001b[38;5;241m.\u001b[39mread_parquet(sampled_files, columns\u001b[38;5;241m=\u001b[39m[\u001b[38;5;124m'\u001b[39m\u001b[38;5;124mcell_type\u001b[39m\u001b[38;5;124m'\u001b[39m])\u001b[38;5;241m.\u001b[39mcompute()\u001b[38;5;241m.\u001b[39mto_numpy()\n\u001b[1;32m    118\u001b[0m \u001b[38;5;28;01melse\u001b[39;00m:\n\u001b[0;32m--> 119\u001b[0m     train_labels \u001b[38;5;241m=\u001b[39m \u001b[43mdd\u001b[49m\u001b[38;5;241;43m.\u001b[39;49m\u001b[43mread_parquet\u001b[49m\u001b[43m(\u001b[49m\u001b[43mos\u001b[49m\u001b[38;5;241;43m.\u001b[39;49m\u001b[43mpath\u001b[49m\u001b[38;5;241;43m.\u001b[39;49m\u001b[43mjoin\u001b[49m\u001b[43m(\u001b[49m\u001b[43mREFERENCE_PATH\u001b[49m\u001b[43m,\u001b[49m\u001b[43m \u001b[49m\u001b[38;5;124;43m'\u001b[39;49m\u001b[38;5;124;43mtrain\u001b[39;49m\u001b[38;5;124;43m'\u001b[39;49m\u001b[43m)\u001b[49m\u001b[43m,\u001b[49m\u001b[43m \u001b[49m\u001b[43mcolumns\u001b[49m\u001b[38;5;241;43m=\u001b[39;49m\u001b[43m[\u001b[49m\u001b[38;5;124;43m'\u001b[39;49m\u001b[38;5;124;43mcell_type\u001b[39;49m\u001b[38;5;124;43m'\u001b[39;49m\u001b[43m]\u001b[49m\u001b[43m)\u001b[49m\u001b[38;5;241m.\u001b[39mcompute()\u001b[38;5;241m.\u001b[39mto_numpy()\n\u001b[1;32m    120\u001b[0m \u001b[38;5;66;03m# maybe, if something is odd, also subset the val set to dataset_id... not really needed, could be nice for consistency but bad for generalization...\u001b[39;00m\n\u001b[1;32m    121\u001b[0m \u001b[38;5;66;03m# val_labels = dd.read_parquet(os.path.join(REFERENCE_PATH, 'val'), columns=['cell_type']).compute().to_numpy()\u001b[39;00m\n\u001b[1;32m    122\u001b[0m \u001b[38;5;28;01mif\u001b[39;00m setting \u001b[38;5;241m==\u001b[39m \u001b[38;5;124m'\u001b[39m\u001b[38;5;124mCellNet\u001b[39m\u001b[38;5;124m'\u001b[39m \u001b[38;5;129;01mor\u001b[39;00m setting \u001b[38;5;241m==\u001b[39m \u001b[38;5;124m'\u001b[39m\u001b[38;5;124mhlca\u001b[39m\u001b[38;5;124m'\u001b[39m \u001b[38;5;129;01mor\u001b[39;00m setting \u001b[38;5;241m==\u001b[39m \u001b[38;5;124m'\u001b[39m\u001b[38;5;124mpbmc\u001b[39m\u001b[38;5;124m'\u001b[39m \u001b[38;5;129;01mor\u001b[39;00m setting \u001b[38;5;241m==\u001b[39m \u001b[38;5;124m'\u001b[39m\u001b[38;5;124mtabula_sapiens\u001b[39m\u001b[38;5;124m'\u001b[39m:\n",
      "File \u001b[0;32m~/anaconda3/envs/celldreamer/lib/python3.10/site-packages/dask/backends.py:135\u001b[0m, in \u001b[0;36mCreationDispatch.register_inplace.<locals>.decorator.<locals>.wrapper\u001b[0;34m(*args, **kwargs)\u001b[0m\n\u001b[1;32m    133\u001b[0m func \u001b[38;5;241m=\u001b[39m \u001b[38;5;28mgetattr\u001b[39m(\u001b[38;5;28mself\u001b[39m, dispatch_name)\n\u001b[1;32m    134\u001b[0m \u001b[38;5;28;01mtry\u001b[39;00m:\n\u001b[0;32m--> 135\u001b[0m     \u001b[38;5;28;01mreturn\u001b[39;00m \u001b[43mfunc\u001b[49m\u001b[43m(\u001b[49m\u001b[38;5;241;43m*\u001b[39;49m\u001b[43margs\u001b[49m\u001b[43m,\u001b[49m\u001b[43m \u001b[49m\u001b[38;5;241;43m*\u001b[39;49m\u001b[38;5;241;43m*\u001b[39;49m\u001b[43mkwargs\u001b[49m\u001b[43m)\u001b[49m\n\u001b[1;32m    136\u001b[0m \u001b[38;5;28;01mexcept\u001b[39;00m \u001b[38;5;167;01mException\u001b[39;00m \u001b[38;5;28;01mas\u001b[39;00m e:\n\u001b[1;32m    137\u001b[0m     \u001b[38;5;28;01mraise\u001b[39;00m \u001b[38;5;28mtype\u001b[39m(e)(\n\u001b[1;32m    138\u001b[0m         \u001b[38;5;124mf\u001b[39m\u001b[38;5;124m\"\u001b[39m\u001b[38;5;124mAn error occurred while calling the \u001b[39m\u001b[38;5;132;01m{\u001b[39;00mfuncname(func)\u001b[38;5;132;01m}\u001b[39;00m\u001b[38;5;124m \u001b[39m\u001b[38;5;124m\"\u001b[39m\n\u001b[1;32m    139\u001b[0m         \u001b[38;5;124mf\u001b[39m\u001b[38;5;124m\"\u001b[39m\u001b[38;5;124mmethod registered to the \u001b[39m\u001b[38;5;132;01m{\u001b[39;00m\u001b[38;5;28mself\u001b[39m\u001b[38;5;241m.\u001b[39mbackend\u001b[38;5;132;01m}\u001b[39;00m\u001b[38;5;124m backend.\u001b[39m\u001b[38;5;130;01m\\n\u001b[39;00m\u001b[38;5;124m\"\u001b[39m\n\u001b[1;32m    140\u001b[0m         \u001b[38;5;124mf\u001b[39m\u001b[38;5;124m\"\u001b[39m\u001b[38;5;124mOriginal Message: \u001b[39m\u001b[38;5;132;01m{\u001b[39;00me\u001b[38;5;132;01m}\u001b[39;00m\u001b[38;5;124m\"\u001b[39m\n\u001b[1;32m    141\u001b[0m     ) \u001b[38;5;28;01mfrom\u001b[39;00m \u001b[38;5;21;01me\u001b[39;00m\n",
      "File \u001b[0;32m~/anaconda3/envs/celldreamer/lib/python3.10/site-packages/dask/dataframe/io/parquet/core.py:584\u001b[0m, in \u001b[0;36mread_parquet\u001b[0;34m(path, columns, filters, categories, index, storage_options, engine, use_nullable_dtypes, calculate_divisions, ignore_metadata_file, metadata_task_size, split_row_groups, blocksize, aggregate_files, parquet_file_extension, filesystem, **kwargs)\u001b[0m\n\u001b[1;32m    581\u001b[0m     split_row_groups \u001b[38;5;241m=\u001b[39m parts[\u001b[38;5;241m0\u001b[39m]\u001b[38;5;241m.\u001b[39mpop(\u001b[38;5;124m\"\u001b[39m\u001b[38;5;124msplit_row_groups\u001b[39m\u001b[38;5;124m\"\u001b[39m, split_row_groups)\n\u001b[1;32m    583\u001b[0m \u001b[38;5;66;03m# Parse dataset statistics from metadata (if available)\u001b[39;00m\n\u001b[0;32m--> 584\u001b[0m parts, divisions, index \u001b[38;5;241m=\u001b[39m \u001b[43mprocess_statistics\u001b[49m\u001b[43m(\u001b[49m\n\u001b[1;32m    585\u001b[0m \u001b[43m    \u001b[49m\u001b[43mparts\u001b[49m\u001b[43m,\u001b[49m\n\u001b[1;32m    586\u001b[0m \u001b[43m    \u001b[49m\u001b[43mstatistics\u001b[49m\u001b[43m,\u001b[49m\n\u001b[1;32m    587\u001b[0m \u001b[43m    \u001b[49m\u001b[43mfilters\u001b[49m\u001b[43m,\u001b[49m\n\u001b[1;32m    588\u001b[0m \u001b[43m    \u001b[49m\u001b[43mindex\u001b[49m\u001b[43m,\u001b[49m\n\u001b[1;32m    589\u001b[0m \u001b[43m    \u001b[49m\u001b[43m(\u001b[49m\u001b[43mblocksize\u001b[49m\u001b[43m \u001b[49m\u001b[38;5;28;43;01mif\u001b[39;49;00m\u001b[43m \u001b[49m\u001b[43msplit_row_groups\u001b[49m\u001b[43m \u001b[49m\u001b[38;5;129;43;01mis\u001b[39;49;00m\u001b[43m \u001b[49m\u001b[38;5;28;43;01mTrue\u001b[39;49;00m\u001b[43m \u001b[49m\u001b[38;5;28;43;01melse\u001b[39;49;00m\u001b[43m \u001b[49m\u001b[38;5;28;43;01mNone\u001b[39;49;00m\u001b[43m)\u001b[49m\u001b[43m,\u001b[49m\n\u001b[1;32m    590\u001b[0m \u001b[43m    \u001b[49m\u001b[43msplit_row_groups\u001b[49m\u001b[43m,\u001b[49m\n\u001b[1;32m    591\u001b[0m \u001b[43m    \u001b[49m\u001b[43mfs\u001b[49m\u001b[43m,\u001b[49m\n\u001b[1;32m    592\u001b[0m \u001b[43m    \u001b[49m\u001b[43maggregation_depth\u001b[49m\u001b[43m,\u001b[49m\n\u001b[1;32m    593\u001b[0m \u001b[43m\u001b[49m\u001b[43m)\u001b[49m\n\u001b[1;32m    595\u001b[0m \u001b[38;5;66;03m# Account for index and columns arguments.\u001b[39;00m\n\u001b[1;32m    596\u001b[0m \u001b[38;5;66;03m# Modify `meta` dataframe accordingly\u001b[39;00m\n\u001b[1;32m    597\u001b[0m meta, index, columns \u001b[38;5;241m=\u001b[39m set_index_columns(meta, index, columns, auto_index_allowed)\n",
      "File \u001b[0;32m~/anaconda3/envs/celldreamer/lib/python3.10/site-packages/dask/dataframe/io/parquet/core.py:1451\u001b[0m, in \u001b[0;36mprocess_statistics\u001b[0;34m(parts, statistics, filters, index, blocksize, split_row_groups, fs, aggregation_depth)\u001b[0m\n\u001b[1;32m   1447\u001b[0m divisions \u001b[38;5;241m=\u001b[39m \u001b[38;5;28;01mNone\u001b[39;00m\n\u001b[1;32m   1448\u001b[0m \u001b[38;5;28;01mif\u001b[39;00m statistics:\n\u001b[1;32m   1449\u001b[0m     result \u001b[38;5;241m=\u001b[39m \u001b[38;5;28mlist\u001b[39m(\n\u001b[1;32m   1450\u001b[0m         \u001b[38;5;28mzip\u001b[39m(\n\u001b[0;32m-> 1451\u001b[0m             \u001b[38;5;241m*\u001b[39m[\n\u001b[1;32m   1452\u001b[0m                 (part, stats)\n\u001b[1;32m   1453\u001b[0m                 \u001b[38;5;28;01mfor\u001b[39;00m part, stats \u001b[38;5;129;01min\u001b[39;00m \u001b[38;5;28mzip\u001b[39m(parts, statistics)\n\u001b[1;32m   1454\u001b[0m                 \u001b[38;5;28;01mif\u001b[39;00m stats[\u001b[38;5;124m\"\u001b[39m\u001b[38;5;124mnum-rows\u001b[39m\u001b[38;5;124m\"\u001b[39m] \u001b[38;5;241m>\u001b[39m \u001b[38;5;241m0\u001b[39m\n\u001b[1;32m   1455\u001b[0m             ]\n\u001b[1;32m   1456\u001b[0m         )\n\u001b[1;32m   1457\u001b[0m     )\n\u001b[1;32m   1458\u001b[0m     parts, statistics \u001b[38;5;241m=\u001b[39m result \u001b[38;5;129;01mor\u001b[39;00m [[], []]\n\u001b[1;32m   1459\u001b[0m     \u001b[38;5;28;01mif\u001b[39;00m filters:\n",
      "File \u001b[0;32m~/anaconda3/envs/celldreamer/lib/python3.10/site-packages/dask/dataframe/io/parquet/core.py:1454\u001b[0m, in \u001b[0;36m<listcomp>\u001b[0;34m(.0)\u001b[0m\n\u001b[1;32m   1447\u001b[0m divisions \u001b[38;5;241m=\u001b[39m \u001b[38;5;28;01mNone\u001b[39;00m\n\u001b[1;32m   1448\u001b[0m \u001b[38;5;28;01mif\u001b[39;00m statistics:\n\u001b[1;32m   1449\u001b[0m     result \u001b[38;5;241m=\u001b[39m \u001b[38;5;28mlist\u001b[39m(\n\u001b[1;32m   1450\u001b[0m         \u001b[38;5;28mzip\u001b[39m(\n\u001b[1;32m   1451\u001b[0m             \u001b[38;5;241m*\u001b[39m[\n\u001b[1;32m   1452\u001b[0m                 (part, stats)\n\u001b[1;32m   1453\u001b[0m                 \u001b[38;5;28;01mfor\u001b[39;00m part, stats \u001b[38;5;129;01min\u001b[39;00m \u001b[38;5;28mzip\u001b[39m(parts, statistics)\n\u001b[0;32m-> 1454\u001b[0m                 \u001b[38;5;28;01mif\u001b[39;00m stats[\u001b[38;5;124m\"\u001b[39m\u001b[38;5;124mnum-rows\u001b[39m\u001b[38;5;124m\"\u001b[39m] \u001b[38;5;241m>\u001b[39m \u001b[38;5;241m0\u001b[39m\n\u001b[1;32m   1455\u001b[0m             ]\n\u001b[1;32m   1456\u001b[0m         )\n\u001b[1;32m   1457\u001b[0m     )\n\u001b[1;32m   1458\u001b[0m     parts, statistics \u001b[38;5;241m=\u001b[39m result \u001b[38;5;129;01mor\u001b[39;00m [[], []]\n\u001b[1;32m   1459\u001b[0m     \u001b[38;5;28;01mif\u001b[39;00m filters:\n",
      "\u001b[0;31mKeyboardInterrupt\u001b[0m: "
     ]
    }
   ],
   "source": [
    "eval_emb_knn_hvgs(model_dirs)"
   ]
  },
  {
   "cell_type": "markdown",
   "id": "387a81ae-e1ad-41b2-a97a-bcfa37e9de39",
   "metadata": {},
   "source": [
    "# Figure 5 - tSNE Plot based on Pretrained Embedding"
   ]
  },
  {
   "cell_type": "code",
   "execution_count": 102,
   "id": "229a05ad-66eb-41e3-9915-d61a8ca0f729",
   "metadata": {},
   "outputs": [],
   "source": [
    "%autoreload 2\n",
    "from self_supervision.tester.classifier.plot_adata import load_data, create_subsampled_adata, plot_tsne"
   ]
  },
  {
   "cell_type": "code",
   "execution_count": 107,
   "id": "7ccb1693-0f59-4bcf-a357-fbf043238a82",
   "metadata": {},
   "outputs": [],
   "source": [
    "y_true_ints = dd.read_parquet(os.path.join(DATA_PATH, 'test'), columns=['cell_type']).compute().cell_type.tolist()\n",
    "cell_type_mapping = pd.read_parquet(os.path.join(DATA_PATH, 'categorical_lookup/cell_type.parquet'))\n",
    "y_true = cell_type_mapping.loc[y_true_ints].to_numpy().flatten()\n",
    "y_true_corrected = np.array([' '.join([w[0].upper() + w[1:] for w in s.split()]) for s in y_true])\n",
    "font = {'fontsize': 5, 'fontname': 'sans-serif'}  # Font size and family for tick labels"
   ]
  },
  {
   "cell_type": "code",
   "execution_count": 110,
   "id": "9356a6ae-82c8-4467-8633-5ae918e46fc0",
   "metadata": {
    "tags": []
   },
   "outputs": [
    {
     "name": "stdout",
     "output_type": "stream",
     "text": [
      "WARNING: saving figure to file figures/tsnedummy.svg\n"
     ]
    },
    {
     "data": {
      "image/png": "[encoded data removed]",
      "text/plain": [
       "<Figure size 240x240 with 1 Axes>"
      ]
     },
     "metadata": {
      "image/png": {
       "height": 218,
       "width": 560
      }
     },
     "output_type": "display_data"
    }
   ],
   "source": [
    "embeddings, labels = load_data(embedding_path='/lustre/groups/ml01/workspace/till.richter/ssl_results/classification/embeddings/test_emb_CN_MLP_gene_program_C8_25p_Only Pretrained.npy', labels=y_true_corrected)\n",
    "adata = create_subsampled_adata(embeddings, labels, num_samples=200000)\n",
    "ax = plot_tsne(adata=adata, font_dict=font, cell_freq_thres=3000, save_dir='/lustre/groups/ml01/workspace/till.richter/ssl_results/classification/', size=1, title='Zero-shot SSL')"
   ]
  },
  {
   "cell_type": "code",
   "execution_count": 111,
   "id": "deafa8a1-9f57-4a16-8036-ad1a3ba4ed24",
   "metadata": {},
   "outputs": [
    {
     "name": "stdout",
     "output_type": "stream",
     "text": [
      "WARNING: saving figure to file figures/tsnedummy.svg\n"
     ]
    },
    {
     "data": {
      "image/png": "[encoded data removed]",
      "text/plain": [
       "<Figure size 240x240 with 1 Axes>"
      ]
     },
     "metadata": {
      "image/png": {
       "height": 218,
       "width": 560
      }
     },
     "output_type": "display_data"
    }
   ],
   "source": [
    "embeddings, labels = load_data(embedding_path='/lustre/groups/ml01/workspace/till.richter/ssl_results/classification/embeddings/test_emb_No_SSL_run0_No SSL.npy', labels=y_true_corrected)\n",
    "adata = create_subsampled_adata(embeddings, labels, num_samples=200000)\n",
    "ax = plot_tsne(adata=adata, font_dict=font, cell_freq_thres=3000, save_dir='/lustre/groups/ml01/workspace/till.richter/ssl_results/classification/', size=1, title='Supervised')"
   ]
  },
  {
   "cell_type": "code",
   "execution_count": null,
   "id": "4ac32980-8657-4fe9-8e81-98fe0eb19403",
   "metadata": {},
   "outputs": [],
   "source": []
  }
 ],
 "metadata": {
  "kernelspec": {
   "display_name": "Python [conda env:celldreamer]",
   "language": "python",
   "name": "celldreamer"
  },
  "language_info": {
   "codemirror_mode": {
    "name": "ipython",
    "version": 3
   },
   "file_extension": ".py",
   "mimetype": "text/x-python",
   "name": "python",
   "nbconvert_exporter": "python",
   "pygments_lexer": "ipython3",
   "version": "3.10.12"
  }
 },
 "nbformat": 4,
 "nbformat_minor": 5
}
