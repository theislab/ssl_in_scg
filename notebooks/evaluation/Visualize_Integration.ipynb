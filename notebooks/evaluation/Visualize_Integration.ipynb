{
 "cells": [
  {
   "cell_type": "code",
   "execution_count": null,
   "id": "bae353b4-227a-4515-8aee-4543a5c09c0e",
   "metadata": {},
   "outputs": [],
   "source": [
    "import numpy as np\n",
    "import pandas as pd\n",
    "import os\n",
    "import scanpy as sc"
   ]
  },
  {
   "cell_type": "code",
   "execution_count": null,
   "id": "e594dc8b",
   "metadata": {},
   "outputs": [],
   "source": [
    "from self_supervision.paths import DATA_DIR, RESULTS_FOLDER"
   ]
  },
  {
   "cell_type": "code",
   "execution_count": null,
   "id": "e21c92a8-d084-475a-b407-74db0c423267",
   "metadata": {},
   "outputs": [],
   "source": [
    "split = 'test'\n",
    "adata = sc.read_h5ad(os.path.join(RESULTS_FOLDER, f'adata_{split}_embs_scib.h5ad'))\n",
    "\n",
    "STORE_DIR = os.path.join(DATA_DIR, 'merlin_cxg_2023_05_15_sf-log1p')\n",
    "cell_type_mapping = pd.read_parquet(os.path.join(STORE_DIR, 'categorical_lookup/cell_type.parquet'))\n",
    "adata.obs['Cell Type'] = cell_type_mapping.loc[adata.obs['cell_type'].values, 'label'].values\n",
    "adata.obs['Batch'] = 'Batch ' + adata.obs['tech_sample'].astype('category').cat.codes.astype('str')"
   ]
  },
  {
   "cell_type": "markdown",
   "id": "df84f423-e799-4cab-8ace-83e2532eb280",
   "metadata": {},
   "source": [
    "### Plot embeddings"
   ]
  },
  {
   "cell_type": "code",
   "execution_count": null,
   "id": "c5998f3f-a098-4911-8e48-20c92381614a",
   "metadata": {},
   "outputs": [],
   "source": [
    "top_cell_types = adata.obs['cell_type'].value_counts().index[:10]\n",
    "adata = adata[adata.obs['cell_type'].isin(top_cell_types)]"
   ]
  },
  {
   "cell_type": "code",
   "execution_count": null,
   "id": "5b1efc94",
   "metadata": {},
   "outputs": [],
   "source": [
    "# UMAP plots\n",
    "for key in reversed(list(adata.obsm.keys())):\n",
    "    if key not in ['X_umap', 'X_tsne']:\n",
    "        print('ploting for ', key)\n",
    "        sc.pp.neighbors(adata, use_rep=key)\n",
    "        sc.tl.umap(adata)\n",
    "        sc.pl.umap(adata, color=['Cell Type'], save=f'umap_{key}_celltype.png')\n",
    "        sc.pl.umap(adata, color=['Batch'], save=f'umap_{key}_batch.png')"
   ]
  },
  {
   "cell_type": "code",
   "execution_count": null,
   "id": "2ba261bb",
   "metadata": {},
   "outputs": [],
   "source": [
    "# tsne plots:\n",
    "for key in reversed(list(adata.obsm.keys())):\n",
    "    if key not in ['X_umap', 'X_tsne']:\n",
    "        print('ploting for ', key)\n",
    "        sc.tl.tsne(adata, use_rep=key)\n",
    "        sc.pl.tsne(adata, color=['Cell Type'], save=f'tsne_{key}_celltype.png')\n",
    "        sc.pl.tsne(adata, color=['Batch'], save=f'tsne_{key}_batch.png')"
   ]
  }
 ],
 "metadata": {
  "kernelspec": {
   "display_name": "Python 3 (ipykernel)",
   "language": "python",
   "name": "python3"
  },
  "language_info": {
   "codemirror_mode": {
    "name": "ipython",
    "version": 3
   },
   "file_extension": ".py",
   "mimetype": "text/x-python",
   "name": "python",
   "nbconvert_exporter": "python",
   "pygments_lexer": "ipython3",
   "version": "3.10.13"
  }
 },
 "nbformat": 4,
 "nbformat_minor": 5
}
