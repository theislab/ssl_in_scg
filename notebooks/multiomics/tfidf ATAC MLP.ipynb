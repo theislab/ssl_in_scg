{
 "cells": [
  {
   "cell_type": "markdown",
   "id": "c759fba1-ac9c-435e-824a-b96b95bfea35",
   "metadata": {},
   "source": [
    "# Cross-Modality Prediction with Linear Regression"
   ]
  },
  {
   "cell_type": "code",
   "execution_count": 1,
   "id": "9c3de29b-c361-4121-9574-132dd9d5fd21",
   "metadata": {},
   "outputs": [],
   "source": [
    "%load_ext autoreload"
   ]
  },
  {
   "cell_type": "code",
   "execution_count": 2,
   "id": "14c7ba5c",
   "metadata": {},
   "outputs": [],
   "source": [
    "import numpy as np\n",
    "import scanpy as sc\n",
    "from sklearn.linear_model import LinearRegression, Ridge\n",
    "from scipy.stats import pearsonr\n",
    "from sklearn.metrics import mean_squared_error\n",
    "import pandas as pd\n",
    "import os\n",
    "import torch\n",
    "from torch.utils.data import DataLoader, Dataset\n",
    "import lightning.pytorch as pl\n",
    "from self_supervision.paths import MULTIMODAL_FOLDER, TRAINING_FOLDER, RESULTS_FOLDER"
   ]
  },
  {
   "cell_type": "code",
   "execution_count": 3,
   "id": "ac20e2bf-190d-480f-8de1-c38c03ba8e1b",
   "metadata": {},
   "outputs": [
    {
     "name": "stderr",
     "output_type": "stream",
     "text": [
      "[rank: 0] Global seed set to 0\n"
     ]
    }
   ],
   "source": [
    "%autoreload 2\n",
    "from self_supervision.models.lightning_modules.multiomics_autoencoder import MultiomicsMultiAutoencoder\n",
    "from self_supervision.data.datamodules import ATACDataloader"
   ]
  },
  {
   "cell_type": "markdown",
   "id": "dae6c6b6-7d58-4064-9131-ad3e488ff0b5",
   "metadata": {},
   "source": [
    "### Load and Prepare Data"
   ]
  },
  {
   "cell_type": "code",
   "execution_count": 4,
   "id": "4de2595e",
   "metadata": {},
   "outputs": [
    {
     "data": {
      "text/plain": [
       "AnnData object with n_obs × n_vars = 69249 × 2000\n",
       "    obs: 'GEX_pct_counts_mt', 'GEX_n_counts', 'GEX_n_genes', 'GEX_size_factors', 'GEX_phase', 'ATAC_nCount_peaks', 'ATAC_atac_fragments', 'ATAC_reads_in_peaks_frac', 'ATAC_blacklist_fraction', 'ATAC_nucleosome_signal', 'cell_type', 'batch', 'ATAC_pseudotime_order', 'GEX_pseudotime_order', 'Samplename', 'Site', 'DonorNumber', 'Modality', 'VendorLot', 'DonorID', 'DonorAge', 'DonorBMI', 'DonorBloodType', 'DonorRace', 'Ethnicity', 'DonorGender', 'QCMeds', 'DonorSmoker', 'split'\n",
       "    var: 'feature_types', 'gene_id', 'highly_variable', 'means', 'dispersions', 'dispersions_norm'\n",
       "    obsm: 'atac'"
      ]
     },
     "execution_count": 4,
     "metadata": {},
     "output_type": "execute_result"
    }
   ],
   "source": [
    "adata = sc.read_h5ad(os.path.join(MULTIMODAL_FOLDER, \"NeurIPS_tfidf_filtered_hvg_adata.h5ad\"))\n",
    "adata"
   ]
  },
  {
   "cell_type": "code",
   "execution_count": 5,
   "id": "992e34b7-e8c8-4ff3-98ee-fdda5a84a0f8",
   "metadata": {},
   "outputs": [],
   "source": [
    "test_adata = adata[adata.obs['split'] == 'test']"
   ]
  },
  {
   "cell_type": "code",
   "execution_count": 6,
   "id": "1ac09aab-f5e6-47f4-b863-f716c84d3851",
   "metadata": {},
   "outputs": [],
   "source": [
    "test_mRNA = torch.tensor(np.array(test_adata.X.todense()), dtype=torch.float32)\n",
    "test_atac = test_adata.obsm['atac']\n",
    "test_batches = test_adata.obs['batch']"
   ]
  },
  {
   "cell_type": "code",
   "execution_count": 7,
   "id": "b77049eb-711b-4598-bab9-5c26e8dc3962",
   "metadata": {},
   "outputs": [
    {
     "data": {
      "text/plain": [
       "torch.Size([6896, 2000])"
      ]
     },
     "execution_count": 7,
     "metadata": {},
     "output_type": "execute_result"
    }
   ],
   "source": [
    "test_mRNA.shape"
   ]
  },
  {
   "cell_type": "code",
   "execution_count": 8,
   "id": "c884e219-6ea9-4ed8-91d2-e34aa0147b92",
   "metadata": {},
   "outputs": [
    {
     "data": {
      "text/plain": [
       "(6896,)"
      ]
     },
     "execution_count": 8,
     "metadata": {},
     "output_type": "execute_result"
    }
   ],
   "source": [
    "test_batches.shape"
   ]
  },
  {
   "cell_type": "code",
   "execution_count": 9,
   "id": "b7c03791-1024-41ec-8d85-73993ea1817e",
   "metadata": {},
   "outputs": [
    {
     "data": {
      "text/plain": [
       "(6896, 116490)"
      ]
     },
     "execution_count": 9,
     "metadata": {},
     "output_type": "execute_result"
    }
   ],
   "source": [
    "test_atac.shape"
   ]
  },
  {
   "cell_type": "code",
   "execution_count": 10,
   "id": "3271e6c3-20dc-4013-a72f-466ed8b3527f",
   "metadata": {},
   "outputs": [
    {
     "data": {
      "text/plain": [
       "torch.Tensor"
      ]
     },
     "execution_count": 10,
     "metadata": {},
     "output_type": "execute_result"
    }
   ],
   "source": [
    "type(test_mRNA)"
   ]
  },
  {
   "cell_type": "code",
   "execution_count": 11,
   "id": "44d5cffb-28ee-4e85-a1d7-ff697c11a884",
   "metadata": {},
   "outputs": [],
   "source": [
    "# Create DataLoader for test data\n",
    "test_dataset = ATACDataloader(test_atac, test_mRNA, test_batches)\n",
    "test_dataloader = DataLoader(test_dataset, batch_size=512, shuffle=False)"
   ]
  },
  {
   "cell_type": "markdown",
   "id": "dedbd316-27e4-4523-80ed-5ae7592110bf",
   "metadata": {},
   "source": [
    "### Inference with MLP"
   ]
  },
  {
   "cell_type": "code",
   "execution_count": 12,
   "id": "44e1ce2d-0c20-4121-be5c-e54e51112ea9",
   "metadata": {},
   "outputs": [],
   "source": [
    "MODEL_DIR = os.path.join(TRAINING_FOLDER, \"final_models\", \"multiomics\")"
   ]
  },
  {
   "cell_type": "code",
   "execution_count": 198,
   "id": "45718ba0-d49b-4ffc-aed8-7dff92384a1e",
   "metadata": {},
   "outputs": [],
   "source": [
    "# MLP trained with supervised learning\n",
    "\n",
    "# ckpt_path = os.path.join(MODEL_DIR, \"No_SSL_new_run0\", \"default\", \"version_2\", \"checkpoints\", \"best_checkpoint_val.ckpt\")\n",
    "# ckpt_path = os.path.join(MODEL_DIR, \"No_SSL_new_run1\", \"default\", \"version_2\", \"checkpoints\", \"best_checkpoint_val.ckpt\")\n",
    "# ckpt_path = os.path.join(MODEL_DIR, \"No_SSL_new_run2\", \"default\", \"version_2\", \"checkpoints\", \"best_checkpoint_val.ckpt\")\n",
    "# ckpt_path = os.path.join(MODEL_DIR, \"No_SSL_new_run3\", \"default\", \"version_0\", \"checkpoints\", \"best_checkpoint_val.ckpt\")\n",
    "# ckpt_path = os.path.join(MODEL_DIR, \"No_SSL_new_run4\", \"default\", \"version_0\", \"checkpoints\", \"best_checkpoint_val.ckpt\")\n",
    "\n",
    "# ckpt_path = os.path.join(MODEL_DIR, \"No_SSL_rev_new_run0\", \"default\", \"version_0\", \"checkpoints\", \"best_checkpoint_val.ckpt\")\n",
    "# ckpt_path = os.path.join(MODEL_DIR, \"No_SSL_rev_new_run1\", \"default\", \"version_0\", \"checkpoints\", \"best_checkpoint_val.ckpt\")\n",
    "# ckpt_path = os.path.join(MODEL_DIR, \"No_SSL_rev_new_run2\", \"default\", \"version_0\", \"checkpoints\", \"best_checkpoint_val.ckpt\")\n",
    "# ckpt_path = os.path.join(MODEL_DIR, \"No_SSL_rev_new_run3\", \"default\", \"version_0\", \"checkpoints\", \"best_checkpoint_val.ckpt\")\n",
    "# ckpt_path = os.path.join(MODEL_DIR, \"No_SSL_rev_new_run4\", \"default\", \"version_0\", \"checkpoints\", \"best_checkpoint_val.ckpt\")\n",
    "\n",
    "# ckpt_path = os.path.join(MODEL_DIR, \"No_SSL_tfidf_run0\", \"default\", \"version_0\", \"checkpoints\", \"best_checkpoint_val.ckpt\")\n",
    "# ckpt_path = os.path.join(MODEL_DIR, \"No_SSL_tfidf_run1\", \"default\", \"version_0\", \"checkpoints\", \"best_checkpoint_val.ckpt\")\n",
    "# ckpt_path = os.path.join(MODEL_DIR, \"No_SSL_tfidf_run2\", \"default\", \"version_0\", \"checkpoints\", \"best_checkpoint_val.ckpt\")\n",
    "# ckpt_path = os.path.join(MODEL_DIR, \"No_SSL_tfidf_run3\", \"default\", \"version_0\", \"checkpoints\", \"best_checkpoint_val.ckpt\")\n",
    "# ckpt_path = os.path.join(MODEL_DIR, \"No_SSL_tfidf_run4\", \"default\", \"version_0\", \"checkpoints\", \"best_checkpoint_val.ckpt\")\n",
    "\n",
    "### new ###\n",
    "# ckpt_path = \"/lustre/groups/ml01/workspace/till.richter/trained_models/final_models/multiomics/No_SSL_tfidf_run0/default/version_0/checkpoints/best_checkpoint_val.ckpt\"\n",
    "# ckpt_path = \"/lustre/groups/ml01/workspace/till.richter/trained_models/final_models/multiomics/No_SSL_tfidf_run1/default/version_0/checkpoints/best_checkpoint_val.ckpt\"\n",
    "# ckpt_path = \"/lustre/groups/ml01/workspace/till.richter/trained_models/final_models/multiomics/No_SSL_tfidf_run2/default/version_0/checkpoints/best_checkpoint_val.ckpt\"\n",
    "# ckpt_path = \"/lustre/groups/ml01/workspace/till.richter/trained_models/final_models/multiomics/No_SSL_tfidf_run3/default/version_0/checkpoints/best_checkpoint_val.ckpt\"\n",
    "# ckpt_path = \"/lustre/groups/ml01/workspace/till.richter/trained_models/final_models/multiomics/No_SSL_tfidf_run4/default/version_0/checkpoints/best_checkpoint_val.ckpt\"\n",
    "\n",
    "### new + big ###\n",
    "# ckpt_path = \"/lustre/groups/ml01/workspace/till.richter/trained_models/final_models/multiomics/No_SSL_new_big_test_tfidf_run0/default/version_0/checkpoints/best_checkpoint_val.ckpt\"\n",
    "# ckpt_path = \"/lustre/groups/ml01/workspace/till.richter/trained_models/final_models/multiomics/No_SSL_new_big_tfidf_run1/default/version_0/checkpoints/best_checkpoint_val.ckpt\"\n",
    "# ckpt_path = \"/lustre/groups/ml01/workspace/till.richter/trained_models/final_models/multiomics/No_SSL_new2_big_tfidf_run2/default/version_1/checkpoints/best_checkpoint_val.ckpt\"\n",
    "# ckpt_path = \"/lustre/groups/ml01/workspace/till.richter/trained_models/final_models/multiomics/No_SSL_new2_big_tfidf_run3/default/version_1/checkpoints/best_checkpoint_val.ckpt\"\n",
    "# ckpt_path = \"/lustre/groups/ml01/workspace/till.richter/trained_models/final_models/multiomics/No_SSL_new2_big_tfidf_run4/default/version_1/checkpoints/best_checkpoint_val.ckpt\"\n",
    "# ckpt_path = \"/lustre/groups/ml01/workspace/till.richter/trained_models/final_models/multiomics/No_SSL_new_big_test_tfidf_run5/default/version_0/checkpoints/best_checkpoint_val.ckpt\"\n",
    "# ckpt_path = \"/lustre/groups/ml01/workspace/till.richter/trained_models/final_models/multiomics/No_SSL_new_big_tfidf_run1/default/version_0/checkpoints/best_checkpoint_val.ckpt\"\n",
    "# ckpt_path = \"/lustre/groups/ml01/workspace/till.richter/trained_models/final_models/multiomics/No_SSL_new_big_tfidf_run2/default/version_0/checkpoints/best_checkpoint_val.ckpt\"\n",
    "# ckpt_path = \"/lustre/groups/ml01/workspace/till.richter/trained_models/final_models/multiomics/No_SSL_new_big_tfidf_run3/default/version_0/checkpoints/best_checkpoint_val.ckpt\"\n",
    "# ckpt_path = \"/lustre/groups/ml01/workspace/till.richter/trained_models/final_models/multiomics/No_SSL_new_big_tfidf_run4/default/version_0/checkpoints/best_checkpoint_val.ckpt\"\n",
    "\n",
    "# MLP trained with self-supervised learning on auxiliary scTab data\n",
    "\n",
    "# ckpt_path1 = os.path.join(MODEL_DIR, \"SSL_atac_multiomics_20M_random_MAE_tfidftfidf_run0\", \"default\", \"version_0\", \"checkpoints\", \"best_checkpoint_val.ckpt\")\n",
    "# ckpt_path2 = os.path.join(MODEL_DIR, \"SSL_atac_multiomics_20M_random_MAE_tfidftfidf_run1\", \"default\", \"version_0\", \"checkpoints\", \"best_checkpoint_val.ckpt\")\n",
    "# ckpt_path = os.path.join(MODEL_DIR, \"SSL_atac_multiomics_20M_random_MAE_tfidftfidf_run2\", \"default\", \"version_0\", \"checkpoints\", \"best_checkpoint_val.ckpt\")\n",
    "# ckpt_path = os.path.join(MODEL_DIR, \"SSL_atac_multiomics_20M_random_MAE_tfidftfidf_run3\", \"default\", \"version_0\", \"checkpoints\", \"best_checkpoint_val.ckpt\")\n",
    "# ckpt_path = os.path.join(MODEL_DIR, \"SSL_atac_multiomics_20M_random_MAE_tfidftfidf_run4\", \"default\", \"version_0\", \"checkpoints\", \"best_checkpoint_val.ckpt\")\n",
    "\n",
    "\n",
    "### new ###\n",
    "# ckpt_path = \"/lustre/groups/ml01/workspace/till.richter/trained_models/final_models/multiomics/SSL_atac_multiomics_20M_random_MAE_tfidfnew_tfidf_run0/default/version_0/checkpoints/best_checkpoint_val.ckpt\"\n",
    "# ckpt_path = \"/lustre/groups/ml01/workspace/till.richter/trained_models/final_models/multiomics/SSL_atac_multiomics_20M_random_MAE_tfidfnew_tfidf_run1/default/version_0/checkpoints/best_checkpoint_val.ckpt\"\n",
    "# ckpt_path = \"/lustre/groups/ml01/workspace/till.richter/trained_models/final_models/multiomics/SSL_atac_multiomics_20M_random_MAE_tfidfnew_tfidf_run2/default/version_0/checkpoints/best_checkpoint_val.ckpt\"\n",
    "\n",
    "### new + big ###\n",
    "# ckpt_path = \"/lustre/groups/ml01/workspace/till.richter/trained_models/final_models/multiomics/SSL_atac_multiomics_20M_random_MAE_tfidfnew_big_tfidf_run0/default/version_0/checkpoints/best_checkpoint_val.ckpt\"\n",
    "# ckpt_path = \"/lustre/groups/ml01/workspace/till.richter/trained_models/final_models/multiomics/SSL_atac_multiomics_20M_random_MAE_tfidfnew_big_tfidf_run1/default/version_0/checkpoints/best_checkpoint_val.ckpt\"\n",
    "\n",
    "# ckpt_path = \"/lustre/groups/ml01/workspace/till.richter/trained_models/final_models/multiomics/SSL_atac_multiomics_20M_random_MAE_tfidfnew_big_tfidf_run2/default/version_0/checkpoints/best_checkpoint_val.ckpt\"\n",
    "# ckpt_path = \"/lustre/groups/ml01/workspace/till.richter/trained_models/final_models/multiomics/SSL_atac_multiomics_20M_random_MAE_tfidfnew_big_tfidf_run5/default/version_0/checkpoints/best_checkpoint_val.ckpt\"\n",
    "# ckpt_path = \"/lustre/groups/ml01/workspace/till.richter/trained_models/final_models/multiomics/SSL_atac_multiomics_20M_random_MAE_tfidfnew2_big_tfidf_run2/default/version_1/checkpoints/best_checkpoint_val.ckpt\"\n",
    "# ckpt_path = \"/lustre/groups/ml01/workspace/till.richter/trained_models/final_models/multiomics/SSL_atac_multiomics_20M_random_MAE_tfidfnew2_big_tfidf_run3/default/version_1/checkpoints/best_checkpoint_val.ckpt\"\n",
    "# ckpt_path = \"/lustre/groups/ml01/workspace/till.richter/trained_models/final_models/multiomics/SSL_atac_multiomics_20M_random_MAE_tfidfnew2_big_tfidf_run4/default/version_1/checkpoints/best_checkpoint_val.ckpt\"\n",
    "# ckpt_path = \"/lustre/groups/ml01/workspace/till.richter/trained_models/final_models/multiomics/SSL_atac_multiomics_20M_random_MAE_tfidftfidf_big_run3/default/version_0/checkpoints/best_checkpoint_val.ckpt\"\n",
    "ckpt_path = \"/lustre/groups/ml01/workspace/till.richter/trained_models/final_models/multiomics/SSL_atac_multiomics_20M_random_MAE_tfidftfidf_big_run4/default/version_0/checkpoints/best_checkpoint_val.ckpt\"\n",
    "\n",
    "\n",
    "# MLP trained with self-supervised learning on not-auxiliary NeurIPS data\n",
    "\n",
    "# ckpt_path = os.path.join(MODEL_DIR, \"SSL_atac_multiomics_NeurIPS_random_MAE_tfidftfidf_run0\", \"default\", \"version_0\", \"checkpoints\", \"best_checkpoint_val.ckpt\")\n",
    "# ckpt_path = os.path.join(MODEL_DIR, \"SSL_atac_multiomics_NeurIPS_random_MAE_tfidftfidf_run1\", \"default\", \"version_0\", \"checkpoints\", \"best_checkpoint_val.ckpt\")\n",
    "# ckpt_path = os.path.join(MODEL_DIR, \"SSL_atac_multiomics_NeurIPS_random_MAE_tfidftfidf_run2\", \"default\", \"version_0\", \"checkpoints\", \"best_checkpoint_val.ckpt\")\n",
    "# ckpt_path = os.path.join(MODEL_DIR, \"SSL_atac_multiomics_NeurIPS_random_MAE_tfidftfidf_run3\", \"default\", \"version_0\", \"checkpoints\", \"best_checkpoint_val.ckpt\")\n",
    "# ckpt_path = os.path.join(MODEL_DIR, \"SSL_atac_multiomics_NeurIPS_random_MAE_tfidftfidf_run4\", \"default\", \"version_0\", \"checkpoints\", \"best_checkpoint_val.ckpt\")\n",
    "\n",
    "### new ###\n",
    "# ckpt_path = \"/lustre/groups/ml01/workspace/till.richter/trained_models/final_models/multiomics/SSL_atac_multiomics_NeurIPS_random_MAE_tfidfnew_tfidf_run0/default/version_0/checkpoints/best_checkpoint_val.ckpt\"\n",
    "# ckpt_path = \"/lustre/groups/ml01/workspace/till.richter/trained_models/final_models/multiomics/SSL_atac_multiomics_NeurIPS_random_MAE_tfidfnew_tfidf_run1/default/version_0/checkpoints/best_checkpoint_val.ckpt\"\n",
    "# ckpt_path = \"/lustre/groups/ml01/workspace/till.richter/trained_models/final_models/multiomics/SSL_atac_multiomics_NeurIPS_random_MAE_tfidfnew_tfidf_run2/default/version_0/checkpoints/best_checkpoint_val.ckpt\"\n",
    "# ckpt_path = \"/lustre/groups/ml01/workspace/till.richter/trained_models/final_models/multiomics/SSL_atac_multiomics_NeurIPS_random_MAE_tfidfnew_tfidf_run3/default/version_0/checkpoints/best_checkpoint_val.ckpt\"\n",
    "# ckpt_path = \"/lustre/groups/ml01/workspace/till.richter/trained_models/final_models/multiomics/SSL_atac_multiomics_NeurIPS_random_MAE_tfidfnew_tfidf_run4/default/version_0/checkpoints/best_checkpoint_val.ckpt\"\n",
    "\n",
    "### new + big ###\n",
    "# ckpt_path = \"/lustre/groups/ml01/workspace/till.richter/trained_models/final_models/multiomics/SSL_atac_multiomics_NeurIPS_random_MAE_tfidfnew_big_tfidf_run0/default/version_0/checkpoints/best_checkpoint_val.ckpt\"\n",
    "# ckpt_path = \"/lustre/groups/ml01/workspace/till.richter/trained_models/final_models/multiomics/SSL_atac_multiomics_NeurIPS_random_MAE_tfidfnew2_big_tfidf_run4/default/version_0/checkpoints/best_checkpoint_val.ckpt\"\n",
    "# ckpt_path = \"/lustre/groups/ml01/workspace/till.richter/trained_models/final_models/multiomics/SSL_atac_multiomics_NeurIPS_random_MAE_tfidfnew_big_tfidf_run0/default/version_0/checkpoints/best_checkpoint_val.ckpt\"\n",
    "# ckpt_path = \"/lustre/groups/ml01/workspace/till.richter/trained_models/final_models/multiomics/SSL_atac_multiomics_NeurIPS_random_MAE_tfidfnew_big_tfidf_run1/default/version_0/checkpoints/best_checkpoint_val.ckpt\"\n",
    "# ckpt_path = \"/lustre/groups/ml01/workspace/till.richter/trained_models/final_models/multiomics/SSL_atac_multiomics_NeurIPS_random_MAE_tfidfnew_big_tfidf_run2/default/version_0/checkpoints/best_checkpoint_val.ckpt\"\n",
    "# ckpt_path = \"/lustre/groups/ml01/workspace/till.richter/trained_models/final_models/multiomics/SSL_atac_multiomics_NeurIPS_random_MAE_tfidfnew_big_tfidf_run3/default/version_0/checkpoints/best_checkpoint_val.ckpt\"\n",
    "# ckpt_path = \"/lustre/groups/ml01/workspace/till.richter/trained_models/final_models/multiomics/SSL_atac_multiomics_NeurIPS_random_MAE_tfidfnew_big_tfidf_run4/default/version_0/checkpoints/best_checkpoint_val.ckpt\"\n",
    "# ckpt_path = \"/lustre/groups/ml01/workspace/till.richter/trained_models/final_models/multiomics/SSL_atac_multiomics_NeurIPS_random_MAE_tfidfnew_big_tfidf_run5/default/version_0/checkpoints/best_checkpoint_val.ckpt\"\n",
    "# ckpt_path = \"/lustre/groups/ml01/workspace/till.richter/trained_models/final_models/multiomics/SSL_atac_multiomics_NeurIPS_random_MAE_tfidfnew2_big_tfidf_run2/default/version_1/checkpoints/best_checkpoint_val.ckpt\"\n",
    "# ckpt_path = \"/lustre/groups/ml01/workspace/till.richter/trained_models/final_models/multiomics/SSL_atac_multiomics_NeurIPS_random_MAE_tfidfnew2_big_tfidf_run3/default/version_1/checkpoints/best_checkpoint_val.ckpt\"\n",
    "# ckpt_path = \"/lustre/groups/ml01/workspace/till.richter/trained_models/final_models/multiomics/SSL_atac_multiomics_NeurIPS_random_MAE_tfidfnew2_big_tfidf_run4/default/version_0/checkpoints/best_checkpoint_val.ckpt\""
   ]
  },
  {
   "cell_type": "code",
   "execution_count": 199,
   "id": "c37671e9-1666-4cbe-b18f-fc31784782da",
   "metadata": {},
   "outputs": [],
   "source": [
    "model = MultiomicsMultiAutoencoder(\n",
    "            mode='fine_tuning',\n",
    "            model='MAE',\n",
    "            dropout=0.11642113240634665,\n",
    "            learning_rate=0.00011197711341004587,\n",
    "            weight_decay=0.0010851761758488817,\n",
    "            batch_size=int(4096 / 4),  # Reduce batch size for fine-tuning, predict 116k instead of 2k features\n",
    "        )"
   ]
  },
  {
   "cell_type": "code",
   "execution_count": 200,
   "id": "f04df825-8ab0-4a08-bbf0-af1a1d74d1c2",
   "metadata": {},
   "outputs": [
    {
     "data": {
      "text/plain": [
       "<All keys matched successfully>"
      ]
     },
     "execution_count": 200,
     "metadata": {},
     "output_type": "execute_result"
    }
   ],
   "source": [
    "model.load_state_dict(torch.load(ckpt_path, map_location=torch.device('cpu'))['state_dict'], strict=False)"
   ]
  },
  {
   "cell_type": "code",
   "execution_count": 201,
   "id": "75763961-5a79-4567-b288-6d61027e8036",
   "metadata": {},
   "outputs": [
    {
     "name": "stderr",
     "output_type": "stream",
     "text": [
      "GPU available: False, used: False\n",
      "TPU available: False, using: 0 TPU cores\n",
      "IPU available: False, using: 0 IPUs\n",
      "HPU available: False, using: 0 HPUs\n"
     ]
    }
   ],
   "source": [
    "# Initialize the trainer\n",
    "trainer = pl.Trainer(accelerator=\"cpu\", devices=1)"
   ]
  },
  {
   "cell_type": "code",
   "execution_count": 202,
   "id": "4c248735-afdc-4aee-8474-e6c310a971ad",
   "metadata": {},
   "outputs": [
    {
     "data": {
      "application/vnd.jupyter.widget-view+json": {
       "model_id": "3186828c9910460882f3bf47ab65cdc6",
       "version_major": 2,
       "version_minor": 0
      },
      "text/plain": [
       "Predicting: |                                                                                                 …"
      ]
     },
     "metadata": {},
     "output_type": "display_data"
    }
   ],
   "source": [
    "# Perform inference\n",
    "predictions = trainer.predict(model, dataloaders=test_dataloader)"
   ]
  },
  {
   "cell_type": "code",
   "execution_count": 203,
   "id": "ad4ebbec-1794-4bf0-ac77-1145ad4c2541",
   "metadata": {},
   "outputs": [
    {
     "data": {
      "text/plain": [
       "torch.Size([6896, 116490])"
      ]
     },
     "execution_count": 203,
     "metadata": {},
     "output_type": "execute_result"
    }
   ],
   "source": [
    "all_preds = torch.cat([predictions[i][1] for i in range(len(predictions))], dim=0)\n",
    "all_preds.shape"
   ]
  },
  {
   "cell_type": "markdown",
   "id": "b77ea2c8-04ab-4abc-a52f-4cfa1ca5bf93",
   "metadata": {},
   "source": [
    "### Evaluation Metric from NeurIPS Challenge\n",
    "\n",
    "Essentially a Pearson Correlation"
   ]
  },
  {
   "cell_type": "code",
   "execution_count": 204,
   "id": "da2e96ae-bb62-4605-86a3-3342780aa399",
   "metadata": {},
   "outputs": [],
   "source": [
    "def correlation_score(y_true, y_pred):\n",
    "    \"\"\"Scores the predictions according to the competition rules. \n",
    "    \n",
    "    It is assumed that the predictions are not constant.\n",
    "    \n",
    "    Returns the average of each sample's Pearson correlation coefficient\"\"\"\n",
    "    if type(y_true) == pd.DataFrame: y_true = y_true.values\n",
    "    if type(y_pred) == pd.DataFrame: y_pred = y_pred.values\n",
    "    if y_true.shape != y_pred.shape: raise ValueError(\"Shapes are different.\")\n",
    "    corrsum = 0\n",
    "    for i in range(len(y_true)):\n",
    "        corrsum += np.corrcoef(y_true[i], y_pred[i])[1, 0]\n",
    "    return corrsum / len(y_true)"
   ]
  },
  {
   "cell_type": "markdown",
   "id": "b03784a5-6b1d-45f2-9c89-54c97e87a20e",
   "metadata": {},
   "source": [
    "### Evaluation"
   ]
  },
  {
   "cell_type": "code",
   "execution_count": 205,
   "id": "3065b3e4-4cda-4f38-bf13-0a07e29c5045",
   "metadata": {
    "scrolled": true
   },
   "outputs": [
    {
     "name": "stdout",
     "output_type": "stream",
     "text": [
      "MLP Test MSE: 0.43552955382885333\n",
      "MLP Test Correlation: 0.06276293699490376\n"
     ]
    }
   ],
   "source": [
    "# Calculate Test Pearson Correlation\n",
    "test_mse = mean_squared_error(test_atac.toarray(), np.array(all_preds))\n",
    "test_corr = correlation_score(test_atac.toarray(), np.array(all_preds))\n",
    "\n",
    "print(\"MLP Test MSE:\", test_mse)\n",
    "print(\"MLP Test Correlation:\", test_corr)"
   ]
  },
  {
   "cell_type": "code",
   "execution_count": null,
   "id": "43088095-445a-4e98-bed4-144301ac0ecd",
   "metadata": {},
   "outputs": [],
   "source": [
    "import pandas as pd\n",
    "import seaborn as sns\n",
    "import matplotlib.pyplot as plt\n",
    "\n",
    "# Define your results in a dictionary\n",
    "data = {\n",
    "    'Model': ['Linear'] * 1 + ['Supervised'] * 3 + ['SSL - scTab'] * 3 + ['SSL - NeurIPS'] * 3,\n",
    "    'Pearson Correlation': [\n",
    "        0.16219452299615636,  # Linear\n",
    "        0.1923985705574413, 0.19130795020056338, 0.19239857055063997,  # Supervised\n",
    "        0.20528594586381807, 0.20170950377163432, 0.2028211667987072,  # SSL - scTab\n",
    "        0.19100245776051722, 0.19069321282681703, 0.19116319342038793   # SSL - NeurIPS\n",
    "    ]\n",
    "}\n",
    "\n",
    "# Create a DataFrame\n",
    "mean_results_df = pd.DataFrame(data)\n",
    "\n",
    "# Rename models\n",
    "def rename_model(model_name):\n",
    "    if model_name == \"Supervised\":\n",
    "        return \"Supervised\"\n",
    "    elif model_name == \"SSL - scTab\":\n",
    "        return \"Self-Supervised:\\nRandom Mask\\nscTab Dataset\"\n",
    "    elif model_name == \"SSL - NeurIPS\":\n",
    "        return \"Self-Supervised\\nRandom Mask\\nNeurIPS Dataset\"\n",
    "    elif model_name == \"Linear\":\n",
    "        return \"Linear\"\n",
    "    else:\n",
    "        return model_name\n",
    "\n",
    "mean_results_df['Model Type'] = mean_results_df['Model'].apply(rename_model)\n",
    "\n",
    "# Define font and tick properties\n",
    "font = {'family': 'sans-serif', 'size': 5}  # Adjust the size as needed\n",
    "fontdict = {'family': 'sans-serif', 'fontsize': 5}  # Adjust the size as needed\n",
    "tick_font = {'fontsize': 5, 'fontname': 'sans-serif'}  # For tick labels\n",
    "\n",
    "# Set the colorblind friendly palette\n",
    "# Setting the style for the plots\n",
    "sns.set_theme(style=\"whitegrid\")\n",
    "sns.set_palette(\"colorblind\")\n",
    "\n",
    "# Get the list of colors in the palette\n",
    "palette_colors = sns.color_palette(\"colorblind\")\n",
    "\n",
    "# Access the colors\n",
    "color_supervised = palette_colors[0]  # First color\n",
    "color_ssl = palette_colors[1]  # Second color\n",
    "color_zeroshot = palette_colors[2]  # Third color\n",
    "color_baseline = palette_colors[3]  # Fourth color\n",
    "color_else1 = palette_colors[5]\n",
    "color_else2 = palette_colors[6]\n",
    "color_else3 = palette_colors[7]\n",
    "\n",
    "# Define the order of models\n",
    "model_order = [\"Linear\", \"Supervised\", \"Self-Supervised\\nRandom Mask\\nNeurIPS Dataset\", \"Self-Supervised:\\nRandom Mask\\nscTab Dataset\"]\n",
    "\n",
    "# Define color mapping for each model type\n",
    "model_colors = {\n",
    "    \"Supervised\": color_supervised,\n",
    "    \"Self-Supervised:\\nRandom Mask\\nscTab Dataset\": color_ssl,\n",
    "    \"Self-Supervised\\nRandom Mask\\nNeurIPS Dataset\": color_ssl,\n",
    "    \"Linear\": palette_colors[3]\n",
    "}\n",
    "\n",
    "# Box plot for Pearson Correlation\n",
    "plt.figure(figsize=(3.5, 2.5))\n",
    "ax1 = sns.boxplot(x='Model Type', y='Pearson Correlation', data=mean_results_df, linewidth=0.5, order=model_order, palette=model_colors)\n",
    "ax1.set_xlabel('Model Type', fontdict=font)\n",
    "ax1.set_ylabel('Pearson Correlation', fontdict=font)\n",
    "ax1.set_title('Cross-Modality Prediction', fontdict=font)\n",
    "\n",
    "# Set font for all tick labels to match the fontdict\n",
    "ax1.set_xticklabels(ax1.get_xticklabels(), **tick_font)\n",
    "ax1.set_yticklabels(ax1.get_yticklabels(), **tick_font)\n",
    "plt.savefig(RESULTS_FOLDER + \"/multiomics/atac_pearson_corr.svg\", bbox_inches='tight')  # Save as SVG\n",
    "\n",
    "plt.show()\n"
   ]
  }
 ],
 "metadata": {
  "kernelspec": {
   "display_name": "Python [conda env:celldreamer]",
   "language": "python",
   "name": "celldreamer"
  },
  "language_info": {
   "codemirror_mode": {
    "name": "ipython",
    "version": 3
   },
   "file_extension": ".py",
   "mimetype": "text/x-python",
   "name": "python",
   "nbconvert_exporter": "python",
   "pygments_lexer": "ipython3",
   "version": "3.10.12"
  }
 },
 "nbformat": 4,
 "nbformat_minor": 5
}
