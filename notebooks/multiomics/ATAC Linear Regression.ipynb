{
 "cells": [
  {
   "cell_type": "markdown",
   "id": "c759fba1-ac9c-435e-824a-b96b95bfea35",
   "metadata": {},
   "source": [
    "# Cross-Modality Prediction with Linear Regression"
   ]
  },
  {
   "cell_type": "code",
   "execution_count": 3,
   "id": "14c7ba5c",
   "metadata": {},
   "outputs": [],
   "source": [
    "import numpy as np\n",
    "import scanpy as sc\n",
    "from sklearn.linear_model import LinearRegression, Ridge\n",
    "from scipy.stats import pearsonr\n",
    "from sklearn.metrics import mean_squared_error\n",
    "import pandas as pd\n",
    "import os\n",
    "from self_supervision.paths import MULTIMODAL_FOLDER"
   ]
  },
  {
   "cell_type": "markdown",
   "id": "dae6c6b6-7d58-4064-9131-ad3e488ff0b5",
   "metadata": {},
   "source": [
    "### Load and Prepare Data"
   ]
  },
  {
   "cell_type": "code",
   "execution_count": 27,
   "id": "4de2595e",
   "metadata": {},
   "outputs": [
    {
     "data": {
      "text/plain": [
       "AnnData object with n_obs × n_vars = 69249 × 2000\n",
       "    obs: 'GEX_pct_counts_mt', 'GEX_n_counts', 'GEX_n_genes', 'GEX_size_factors', 'GEX_phase', 'ATAC_nCount_peaks', 'ATAC_atac_fragments', 'ATAC_reads_in_peaks_frac', 'ATAC_blacklist_fraction', 'ATAC_nucleosome_signal', 'cell_type', 'batch', 'ATAC_pseudotime_order', 'GEX_pseudotime_order', 'Samplename', 'Site', 'DonorNumber', 'Modality', 'VendorLot', 'DonorID', 'DonorAge', 'DonorBMI', 'DonorBloodType', 'DonorRace', 'Ethnicity', 'DonorGender', 'QCMeds', 'DonorSmoker', 'split'\n",
       "    var: 'feature_types', 'gene_id', 'highly_variable', 'means', 'dispersions', 'dispersions_norm'\n",
       "    obsm: 'atac'"
      ]
     },
     "execution_count": 27,
     "metadata": {},
     "output_type": "execute_result"
    }
   ],
   "source": [
    "# adata = sc.read_h5ad(os.path.join(MULTIMODAL_FOLDER, \"NeurIPS_multi_filtered_hvg_adata.h5ad\"))\n",
    "adata = sc.read_h5ad(os.path.join(MULTIMODAL_FOLDER, \"NeurIPS_tfidf_filtered_hvg_adata.h5ad\"))\n",
    "\n",
    "adata"
   ]
  },
  {
   "cell_type": "code",
   "execution_count": 28,
   "id": "2ed0ddd2-0480-407b-be75-886dbfa20d51",
   "metadata": {},
   "outputs": [
    {
     "data": {
      "text/plain": [
       "(69249, 116490)"
      ]
     },
     "execution_count": 28,
     "metadata": {},
     "output_type": "execute_result"
    }
   ],
   "source": [
    "adata.obsm['atac'].shape"
   ]
  },
  {
   "cell_type": "code",
   "execution_count": 29,
   "id": "992e34b7-e8c8-4ff3-98ee-fdda5a84a0f8",
   "metadata": {},
   "outputs": [],
   "source": [
    "train_adata = adata[adata.obs['split'] == 'train']\n",
    "test_adata = adata[adata.obs['split'] == 'test']"
   ]
  },
  {
   "cell_type": "code",
   "execution_count": 30,
   "id": "1ac09aab-f5e6-47f4-b863-f716c84d3851",
   "metadata": {},
   "outputs": [],
   "source": [
    "train_mRNA = np.asarray(train_adata.X.todense())\n",
    "train_atac = train_adata.obsm['atac']\n",
    "\n",
    "test_mRNA = np.asarray(test_adata.X.todense())\n",
    "test_atac = test_adata.obsm['atac']"
   ]
  },
  {
   "cell_type": "code",
   "execution_count": 31,
   "id": "93a216fb-8b74-4cbb-ae0e-7cb56dcdd7a8",
   "metadata": {},
   "outputs": [],
   "source": [
    "# Ensure the data is in dense format\n",
    "train_mRNA = train_mRNA.toarray() if hasattr(train_mRNA, 'toarray') else train_mRNA\n",
    "train_atac = train_atac.toarray() if hasattr(train_atac, 'toarray') else train_atac\n",
    "test_mRNA = test_mRNA.toarray() if hasattr(test_mRNA, 'toarray') else test_mRNA\n",
    "test_atac = test_atac.toarray() if hasattr(test_atac, 'toarray') else test_atac"
   ]
  },
  {
   "cell_type": "markdown",
   "id": "dedbd316-27e4-4523-80ed-5ae7592110bf",
   "metadata": {},
   "source": [
    "### Fit Linear Model (with and without regularization)"
   ]
  },
  {
   "cell_type": "code",
   "execution_count": 32,
   "id": "788ec5ac-7afe-451a-8299-2c61af0ac88b",
   "metadata": {},
   "outputs": [
    {
     "data": {
      "text/plain": [
       "(55398, 116490)"
      ]
     },
     "execution_count": 32,
     "metadata": {},
     "output_type": "execute_result"
    }
   ],
   "source": [
    "train_atac.shape"
   ]
  },
  {
   "cell_type": "code",
   "execution_count": 33,
   "id": "f1a976ee-c5df-4fe5-8748-7595012f0609",
   "metadata": {},
   "outputs": [
    {
     "data": {
      "text/html": [
       "<style>#sk-container-id-5 {color: black;background-color: white;}#sk-container-id-5 pre{padding: 0;}#sk-container-id-5 div.sk-toggleable {background-color: white;}#sk-container-id-5 label.sk-toggleable__label {cursor: pointer;display: block;width: 100%;margin-bottom: 0;padding: 0.3em;box-sizing: border-box;text-align: center;}#sk-container-id-5 label.sk-toggleable__label-arrow:before {content: \"▸\";float: left;margin-right: 0.25em;color: #696969;}#sk-container-id-5 label.sk-toggleable__label-arrow:hover:before {color: black;}#sk-container-id-5 div.sk-estimator:hover label.sk-toggleable__label-arrow:before {color: black;}#sk-container-id-5 div.sk-toggleable__content {max-height: 0;max-width: 0;overflow: hidden;text-align: left;background-color: #f0f8ff;}#sk-container-id-5 div.sk-toggleable__content pre {margin: 0.2em;color: black;border-radius: 0.25em;background-color: #f0f8ff;}#sk-container-id-5 input.sk-toggleable__control:checked~div.sk-toggleable__content {max-height: 200px;max-width: 100%;overflow: auto;}#sk-container-id-5 input.sk-toggleable__control:checked~label.sk-toggleable__label-arrow:before {content: \"▾\";}#sk-container-id-5 div.sk-estimator input.sk-toggleable__control:checked~label.sk-toggleable__label {background-color: #d4ebff;}#sk-container-id-5 div.sk-label input.sk-toggleable__control:checked~label.sk-toggleable__label {background-color: #d4ebff;}#sk-container-id-5 input.sk-hidden--visually {border: 0;clip: rect(1px 1px 1px 1px);clip: rect(1px, 1px, 1px, 1px);height: 1px;margin: -1px;overflow: hidden;padding: 0;position: absolute;width: 1px;}#sk-container-id-5 div.sk-estimator {font-family: monospace;background-color: #f0f8ff;border: 1px dotted black;border-radius: 0.25em;box-sizing: border-box;margin-bottom: 0.5em;}#sk-container-id-5 div.sk-estimator:hover {background-color: #d4ebff;}#sk-container-id-5 div.sk-parallel-item::after {content: \"\";width: 100%;border-bottom: 1px solid gray;flex-grow: 1;}#sk-container-id-5 div.sk-label:hover label.sk-toggleable__label {background-color: #d4ebff;}#sk-container-id-5 div.sk-serial::before {content: \"\";position: absolute;border-left: 1px solid gray;box-sizing: border-box;top: 0;bottom: 0;left: 50%;z-index: 0;}#sk-container-id-5 div.sk-serial {display: flex;flex-direction: column;align-items: center;background-color: white;padding-right: 0.2em;padding-left: 0.2em;position: relative;}#sk-container-id-5 div.sk-item {position: relative;z-index: 1;}#sk-container-id-5 div.sk-parallel {display: flex;align-items: stretch;justify-content: center;background-color: white;position: relative;}#sk-container-id-5 div.sk-item::before, #sk-container-id-5 div.sk-parallel-item::before {content: \"\";position: absolute;border-left: 1px solid gray;box-sizing: border-box;top: 0;bottom: 0;left: 50%;z-index: -1;}#sk-container-id-5 div.sk-parallel-item {display: flex;flex-direction: column;z-index: 1;position: relative;background-color: white;}#sk-container-id-5 div.sk-parallel-item:first-child::after {align-self: flex-end;width: 50%;}#sk-container-id-5 div.sk-parallel-item:last-child::after {align-self: flex-start;width: 50%;}#sk-container-id-5 div.sk-parallel-item:only-child::after {width: 0;}#sk-container-id-5 div.sk-dashed-wrapped {border: 1px dashed gray;margin: 0 0.4em 0.5em 0.4em;box-sizing: border-box;padding-bottom: 0.4em;background-color: white;}#sk-container-id-5 div.sk-label label {font-family: monospace;font-weight: bold;display: inline-block;line-height: 1.2em;}#sk-container-id-5 div.sk-label-container {text-align: center;}#sk-container-id-5 div.sk-container {/* jupyter's `normalize.less` sets `[hidden] { display: none; }` but bootstrap.min.css set `[hidden] { display: none !important; }` so we also need the `!important` here to be able to override the default hidden behavior on the sphinx rendered scikit-learn.org. See: https://github.com/scikit-learn/scikit-learn/issues/21755 */display: inline-block !important;position: relative;}#sk-container-id-5 div.sk-text-repr-fallback {display: none;}</style><div id=\"sk-container-id-5\" class=\"sk-top-container\"><div class=\"sk-text-repr-fallback\"><pre>LinearRegression()</pre><b>In a Jupyter environment, please rerun this cell to show the HTML representation or trust the notebook. <br />On GitHub, the HTML representation is unable to render, please try loading this page with nbviewer.org.</b></div><div class=\"sk-container\" hidden><div class=\"sk-item\"><div class=\"sk-estimator sk-toggleable\"><input class=\"sk-toggleable__control sk-hidden--visually\" id=\"sk-estimator-id-5\" type=\"checkbox\" checked><label for=\"sk-estimator-id-5\" class=\"sk-toggleable__label sk-toggleable__label-arrow\">LinearRegression</label><div class=\"sk-toggleable__content\"><pre>LinearRegression()</pre></div></div></div></div></div>"
      ],
      "text/plain": [
       "LinearRegression()"
      ]
     },
     "execution_count": 33,
     "metadata": {},
     "output_type": "execute_result"
    }
   ],
   "source": [
    "linear = LinearRegression()\n",
    "linear.fit(train_mRNA, train_atac)"
   ]
  },
  {
   "cell_type": "code",
   "execution_count": 34,
   "id": "264b9ebf-9e5d-405f-8f94-dffe07826ce2",
   "metadata": {},
   "outputs": [
    {
     "data": {
      "text/html": [
       "<style>#sk-container-id-6 {color: black;background-color: white;}#sk-container-id-6 pre{padding: 0;}#sk-container-id-6 div.sk-toggleable {background-color: white;}#sk-container-id-6 label.sk-toggleable__label {cursor: pointer;display: block;width: 100%;margin-bottom: 0;padding: 0.3em;box-sizing: border-box;text-align: center;}#sk-container-id-6 label.sk-toggleable__label-arrow:before {content: \"▸\";float: left;margin-right: 0.25em;color: #696969;}#sk-container-id-6 label.sk-toggleable__label-arrow:hover:before {color: black;}#sk-container-id-6 div.sk-estimator:hover label.sk-toggleable__label-arrow:before {color: black;}#sk-container-id-6 div.sk-toggleable__content {max-height: 0;max-width: 0;overflow: hidden;text-align: left;background-color: #f0f8ff;}#sk-container-id-6 div.sk-toggleable__content pre {margin: 0.2em;color: black;border-radius: 0.25em;background-color: #f0f8ff;}#sk-container-id-6 input.sk-toggleable__control:checked~div.sk-toggleable__content {max-height: 200px;max-width: 100%;overflow: auto;}#sk-container-id-6 input.sk-toggleable__control:checked~label.sk-toggleable__label-arrow:before {content: \"▾\";}#sk-container-id-6 div.sk-estimator input.sk-toggleable__control:checked~label.sk-toggleable__label {background-color: #d4ebff;}#sk-container-id-6 div.sk-label input.sk-toggleable__control:checked~label.sk-toggleable__label {background-color: #d4ebff;}#sk-container-id-6 input.sk-hidden--visually {border: 0;clip: rect(1px 1px 1px 1px);clip: rect(1px, 1px, 1px, 1px);height: 1px;margin: -1px;overflow: hidden;padding: 0;position: absolute;width: 1px;}#sk-container-id-6 div.sk-estimator {font-family: monospace;background-color: #f0f8ff;border: 1px dotted black;border-radius: 0.25em;box-sizing: border-box;margin-bottom: 0.5em;}#sk-container-id-6 div.sk-estimator:hover {background-color: #d4ebff;}#sk-container-id-6 div.sk-parallel-item::after {content: \"\";width: 100%;border-bottom: 1px solid gray;flex-grow: 1;}#sk-container-id-6 div.sk-label:hover label.sk-toggleable__label {background-color: #d4ebff;}#sk-container-id-6 div.sk-serial::before {content: \"\";position: absolute;border-left: 1px solid gray;box-sizing: border-box;top: 0;bottom: 0;left: 50%;z-index: 0;}#sk-container-id-6 div.sk-serial {display: flex;flex-direction: column;align-items: center;background-color: white;padding-right: 0.2em;padding-left: 0.2em;position: relative;}#sk-container-id-6 div.sk-item {position: relative;z-index: 1;}#sk-container-id-6 div.sk-parallel {display: flex;align-items: stretch;justify-content: center;background-color: white;position: relative;}#sk-container-id-6 div.sk-item::before, #sk-container-id-6 div.sk-parallel-item::before {content: \"\";position: absolute;border-left: 1px solid gray;box-sizing: border-box;top: 0;bottom: 0;left: 50%;z-index: -1;}#sk-container-id-6 div.sk-parallel-item {display: flex;flex-direction: column;z-index: 1;position: relative;background-color: white;}#sk-container-id-6 div.sk-parallel-item:first-child::after {align-self: flex-end;width: 50%;}#sk-container-id-6 div.sk-parallel-item:last-child::after {align-self: flex-start;width: 50%;}#sk-container-id-6 div.sk-parallel-item:only-child::after {width: 0;}#sk-container-id-6 div.sk-dashed-wrapped {border: 1px dashed gray;margin: 0 0.4em 0.5em 0.4em;box-sizing: border-box;padding-bottom: 0.4em;background-color: white;}#sk-container-id-6 div.sk-label label {font-family: monospace;font-weight: bold;display: inline-block;line-height: 1.2em;}#sk-container-id-6 div.sk-label-container {text-align: center;}#sk-container-id-6 div.sk-container {/* jupyter's `normalize.less` sets `[hidden] { display: none; }` but bootstrap.min.css set `[hidden] { display: none !important; }` so we also need the `!important` here to be able to override the default hidden behavior on the sphinx rendered scikit-learn.org. See: https://github.com/scikit-learn/scikit-learn/issues/21755 */display: inline-block !important;position: relative;}#sk-container-id-6 div.sk-text-repr-fallback {display: none;}</style><div id=\"sk-container-id-6\" class=\"sk-top-container\"><div class=\"sk-text-repr-fallback\"><pre>Ridge(copy_X=False)</pre><b>In a Jupyter environment, please rerun this cell to show the HTML representation or trust the notebook. <br />On GitHub, the HTML representation is unable to render, please try loading this page with nbviewer.org.</b></div><div class=\"sk-container\" hidden><div class=\"sk-item\"><div class=\"sk-estimator sk-toggleable\"><input class=\"sk-toggleable__control sk-hidden--visually\" id=\"sk-estimator-id-6\" type=\"checkbox\" checked><label for=\"sk-estimator-id-6\" class=\"sk-toggleable__label sk-toggleable__label-arrow\">Ridge</label><div class=\"sk-toggleable__content\"><pre>Ridge(copy_X=False)</pre></div></div></div></div></div>"
      ],
      "text/plain": [
       "Ridge(copy_X=False)"
      ]
     },
     "execution_count": 34,
     "metadata": {},
     "output_type": "execute_result"
    }
   ],
   "source": [
    "ridge = Ridge(copy_X=False)\n",
    "ridge.fit(train_mRNA, train_atac)"
   ]
  },
  {
   "cell_type": "markdown",
   "id": "b77ea2c8-04ab-4abc-a52f-4cfa1ca5bf93",
   "metadata": {},
   "source": [
    "### Evaluation Metric from NeurIPS Challenge\n",
    "\n",
    "Essentially a Pearson Correlation"
   ]
  },
  {
   "cell_type": "code",
   "execution_count": 35,
   "id": "da2e96ae-bb62-4605-86a3-3342780aa399",
   "metadata": {},
   "outputs": [],
   "source": [
    "def correlation_score(y_true, y_pred):\n",
    "    \"\"\"Scores the predictions according to the competition rules. \n",
    "    \n",
    "    It is assumed that the predictions are not constant.\n",
    "    \n",
    "    Returns the average of each sample's Pearson correlation coefficient\"\"\"\n",
    "    if type(y_true) == pd.DataFrame: y_true = y_true.values\n",
    "    if type(y_pred) == pd.DataFrame: y_pred = y_pred.values\n",
    "    if y_true.shape != y_pred.shape: raise ValueError(\"Shapes are different.\")\n",
    "    corrsum = 0\n",
    "    for i in range(len(y_true)):\n",
    "        corrsum += np.corrcoef(y_true[i], y_pred[i])[1, 0]\n",
    "    return corrsum / len(y_true)"
   ]
  },
  {
   "cell_type": "markdown",
   "id": "b03784a5-6b1d-45f2-9c89-54c97e87a20e",
   "metadata": {},
   "source": [
    "### Evaluation"
   ]
  },
  {
   "cell_type": "code",
   "execution_count": 36,
   "id": "55628694-91b2-4df1-b21b-b3e763cd3bc0",
   "metadata": {},
   "outputs": [],
   "source": [
    "linear_train_predictions = linear.predict(train_mRNA)\n",
    "linear_test_predictions = linear.predict(test_mRNA)\n",
    "\n",
    "ridge_train_predictions = ridge.predict(train_mRNA)\n",
    "ridge_test_predictions = ridge.predict(test_mRNA)"
   ]
  },
  {
   "cell_type": "code",
   "execution_count": 37,
   "id": "3065b3e4-4cda-4f38-bf13-0a07e29c5045",
   "metadata": {},
   "outputs": [
    {
     "name": "stdout",
     "output_type": "stream",
     "text": [
      "Linear Train MSE: 0.395473450898623\n",
      "Linear Train Correlation: 0.27767407257137994\n",
      "Linear Test MSE: 0.4238630451872869\n",
      "Linear Test Correlation: 0.16219452299615636\n"
     ]
    }
   ],
   "source": [
    "# Calculate Test Mean Squared Error\n",
    "train_mse = mean_squared_error(train_atac, linear_train_predictions)\n",
    "test_mse = mean_squared_error(test_atac, linear_test_predictions)\n",
    "\n",
    "# Calculate Test Pearson Correlation\n",
    "train_corr = correlation_score(train_atac, linear_train_predictions)\n",
    "test_corr = correlation_score(test_atac, linear_test_predictions)\n",
    "\n",
    "print(\"Linear Train MSE:\", train_mse)\n",
    "print(\"Linear Train Correlation:\", train_corr)\n",
    "print(\"Linear Test MSE:\", test_mse)\n",
    "print(\"Linear Test Correlation:\", test_corr)"
   ]
  },
  {
   "cell_type": "code",
   "execution_count": 38,
   "id": "a26ec5c4-a7eb-4d97-84d1-a16d58408e4a",
   "metadata": {},
   "outputs": [
    {
     "name": "stdout",
     "output_type": "stream",
     "text": [
      "Ridge Train MSE: 0.39547340652406965\n",
      "Ridge Train Correlation: 0.2776760653550196\n",
      "Ridge Test MSE: 0.4238550043487647\n",
      "Ridge Test Correlation: 0.16221148659388504\n"
     ]
    }
   ],
   "source": [
    "# Calculate Test Mean Squared Error\n",
    "train_mse = mean_squared_error(train_atac, ridge_train_predictions)\n",
    "test_mse = mean_squared_error(test_atac, ridge_test_predictions)\n",
    "\n",
    "# Calculate Test Pearson Correlation\n",
    "train_corr = correlation_score(train_atac, ridge_train_predictions)\n",
    "test_corr = correlation_score(test_atac, ridge_test_predictions)\n",
    "\n",
    "print(\"Ridge Train MSE:\", train_mse)\n",
    "print(\"Ridge Train Correlation:\", train_corr)\n",
    "print(\"Ridge Test MSE:\", test_mse)\n",
    "print(\"Ridge Test Correlation:\", test_corr)"
   ]
  },
  {
   "cell_type": "code",
   "execution_count": null,
   "id": "fe5a33da-c719-4570-a6ba-0a1cb74a8052",
   "metadata": {},
   "outputs": [],
   "source": []
  }
 ],
 "metadata": {
  "kernelspec": {
   "display_name": "Python [conda env:celldreamer]",
   "language": "python",
   "name": "celldreamer"
  },
  "language_info": {
   "codemirror_mode": {
    "name": "ipython",
    "version": 3
   },
   "file_extension": ".py",
   "mimetype": "text/x-python",
   "name": "python",
   "nbconvert_exporter": "python",
   "pygments_lexer": "ipython3",
   "version": "3.10.12"
  }
 },
 "nbformat": 4,
 "nbformat_minor": 5
}
