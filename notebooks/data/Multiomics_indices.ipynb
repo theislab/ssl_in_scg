{
 "cells": [
  {
   "cell_type": "code",
   "execution_count": 1,
   "id": "df09a675-5d99-42c0-a765-5015ffdf504d",
   "metadata": {},
   "outputs": [],
   "source": [
    "import scanpy as sc\n",
    "import pandas as pd\n",
    "import pickle\n",
    "import numpy as np\n",
    "from os.path import join\n",
    "import dask.dataframe as dd\n",
    "import os\n",
    "from self_supervision.paths import MULTIMODAL_FOLDER, DATA_DIR"
   ]
  },
  {
   "cell_type": "markdown",
   "id": "2f2287a4-d2fe-4fd9-b2b6-bbad980724fd",
   "metadata": {},
   "source": [
    "# Only check adata"
   ]
  },
  {
   "cell_type": "markdown",
   "id": "c5576dcf-d50d-4dad-8c4c-aeb818d82100",
   "metadata": {},
   "source": [
    "### Create an adata with the genes available in the large dataset"
   ]
  },
  {
   "cell_type": "code",
   "execution_count": 2,
   "id": "6a0d5991-f2d2-437d-9007-602e5a86dd99",
   "metadata": {},
   "outputs": [],
   "source": [
    "adata = sc.read_h5ad(os.path.join(MULTIMODAL_FOLDER, 'GSE194122_openproblems_neurips2021_cite_BMMC_processed.h5ad'))"
   ]
  },
  {
   "cell_type": "code",
   "execution_count": 3,
   "id": "6b866cf9-cf4f-4a46-a5ba-30f3614abe8f",
   "metadata": {},
   "outputs": [
    {
     "data": {
      "text/plain": [
       "AnnData object with n_obs × n_vars = 90261 × 14087\n",
       "    obs: 'GEX_n_genes_by_counts', 'GEX_pct_counts_mt', 'GEX_size_factors', 'GEX_phase', 'ADT_n_antibodies_by_counts', 'ADT_total_counts', 'ADT_iso_count', 'cell_type', 'batch', 'ADT_pseudotime_order', 'GEX_pseudotime_order', 'Samplename', 'Site', 'DonorNumber', 'Modality', 'VendorLot', 'DonorID', 'DonorAge', 'DonorBMI', 'DonorBloodType', 'DonorRace', 'Ethnicity', 'DonorGender', 'QCMeds', 'DonorSmoker', 'is_train'\n",
       "    var: 'feature_types', 'gene_id'\n",
       "    uns: 'dataset_id', 'genome', 'organism'\n",
       "    obsm: 'ADT_X_pca', 'ADT_X_umap', 'ADT_isotype_controls', 'GEX_X_pca', 'GEX_X_umap'\n",
       "    layers: 'counts'"
      ]
     },
     "execution_count": 3,
     "metadata": {},
     "output_type": "execute_result"
    }
   ],
   "source": [
    "adata"
   ]
  },
  {
   "cell_type": "code",
   "execution_count": 3,
   "id": "0528fff5-3527-4459-89b1-3e5fabcbb881",
   "metadata": {},
   "outputs": [
    {
     "data": {
      "text/plain": [
       "AL627309.5    ENSG00000241860\n",
       "LINC01409     ENSG00000237491\n",
       "LINC01128     ENSG00000228794\n",
       "LINC00115     ENSG00000225880\n",
       "FAM41C        ENSG00000230368\n",
       "                   ...       \n",
       "HLA-E         ENSG00000204592\n",
       "CD82          ENSG00000085117\n",
       "CD101         ENSG00000134256\n",
       "CD88                      NaN\n",
       "CD224                     NaN\n",
       "Name: gene_id, Length: 14087, dtype: category\n",
       "Categories (13953, object): ['ENSG00000000419', 'ENSG00000000457', 'ENSG00000000460', 'ENSG00000000938', ..., 'ENSG00000288253', 'ENSG00000288302', 'ENSG00000288380', 'ENSG00000288398']"
      ]
     },
     "execution_count": 3,
     "metadata": {},
     "output_type": "execute_result"
    }
   ],
   "source": [
    "adata.var['gene_id']"
   ]
  },
  {
   "cell_type": "markdown",
   "id": "779ec190-fe3a-4f86-b120-45ac856af534",
   "metadata": {},
   "source": [
    "### Genes in cell x gene store"
   ]
  },
  {
   "cell_type": "code",
   "execution_count": 2,
   "id": "40c4b6a8-b15a-49f5-8dca-d7f0abcff2c0",
   "metadata": {},
   "outputs": [],
   "source": [
    "STORE_PATH = os.path.join(DATA_DIR, 'merlin_cxg_2023_05_15_sf-log1p')\n",
    "var = list(pd.read_parquet(join(STORE_PATH, 'var.parquet'))['feature_id'])"
   ]
  },
  {
   "cell_type": "markdown",
   "id": "30a632bc-5192-4a3b-900b-990727e1297e",
   "metadata": {},
   "source": [
    "### Cell types in cell x gene store"
   ]
  },
  {
   "cell_type": "code",
   "execution_count": 8,
   "id": "8e178c7b-cf03-4b47-aed5-b04801c44cf1",
   "metadata": {},
   "outputs": [
    {
     "data": {
      "text/plain": [
       "array([140, 129,  14, ...,  19, 129, 160])"
      ]
     },
     "execution_count": 8,
     "metadata": {},
     "output_type": "execute_result"
    }
   ],
   "source": [
    "cell_type_mapping = pd.read_parquet(os.path.join(STORE_PATH, 'categorical_lookup/cell_type.parquet'))\n",
    "y_true = dd.read_parquet(join(STORE_PATH, 'test'), columns='cell_type').compute().to_numpy()\n",
    "y_true"
   ]
  },
  {
   "cell_type": "code",
   "execution_count": 9,
   "id": "dd3bccb8-e7e2-411c-abf8-12be46ef897c",
   "metadata": {},
   "outputs": [
    {
     "data": {
      "text/html": [
       "<div>\n",
       "<style scoped>\n",
       "    .dataframe tbody tr th:only-of-type {\n",
       "        vertical-align: middle;\n",
       "    }\n",
       "\n",
       "    .dataframe tbody tr th {\n",
       "        vertical-align: top;\n",
       "    }\n",
       "\n",
       "    .dataframe thead th {\n",
       "        text-align: right;\n",
       "    }\n",
       "</style>\n",
       "<table border=\"1\" class=\"dataframe\">\n",
       "  <thead>\n",
       "    <tr style=\"text-align: right;\">\n",
       "      <th></th>\n",
       "      <th>label</th>\n",
       "    </tr>\n",
       "  </thead>\n",
       "  <tbody>\n",
       "    <tr>\n",
       "      <th>0</th>\n",
       "      <td>B cell</td>\n",
       "    </tr>\n",
       "    <tr>\n",
       "      <th>1</th>\n",
       "      <td>Bergmann glial cell</td>\n",
       "    </tr>\n",
       "    <tr>\n",
       "      <th>2</th>\n",
       "      <td>CD14-low, CD16-positive monocyte</td>\n",
       "    </tr>\n",
       "    <tr>\n",
       "      <th>3</th>\n",
       "      <td>CD14-positive monocyte</td>\n",
       "    </tr>\n",
       "    <tr>\n",
       "      <th>4</th>\n",
       "      <td>CD14-positive, CD16-negative classical monocyte</td>\n",
       "    </tr>\n",
       "    <tr>\n",
       "      <th>...</th>\n",
       "      <td>...</td>\n",
       "    </tr>\n",
       "    <tr>\n",
       "      <th>159</th>\n",
       "      <td>type I pneumocyte</td>\n",
       "    </tr>\n",
       "    <tr>\n",
       "      <th>160</th>\n",
       "      <td>type II pneumocyte</td>\n",
       "    </tr>\n",
       "    <tr>\n",
       "      <th>161</th>\n",
       "      <td>vascular associated smooth muscle cell</td>\n",
       "    </tr>\n",
       "    <tr>\n",
       "      <th>162</th>\n",
       "      <td>vein endothelial cell</td>\n",
       "    </tr>\n",
       "    <tr>\n",
       "      <th>163</th>\n",
       "      <td>vip GABAergic cortical interneuron</td>\n",
       "    </tr>\n",
       "  </tbody>\n",
       "</table>\n",
       "<p>164 rows × 1 columns</p>\n",
       "</div>"
      ],
      "text/plain": [
       "                                               label\n",
       "0                                             B cell\n",
       "1                                Bergmann glial cell\n",
       "2                   CD14-low, CD16-positive monocyte\n",
       "3                             CD14-positive monocyte\n",
       "4    CD14-positive, CD16-negative classical monocyte\n",
       "..                                               ...\n",
       "159                                type I pneumocyte\n",
       "160                               type II pneumocyte\n",
       "161           vascular associated smooth muscle cell\n",
       "162                            vein endothelial cell\n",
       "163               vip GABAergic cortical interneuron\n",
       "\n",
       "[164 rows x 1 columns]"
      ]
     },
     "execution_count": 9,
     "metadata": {},
     "output_type": "execute_result"
    }
   ],
   "source": [
    "cell_type_mapping"
   ]
  },
  {
   "cell_type": "code",
   "execution_count": 11,
   "id": "287b8aeb-f47e-49d3-a9e8-79480336968e",
   "metadata": {
    "scrolled": true,
    "tags": []
   },
   "outputs": [
    {
     "data": {
      "text/plain": [
       "['CD4-positive, alpha-beta memory T cell',\n",
       " 'ciliated columnar cell of tracheobronchial tree',\n",
       " 'endothelial cell of lymphatic vessel',\n",
       " 'CD8-positive, alpha-beta cytotoxic T cell',\n",
       " 'sncg GABAergic cortical interneuron',\n",
       " 'erythroblast',\n",
       " 'alveolar macrophage',\n",
       " 'lung pericyte',\n",
       " 'alternatively activated macrophage',\n",
       " 'effector memory CD4-positive, alpha-beta T cell',\n",
       " 'hematopoietic stem cell',\n",
       " 'microglial cell',\n",
       " 'transitional stage B cell',\n",
       " 'keratinocyte',\n",
       " 'alveolar type 1 fibroblast cell',\n",
       " 'plasma cell',\n",
       " 'respiratory hillock cell',\n",
       " 'precursor B cell',\n",
       " 'neuron',\n",
       " 'endothelial cell',\n",
       " 'memory T cell',\n",
       " 'mucosal invariant T cell',\n",
       " 'glutamatergic neuron',\n",
       " 'Schwann cell',\n",
       " 'pvalb GABAergic cortical interneuron',\n",
       " 'dendritic cell',\n",
       " 'effector memory CD8-positive, alpha-beta T cell',\n",
       " 'nasal mucosa goblet cell',\n",
       " 'plasmacytoid dendritic cell',\n",
       " 'luminal epithelial cell of mammary gland',\n",
       " 'lamp5 GABAergic cortical interneuron',\n",
       " 'CD8-alpha-alpha-positive, alpha-beta intraepithelial T cell',\n",
       " 'kidney collecting duct intercalated cell',\n",
       " 'pericyte',\n",
       " 'kidney interstitial fibroblast',\n",
       " 'CD14-positive, CD16-negative classical monocyte',\n",
       " 'enteric smooth muscle cell',\n",
       " 'vip GABAergic cortical interneuron',\n",
       " 'CD4-positive, alpha-beta T cell',\n",
       " 'activated CD8-positive, alpha-beta T cell',\n",
       " 'pro-B cell',\n",
       " 'renal interstitial pericyte',\n",
       " 'type I pneumocyte',\n",
       " 'immature innate lymphoid cell',\n",
       " 'vascular associated smooth muscle cell',\n",
       " 'mucous neck cell',\n",
       " 'kidney distal convoluted tubule epithelial cell',\n",
       " 'enterocyte',\n",
       " 'B cell',\n",
       " 'regulatory T cell',\n",
       " 'pulmonary artery endothelial cell',\n",
       " 'intermediate monocyte',\n",
       " 'kidney collecting duct principal cell',\n",
       " 'cardiac neuron',\n",
       " 'mesothelial cell',\n",
       " 'mast cell',\n",
       " 'CD4-positive, alpha-beta cytotoxic T cell',\n",
       " 'sst GABAergic cortical interneuron',\n",
       " 'naive T cell',\n",
       " 'foveolar cell of stomach',\n",
       " 'vein endothelial cell',\n",
       " 'retinal cone cell',\n",
       " 'IgG plasma cell',\n",
       " 'mature T cell',\n",
       " 'paneth cell',\n",
       " 'promonocyte',\n",
       " 'alpha-beta T cell',\n",
       " 'retinal rod cell',\n",
       " 'mature NK T cell',\n",
       " 'club cell',\n",
       " 'megakaryocyte-erythroid progenitor cell',\n",
       " 'monocyte',\n",
       " 'intestine goblet cell',\n",
       " 'chandelier pvalb GABAergic cortical interneuron',\n",
       " 'oligodendrocyte precursor cell',\n",
       " 'lung macrophage',\n",
       " 'lymphocyte',\n",
       " 'CD8-positive, alpha-beta T cell',\n",
       " 'CD14-positive monocyte',\n",
       " 'oligodendrocyte',\n",
       " 'IgA plasma cell',\n",
       " 'CD14-positive, CD16-positive monocyte',\n",
       " 'CD4-positive helper T cell',\n",
       " 'classical monocyte',\n",
       " 'Bergmann glial cell',\n",
       " 'macrophage',\n",
       " 'mature gamma-delta T cell',\n",
       " 'ependymal cell',\n",
       " 'kidney loop of Henle thick ascending limb epithelial cell',\n",
       " 'goblet cell',\n",
       " 'activated CD4-positive, alpha-beta T cell',\n",
       " 'type II pneumocyte',\n",
       " 'fibroblast of cardiac tissue',\n",
       " 'cardiac muscle cell',\n",
       " 'conventional dendritic cell',\n",
       " 'mature B cell',\n",
       " 'neutrophil',\n",
       " 'caudal ganglionic eminence derived GABAergic cortical interneuron',\n",
       " 'L2/3-6 intratelencephalic projecting glutamatergic cortical neuron',\n",
       " 'naive thymus-derived CD4-positive, alpha-beta T cell',\n",
       " 'innate lymphoid cell',\n",
       " 'exhausted T cell',\n",
       " 'central memory CD8-positive, alpha-beta T cell',\n",
       " 'gamma-delta T cell',\n",
       " 'effector CD8-positive, alpha-beta T cell',\n",
       " 'corticothalamic-projecting glutamatergic cortical neuron',\n",
       " 'naive B cell',\n",
       " 'astrocyte of the cerebral cortex',\n",
       " 'blood vessel endothelial cell',\n",
       " 'effector memory CD8-positive, alpha-beta T cell, terminally differentiated',\n",
       " 'tracheal goblet cell',\n",
       " 'respiratory basal cell',\n",
       " 'basal cell',\n",
       " 'granulocyte',\n",
       " 'epithelial cell of proximal tubule',\n",
       " 'CD14-low, CD16-positive monocyte',\n",
       " 'L6b glutamatergic cortical neuron',\n",
       " 'enteroendocrine cell',\n",
       " 'capillary endothelial cell',\n",
       " 'T follicular helper cell',\n",
       " 'platelet',\n",
       " 'mature alpha-beta T cell',\n",
       " 'elicited macrophage',\n",
       " 'near-projecting glutamatergic cortical neuron',\n",
       " 'inflammatory macrophage',\n",
       " 'plasmablast',\n",
       " 'central nervous system macrophage',\n",
       " 'T-helper 17 cell',\n",
       " 'myoepithelial cell of mammary gland',\n",
       " 'CD1c-positive myeloid dendritic cell',\n",
       " 'retinal ganglion cell',\n",
       " 'smooth muscle cell',\n",
       " 'kidney loop of Henle thin ascending limb epithelial cell',\n",
       " 'class switched memory B cell',\n",
       " 'granulosa cell',\n",
       " 'fallopian tube secretory epithelial cell',\n",
       " 'leukocyte',\n",
       " 'lymphoid lineage restricted progenitor cell',\n",
       " 'central memory CD4-positive, alpha-beta T cell',\n",
       " 'astrocyte',\n",
       " 'basal cell of epithelium of trachea',\n",
       " 'non-classical monocyte',\n",
       " 'kidney connecting tubule epithelial cell',\n",
       " 'T-helper 22 cell',\n",
       " 'tracheobronchial smooth muscle cell',\n",
       " 'intraepithelial lymphocyte',\n",
       " 'endothelial cell of artery',\n",
       " 'amacrine cell',\n",
       " 'alveolar type 2 fibroblast cell',\n",
       " 'double negative thymocyte',\n",
       " 'retina horizontal cell',\n",
       " 'natural killer cell',\n",
       " 'kidney loop of Henle thin descending limb epithelial cell',\n",
       " 'T cell',\n",
       " 'memory B cell',\n",
       " 'double-positive, alpha-beta thymocyte',\n",
       " 'CD16-positive, CD56-dim natural killer cell, human',\n",
       " 'CD8-positive, alpha-beta memory T cell',\n",
       " 'CD16-negative, CD56-bright natural killer cell, human',\n",
       " 'erythrocyte',\n",
       " 'naive thymus-derived CD8-positive, alpha-beta T cell',\n",
       " 'immature B cell',\n",
       " 'bronchus fibroblast of lung',\n",
       " 'double negative T regulatory cell']"
      ]
     },
     "execution_count": 11,
     "metadata": {},
     "output_type": "execute_result"
    }
   ],
   "source": [
    "# Step 1: Convert the Pandas DataFrame to a dictionary\n",
    "cell_type_mapping_dict = cell_type_mapping['label'].to_dict()\n",
    "\n",
    "# Step 2: Map each integer in y_true to its string representation\n",
    "y_true_strings = [cell_type_mapping_dict.get(i, 'Unknown') for i in y_true]\n",
    "\n",
    "# Step 3: Find unique string values\n",
    "unique_strings = list(set(y_true_strings))\n",
    "unique_strings"
   ]
  },
  {
   "cell_type": "markdown",
   "id": "1830ca5b-a48d-4484-b2c8-1fcec13bb67c",
   "metadata": {},
   "source": [
    "### Filter NeurIPS adata"
   ]
  },
  {
   "cell_type": "code",
   "execution_count": 5,
   "id": "350a0730-2232-4235-946d-4309e0cb4dcf",
   "metadata": {},
   "outputs": [],
   "source": [
    "# Store protein counts seperately\n",
    "df = pd.DataFrame(adata.layers[\"counts\"].todense()[:,-134:])  # 134 can be found from adata.vars['feature_types']\n",
    "df.columns = adata.var[\"feature_types\"][-134:].index\n",
    "df.index = adata.obs.index\n",
    "adata.obsm[\"protein_counts\"] = df"
   ]
  },
  {
   "cell_type": "code",
   "execution_count": 6,
   "id": "a5f4b9da-af4c-4e26-b056-11af0ff88d84",
   "metadata": {},
   "outputs": [],
   "source": [
    "# This filtering step also filters out the protein counts, so only GEX left\n",
    "\n",
    "filtered_genes = [gene for gene in adata.var['gene_id'].values if gene in var]\n",
    "\n",
    "# Filter the AnnData object\n",
    "adata_filtered = adata[:, adata.var['gene_id'].isin(filtered_genes)]\n",
    "\n",
    "# Save the filtered AnnData object\n",
    "adata_filtered.write(os.path.join(MULTIMODAL_FOLDER, 'NeurIPS_filtered_adata.h5ad'))"
   ]
  },
  {
   "cell_type": "markdown",
   "id": "f51556a5-6e4a-425e-afb9-f26b55c4340c",
   "metadata": {},
   "source": [
    "### Genes in Multiomics adata"
   ]
  },
  {
   "cell_type": "code",
   "execution_count": 7,
   "id": "6956a5ce-0d99-4e74-9d22-3d98e9dbfb79",
   "metadata": {},
   "outputs": [],
   "source": [
    "adata = sc.read_h5ad(os.path.join(MULTIMODAL_FOLDER, 'NeurIPS_filtered_adata.h5ad'))"
   ]
  },
  {
   "cell_type": "code",
   "execution_count": 8,
   "id": "7c04d4cf-4519-448d-bde7-e1de77918d06",
   "metadata": {},
   "outputs": [
    {
     "name": "stdout",
     "output_type": "stream",
     "text": [
      "Batch chosen for OOD testing: s2d1\n"
     ]
    }
   ],
   "source": [
    "unique_batches = adata.obs['batch'].unique()\n",
    "\n",
    "# Randomly choose one batch for out-of-distribution (OOD) testing\n",
    "ood_batch = np.random.choice(unique_batches)\n",
    "print(f\"Batch chosen for OOD testing: {ood_batch}\")\n",
    "\n",
    "# Identify indices for OOD\n",
    "ood_indices = adata.obs['batch'] == ood_batch\n",
    "\n",
    "# Identify indices for in-distribution batches\n",
    "ind_indices = ~ood_indices\n",
    "\n",
    "# Create 'split' column in adata_filtered.obs\n",
    "adata_filtered.obs['split'] = 'unassigned'\n",
    "\n",
    "# Assign OOD test set\n",
    "adata_filtered.obs.loc[ood_indices, 'split'] = 'ood_test'\n",
    "\n",
    "# Generate random split (80/10/10) for train/val/test for in-distribution batches\n",
    "random_assignments = np.random.choice(\n",
    "    ['train', 'val', 'test'],\n",
    "    size=ind_indices.sum(),\n",
    "    p=[0.8, 0.1, 0.1]\n",
    ")\n",
    "\n",
    "# Assign train/val/test sets\n",
    "adata_filtered.obs.loc[ind_indices, 'split'] = random_assignments\n",
    "\n",
    "# Ensure the split assignment is stored back in the original AnnData object\n",
    "adata_filtered.obs['split'].astype(pd.CategoricalDtype())\n",
    "adata_filtered.write(os.path.join(MULTIMODAL_FOLDER, 'NeurIPS_filtered_adata.h5ad'))"
   ]
  },
  {
   "cell_type": "code",
   "execution_count": 9,
   "id": "46e055a7-cc85-4f64-b97a-dcd114c8b922",
   "metadata": {},
   "outputs": [
    {
     "data": {
      "text/plain": [
       "11986"
      ]
     },
     "execution_count": 9,
     "metadata": {},
     "output_type": "execute_result"
    }
   ],
   "source": [
    "multiomics_gene_names = list(adata.var['gene_id'])\n",
    "len(multiomics_gene_names)"
   ]
  },
  {
   "cell_type": "markdown",
   "id": "3d617ffb-e352-424f-b3c2-19032fbf938d",
   "metadata": {},
   "source": [
    "### HVG Selection"
   ]
  },
  {
   "cell_type": "code",
   "execution_count": 10,
   "id": "18d0981e-a4bb-48d7-964a-ee7ed8c97be7",
   "metadata": {},
   "outputs": [],
   "source": [
    "# General preprocessing\n",
    "sc.pp.normalize_total(adata_filtered, target_sum=1e4)\n",
    "\n",
    "sc.pp.log1p(adata_filtered)\n"
   ]
  },
  {
   "cell_type": "code",
   "execution_count": 11,
   "id": "ba265597-c33d-4515-b052-7d5abcff58a9",
   "metadata": {},
   "outputs": [],
   "source": [
    "sc.pp.highly_variable_genes(adata_filtered, n_top_genes=2000)\n",
    "\n",
    "# Filter the data to only include highly variable genes\n",
    "adata_hvg = adata_filtered[:, adata_filtered.var['highly_variable']]\n",
    "\n",
    "# Save the filtered AnnData object with highly variable genes\n",
    "adata_hvg.write(os.path.join(MULTIMODAL_FOLDER, 'NeurIPS_filtered_hvg_adata.h5ad'))"
   ]
  },
  {
   "cell_type": "code",
   "execution_count": 12,
   "id": "fa1f243d-fa42-42f1-8367-e1d4cd2f4462",
   "metadata": {},
   "outputs": [
    {
     "data": {
      "text/plain": [
       "2000"
      ]
     },
     "execution_count": 12,
     "metadata": {},
     "output_type": "execute_result"
    }
   ],
   "source": [
    "multiomics_gene_names = list(adata_hvg.var['gene_id'])\n",
    "len(multiomics_gene_names)"
   ]
  },
  {
   "cell_type": "markdown",
   "id": "5b05eafb-e075-4355-86a5-d22bb0196aea",
   "metadata": {},
   "source": [
    "### Indices list"
   ]
  },
  {
   "cell_type": "code",
   "execution_count": 13,
   "id": "fb316641-2d90-44f9-afe7-406c50be86a5",
   "metadata": {},
   "outputs": [],
   "source": [
    "def find_indices(a, b):\n",
    "    \"\"\"\n",
    "    Finds the indices of the elements of b in a.\n",
    "\n",
    "    Args:\n",
    "    a: The list of strings.\n",
    "    b: The list of strings to find.\n",
    "\n",
    "    Returns:\n",
    "    A list of integers, where each integer is the index of the corresponding\n",
    "    element of b in a.\n",
    "    \"\"\"\n",
    "    c = []\n",
    "    for i in range(len(b)):\n",
    "        j = 0\n",
    "        while j < len(a):\n",
    "            if a[j] == b[i]:\n",
    "                c.append(j)\n",
    "                break\n",
    "            j += 1\n",
    "    \n",
    "    return c"
   ]
  },
  {
   "cell_type": "code",
   "execution_count": 14,
   "id": "8d748f60-046f-4de0-8780-5dd7848e993f",
   "metadata": {},
   "outputs": [],
   "source": [
    "multiomics_indices = find_indices(var, multiomics_gene_names)"
   ]
  },
  {
   "cell_type": "code",
   "execution_count": 15,
   "id": "f83fa50c-6cc0-4991-8eff-b2d85da4ffcf",
   "metadata": {},
   "outputs": [
    {
     "data": {
      "text/plain": [
       "2000"
      ]
     },
     "execution_count": 15,
     "metadata": {},
     "output_type": "execute_result"
    }
   ],
   "source": [
    "len(multiomics_indices)"
   ]
  },
  {
   "cell_type": "markdown",
   "id": "a3156163-bef3-415d-b8fd-9250a6afd2ae",
   "metadata": {},
   "source": [
    "### Store indices list to disk"
   ]
  },
  {
   "cell_type": "code",
   "execution_count": 16,
   "id": "e520007a-01aa-4f42-ab32-e443286584ca",
   "metadata": {},
   "outputs": [],
   "source": [
    "with open('multiomics_indices.pickle', 'wb') as f:\n",
    "    pickle.dump(list(multiomics_indices), f)"
   ]
  },
  {
   "cell_type": "markdown",
   "id": "551b34ed-7d6f-4df5-bfcd-9cf2188a58a4",
   "metadata": {},
   "source": [
    "### Check adata"
   ]
  },
  {
   "cell_type": "code",
   "execution_count": 17,
   "id": "8c922c8c-1e23-4fc7-afd6-e46db3886f46",
   "metadata": {},
   "outputs": [],
   "source": [
    "adata = sc.read_h5ad(os.path.join(MULTIMODAL_FOLDER, 'NeurIPS_filtered_hvg_adata.h5ad'))"
   ]
  },
  {
   "cell_type": "code",
   "execution_count": 18,
   "id": "17598bce-ba25-4352-b228-06ea28973067",
   "metadata": {},
   "outputs": [
    {
     "data": {
      "text/plain": [
       "AnnData object with n_obs × n_vars = 90261 × 2000\n",
       "    obs: 'GEX_n_genes_by_counts', 'GEX_pct_counts_mt', 'GEX_size_factors', 'GEX_phase', 'ADT_n_antibodies_by_counts', 'ADT_total_counts', 'ADT_iso_count', 'cell_type', 'batch', 'ADT_pseudotime_order', 'GEX_pseudotime_order', 'Samplename', 'Site', 'DonorNumber', 'Modality', 'VendorLot', 'DonorID', 'DonorAge', 'DonorBMI', 'DonorBloodType', 'DonorRace', 'Ethnicity', 'DonorGender', 'QCMeds', 'DonorSmoker', 'is_train', 'split'\n",
       "    var: 'feature_types', 'gene_id', 'highly_variable', 'means', 'dispersions', 'dispersions_norm'\n",
       "    uns: 'dataset_id', 'genome', 'hvg', 'log1p', 'organism'\n",
       "    obsm: 'ADT_X_pca', 'ADT_X_umap', 'ADT_isotype_controls', 'GEX_X_pca', 'GEX_X_umap', 'protein_counts'\n",
       "    layers: 'counts'"
      ]
     },
     "execution_count": 18,
     "metadata": {},
     "output_type": "execute_result"
    }
   ],
   "source": [
    "adata"
   ]
  }
 ],
 "metadata": {
  "kernelspec": {
   "display_name": "Python [conda env:celldreamer]",
   "language": "python",
   "name": "celldreamer"
  },
  "language_info": {
   "codemirror_mode": {
    "name": "ipython",
    "version": 3
   },
   "file_extension": ".py",
   "mimetype": "text/x-python",
   "name": "python",
   "nbconvert_exporter": "python",
   "pygments_lexer": "ipython3",
   "version": "3.10.12"
  }
 },
 "nbformat": 4,
 "nbformat_minor": 5
}
