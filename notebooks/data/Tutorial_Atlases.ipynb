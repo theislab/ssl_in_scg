{
 "cells": [
  {
   "cell_type": "code",
   "execution_count": 28,
   "id": "c7a4dd7e-47de-4b19-9218-650139d8d80d",
   "metadata": {},
   "outputs": [],
   "source": [
    "import torch\n",
    "import gc\n",
    "import dask.dataframe as dd\n",
    "import os\n",
    "import pandas as pd\n",
    "from self_supervision.paths import DATA_DIR"
   ]
  },
  {
   "cell_type": "code",
   "execution_count": 4,
   "id": "8b7f53c2-66ec-4bbe-b5ca-42e8f0edbbee",
   "metadata": {},
   "outputs": [],
   "source": [
    "STORE_DIR = os.path.join(DATA_DIR, 'merlin_cxg_2023_05_15_sf-log1p')"
   ]
  },
  {
   "cell_type": "markdown",
   "id": "66476d94-2c8f-40ac-91c6-1a5e6913354d",
   "metadata": {},
   "source": [
    "# Atlas exploration in scTab"
   ]
  },
  {
   "cell_type": "code",
   "execution_count": 34,
   "id": "68849da2-db08-42b2-b62e-2a818caedc73",
   "metadata": {},
   "outputs": [],
   "source": [
    "test_dataset_ids = dd.read_parquet(os.path.join(STORE_DIR, 'test'), columns=['dataset_id']).compute()\n",
    "\n",
    "val_dataset_ids = dd.read_parquet(os.path.join(STORE_DIR, 'val'), columns=['dataset_id']).compute()\n",
    "\n",
    "train_dataset_ids = dd.read_parquet(os.path.join(STORE_DIR, 'train'), columns=['dataset_id']).compute()"
   ]
  },
  {
   "cell_type": "code",
   "execution_count": 35,
   "id": "a4aebb7b-2430-4350-ae07-34f5e43ddd68",
   "metadata": {},
   "outputs": [
    {
     "name": "stdout",
     "output_type": "stream",
     "text": [
      "HLCA: 540732 Train Samples, 117541 Val Samples, 117517 Test Samples\n"
     ]
    }
   ],
   "source": [
    "hlca_in_test = test_dataset_ids.value_counts().get(148, 0)\n",
    "hlca_in_val = val_dataset_ids.value_counts().get(148, 0)\n",
    "hlca_in_train = train_dataset_ids.value_counts().get(148, 0)\n",
    "\n",
    "print('HLCA: {} Train Samples, {} Val Samples, {} Test Samples'.format(hlca_in_train, hlca_in_val, hlca_in_test))"
   ]
  },
  {
   "cell_type": "code",
   "execution_count": 36,
   "id": "6ac5d05c-6d6f-4fc9-afea-f44fe1278b1f",
   "metadata": {},
   "outputs": [
    {
     "name": "stdout",
     "output_type": "stream",
     "text": [
      "PBMC: 78354 Train Samples, 33761 Val Samples, 189756 Test Samples\n"
     ]
    }
   ],
   "source": [
    "pbmc_in_test = test_dataset_ids.value_counts().get(87, 0)\n",
    "pbmc_in_val = val_dataset_ids.value_counts().get(87, 0)\n",
    "pbmc_in_train = train_dataset_ids.value_counts().get(87, 0)\n",
    "\n",
    "print('PBMC: {} Train Samples, {} Val Samples, {} Test Samples'.format(pbmc_in_train, pbmc_in_val, pbmc_in_test))"
   ]
  },
  {
   "cell_type": "code",
   "execution_count": 37,
   "id": "05c6a909-0519-45f1-8da4-e0ffa3cdbcb3",
   "metadata": {},
   "outputs": [
    {
     "name": "stdout",
     "output_type": "stream",
     "text": [
      "Tabula Sapiens: 223337 Train Samples, 54908 Val Samples, 57616 Test Samples\n"
     ]
    }
   ],
   "source": [
    "tabula_sapiens_in_test = test_dataset_ids.value_counts().get(41, 0)\n",
    "tabula_sapiens_in_val = val_dataset_ids.value_counts().get(41, 0)\n",
    "tabula_sapiens_in_train = train_dataset_ids.value_counts().get(41, 0)\n",
    "\n",
    "print('Tabula Sapiens: {} Train Samples, {} Val Samples, {} Test Samples'.format(tabula_sapiens_in_train, tabula_sapiens_in_val, tabula_sapiens_in_test))"
   ]
  }
 ],
 "metadata": {
  "kernelspec": {
   "display_name": "Python [conda env:celldreamer]",
   "language": "python",
   "name": "celldreamer"
  },
  "language_info": {
   "codemirror_mode": {
    "name": "ipython",
    "version": 3
   },
   "file_extension": ".py",
   "mimetype": "text/x-python",
   "name": "python",
   "nbconvert_exporter": "python",
   "pygments_lexer": "ipython3",
   "version": "3.10.12"
  }
 },
 "nbformat": 4,
 "nbformat_minor": 5
}
