{
 "cells": [
  {
   "cell_type": "code",
   "execution_count": 2,
   "id": "71464874-15c0-48c6-a3f7-a299ba6af96e",
   "metadata": {},
   "outputs": [
    {
     "name": "stderr",
     "output_type": "stream",
     "text": [
      "/home/icb/till.richter/anaconda3/envs/celldreamer/lib/python3.10/site-packages/scgpt/model/multiomic_model.py:19: UserWarning: flash_attn is not installed\n",
      "  warnings.warn(\"flash_attn is not installed\")\n"
     ]
    }
   ],
   "source": [
    "import numpy as np\n",
    "import os\n",
    "import scanpy as sc\n",
    "import sklearn\n",
    "import warnings\n",
    "import faiss\n",
    "import argparse\n",
    "import scgpt as scg\n",
    "import pandas as pd\n",
    "import biomart\n",
    "\n",
    "from self_supervision.paths import BASE_DIR, DATA_DIR\n",
    "\n",
    "# Filter out FutureWarnings\n",
    "warnings.filterwarnings(\"ignore\", category=FutureWarning)"
   ]
  },
  {
   "cell_type": "code",
   "execution_count": 3,
   "id": "f5f84b9a-95e2-46d4-84c0-a49856ea84ed",
   "metadata": {},
   "outputs": [],
   "source": [
    "def install_faiss():\n",
    "    try:\n",
    "        import faiss\n",
    "        faiss_imported = True\n",
    "    except ImportError:\n",
    "        faiss_imported = False\n",
    "        print(\n",
    "            \"faiss not installed! We highly recommend installing it for fast similarity search.\"\n",
    "        )\n",
    "        print(\"To install it, see https://github.com/facebookresearch/faiss/wiki/Installing-Faiss\")\n",
    "\n",
    "    warnings.filterwarnings(\"ignore\", category=ResourceWarning)\n",
    "    return faiss_imported\n"
   ]
  },
  {
   "cell_type": "code",
   "execution_count": 4,
   "id": "4321fda4-f2ef-4347-920a-b6308527c855",
   "metadata": {},
   "outputs": [],
   "source": [
    "def l2_sim(a, b):\n",
    "    sims = -np.linalg.norm(a - b, axis=1)\n",
    "    return sims\n",
    "\n",
    "def get_similar_vectors(vector, ref, top_k=10):\n",
    "    sims = l2_sim(vector, ref)\n",
    "    top_k_idx = np.argsort(sims)[::-1][:top_k]\n",
    "    return top_k_idx, sims[top_k_idx]\n"
   ]
  },
  {
   "cell_type": "code",
   "execution_count": 36,
   "id": "2530fed7-cc5d-453a-8064-b107a7affcea",
   "metadata": {},
   "outputs": [],
   "source": [
    "def kNN(ref_embed_adata, test_embed_adata, test_adata, cell_type_key, k=10):\n",
    "    import numpy as np\n",
    "    import sklearn.metrics\n",
    "    import faiss\n",
    "    import anndata as ad\n",
    "\n",
    "    ref_cell_embeddings = ref_embed_adata.X\n",
    "    test_embed = test_embed_adata.X\n",
    "    faiss_imported = install_faiss()\n",
    "\n",
    "    if faiss_imported:\n",
    "        index = faiss.IndexFlatL2(ref_cell_embeddings.shape[1])\n",
    "        index.add(ref_cell_embeddings)\n",
    "        distances, labels = index.search(test_embed, k)\n",
    "    else:\n",
    "        labels = []\n",
    "        for i in range(test_embed.shape[0]):\n",
    "            idx, _ = get_similar_vectors(test_embed[i][np.newaxis, ...], ref_cell_embeddings, k)\n",
    "            labels.append(idx)\n",
    "\n",
    "    preds = []\n",
    "    for idx in labels:\n",
    "        pred = ref_embed_adata.obs[cell_type_key][idx].value_counts()\n",
    "        preds.append(pred.index[0])\n",
    "    \n",
    "    gt = test_adata.obs[cell_type_key].to_numpy()\n",
    "\n",
    "    acc = sklearn.metrics.accuracy_score(gt, preds)\n",
    "    f1 = sklearn.metrics.f1_score(gt, preds, average='micro')\n",
    "    f1_macro = sklearn.metrics.f1_score(gt, preds, average='macro')\n",
    "\n",
    "    per_cell_type_acc = {}\n",
    "    for cell_type in test_adata.obs[cell_type_key].unique():\n",
    "        idx = test_adata.obs[cell_type_key] == cell_type\n",
    "        \n",
    "        gt_subset = np.array(gt)[idx]\n",
    "        preds_subset = np.array(preds)[idx]\n",
    "\n",
    "        acc = sklearn.metrics.accuracy_score(gt_subset, preds_subset)\n",
    "        per_cell_type_acc[cell_type] = acc\n",
    "\n",
    "    return acc, f1, f1_macro, per_cell_type_acc\n"
   ]
  },
  {
   "cell_type": "code",
   "execution_count": 6,
   "id": "5634f41a-e00c-4581-a35c-cdcd81b9dc1f",
   "metadata": {},
   "outputs": [
    {
     "name": "stderr",
     "output_type": "stream",
     "text": [
      "/home/icb/till.richter/anaconda3/envs/celldreamer/lib/python3.10/site-packages/anndata/_core/anndata.py:1818: UserWarning: Observation names are not unique. To make them unique, call `.obs_names_make_unique`.\n",
      "  utils.warn_names_duplicates(\"obs\")\n",
      "/home/icb/till.richter/anaconda3/envs/celldreamer/lib/python3.10/site-packages/anndata/_core/anndata.py:1818: UserWarning: Observation names are not unique. To make them unique, call `.obs_names_make_unique`.\n",
      "  utils.warn_names_duplicates(\"obs\")\n",
      "/home/icb/till.richter/anaconda3/envs/celldreamer/lib/python3.10/site-packages/anndata/_core/anndata.py:1818: UserWarning: Observation names are not unique. To make them unique, call `.obs_names_make_unique`.\n",
      "  utils.warn_names_duplicates(\"obs\")\n",
      "/home/icb/till.richter/anaconda3/envs/celldreamer/lib/python3.10/site-packages/anndata/_core/anndata.py:1818: UserWarning: Observation names are not unique. To make them unique, call `.obs_names_make_unique`.\n",
      "  utils.warn_names_duplicates(\"obs\")\n",
      "/home/icb/till.richter/anaconda3/envs/celldreamer/lib/python3.10/site-packages/anndata/_core/anndata.py:1818: UserWarning: Observation names are not unique. To make them unique, call `.obs_names_make_unique`.\n",
      "  utils.warn_names_duplicates(\"obs\")\n",
      "/home/icb/till.richter/anaconda3/envs/celldreamer/lib/python3.10/site-packages/anndata/_core/anndata.py:1818: UserWarning: Observation names are not unique. To make them unique, call `.obs_names_make_unique`.\n",
      "  utils.warn_names_duplicates(\"obs\")\n"
     ]
    }
   ],
   "source": [
    "val_adata_hlca = sc.read_h5ad(os.path.join(DATA_DIR, \"cellxgene_val_dataset_HLCA_adata.h5ad\")\n",
    "val_adata_pbmc = sc.read_h5ad(os.path.join(DATA_DIR, \"cellxgene_val_dataset_PBMC_adata.h5ad\")\n",
    "val_adata_tabula_sapiens = sc.read_h5ad(os.path.join(DATA_DIR, \"cellxgene_val_dataset_TabulaSapiens_adata.h5ad\")\n",
    "\n",
    "test_adata_hlca = sc.read_h5ad(os.path.join(DATA_DIR, \"cellxgene_test_dataset_HLCA_adata.h5ad\")\n",
    "test_adata_pbmc = sc.read_h5ad(os.path.join(DATA_DIR, \"cellxgene_test_dataset_PBMC_adata.h5ad\")\n",
    "test_adata_tabula_sapiens = sc.read_h5ad(os.path.join(DATA_DIR, \"cellxgene_test_dataset_TabulaSapiens_adata.h5ad\")"
   ]
  },
  {
   "cell_type": "code",
   "execution_count": 3,
   "id": "2d68ca5b-b42b-4e50-a9c0-48ad80aba290",
   "metadata": {},
   "outputs": [],
   "source": [
    "# Function to save Ensembl IDs to CSV\n",
    "def save_ensembl_ids(adata, filename):\n",
    "    if \"ensembl_id\" in adata.var.columns:\n",
    "        ensembl_ids = adata.var[\"ensembl_id\"].tolist()\n",
    "        df = pd.DataFrame(ensembl_ids, columns=['ensembl_id'])\n",
    "        df.to_csv(filename, index=False)\n",
    "    else:\n",
    "        print(f\"ensembl_id column not found in {filename}\")\n",
    "\n",
    "# Save Ensembl IDs for each AnnData object\n",
    "# save_ensembl_ids(val_adata_hlca, 'val_adata_hlca_ensembl_ids.csv')\n",
    "# save_ensembl_ids(val_adata_pbmc, 'val_adata_pbmc_ensembl_ids.csv')\n",
    "# save_ensembl_ids(val_adata_tabula_sapiens, 'val_adata_tabula_sapiens_ensembl_ids.csv')\n",
    "\n",
    "# save_ensembl_ids(test_adata_hlca, 'test_adata_hlca_ensembl_ids.csv')\n",
    "# save_ensembl_ids(test_adata_pbmc, 'test_adata_pbmc_ensembl_ids.csv')\n",
    "# save_ensembl_ids(test_adata_tabula_sapiens, 'test_adata_tabula_sapiens_ensembl_ids.csv')"
   ]
  },
  {
   "cell_type": "code",
   "execution_count": null,
   "id": "7182bae8-cb9f-48ec-8937-7532ff767d14",
   "metadata": {},
   "outputs": [
    {
     "name": "stderr",
     "output_type": "stream",
     "text": [
      "/home/icb/till.richter/anaconda3/envs/celldreamer/lib/python3.10/site-packages/anndata/_core/anndata.py:1818: UserWarning: Observation names are not unique. To make them unique, call `.obs_names_make_unique`.\n",
      "  utils.warn_names_duplicates(\"obs\")\n"
     ]
    },
    {
     "name": "stdout",
     "output_type": "stream",
     "text": [
      "ensembl_id column not found in val_adata_full_ensembl_ids.csv\n"
     ]
    }
   ],
   "source": [
    "# Function to save Ensembl IDs to CSV, full adata\n",
    "\n",
    "val_adata_full = sc.read_h5ad(os.path.join(DATA_DIR, \"log1p_cellxgene_val_adata.h5ad\"))\n",
    "save_ensembl_ids(val_adata_full, 'val_adata_full_ensembl_ids.csv')\n",
    "del val_adata_full\n",
    "test_adata_full = sc.read_h5ad(os.path.join(DATA_DIR, \"log1p_cellxgene_test_adata.h5ad\"))\n",
    "save_ensembl_ids(test_adata_full, 'test_adata_full_ensembl_ids.csv')\n",
    "del test_adata_full"
   ]
  },
  {
   "cell_type": "code",
   "execution_count": 46,
   "id": "5dbe600f-a1cc-4928-b5be-72a1a9885b86",
   "metadata": {},
   "outputs": [],
   "source": [
    "# Define the paths to your processed CSV files\n",
    "mapping_files = {\n",
    "    \"val_hlca\": \"processed_mygene_val_hlca_ensembl_to_genesymbol.csv\",\n",
    "    \"val_pbmc\": \"processed_mygene_val_pbmc_ensembl_to_genesymbol.csv\",\n",
    "    \"val_tabulasapiens\": \"processed_mygene_val_tabulasapiens_ensembl_to_genesymbol.csv\",\n",
    "    \"test_hlca\": \"processed_mygene_test_hlca_ensembl_to_genesymbol.csv\",\n",
    "    \"test_pbmc\": \"processed_mygene_test_pbmc_ensembl_to_genesymbol.csv\",\n",
    "    \"test_tabula_sapiens\": \"processed_mygene_test_tabulasapiens_ensembl_to_genesymbol.csv\"\n",
    "}\n",
    "\n",
    "def load_mapping(file_path):\n",
    "    df = pd.read_csv(file_path)\n",
    "    return dict(zip(df['ensembl_id'], df['gene_symbol']))"
   ]
  },
  {
   "cell_type": "code",
   "execution_count": 47,
   "id": "1da50238-5d15-46b9-ad2b-f739b97a02c3",
   "metadata": {},
   "outputs": [],
   "source": [
    "def reference_mapping(model_dir, adata_dir, dataset_name, cell_type_key, gene_col):\n",
    "    adata_paths = {\n",
    "        \"train\": os.path.join(adata_dir, f\"cellxgene_train_dataset_{dataset_name}_adata.h5ad\"),\n",
    "        \"val\": os.path.join(adata_dir, f\"cellxgene_val_dataset_{dataset_name}_adata.h5ad\"),\n",
    "        \"test\": os.path.join(adata_dir, f\"cellxgene_test_dataset_{dataset_name}_adata.h5ad\"),\n",
    "    }\n",
    "\n",
    "    val_adata = sc.read_h5ad(adata_paths[\"val\"])\n",
    "    test_adata = sc.read_h5ad(adata_paths[\"test\"])\n",
    "\n",
    "    # Make observation names unique\n",
    "    val_adata.obs_names_make_unique()\n",
    "    test_adata.obs_names_make_unique()\n",
    "\n",
    "    # Determine the appropriate mapping file to use\n",
    "    mapping_key = f\"val_{dataset_name.lower()}\" if \"val\" in adata_paths[\"val\"] else f\"test_{dataset_name.lower()}\"\n",
    "    mapping_file = mapping_files[mapping_key]\n",
    "\n",
    "    # Load the mapping\n",
    "    mapping = load_mapping(mapping_file)\n",
    "\n",
    "    if gene_col not in val_adata.var.columns:\n",
    "        if \"ensembl_id\" in val_adata.var.columns:\n",
    "            print(f\"Converting Ensembl IDs to gene symbols using {mapping_file}...\")\n",
    "            ensembl_ids = val_adata.var[\"ensembl_id\"].tolist()\n",
    "            gene_symbols = [mapping.get(ensembl_id, '') for ensembl_id in ensembl_ids]\n",
    "            val_adata.var[gene_col] = gene_symbols\n",
    "            print(f\"Successfully converted Ensembl IDs to gene symbols and added '{gene_col}' column.\")\n",
    "        else:\n",
    "            raise ValueError(f\"gene_col '{gene_col}' not found in val_adata.var.columns\")\n",
    "\n",
    "        if \"ensembl_id\" in test_adata.var.columns:\n",
    "            print(f\"Converting Ensembl IDs to gene symbols using {mapping_file}...\")\n",
    "            ensembl_ids = test_adata.var[\"ensembl_id\"].tolist()\n",
    "            gene_symbols = [mapping.get(ensembl_id, '') for ensembl_id in ensembl_ids]\n",
    "            test_adata.var[gene_col] = gene_symbols\n",
    "            print(f\"Successfully converted Ensembl IDs to gene symbols and added '{gene_col}' column.\")\n",
    "        else:\n",
    "            raise ValueError(f\"gene_col '{gene_col}' not found in test_adata.var.columns\")\n",
    "\n",
    "    ref_embed_adata = scg.tasks.embed_data(\n",
    "        val_adata,\n",
    "        model_dir,\n",
    "        gene_col=gene_col,\n",
    "        obs_to_save=cell_type_key,\n",
    "        batch_size=64,\n",
    "        return_new_adata=True,\n",
    "    )\n",
    "\n",
    "    sc.pp.neighbors(ref_embed_adata, use_rep=\"X\")\n",
    "    sc.tl.umap(ref_embed_adata)\n",
    "\n",
    "    test_embed_adata = scg.tasks.embed_data(\n",
    "        test_adata,\n",
    "        model_dir,\n",
    "        gene_col=gene_col,\n",
    "        obs_to_save=cell_type_key,\n",
    "        batch_size=64,\n",
    "        return_new_adata=True,\n",
    "    )\n",
    "\n",
    "    return kNN(ref_embed_adata, test_embed_adata, test_adata, cell_type_key)"
   ]
  },
  {
   "cell_type": "code",
   "execution_count": 48,
   "id": "48dde4aa-df7e-4af2-9703-236ff7a49338",
   "metadata": {},
   "outputs": [
    {
     "name": "stdout",
     "output_type": "stream",
     "text": [
      "Running Reference Mapping for TabulaSapiens\n"
     ]
    },
    {
     "name": "stderr",
     "output_type": "stream",
     "text": [
      "/home/icb/till.richter/anaconda3/envs/celldreamer/lib/python3.10/site-packages/anndata/_core/anndata.py:1818: UserWarning: Observation names are not unique. To make them unique, call `.obs_names_make_unique`.\n",
      "  utils.warn_names_duplicates(\"obs\")\n",
      "/home/icb/till.richter/anaconda3/envs/celldreamer/lib/python3.10/site-packages/anndata/_core/anndata.py:1818: UserWarning: Observation names are not unique. To make them unique, call `.obs_names_make_unique`.\n",
      "  utils.warn_names_duplicates(\"obs\")\n"
     ]
    },
    {
     "name": "stdout",
     "output_type": "stream",
     "text": [
      "Converting Ensembl IDs to gene symbols using processed_mygene_val_tabulasapiens_ensembl_to_genesymbol.csv...\n",
      "Successfully converted Ensembl IDs to gene symbols and added 'feature_name' column.\n",
      "Converting Ensembl IDs to gene symbols using processed_mygene_val_tabulasapiens_ensembl_to_genesymbol.csv...\n",
      "Successfully converted Ensembl IDs to gene symbols and added 'feature_name' column.\n",
      "scGPT - INFO - match 19067/19331 genes in vocabulary of size 60697.\n"
     ]
    },
    {
     "name": "stderr",
     "output_type": "stream",
     "text": [
      "/home/icb/till.richter/anaconda3/envs/celldreamer/lib/python3.10/site-packages/scgpt/model/model.py:77: UserWarning: flash-attn is not installed, using pytorch transformer instead. Set use_fast_transformer=False to avoid this warning. Installing flash-attn is highly recommended.\n",
      "  warnings.warn(\n",
      "Embedding cells: 100%|████████████████████████████████████████████████████████████████████████████████████████████████████████| 858/858 [04:20<00:00,  3.29it/s]\n"
     ]
    },
    {
     "name": "stdout",
     "output_type": "stream",
     "text": [
      "scGPT - INFO - match 19067/19331 genes in vocabulary of size 60697.\n"
     ]
    },
    {
     "name": "stderr",
     "output_type": "stream",
     "text": [
      "/home/icb/till.richter/anaconda3/envs/celldreamer/lib/python3.10/site-packages/scgpt/model/model.py:77: UserWarning: flash-attn is not installed, using pytorch transformer instead. Set use_fast_transformer=False to avoid this warning. Installing flash-attn is highly recommended.\n",
      "  warnings.warn(\n",
      "Embedding cells: 100%|████████████████████████████████████████████████████████████████████████████████████████████████████████| 901/901 [04:28<00:00,  3.36it/s]\n"
     ]
    },
    {
     "name": "stdout",
     "output_type": "stream",
     "text": [
      "Dataset: TabulaSapiens\n",
      "Accuracy: 0.6666666666666666\n",
      "Micro F1 Score: 0.7666793946126075\n",
      "Macro F1 Score: 0.5324009979708663\n",
      "Done!\n",
      "Running Reference Mapping for PBMC\n"
     ]
    },
    {
     "name": "stderr",
     "output_type": "stream",
     "text": [
      "/home/icb/till.richter/anaconda3/envs/celldreamer/lib/python3.10/site-packages/anndata/_core/anndata.py:1818: UserWarning: Observation names are not unique. To make them unique, call `.obs_names_make_unique`.\n",
      "  utils.warn_names_duplicates(\"obs\")\n",
      "/home/icb/till.richter/anaconda3/envs/celldreamer/lib/python3.10/site-packages/anndata/_core/anndata.py:1818: UserWarning: Observation names are not unique. To make them unique, call `.obs_names_make_unique`.\n",
      "  utils.warn_names_duplicates(\"obs\")\n"
     ]
    },
    {
     "name": "stdout",
     "output_type": "stream",
     "text": [
      "Converting Ensembl IDs to gene symbols using processed_mygene_val_pbmc_ensembl_to_genesymbol.csv...\n",
      "Successfully converted Ensembl IDs to gene symbols and added 'feature_name' column.\n",
      "Converting Ensembl IDs to gene symbols using processed_mygene_val_pbmc_ensembl_to_genesymbol.csv...\n",
      "Successfully converted Ensembl IDs to gene symbols and added 'feature_name' column.\n",
      "scGPT - INFO - match 19067/19331 genes in vocabulary of size 60697.\n"
     ]
    },
    {
     "name": "stderr",
     "output_type": "stream",
     "text": [
      "/home/icb/till.richter/anaconda3/envs/celldreamer/lib/python3.10/site-packages/scgpt/model/model.py:77: UserWarning: flash-attn is not installed, using pytorch transformer instead. Set use_fast_transformer=False to avoid this warning. Installing flash-attn is highly recommended.\n",
      "  warnings.warn(\n",
      "Embedding cells: 100%|████████████████████████████████████████████████████████████████████████████████████████████████████████| 528/528 [02:38<00:00,  3.34it/s]\n"
     ]
    },
    {
     "name": "stdout",
     "output_type": "stream",
     "text": [
      "scGPT - INFO - match 19067/19331 genes in vocabulary of size 60697.\n"
     ]
    },
    {
     "name": "stderr",
     "output_type": "stream",
     "text": [
      "/home/icb/till.richter/anaconda3/envs/celldreamer/lib/python3.10/site-packages/scgpt/model/model.py:77: UserWarning: flash-attn is not installed, using pytorch transformer instead. Set use_fast_transformer=False to avoid this warning. Installing flash-attn is highly recommended.\n",
      "  warnings.warn(\n",
      "Embedding cells: 100%|██████████████████████████████████████████████████████████████████████████████████████████████████████| 2965/2965 [14:38<00:00,  3.38it/s]\n"
     ]
    },
    {
     "name": "stdout",
     "output_type": "stream",
     "text": [
      "Dataset: PBMC\n",
      "Accuracy: 0.0\n",
      "Micro F1 Score: 0.433588397731824\n",
      "Macro F1 Score: 0.2814081086390673\n",
      "Done!\n"
     ]
    }
   ],
   "source": [
    "args = {\n",
    "    \"model_dir\": os.path.join(BASE_DIR, \"scGPT_human\"),\n",
    "    \"adata_dir\": DATA_DIR,\n",
    "    \"dataset_name\": None,\n",
    "    \"cell_type_key\": \"cell_type\",\n",
    "    \"gene_col\": \"feature_name\",\n",
    "}\n",
    "\n",
    "datasets = [\"TabulaSapiens\", \"PBMC\"] if args[\"dataset_name\"] is None else [args[\"dataset_name\"]]\n",
    "\n",
    "for dataset in datasets:\n",
    "    print(f\"Running Reference Mapping for {dataset}\")\n",
    "    acc, f1, f1_macro, per_cell_type_acc = reference_mapping(\n",
    "        args[\"model_dir\"], args[\"adata_dir\"], dataset, args[\"cell_type_key\"], args[\"gene_col\"]\n",
    "    )\n",
    "    print(f\"Dataset: {dataset}\")\n",
    "    print(f\"Accuracy: {acc}\")\n",
    "    print(f\"Micro F1 Score: {f1}\")\n",
    "    print(f\"Macro F1 Score: {f1_macro}\")\n",
    "    print(\"Done!\")\n"
   ]
  },
  {
   "cell_type": "code",
   "execution_count": null,
   "id": "bddb65eb-fd78-4ed0-afdc-8b5b9c40990e",
   "metadata": {},
   "outputs": [],
   "source": []
  },
  {
   "cell_type": "code",
   "execution_count": null,
   "id": "29880ec1-c647-48e6-93a9-30f51a61a5bf",
   "metadata": {},
   "outputs": [],
   "source": []
  }
 ],
 "metadata": {
  "kernelspec": {
   "display_name": "Python [conda env:celldreamer]",
   "language": "python",
   "name": "celldreamer"
  },
  "language_info": {
   "codemirror_mode": {
    "name": "ipython",
    "version": 3
   },
   "file_extension": ".py",
   "mimetype": "text/x-python",
   "name": "python",
   "nbconvert_exporter": "python",
   "pygments_lexer": "ipython3",
   "version": "3.10.12"
  }
 },
 "nbformat": 4,
 "nbformat_minor": 5
}
